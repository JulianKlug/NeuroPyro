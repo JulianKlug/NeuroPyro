{
 "cells": [
  {
   "cell_type": "code",
   "execution_count": null,
   "id": "initial_id",
   "metadata": {
    "ExecuteTime": {
     "end_time": "2024-10-31T08:07:18.931733Z",
     "start_time": "2024-10-31T08:07:18.928070Z"
    }
   },
   "outputs": [],
   "source": [
    "from idlelib.window import registry\n",
    "\n",
    "import pandas as pd"
   ]
  },
  {
   "cell_type": "code",
   "execution_count": null,
   "id": "615f52fc6361b619",
   "metadata": {
    "ExecuteTime": {
     "end_time": "2024-10-31T08:08:02.006276Z",
     "start_time": "2024-10-31T08:08:02.003194Z"
    }
   },
   "outputs": [],
   "source": [
    "registry_path = '/Users/jk1/Library/CloudStorage/OneDrive-unige.ch/icu_research/neurocrit_fever/data/moberg_registry_kssg.xlsx'\n",
    "post_hoc_modifications_path = '/Users/jk1/Library/CloudStorage/OneDrive-unige.ch/icu_research/neurocrit_fever/data/post_hoc_modifications/manual_mrn.xlsx'"
   ]
  },
  {
   "cell_type": "code",
   "execution_count": null,
   "id": "f27d4620dfd448aa",
   "metadata": {
    "ExecuteTime": {
     "end_time": "2024-10-31T08:08:11.247841Z",
     "start_time": "2024-10-31T08:08:10.649115Z"
    }
   },
   "outputs": [],
   "source": [
    "registry_df = pd.read_excel(registry_path)\n",
    "post_hoc_df = pd.read_excel(post_hoc_modifications_path)"
   ]
  },
  {
   "cell_type": "code",
   "execution_count": null,
   "id": "1f73fb9bcc2eea83",
   "metadata": {
    "ExecuteTime": {
     "end_time": "2024-10-31T08:10:10.426574Z",
     "start_time": "2024-10-31T08:10:10.413427Z"
    }
   },
   "outputs": [],
   "source": [
    "joined_df = pd.merge(registry_df, post_hoc_df[['Pat. Nr.', 'manual_mrn']], on='Pat. Nr.', how='left')"
   ]
  },
  {
   "cell_type": "code",
   "execution_count": null,
   "id": "f747c84254a7e9ee",
   "metadata": {
    "ExecuteTime": {
     "end_time": "2024-10-31T08:10:45.485214Z",
     "start_time": "2024-10-31T08:10:45.481437Z"
    }
   },
   "outputs": [],
   "source": [
    "# fill nan in manual mrn with Medical Record Number\n",
    "joined_df['manual_mrn'] = joined_df['manual_mrn'].fillna(joined_df['Medical Record Number'])"
   ]
  },
  {
   "cell_type": "code",
   "execution_count": null,
   "id": "2eeccb94239d18f",
   "metadata": {
    "ExecuteTime": {
     "end_time": "2024-10-31T08:10:47.563447Z",
     "start_time": "2024-10-31T08:10:47.542697Z"
    }
   },
   "outputs": [],
   "source": [
    "joined_df.head()"
   ]
  },
  {
   "cell_type": "code",
   "execution_count": null,
   "id": "3c167c363b5bf87",
   "metadata": {
    "ExecuteTime": {
     "end_time": "2024-10-31T08:11:38.774174Z",
     "start_time": "2024-10-31T08:11:38.708134Z"
    }
   },
   "outputs": [],
   "source": [
    "# joined_df.to_excel('/Users/jk1/Downloads/moberg_registry_kssg_post_hoc_modified.xlsx', index=False)"
   ]
  },
  {
   "cell_type": "code",
   "execution_count": null,
   "id": "ee4a8c3e5c7ffca4",
   "metadata": {},
   "outputs": [],
   "source": []
  }
 ],
 "metadata": {
  "kernelspec": {
   "display_name": "Python 3",
   "language": "python",
   "name": "python3"
  },
  "language_info": {
   "codemirror_mode": {
    "name": "ipython",
    "version": 2
   },
   "file_extension": ".py",
   "mimetype": "text/x-python",
   "name": "python",
   "nbconvert_exporter": "python",
   "pygments_lexer": "ipython2",
   "version": "2.7.6"
  }
 },
 "nbformat": 4,
 "nbformat_minor": 5
}
