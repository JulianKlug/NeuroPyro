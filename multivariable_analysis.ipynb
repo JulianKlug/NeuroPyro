{
 "cells": [
  {
   "cell_type": "code",
   "execution_count": null,
   "id": "9478d4d843ba71e1",
   "metadata": {
    "ExecuteTime": {
     "end_time": "2025-01-17T09:54:25.793447Z",
     "start_time": "2025-01-17T09:54:25.061503Z"
    }
   },
   "outputs": [],
   "source": [
    "import pandas as pd\n",
    "import statsmodels.api as sm\n",
    "import statsmodels.formula.api as smf"
   ]
  },
  {
   "cell_type": "code",
   "execution_count": null,
   "id": "592664b10da4a9c1",
   "metadata": {
    "ExecuteTime": {
     "end_time": "2024-12-31T13:13:12.596061Z",
     "start_time": "2024-12-31T13:13:12.581891Z"
    }
   },
   "outputs": [],
   "source": [
    "cpp_path = '/Users/jk1/stroke_datasets/ptiO2-Studie/moberg_extracted_data/cpp_df.csv'\n",
    "ptio2_path = '/Users/jk1/stroke_datasets/ptiO2-Studie/moberg_extracted_data/ptio2_df.csv'\n",
    "filtered_ptio2_path = '/Users/jk1/stroke_datasets/ptiO2-Studie/moberg_extracted_data/ptio2_df_filtered.csv'\n",
    "temperature_path = '/Users/jk1/stroke_datasets/ptiO2-Studie/moberg_extracted_data/temperature_df.csv'\n",
    "lpr_path = '/Users/jk1/stroke_datasets/ptiO2-Studie/moberg_extracted_data/lpr_df.csv'\n",
    "hr_path = '/Users/jk1/stroke_datasets/ptiO2-Studie/moberg_extracted_data/hr_df.csv'\n",
    "etco2_path = '/Users/jk1/stroke_datasets/ptiO2-Studie/moberg_extracted_data/etco2_df.csv'\n",
    "ci_path = '/Users/jk1/stroke_datasets/ptiO2-Studie/moberg_extracted_data/ci_df.csv'\n",
    "prx_path = '/Users/jk1/stroke_datasets/ptiO2-Studie/moberg_extracted_data/prx_df.csv'\n",
    "drug_administration_path = '/Users/jk1/stroke_datasets/ptiO2-Studie/drug_administrations.xlsx'\n",
    "registry_path = '/Users/jk1/stroke_datasets/ptiO2-Studie/moberg_registry_kssg_post_hoc_modified.xlsx'\n",
    "paco2_path = '/Users/jk1/stroke_datasets/ptiO2-Studie/pdms_data/joined_aBGA.csv'\n",
    "mainstream_etco2_path = '/Users/jk1/Library/CloudStorage/OneDrive-unige.ch/icu_research/neurocrit_fever/data/PDMS_data/joined_etCO2.csv'\n",
    "icp_path = '/Users/jk1/Library/CloudStorage/OneDrive-unige.ch/icu_research/neurocrit_fever/data/moberg_extracted_data/icp_df.csv'"
   ]
  },
  {
   "cell_type": "code",
   "execution_count": null,
   "id": "131921ff24b5a0f6",
   "metadata": {
    "ExecuteTime": {
     "end_time": "2024-12-31T13:13:12.770978Z",
     "start_time": "2024-12-31T13:13:12.764047Z"
    }
   },
   "outputs": [],
   "source": [
    "exclude_short_infusions = True\n",
    "use_filtered_ptio2 = True"
   ]
  },
  {
   "cell_type": "code",
   "execution_count": null,
   "id": "initial_id",
   "metadata": {
    "ExecuteTime": {
     "end_time": "2024-12-31T13:14:04.648086Z",
     "start_time": "2024-12-31T13:13:12.899392Z"
    },
    "jupyter": {
     "outputs_hidden": true
    }
   },
   "outputs": [],
   "source": [
    "cpp_df = pd.read_csv(cpp_path)\n",
    "if use_filtered_ptio2:\n",
    "    ptio2_df = pd.read_csv(filtered_ptio2_path)\n",
    "else:\n",
    "    ptio2_df = pd.read_csv(ptio2_path)\n",
    "temperature_df = pd.read_csv(temperature_path)\n",
    "lpr_df = pd.read_csv(lpr_path)\n",
    "hr_df = pd.read_csv(hr_path)\n",
    "prx_df = pd.read_csv(prx_path)\n",
    "icp_df = pd.read_csv(icp_path)\n",
    "drug_administration_df = pd.read_excel(drug_administration_path)"
   ]
  },
  {
   "cell_type": "code",
   "execution_count": null,
   "id": "719ebad8b8254dbd",
   "metadata": {
    "ExecuteTime": {
     "end_time": "2024-12-31T13:14:04.929237Z",
     "start_time": "2024-12-31T13:14:04.796395Z"
    }
   },
   "outputs": [],
   "source": [
    "registry_df = pd.read_excel(registry_path)\n",
    "paco2_df = pd.read_csv(paco2_path, sep=';')\n",
    "mainstream_etco2_df = pd.read_csv(mainstream_etco2_path, sep=';')"
   ]
  },
  {
   "cell_type": "code",
   "execution_count": null,
   "id": "9fab792de8366a0",
   "metadata": {
    "ExecuteTime": {
     "end_time": "2024-12-31T13:14:05.091510Z",
     "start_time": "2024-12-31T13:14:05.045923Z"
    }
   },
   "outputs": [],
   "source": [
    "paco2_df = pd.merge(paco2_df, registry_df[['manual_mrn', 'Pat. Nr.']], left_on='FallNr', right_on='manual_mrn',\n",
    "                    how='left')\n",
    "paco2_df.drop(columns=['manual_mrn'], inplace=True)\n",
    "paco2_df.rename(columns={'Pat. Nr.': 'pat_nr'}, inplace=True)\n",
    "paco2_df.rename(columns={'Zeitpunkt_aBGA': 'datetime'}, inplace=True)\n",
    "paco2_df['pCO2_mmHg'] = paco2_df['pCO2'] * 7.50062\n",
    "\n",
    "mainstream_etco2_df = pd.merge(mainstream_etco2_df, registry_df[['manual_mrn', 'Pat. Nr.']], left_on='FallNr', right_on='manual_mrn', how='left')\n",
    "mainstream_etco2_df.drop(columns=['manual_mrn'], inplace=True)\n",
    "mainstream_etco2_df.rename(columns={'Pat. Nr.':'pat_nr'}, inplace=True)\n",
    "mainstream_etco2_df.rename(columns={'Zeitpunkt_etCO2':'datetime'}, inplace=True)"
   ]
  },
  {
   "cell_type": "code",
   "execution_count": null,
   "id": "8cfb2a45c5b694b2",
   "metadata": {
    "ExecuteTime": {
     "end_time": "2024-12-31T13:14:05.228470Z",
     "start_time": "2024-12-31T13:14:05.206753Z"
    }
   },
   "outputs": [],
   "source": [
    "drug_administration_df = drug_administration_df[drug_administration_df.monitored]\n",
    "\n",
    "n_patients_before = drug_administration_df['pat_nr'].nunique()\n",
    "# print patients with exclusion criterium\n",
    "print(f'Excluding {drug_administration_df[~pd.isna(drug_administration_df[\"further_exclusion_criterium\"])].shape[0]} infusions with {drug_administration_df[~pd.isna(drug_administration_df[\"further_exclusion_criterium\"])][\"further_exclusion_criterium\"].nunique()} different further exclusion criteria')\n",
    "# exclude if further_exclusion_criterium is not Nan\n",
    "drug_administration_df = drug_administration_df[pd.isna(drug_administration_df['further_exclusion_criterium'])]\n",
    "# print number of patients excluded\n",
    "print(f'Excluding {n_patients_before - drug_administration_df[\"pat_nr\"].nunique()} patients with further exclusion criterium')\n",
    "\n",
    "if exclude_short_infusions:\n",
    "    n_patients_before = drug_administration_df['pat_nr'].nunique()\n",
    "    drug_administration_df['infusion_duration'] = (pd.to_datetime(drug_administration_df['drug_end']) - pd.to_datetime(drug_administration_df['drug_start'])).dt.total_seconds() / 3600\n",
    "    print(f'Excluding {drug_administration_df[drug_administration_df[\"infusion_duration\"] <= 1].shape[0]} infusions with duration <= 1h')\n",
    "    drug_administration_df = drug_administration_df[drug_administration_df['infusion_duration'] > 1]\n",
    "    print(f'Excluding {n_patients_before - drug_administration_df[\"pat_nr\"].nunique()} patients with infusions with duration <= 1h')"
   ]
  },
  {
   "cell_type": "code",
   "execution_count": null,
   "id": "eb46834ffc214232",
   "metadata": {
    "ExecuteTime": {
     "end_time": "2024-12-31T13:14:11.671584Z",
     "start_time": "2024-12-31T13:14:05.345302Z"
    }
   },
   "outputs": [],
   "source": [
    "for var_df in [ptio2_df, cpp_df, temperature_df, lpr_df, hr_df, paco2_df, prx_df, mainstream_etco2_df, icp_df]:\n",
    "    var_df['datetime'] = pd.to_datetime(var_df['datetime'])"
   ]
  },
  {
   "cell_type": "code",
   "execution_count": null,
   "id": "50df856a236e3dac",
   "metadata": {
    "ExecuteTime": {
     "end_time": "2024-12-31T13:15:33.130128Z",
     "start_time": "2024-12-31T13:14:11.787550Z"
    }
   },
   "outputs": [],
   "source": [
    "# for every drug administration extract data from -xh to +xh around start\n",
    "time_window_post = 12\n",
    "time_window_pre = 12\n",
    "\n",
    "associated_ptio2_df = pd.DataFrame()\n",
    "associated_cpp_df = pd.DataFrame()\n",
    "associated_temperature_df = pd.DataFrame()\n",
    "associated_hr_df = pd.DataFrame()\n",
    "associated_lpr_df = pd.DataFrame()\n",
    "associated_ci_df = pd.DataFrame()\n",
    "associated_prx_df = pd.DataFrame()\n",
    "associated_etco2_df = pd.DataFrame()\n",
    "associated_paco2_df = pd.DataFrame()\n",
    "associated_mainstream_etco2_df = pd.DataFrame()\n",
    "associated_icp_df = pd.DataFrame()\n",
    "\n",
    "for index, row in drug_administration_df.iterrows():\n",
    "    lower_bound = row['drug_start'] - pd.to_timedelta(time_window_pre, unit='h')\n",
    "    upper_bound = row['drug_start'] + pd.to_timedelta(time_window_post, unit='h')\n",
    "    instance_associated_ptio2_df = ptio2_df[(ptio2_df['pat_nr'] == row['pat_nr'])\n",
    "                                            & (ptio2_df['datetime'] >= lower_bound) \n",
    "                                            & (ptio2_df['datetime'] <= upper_bound)]\n",
    "    instance_associated_ptio2_df['drug_start'] = row['drug_start']\n",
    "    instance_associated_ptio2_df['relative_datetime'] = (instance_associated_ptio2_df['datetime'] - row['drug_start']).dt.total_seconds() / 3600\n",
    "    associated_ptio2_df = pd.concat([associated_ptio2_df, instance_associated_ptio2_df])\n",
    "\n",
    "    instance_associated_cpp_df = cpp_df[(cpp_df['pat_nr'] == row['pat_nr'])\n",
    "                                        & (cpp_df['datetime'] >= lower_bound) \n",
    "                                        & (cpp_df['datetime'] <= upper_bound)]  \n",
    "    instance_associated_cpp_df['drug_start'] = row['drug_start']\n",
    "    instance_associated_cpp_df['relative_datetime'] = (instance_associated_cpp_df['datetime'] - row['drug_start']).dt.total_seconds() / 3600\n",
    "    associated_cpp_df = pd.concat([associated_cpp_df, instance_associated_cpp_df])\n",
    "\n",
    "    instance_associated_temperature_df = temperature_df[(temperature_df['pat_nr'] == row['pat_nr'])\n",
    "                                        & (temperature_df['datetime'] >= lower_bound)\n",
    "                                        & (temperature_df['datetime'] <= upper_bound)]\n",
    "    instance_associated_temperature_df['drug_start'] = row['drug_start']\n",
    "    instance_associated_temperature_df['relative_datetime'] = (instance_associated_temperature_df['datetime'] - row['drug_start']).dt.total_seconds() / 3600\n",
    "    associated_temperature_df = pd.concat([associated_temperature_df, instance_associated_temperature_df])\n",
    "\n",
    "    instance_associated_hr_df = hr_df[(hr_df['pat_nr'] == row['pat_nr'])\n",
    "                                        & (hr_df['datetime'] >= lower_bound)   \n",
    "                                        & (hr_df['datetime'] <= upper_bound)]\n",
    "    instance_associated_hr_df['drug_start'] = row['drug_start']\n",
    "    instance_associated_hr_df['relative_datetime'] = (instance_associated_hr_df['datetime'] - row['drug_start']).dt.total_seconds() / 3600\n",
    "    associated_hr_df = pd.concat([associated_hr_df, instance_associated_hr_df])\n",
    "\n",
    "    instance_associated_lpr_df = lpr_df[(lpr_df['pat_nr'] == row['pat_nr'])\n",
    "                                        & (lpr_df['datetime'] >= lower_bound)\n",
    "                                        & (lpr_df['datetime'] <= upper_bound)]\n",
    "    instance_associated_lpr_df['drug_start'] = row['drug_start']\n",
    "    instance_associated_lpr_df['relative_datetime'] = (instance_associated_lpr_df['datetime'] - row['drug_start']).dt.total_seconds() / 3600\n",
    "    associated_lpr_df = pd.concat([associated_lpr_df, instance_associated_lpr_df])\n",
    "    \n",
    "    instance_associated_paco2_df = paco2_df[(paco2_df['pat_nr'] == row['pat_nr'])\n",
    "                                        & (paco2_df['datetime'] >= lower_bound)\n",
    "                                        & (paco2_df['datetime'] <= upper_bound)]\n",
    "    instance_associated_paco2_df['drug_start'] = row['drug_start']\n",
    "    instance_associated_paco2_df['relative_datetime'] = (instance_associated_paco2_df['datetime'] - row['drug_start']).dt.total_seconds() / 3600\n",
    "    associated_paco2_df = pd.concat([associated_paco2_df, instance_associated_paco2_df])\n",
    "    \n",
    "    instance_associated_prx_df = prx_df[(prx_df['pat_nr'] == row['pat_nr'])\n",
    "                                    & (prx_df['datetime'] >= lower_bound)\n",
    "                                    & (prx_df['datetime'] <= upper_bound)]\n",
    "    instance_associated_prx_df['drug_start'] = row['drug_start']\n",
    "    instance_associated_prx_df['relative_datetime'] = (instance_associated_prx_df['datetime'] - row['drug_start']).dt.total_seconds() / 3600\n",
    "    associated_prx_df = pd.concat([associated_prx_df, instance_associated_prx_df])\n",
    "    \n",
    "    instance_associated_mainstream_etco2_df = mainstream_etco2_df[(mainstream_etco2_df['pat_nr'] == row['pat_nr'])\n",
    "                                        & (mainstream_etco2_df['datetime'] >= lower_bound)\n",
    "                                        & (mainstream_etco2_df['datetime'] <= upper_bound)]\n",
    "    instance_associated_mainstream_etco2_df['drug_start'] = row['drug_start']\n",
    "    instance_associated_mainstream_etco2_df['relative_datetime'] = (instance_associated_mainstream_etco2_df['datetime'] - row['drug_start']).dt.total_seconds() / 3600\n",
    "    associated_mainstream_etco2_df = pd.concat([associated_mainstream_etco2_df, instance_associated_mainstream_etco2_df])\n",
    "\n",
    "    instance_associated_icp_df = icp_df[(icp_df['pat_nr'] == row['pat_nr'])\n",
    "                                        & (icp_df['datetime'] >= lower_bound)\n",
    "                                        & (icp_df['datetime'] <= upper_bound)]\n",
    "    instance_associated_icp_df['drug_start'] = row['drug_start']\n",
    "    instance_associated_icp_df['relative_datetime'] = (instance_associated_icp_df['datetime'] - row['drug_start']).dt.total_seconds() / 3600\n",
    "    associated_icp_df = pd.concat([associated_icp_df, instance_associated_icp_df])\n",
    "\n",
    "    "
   ]
  },
  {
   "cell_type": "code",
   "execution_count": null,
   "id": "7be195dc37e88813",
   "metadata": {
    "ExecuteTime": {
     "end_time": "2024-12-31T13:15:33.292680Z",
     "start_time": "2024-12-31T13:15:33.272790Z"
    }
   },
   "outputs": [],
   "source": [
    "for var_df in [associated_ptio2_df, associated_cpp_df, associated_temperature_df, associated_hr_df, associated_icp_df]:\n",
    "    # remove duplicates\n",
    "    # var_df.drop_duplicates(subset=['pat_nr', 'relative_datetime'], inplace=True)\n",
    "    # round to 2 decimals of an hour\n",
    "    var_df['relative_datetime_cat'] = var_df['relative_datetime'].round(2)"
   ]
  },
  {
   "cell_type": "code",
   "execution_count": null,
   "id": "1bc7ee901669e524",
   "metadata": {
    "ExecuteTime": {
     "end_time": "2024-12-31T13:15:33.679156Z",
     "start_time": "2024-12-31T13:15:33.411370Z"
    }
   },
   "outputs": [],
   "source": [
    "grouped_ptio2 = associated_ptio2_df.groupby(['pat_nr', 'drug_start', 'relative_datetime_cat']).agg({'ptio2': 'median'}).reset_index()\n",
    "grouped_cpp = associated_cpp_df.groupby(['pat_nr', 'drug_start', 'relative_datetime_cat']).agg({'cpp': 'median'}).reset_index()\n",
    "grouped_temperature = associated_temperature_df.groupby(['pat_nr', 'drug_start', 'relative_datetime_cat']).agg({'temperature': 'median'}).reset_index()\n",
    "grouped_hr = associated_hr_df.groupby(['pat_nr', 'drug_start', 'relative_datetime_cat']).agg({'hr': 'median'}).reset_index()\n",
    "grouped_icp = associated_icp_df.groupby(['pat_nr', 'drug_start', 'relative_datetime_cat']).agg({'icp': 'median'}).reset_index()\n",
    "# grouped_lpr = associated_lpr_df.groupby(['pat_nr', 'drug_start', 'relative_datetime_cat']).agg({'lpr': 'median'}).reset_index()\n",
    "# grouped_paco2 = associated_paco2_df.groupby(['pat_nr', 'drug_start', 'relative_datetime_cat']).agg({'pCO2_mmHg': 'median'}).reset_index()"
   ]
  },
  {
   "cell_type": "code",
   "execution_count": null,
   "id": "c00fc3e4dfbbe146",
   "metadata": {
    "ExecuteTime": {
     "end_time": "2024-12-31T13:15:33.912205Z",
     "start_time": "2024-12-31T13:15:33.795472Z"
    }
   },
   "outputs": [],
   "source": [
    "# merge\n",
    "concatenated_df = grouped_ptio2.merge(grouped_cpp, on=['pat_nr', 'drug_start', 'relative_datetime_cat'], how='outer')\n",
    "concatenated_df = concatenated_df.merge(grouped_temperature, on=['pat_nr', 'drug_start', 'relative_datetime_cat'], how='outer')\n",
    "concatenated_df = concatenated_df.merge(grouped_hr, on=['pat_nr', 'drug_start', 'relative_datetime_cat'], how='outer')\n",
    "# concatenated_df = concatenated_df.merge(grouped_icp, on=['pat_nr', 'drug_start', 'relative_datetime_cat'], how='outer')\n",
    "# concatenated_df = concatenated_df.merge(grouped_lpr, on=['pat_nr', 'drug_start', 'relative_datetime_cat'], how='outer')\n",
    "# concatenated_df = concatenated_df.merge(grouped_paco2, on=['pat_nr', 'drug_start', 'relative_datetime_cat'], how='outer')"
   ]
  },
  {
   "cell_type": "code",
   "execution_count": null,
   "id": "d26d51b55922f065",
   "metadata": {
    "ExecuteTime": {
     "end_time": "2024-12-31T13:15:34.035941Z",
     "start_time": "2024-12-31T13:15:34.028393Z"
    }
   },
   "outputs": [],
   "source": [
    "concatenated_df['pre_post'] = 'pre'\n",
    "concatenated_df.loc[concatenated_df['relative_datetime_cat'] >= 0, 'pre_post'] = 'post'"
   ]
  },
  {
   "cell_type": "markdown",
   "id": "37a835d493b75971",
   "metadata": {},
   "source": [
    "## Multivariate model\n",
    "create full mixed effects model with all variables and interactions"
   ]
  },
  {
   "cell_type": "code",
   "execution_count": null,
   "id": "798980213de37dfc",
   "metadata": {
    "ExecuteTime": {
     "end_time": "2024-12-31T13:15:34.166695Z",
     "start_time": "2024-12-31T13:15:34.152634Z"
    }
   },
   "outputs": [],
   "source": [
    "temp_df = concatenated_df\n",
    "# drop rows with nan values\n",
    "temp_df = temp_df.dropna()"
   ]
  },
  {
   "cell_type": "code",
   "execution_count": null,
   "id": "3adb2000810453ee",
   "metadata": {
    "ExecuteTime": {
     "end_time": "2024-12-31T13:15:34.462788Z",
     "start_time": "2024-12-31T13:15:34.280489Z"
    }
   },
   "outputs": [],
   "source": [
    "mixed_model = smf.mixedlm(\"ptio2 ~ pre_post * cpp * temperature * hr\", temp_df, groups=temp_df['pat_nr'])\n",
    "mixed_model_fit = mixed_model.fit()\n",
    "\n",
    "print(mixed_model.score(mixed_model_fit.params_object))\n",
    "print(mixed_model_fit.summary())"
   ]
  },
  {
   "cell_type": "code",
   "execution_count": null,
   "id": "63b58eda90df79c9",
   "metadata": {
    "ExecuteTime": {
     "end_time": "2024-12-31T13:15:35.519672Z",
     "start_time": "2024-12-31T13:15:35.510610Z"
    }
   },
   "outputs": [],
   "source": [
    "print(mixed_model_fit.pvalues)"
   ]
  },
  {
   "cell_type": "markdown",
   "id": "f42254eba22da301",
   "metadata": {},
   "source": [
    "# Single variable models "
   ]
  },
  {
   "cell_type": "code",
   "execution_count": null,
   "id": "50990967fea68f2",
   "metadata": {
    "ExecuteTime": {
     "end_time": "2024-12-31T13:15:35.779422Z",
     "start_time": "2024-12-31T13:15:35.644331Z"
    }
   },
   "outputs": [],
   "source": [
    "# ptio2\n",
    "temp_ptio2_df = concatenated_df.drop(columns=['cpp', 'temperature', 'hr'])\n",
    "# drop rows with nan values\n",
    "temp_ptio2_df = temp_df.dropna()\n",
    "\n",
    "mixed_model_ptio2 = smf.mixedlm(\"ptio2 ~ pre_post\", temp_ptio2_df, groups=temp_ptio2_df['pat_nr'])"
   ]
  },
  {
   "cell_type": "code",
   "execution_count": null,
   "id": "45df8cc4d92dc2b5",
   "metadata": {
    "ExecuteTime": {
     "end_time": "2024-12-31T13:15:36.201273Z",
     "start_time": "2024-12-31T13:15:35.913819Z"
    }
   },
   "outputs": [],
   "source": [
    "mixed_model_ptio2_fit = mixed_model_ptio2.fit()\n",
    "mixed_model_ptio2_fit.summary()"
   ]
  },
  {
   "cell_type": "code",
   "execution_count": null,
   "id": "896fec0f8a16e215",
   "metadata": {
    "ExecuteTime": {
     "end_time": "2024-12-31T13:15:36.373711Z",
     "start_time": "2024-12-31T13:15:36.366033Z"
    }
   },
   "outputs": [],
   "source": [
    "mixed_model_ptio2_fit.pvalues"
   ]
  },
  {
   "cell_type": "code",
   "execution_count": null,
   "id": "50d569f87e274859",
   "metadata": {
    "ExecuteTime": {
     "end_time": "2024-12-31T13:15:36.581974Z",
     "start_time": "2024-12-31T13:15:36.540948Z"
    }
   },
   "outputs": [],
   "source": [
    "# pre / post median and IQR\n",
    "print(f'Pre: {concatenated_df[concatenated_df[\"pre_post\"] == \"pre\"][\"ptio2\"].median()} ({concatenated_df[concatenated_df[\"pre_post\"] == \"pre\"][\"ptio2\"].quantile(0.25)}, {concatenated_df[concatenated_df[\"pre_post\"] == \"pre\"][\"ptio2\"].quantile(0.75)})',\n",
    "f'Post: {concatenated_df[concatenated_df[\"pre_post\"] == \"post\"][\"ptio2\"].median()} ({concatenated_df[concatenated_df[\"pre_post\"] == \"post\"][\"ptio2\"].quantile(0.25)}, {concatenated_df[concatenated_df[\"pre_post\"] == \"post\"][\"ptio2\"].quantile(0.75)})')"
   ]
  },
  {
   "cell_type": "code",
   "execution_count": null,
   "id": "a26980af969583e8",
   "metadata": {
    "ExecuteTime": {
     "end_time": "2024-12-31T13:15:57.489465Z",
     "start_time": "2024-12-31T13:15:57.473990Z"
    }
   },
   "outputs": [],
   "source": [
    "# percentual median decrease\n",
    "print(f'{(1 - concatenated_df[concatenated_df[\"pre_post\"] == \"post\"][\"ptio2\"].median() / concatenated_df[concatenated_df[\"pre_post\"] == \"pre\"][\"ptio2\"].median()) * 100:.2f}%')"
   ]
  },
  {
   "cell_type": "code",
   "execution_count": null,
   "id": "30ae100da235a759",
   "metadata": {
    "ExecuteTime": {
     "end_time": "2024-12-31T13:19:38.897211Z",
     "start_time": "2024-12-31T13:19:38.869919Z"
    }
   },
   "outputs": [],
   "source": [
    "# percentual mean decrease\n",
    "print(f'{(1 - concatenated_df[concatenated_df[\"pre_post\"] == \"post\"][\"ptio2\"].mean() / concatenated_df[concatenated_df[\"pre_post\"] == \"pre\"][\"ptio2\"].mean()) * 100:.2f}%')"
   ]
  },
  {
   "cell_type": "code",
   "execution_count": null,
   "id": "63d55684403eab7a",
   "metadata": {
    "ExecuteTime": {
     "end_time": "2024-12-31T13:15:36.817011Z",
     "start_time": "2024-12-31T13:15:36.802105Z"
    }
   },
   "outputs": [],
   "source": [
    "# cpp\n",
    "temp_cpp_df = concatenated_df.drop(columns=['ptio2', 'temperature', 'hr'])\n",
    "# drop rows with nan values\n",
    "temp_cpp_df = temp_df.dropna()"
   ]
  },
  {
   "cell_type": "code",
   "execution_count": null,
   "id": "906bf3fd952df0ff",
   "metadata": {
    "ExecuteTime": {
     "end_time": "2024-12-31T13:15:37.041899Z",
     "start_time": "2024-12-31T13:15:36.918587Z"
    }
   },
   "outputs": [],
   "source": [
    "mixed_model_cpp = smf.mixedlm(\"cpp ~ pre_post\", temp_cpp_df, groups=temp_cpp_df['pat_nr'])"
   ]
  },
  {
   "cell_type": "code",
   "execution_count": null,
   "id": "87e3e0f9c7ac510f",
   "metadata": {
    "ExecuteTime": {
     "end_time": "2024-12-31T13:15:37.405994Z",
     "start_time": "2024-12-31T13:15:37.175466Z"
    }
   },
   "outputs": [],
   "source": [
    "mixed_model_cpp_fit = mixed_model_cpp.fit()\n",
    "mixed_model_cpp_fit.summary()"
   ]
  },
  {
   "cell_type": "code",
   "execution_count": null,
   "id": "1c12f09b1d3bda74",
   "metadata": {
    "ExecuteTime": {
     "end_time": "2024-12-31T13:15:37.540895Z",
     "start_time": "2024-12-31T13:15:37.535117Z"
    }
   },
   "outputs": [],
   "source": [
    "mixed_model_cpp_fit.pvalues"
   ]
  },
  {
   "cell_type": "code",
   "execution_count": null,
   "id": "d475d79d56b7b2cc",
   "metadata": {
    "ExecuteTime": {
     "end_time": "2024-12-31T13:25:32.825297Z",
     "start_time": "2024-12-31T13:25:32.788524Z"
    }
   },
   "outputs": [],
   "source": [
    "# pre / post median and IQR\n",
    "print(f'Pre: {concatenated_df[concatenated_df[\"pre_post\"] == \"pre\"][\"cpp\"].median()} ({concatenated_df[concatenated_df[\"pre_post\"] == \"pre\"][\"cpp\"].quantile(0.25)}, {concatenated_df[concatenated_df[\"pre_post\"] == \"pre\"][\"cpp\"].quantile(0.75)})',\n",
    "f'Post: {concatenated_df[concatenated_df[\"pre_post\"] == \"post\"][\"cpp\"].median()} ({concatenated_df[concatenated_df[\"pre_post\"] == \"post\"][\"cpp\"].quantile(0.25)}, {concatenated_df[concatenated_df[\"pre_post\"] == \"post\"][\"cpp\"].quantile(0.75)})')"
   ]
  },
  {
   "cell_type": "code",
   "execution_count": null,
   "id": "44569d14e5347fcc",
   "metadata": {
    "ExecuteTime": {
     "end_time": "2024-12-31T13:25:34.370468Z",
     "start_time": "2024-12-31T13:25:34.333682Z"
    }
   },
   "outputs": [],
   "source": [
    "# pre/post mean and IQR\n",
    "print(f'Pre: {concatenated_df[concatenated_df[\"pre_post\"] == \"pre\"][\"cpp\"].mean()} ({concatenated_df[concatenated_df[\"pre_post\"] == \"pre\"][\"cpp\"].quantile(0.25)}, {concatenated_df[concatenated_df[\"pre_post\"] == \"pre\"][\"cpp\"].quantile(0.75)})',\n",
    "f'Post: {concatenated_df[concatenated_df[\"pre_post\"] == \"post\"][\"cpp\"].mean()} ({concatenated_df[concatenated_df[\"pre_post\"] == \"post\"][\"cpp\"].quantile(0.25)}, {concatenated_df[concatenated_df[\"pre_post\"] == \"post\"][\"cpp\"].quantile(0.75)})')"
   ]
  },
  {
   "cell_type": "code",
   "execution_count": null,
   "id": "cef4741dae065f4",
   "metadata": {
    "ExecuteTime": {
     "end_time": "2024-12-31T13:25:08.784161Z",
     "start_time": "2024-12-31T13:25:08.770300Z"
    }
   },
   "outputs": [],
   "source": [
    "# percentual mean decrease\n",
    "print(f'{(1 - concatenated_df[concatenated_df[\"pre_post\"] == \"post\"][\"cpp\"].mean() / concatenated_df[concatenated_df[\"pre_post\"] == \"pre\"][\"cpp\"].mean()) * 100:.2f}%')"
   ]
  },
  {
   "cell_type": "code",
   "execution_count": null,
   "id": "6f9ea1de5db61d21",
   "metadata": {
    "ExecuteTime": {
     "end_time": "2024-12-31T13:15:38.049985Z",
     "start_time": "2024-12-31T13:15:38.035070Z"
    }
   },
   "outputs": [],
   "source": [
    "# temperature\n",
    "temp_temperature_df = concatenated_df.drop(columns=['cpp', 'ptio2', 'hr'])\n",
    "# drop rows with nan values\n",
    "temp_temperature_df = temp_df.dropna()"
   ]
  },
  {
   "cell_type": "code",
   "execution_count": null,
   "id": "b86bc84477de8813",
   "metadata": {
    "ExecuteTime": {
     "end_time": "2024-12-31T13:15:38.288122Z",
     "start_time": "2024-12-31T13:15:38.171235Z"
    }
   },
   "outputs": [],
   "source": [
    "mixed_model_temperature = smf.mixedlm(\"temperature ~ pre_post\", temp_temperature_df, groups=temp_temperature_df['pat_nr'])"
   ]
  },
  {
   "cell_type": "code",
   "execution_count": null,
   "id": "25eb7477e843912e",
   "metadata": {
    "ExecuteTime": {
     "end_time": "2024-12-31T13:15:38.639493Z",
     "start_time": "2024-12-31T13:15:38.408034Z"
    }
   },
   "outputs": [],
   "source": [
    "mixed_model_temperature_fit = mixed_model_temperature.fit()\n",
    "mixed_model_temperature_fit.summary()"
   ]
  },
  {
   "cell_type": "code",
   "execution_count": null,
   "id": "9838789acec31ef1",
   "metadata": {
    "ExecuteTime": {
     "end_time": "2024-12-31T13:15:38.767238Z",
     "start_time": "2024-12-31T13:15:38.761387Z"
    }
   },
   "outputs": [],
   "source": [
    "mixed_model_temperature_fit.pvalues"
   ]
  },
  {
   "cell_type": "code",
   "execution_count": null,
   "id": "e456781366c40a4f",
   "metadata": {
    "ExecuteTime": {
     "end_time": "2024-12-31T13:15:38.970974Z",
     "start_time": "2024-12-31T13:15:38.929353Z"
    }
   },
   "outputs": [],
   "source": [
    "# pre / post median and IQR\n",
    "print(f'Pre: {concatenated_df[concatenated_df[\"pre_post\"] == \"pre\"][\"temperature\"].median()} ({concatenated_df[concatenated_df[\"pre_post\"] == \"pre\"][\"temperature\"].quantile(0.25)}, {concatenated_df[concatenated_df[\"pre_post\"] == \"pre\"][\"temperature\"].quantile(0.75)})',\n",
    "f'Post: {concatenated_df[concatenated_df[\"pre_post\"] == \"post\"][\"temperature\"].median()} ({concatenated_df[concatenated_df[\"pre_post\"] == \"post\"][\"temperature\"].quantile(0.25)}, {concatenated_df[concatenated_df[\"pre_post\"] == \"post\"][\"temperature\"].quantile(0.75)})')"
   ]
  },
  {
   "cell_type": "code",
   "execution_count": null,
   "id": "3080bb3342fe883f",
   "metadata": {
    "ExecuteTime": {
     "end_time": "2024-12-31T13:15:39.119821Z",
     "start_time": "2024-12-31T13:15:39.101737Z"
    }
   },
   "outputs": [],
   "source": [
    "# hr\n",
    "temp_hr_df = concatenated_df.drop(columns=['cpp', 'temperature', 'ptio2'])\n",
    "# drop rows with nan values\n",
    "temp_hr_df = temp_df.dropna()"
   ]
  },
  {
   "cell_type": "code",
   "execution_count": null,
   "id": "9dd1a12b41e3426b",
   "metadata": {
    "ExecuteTime": {
     "end_time": "2024-12-31T13:15:39.249319Z",
     "start_time": "2024-12-31T13:15:39.131992Z"
    }
   },
   "outputs": [],
   "source": [
    "mixed_model_hr = smf.mixedlm(\"hr ~ pre_post\", temp_hr_df, groups=temp_hr_df['pat_nr'])"
   ]
  },
  {
   "cell_type": "code",
   "execution_count": null,
   "id": "a004ded29c1f6d2",
   "metadata": {
    "ExecuteTime": {
     "end_time": "2024-12-31T13:15:39.631652Z",
     "start_time": "2024-12-31T13:15:39.369084Z"
    }
   },
   "outputs": [],
   "source": [
    "mixed_model_hr_fit = mixed_model_hr.fit()\n",
    "mixed_model_hr_fit.summary()"
   ]
  },
  {
   "cell_type": "code",
   "execution_count": null,
   "id": "1b452962d50d8c2d",
   "metadata": {
    "ExecuteTime": {
     "end_time": "2024-12-31T13:15:39.759839Z",
     "start_time": "2024-12-31T13:15:39.752199Z"
    }
   },
   "outputs": [],
   "source": [
    "mixed_model_hr_fit.pvalues"
   ]
  },
  {
   "cell_type": "code",
   "execution_count": null,
   "id": "728d4a00ade18b4d",
   "metadata": {
    "ExecuteTime": {
     "end_time": "2024-12-31T13:15:39.961Z",
     "start_time": "2024-12-31T13:15:39.921280Z"
    }
   },
   "outputs": [],
   "source": [
    "# pre / post median and IQR\n",
    "print(f'Pre: {concatenated_df[concatenated_df[\"pre_post\"] == \"pre\"][\"hr\"].median()} ({concatenated_df[concatenated_df[\"pre_post\"] == \"pre\"][\"hr\"].quantile(0.25)}, {concatenated_df[concatenated_df[\"pre_post\"] == \"pre\"][\"hr\"].quantile(0.75)})',\n",
    "f'Post: {concatenated_df[concatenated_df[\"pre_post\"] == \"post\"][\"hr\"].median()} ({concatenated_df[concatenated_df[\"pre_post\"] == \"post\"][\"hr\"].quantile(0.25)}, {concatenated_df[concatenated_df[\"pre_post\"] == \"post\"][\"hr\"].quantile(0.75)})')"
   ]
  },
  {
   "cell_type": "markdown",
   "id": "f10c87930628ed3",
   "metadata": {},
   "source": [
    "paco2"
   ]
  },
  {
   "cell_type": "code",
   "execution_count": null,
   "id": "8b7bfcc05d72f308",
   "metadata": {
    "ExecuteTime": {
     "end_time": "2024-12-31T13:15:40.086373Z",
     "start_time": "2024-12-31T13:15:40.081068Z"
    }
   },
   "outputs": [],
   "source": [
    "associated_paco2_df['pre_post'] = 'pre'\n",
    "associated_paco2_df.loc[associated_paco2_df['relative_datetime'] >= 0, 'pre_post'] = 'post'"
   ]
  },
  {
   "cell_type": "code",
   "execution_count": null,
   "id": "dbab898e2fc62cff",
   "metadata": {
    "ExecuteTime": {
     "end_time": "2024-12-31T13:15:40.140804Z",
     "start_time": "2024-12-31T13:15:40.133882Z"
    }
   },
   "outputs": [],
   "source": [
    "associated_paco2_df.pat_nr.nunique(), associated_paco2_df.drug_start.nunique()"
   ]
  },
  {
   "cell_type": "code",
   "execution_count": null,
   "id": "e6ceac44d473e994",
   "metadata": {
    "ExecuteTime": {
     "end_time": "2024-12-31T13:15:40.304564Z",
     "start_time": "2024-12-31T13:15:40.286549Z"
    }
   },
   "outputs": [],
   "source": [
    "mixed_model_paco2 = smf.mixedlm(\"pCO2_mmHg ~ pre_post\", associated_paco2_df, groups=associated_paco2_df['pat_nr'])"
   ]
  },
  {
   "cell_type": "code",
   "execution_count": null,
   "id": "95b39d4c11fa5824",
   "metadata": {
    "ExecuteTime": {
     "end_time": "2024-12-31T13:15:40.564688Z",
     "start_time": "2024-12-31T13:15:40.454792Z"
    }
   },
   "outputs": [],
   "source": [
    "mixed_model_paco2_fit = mixed_model_paco2.fit()\n",
    "mixed_model_paco2_fit.summary()"
   ]
  },
  {
   "cell_type": "code",
   "execution_count": null,
   "id": "fc02c114766b0f76",
   "metadata": {
    "ExecuteTime": {
     "end_time": "2024-12-31T13:15:40.723823Z",
     "start_time": "2024-12-31T13:15:40.716462Z"
    }
   },
   "outputs": [],
   "source": [
    "mixed_model_paco2_fit.pvalues"
   ]
  },
  {
   "cell_type": "code",
   "execution_count": null,
   "id": "71aa1ff5f2141ac9",
   "metadata": {
    "ExecuteTime": {
     "end_time": "2024-12-31T13:15:40.910333Z",
     "start_time": "2024-12-31T13:15:40.896531Z"
    }
   },
   "outputs": [],
   "source": [
    "# pre / post median and IQR\n",
    "print(f'Pre: {associated_paco2_df[associated_paco2_df[\"pre_post\"] == \"pre\"][\"pCO2_mmHg\"].median()} ({associated_paco2_df[associated_paco2_df[\"pre_post\"] == \"pre\"][\"pCO2_mmHg\"].quantile(0.25)}, {associated_paco2_df[associated_paco2_df[\"pre_post\"] == \"pre\"][\"pCO2_mmHg\"].quantile(0.75)})',\n",
    "f'Post: {associated_paco2_df[associated_paco2_df[\"pre_post\"] == \"post\"][\"pCO2_mmHg\"].median()} ({associated_paco2_df[associated_paco2_df[\"pre_post\"] == \"post\"][\"pCO2_mmHg\"].quantile(0.25)}, {associated_paco2_df[associated_paco2_df[\"pre_post\"] == \"post\"][\"pCO2_mmHg\"].quantile(0.75)})')"
   ]
  },
  {
   "cell_type": "markdown",
   "id": "6263b5a817cd4922",
   "metadata": {},
   "source": [
    "Mainstream etCO2"
   ]
  },
  {
   "cell_type": "code",
   "execution_count": null,
   "id": "66838d5b0db894f2",
   "metadata": {
    "ExecuteTime": {
     "end_time": "2024-12-31T13:15:41.001467Z",
     "start_time": "2024-12-31T13:15:40.997150Z"
    }
   },
   "outputs": [],
   "source": [
    "associated_mainstream_etco2_df['pre_post'] = 'pre'\n",
    "associated_mainstream_etco2_df.loc[associated_mainstream_etco2_df['relative_datetime'] >= 0, 'pre_post'] = 'post'"
   ]
  },
  {
   "cell_type": "code",
   "execution_count": null,
   "id": "9192d646b0edc016",
   "metadata": {
    "ExecuteTime": {
     "end_time": "2024-12-31T13:15:41.054291Z",
     "start_time": "2024-12-31T13:15:41.048663Z"
    }
   },
   "outputs": [],
   "source": [
    "associated_mainstream_etco2_df.pat_nr.nunique(), associated_mainstream_etco2_df.drug_start.nunique()"
   ]
  },
  {
   "cell_type": "code",
   "execution_count": null,
   "id": "9fac05d7953025e4",
   "metadata": {
    "ExecuteTime": {
     "end_time": "2024-12-31T13:15:41.190261Z",
     "start_time": "2024-12-31T13:15:41.174380Z"
    }
   },
   "outputs": [],
   "source": [
    "mixed_model_mainstream_etco2 = smf.mixedlm(\"etCO2 ~ pre_post\", associated_mainstream_etco2_df, groups=associated_mainstream_etco2_df['pat_nr'])"
   ]
  },
  {
   "cell_type": "code",
   "execution_count": null,
   "id": "337db77c698c605c",
   "metadata": {
    "ExecuteTime": {
     "end_time": "2024-12-31T13:15:41.396Z",
     "start_time": "2024-12-31T13:15:41.307771Z"
    }
   },
   "outputs": [],
   "source": [
    "mixed_model_mainstream_etco2_fit = mixed_model_mainstream_etco2.fit()\n",
    "mixed_model_mainstream_etco2_fit.summary()"
   ]
  },
  {
   "cell_type": "code",
   "execution_count": null,
   "id": "2560dd928456e1d8",
   "metadata": {
    "ExecuteTime": {
     "end_time": "2024-12-31T13:15:41.521673Z",
     "start_time": "2024-12-31T13:15:41.515761Z"
    }
   },
   "outputs": [],
   "source": [
    "mixed_model_mainstream_etco2_fit.pvalues"
   ]
  },
  {
   "cell_type": "code",
   "execution_count": null,
   "id": "8cadd2b05301da87",
   "metadata": {
    "ExecuteTime": {
     "end_time": "2024-12-31T13:15:41.692848Z",
     "start_time": "2024-12-31T13:15:41.680815Z"
    }
   },
   "outputs": [],
   "source": [
    "# pre / post median and IQR\n",
    "print(f'Pre: {associated_mainstream_etco2_df[associated_mainstream_etco2_df[\"pre_post\"] == \"pre\"][\"etCO2\"].median()} ({associated_mainstream_etco2_df[associated_mainstream_etco2_df[\"pre_post\"] == \"pre\"][\"etCO2\"].quantile(0.25)}, {associated_mainstream_etco2_df[associated_mainstream_etco2_df[\"pre_post\"] == \"pre\"][\"etCO2\"].quantile(0.75)})',\n",
    "f'Post: {associated_mainstream_etco2_df[associated_mainstream_etco2_df[\"pre_post\"] == \"post\"][\"etCO2\"].median()} ({associated_mainstream_etco2_df[associated_mainstream_etco2_df[\"pre_post\"] == \"post\"][\"etCO2\"].quantile(0.25)}, {associated_mainstream_etco2_df[associated_mainstream_etco2_df[\"pre_post\"] == \"post\"][\"etCO2\"].quantile(0.75)})')"
   ]
  },
  {
   "cell_type": "markdown",
   "id": "aef2239b3029d69d",
   "metadata": {},
   "source": [
    "LPR subset"
   ]
  },
  {
   "cell_type": "code",
   "execution_count": null,
   "id": "2369fdb7c54821fa",
   "metadata": {
    "ExecuteTime": {
     "end_time": "2024-12-31T13:15:41.802251Z",
     "start_time": "2024-12-31T13:15:41.795621Z"
    }
   },
   "outputs": [],
   "source": [
    "associated_lpr_df['pre_post'] = 'pre'\n",
    "associated_lpr_df.loc[associated_lpr_df['relative_datetime'] >= 0, 'pre_post'] = 'post'\n",
    "associated_lpr_df.dropna(subset=['lpr'], inplace=True)"
   ]
  },
  {
   "cell_type": "code",
   "execution_count": null,
   "id": "99690aa808e5555e",
   "metadata": {
    "ExecuteTime": {
     "end_time": "2024-12-31T13:15:41.852797Z",
     "start_time": "2024-12-31T13:15:41.847628Z"
    }
   },
   "outputs": [],
   "source": [
    "associated_lpr_df.pat_nr.nunique(), associated_lpr_df.drug_start.nunique()"
   ]
  },
  {
   "cell_type": "code",
   "execution_count": null,
   "id": "101a766c622a8aba",
   "metadata": {
    "ExecuteTime": {
     "end_time": "2024-12-31T13:15:41.978206Z",
     "start_time": "2024-12-31T13:15:41.968766Z"
    }
   },
   "outputs": [],
   "source": [
    "mixed_model_lpr = smf.mixedlm(\"lpr ~ pre_post\", associated_lpr_df, groups=associated_lpr_df['pat_nr'])"
   ]
  },
  {
   "cell_type": "code",
   "execution_count": null,
   "id": "71f27edd96ea8852",
   "metadata": {
    "ExecuteTime": {
     "end_time": "2024-12-31T13:15:42.160994Z",
     "start_time": "2024-12-31T13:15:42.097117Z"
    }
   },
   "outputs": [],
   "source": [
    "mixed_model_lpr_fit = mixed_model_lpr.fit()\n",
    "mixed_model_lpr_fit.summary()"
   ]
  },
  {
   "cell_type": "code",
   "execution_count": null,
   "id": "c791ac1d694e8c01",
   "metadata": {
    "ExecuteTime": {
     "end_time": "2024-12-31T13:15:42.288416Z",
     "start_time": "2024-12-31T13:15:42.282970Z"
    }
   },
   "outputs": [],
   "source": [
    "mixed_model_lpr_fit.pvalues"
   ]
  },
  {
   "cell_type": "code",
   "execution_count": null,
   "id": "cd59d700ba6b5b75",
   "metadata": {
    "ExecuteTime": {
     "end_time": "2024-12-31T13:15:42.449265Z",
     "start_time": "2024-12-31T13:15:42.444087Z"
    }
   },
   "outputs": [],
   "source": [
    "f'{mixed_model_lpr_fit.pvalues[\"pre_post[T.pre]\"]:.4f}'"
   ]
  },
  {
   "cell_type": "code",
   "execution_count": null,
   "id": "30e81a9beaf539cc",
   "metadata": {
    "ExecuteTime": {
     "end_time": "2024-12-31T13:15:42.762817Z",
     "start_time": "2024-12-31T13:15:42.550372Z"
    }
   },
   "outputs": [],
   "source": [
    "# pre / post median and IQR\n",
    "print(f'Pre: {concatenated_df[concatenated_df[\"pre_post\"] == \"pre\"][\"lpr\"].median()} ({concatenated_df[concatenated_df[\"pre_post\"] == \"pre\"][\"lpr\"].quantile(0.25)}, {concatenated_df[concatenated_df[\"pre_post\"] == \"pre\"][\"lpr\"].quantile(0.75)})',\n",
    "f'Post: {concatenated_df[concatenated_df[\"pre_post\"] == \"post\"][\"lpr\"].median()} ({concatenated_df[concatenated_df[\"pre_post\"] == \"post\"][\"lpr\"].quantile(0.25)}, {concatenated_df[concatenated_df[\"pre_post\"] == \"post\"][\"lpr\"].quantile(0.75)})')"
   ]
  },
  {
   "cell_type": "markdown",
   "id": "9d86152decdea6d5",
   "metadata": {},
   "source": [
    "PRX"
   ]
  },
  {
   "cell_type": "code",
   "execution_count": null,
   "id": "113ec5f882e07f42",
   "metadata": {
    "ExecuteTime": {
     "end_time": "2024-12-31T13:15:42.802023Z",
     "start_time": "2024-11-06T08:46:57.965873Z"
    }
   },
   "outputs": [],
   "source": [
    "associated_prx_df['pre_post'] = 'pre'\n",
    "associated_prx_df.loc[associated_prx_df['relative_datetime'] >= 0, 'pre_post'] = 'post'"
   ]
  },
  {
   "cell_type": "code",
   "execution_count": null,
   "id": "c1f81f29de1a2d2f",
   "metadata": {
    "ExecuteTime": {
     "end_time": "2024-12-31T13:15:42.802296Z",
     "start_time": "2024-11-06T08:46:58.315454Z"
    }
   },
   "outputs": [],
   "source": [
    "associated_prx_df.pat_nr.nunique(), associated_prx_df.drug_start.nunique() "
   ]
  },
  {
   "cell_type": "code",
   "execution_count": null,
   "id": "ae1790b8c8cdc629",
   "metadata": {
    "ExecuteTime": {
     "end_time": "2024-12-31T13:15:42.802487Z",
     "start_time": "2024-11-06T08:46:58.654336Z"
    }
   },
   "outputs": [],
   "source": [
    "associated_prx_df"
   ]
  },
  {
   "cell_type": "code",
   "execution_count": null,
   "id": "99ec0baef6d6cd63",
   "metadata": {
    "ExecuteTime": {
     "end_time": "2024-12-31T13:15:42.802978Z",
     "start_time": "2024-11-06T08:46:59.178602Z"
    }
   },
   "outputs": [],
   "source": [
    "mixed_model_lpr = smf.mixedlm(\"prx ~ pre_post\", associated_prx_df, groups=associated_prx_df['pat_nr'])"
   ]
  },
  {
   "cell_type": "code",
   "execution_count": null,
   "id": "81a35d5863d1176c",
   "metadata": {
    "ExecuteTime": {
     "end_time": "2024-12-31T13:15:42.803117Z",
     "start_time": "2024-11-06T08:47:00.598356Z"
    }
   },
   "outputs": [],
   "source": [
    "mixed_model_lpr_fit = mixed_model_lpr.fit()\n",
    "mixed_model_lpr_fit.summary()"
   ]
  },
  {
   "cell_type": "code",
   "execution_count": null,
   "id": "d4922a6b8ee11abd",
   "metadata": {
    "ExecuteTime": {
     "end_time": "2024-12-31T13:15:42.803445Z",
     "start_time": "2024-11-06T08:47:02.511989Z"
    }
   },
   "outputs": [],
   "source": [
    "mixed_model_lpr_fit.pvalues"
   ]
  },
  {
   "cell_type": "code",
   "execution_count": null,
   "id": "d0139f92c265b640",
   "metadata": {
    "ExecuteTime": {
     "end_time": "2024-12-31T13:15:42.803607Z",
     "start_time": "2024-11-06T08:48:47.799091Z"
    }
   },
   "outputs": [],
   "source": [
    "# pre / post median and IQR\n",
    "print(f'Pre: {associated_prx_df[associated_prx_df[\"pre_post\"] == \"pre\"][\"prx\"].median():.2f} ({associated_prx_df[associated_prx_df[\"pre_post\"] == \"pre\"][\"prx\"].quantile(0.25):.2f}, {associated_prx_df[associated_prx_df[\"pre_post\"] == \"pre\"][\"prx\"].quantile(0.75):.2f})',\n",
    "f'Post: {associated_prx_df[associated_prx_df[\"pre_post\"] == \"post\"][\"prx\"].median():.2f} ({associated_prx_df[associated_prx_df[\"pre_post\"] == \"post\"][\"prx\"].quantile(0.25):.2f}, {associated_prx_df[associated_prx_df[\"pre_post\"] == \"post\"][\"prx\"].quantile(0.75):.2f})')"
   ]
  },
  {
   "cell_type": "code",
   "execution_count": null,
   "id": "8d84dcfe794cd9ca",
   "metadata": {},
   "outputs": [],
   "source": []
  }
 ],
 "metadata": {
  "kernelspec": {
   "display_name": "PreHosp",
   "language": "python",
   "name": "python3"
  },
  "language_info": {
   "codemirror_mode": {
    "name": "ipython",
    "version": 3
   },
   "file_extension": ".py",
   "mimetype": "text/x-python",
   "name": "python",
   "nbconvert_exporter": "python",
   "pygments_lexer": "ipython3",
   "version": "3.11.9"
  }
 },
 "nbformat": 4,
 "nbformat_minor": 5
}
