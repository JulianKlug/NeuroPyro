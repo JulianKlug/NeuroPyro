{
 "cells": [
  {
   "cell_type": "code",
   "execution_count": null,
   "id": "9478d4d843ba71e1",
   "metadata": {
    "ExecuteTime": {
     "end_time": "2024-08-16T19:20:29.164782Z",
     "start_time": "2024-08-16T19:20:28.751545Z"
    }
   },
   "outputs": [],
   "source": [
    "import pandas as pd\n",
    "import statsmodels.api as sm\n",
    "import statsmodels.formula.api as smf"
   ]
  },
  {
   "cell_type": "code",
   "execution_count": null,
   "id": "592664b10da4a9c1",
   "metadata": {
    "ExecuteTime": {
     "end_time": "2024-08-16T19:20:29.169716Z",
     "start_time": "2024-08-16T19:20:29.166791Z"
    }
   },
   "outputs": [],
   "source": [
    "cpp_path = '/Users/jk1/stroke_datasets/ptiO2-Studie/extracted_data/cpp_df.csv'\n",
    "ptio2_path = '/Users/jk1/stroke_datasets/ptiO2-Studie/extracted_data/ptio2_df.csv'\n",
    "temperature_path = '/Users/jk1/stroke_datasets/ptiO2-Studie/extracted_data/temperature_df.csv'\n",
    "lpr_path = '/Users/jk1/stroke_datasets/ptiO2-Studie/extracted_data/lpr_df.csv'\n",
    "hr_path = '/Users/jk1/stroke_datasets/ptiO2-Studie/extracted_data/hr_df.csv'\n",
    "drug_administration_path = '/Users/jk1/stroke_datasets/ptiO2-Studie/drug_administrations.xlsx'"
   ]
  },
  {
   "cell_type": "code",
   "execution_count": null,
   "id": "131921ff24b5a0f6",
   "metadata": {
    "ExecuteTime": {
     "end_time": "2024-08-16T19:20:29.173583Z",
     "start_time": "2024-08-16T19:20:29.171053Z"
    }
   },
   "outputs": [],
   "source": [
    "exclude_short_infusions = True"
   ]
  },
  {
   "cell_type": "code",
   "execution_count": null,
   "id": "initial_id",
   "metadata": {
    "ExecuteTime": {
     "end_time": "2024-08-16T19:21:00.442122Z",
     "start_time": "2024-08-16T19:20:29.174811Z"
    },
    "jupyter": {
     "outputs_hidden": true
    }
   },
   "outputs": [],
   "source": [
    "cpp_df = pd.read_csv(cpp_path)\n",
    "ptio2_df = pd.read_csv(ptio2_path)\n",
    "temperature_df = pd.read_csv(temperature_path)\n",
    "lpr_df = pd.read_csv(lpr_path)\n",
    "hr_df = pd.read_csv(hr_path)\n",
    "drug_administration_df = pd.read_excel(drug_administration_path)"
   ]
  },
  {
   "cell_type": "code",
   "execution_count": null,
   "id": "8cfb2a45c5b694b2",
   "metadata": {
    "ExecuteTime": {
     "end_time": "2024-08-16T19:21:00.458532Z",
     "start_time": "2024-08-16T19:21:00.444260Z"
    }
   },
   "outputs": [],
   "source": [
    "drug_administration_df = drug_administration_df[drug_administration_df.monitored]\n",
    "\n",
    "n_patients_before = drug_administration_df['pat_nr'].nunique()\n",
    "# print patients with exclusion criterium\n",
    "print(f'Excluding {drug_administration_df[~pd.isna(drug_administration_df[\"further_exclusion_criterium\"])].shape[0]} infusions with {drug_administration_df[~pd.isna(drug_administration_df[\"further_exclusion_criterium\"])][\"further_exclusion_criterium\"].nunique()} different further exclusion criteria')\n",
    "# exclude if further_exclusion_criterium is not Nan\n",
    "drug_administration_df = drug_administration_df[pd.isna(drug_administration_df['further_exclusion_criterium'])]\n",
    "# print number of patients excluded\n",
    "print(f'Excluding {n_patients_before - drug_administration_df[\"pat_nr\"].nunique()} patients with further exclusion criterium')\n",
    "\n",
    "if exclude_short_infusions:\n",
    "    n_patients_before = drug_administration_df['pat_nr'].nunique()\n",
    "    drug_administration_df['infusion_duration'] = (pd.to_datetime(drug_administration_df['drug_end']) - pd.to_datetime(drug_administration_df['drug_start'])).dt.total_seconds() / 3600\n",
    "    print(f'Excluding {drug_administration_df[drug_administration_df[\"infusion_duration\"] <= 1].shape[0]} infusions with duration <= 1h')\n",
    "    drug_administration_df = drug_administration_df[drug_administration_df['infusion_duration'] > 1]\n",
    "    print(f'Excluding {n_patients_before - drug_administration_df[\"pat_nr\"].nunique()} patients with infusions with duration <= 1h')"
   ]
  },
  {
   "cell_type": "code",
   "execution_count": null,
   "id": "eb46834ffc214232",
   "metadata": {
    "ExecuteTime": {
     "end_time": "2024-08-16T19:21:04.490159Z",
     "start_time": "2024-08-16T19:21:00.459915Z"
    }
   },
   "outputs": [],
   "source": [
    "for var_df in [ptio2_df, cpp_df, temperature_df, lpr_df, hr_df]:\n",
    "    var_df['datetime'] = pd.to_datetime(var_df['datetime'])"
   ]
  },
  {
   "cell_type": "code",
   "execution_count": null,
   "id": "50df856a236e3dac",
   "metadata": {
    "ExecuteTime": {
     "end_time": "2024-08-16T19:22:04.076989Z",
     "start_time": "2024-08-16T19:21:04.495296Z"
    }
   },
   "outputs": [],
   "source": [
    "# for every drug administration extract data from -xh to +xh around start\n",
    "time_window = 12\n",
    "\n",
    "associated_ptio2_df = pd.DataFrame()\n",
    "associated_cpp_df = pd.DataFrame()\n",
    "associated_temperature_df = pd.DataFrame()\n",
    "associated_hr_df = pd.DataFrame()\n",
    "associated_lpr_df = pd.DataFrame()\n",
    "associated_ci_df = pd.DataFrame()\n",
    "\n",
    "for index, row in drug_administration_df.iterrows():\n",
    "    lower_bound = row['drug_start'] - pd.to_timedelta(time_window, unit='h')\n",
    "    upper_bound = row['drug_start'] + pd.to_timedelta(time_window, unit='h')\n",
    "    instance_associated_ptio2_df = ptio2_df[(ptio2_df['pat_nr'] == row['pat_nr'])\n",
    "                                            & (ptio2_df['datetime'] >= lower_bound) \n",
    "                                            & (ptio2_df['datetime'] <= upper_bound)]\n",
    "    instance_associated_ptio2_df['drug_start'] = row['drug_start']\n",
    "    instance_associated_ptio2_df['relative_datetime'] = (instance_associated_ptio2_df['datetime'] - row['drug_start']).dt.total_seconds() / 3600\n",
    "    associated_ptio2_df = pd.concat([associated_ptio2_df, instance_associated_ptio2_df])\n",
    "\n",
    "    instance_associated_cpp_df = cpp_df[(cpp_df['pat_nr'] == row['pat_nr'])\n",
    "                                        & (cpp_df['datetime'] >= lower_bound) \n",
    "                                        & (cpp_df['datetime'] <= upper_bound)]  \n",
    "    instance_associated_cpp_df['drug_start'] = row['drug_start']\n",
    "    instance_associated_cpp_df['relative_datetime'] = (instance_associated_cpp_df['datetime'] - row['drug_start']).dt.total_seconds() / 3600\n",
    "    associated_cpp_df = pd.concat([associated_cpp_df, instance_associated_cpp_df])\n",
    "\n",
    "    instance_associated_temperature_df = temperature_df[(temperature_df['pat_nr'] == row['pat_nr'])\n",
    "                                        & (temperature_df['datetime'] >= lower_bound)\n",
    "                                        & (temperature_df['datetime'] <= upper_bound)]\n",
    "    instance_associated_temperature_df['drug_start'] = row['drug_start']\n",
    "    instance_associated_temperature_df['relative_datetime'] = (instance_associated_temperature_df['datetime'] - row['drug_start']).dt.total_seconds() / 3600\n",
    "    associated_temperature_df = pd.concat([associated_temperature_df, instance_associated_temperature_df])\n",
    "\n",
    "    instance_associated_hr_df = hr_df[(hr_df['pat_nr'] == row['pat_nr'])\n",
    "                                        & (hr_df['datetime'] >= lower_bound)   \n",
    "                                        & (hr_df['datetime'] <= upper_bound)]\n",
    "    instance_associated_hr_df['drug_start'] = row['drug_start']\n",
    "    instance_associated_hr_df['relative_datetime'] = (instance_associated_hr_df['datetime'] - row['drug_start']).dt.total_seconds() / 3600\n",
    "    associated_hr_df = pd.concat([associated_hr_df, instance_associated_hr_df])\n",
    "\n",
    "    instance_associated_lpr_df = lpr_df[(lpr_df['pat_nr'] == row['pat_nr'])\n",
    "                                        & (lpr_df['datetime'] >= lower_bound)\n",
    "                                        & (lpr_df['datetime'] <= upper_bound)]\n",
    "    instance_associated_lpr_df['drug_start'] = row['drug_start']\n",
    "    instance_associated_lpr_df['relative_datetime'] = (instance_associated_lpr_df['datetime'] - row['drug_start']).dt.total_seconds() / 3600\n",
    "    associated_lpr_df = pd.concat([associated_lpr_df, instance_associated_lpr_df])\n",
    "\n",
    "    "
   ]
  },
  {
   "cell_type": "code",
   "execution_count": null,
   "id": "7be195dc37e88813",
   "metadata": {
    "ExecuteTime": {
     "end_time": "2024-08-16T19:22:04.094152Z",
     "start_time": "2024-08-16T19:22:04.078400Z"
    }
   },
   "outputs": [],
   "source": [
    "for var_df in [associated_ptio2_df, associated_cpp_df, associated_temperature_df, associated_hr_df, associated_lpr_df]:\n",
    "    var_df['relative_datetime_cat'] = var_df['relative_datetime'].round(2)"
   ]
  },
  {
   "cell_type": "code",
   "execution_count": null,
   "id": "1bc7ee901669e524",
   "metadata": {
    "ExecuteTime": {
     "end_time": "2024-08-16T19:22:04.377408Z",
     "start_time": "2024-08-16T19:22:04.095789Z"
    }
   },
   "outputs": [],
   "source": [
    "grouped_ptio2 = associated_ptio2_df.groupby(['pat_nr', 'drug_start', 'relative_datetime_cat']).agg({'ptio2': 'median'}).reset_index()\n",
    "grouped_cpp = associated_cpp_df.groupby(['pat_nr', 'drug_start', 'relative_datetime_cat']).agg({'cpp': 'median'}).reset_index()\n",
    "grouped_temperature = associated_temperature_df.groupby(['pat_nr', 'drug_start', 'relative_datetime_cat']).agg({'temperature': 'median'}).reset_index()\n",
    "grouped_hr = associated_hr_df.groupby(['pat_nr', 'drug_start', 'relative_datetime_cat']).agg({'hr': 'median'}).reset_index()\n",
    "grouped_lpr = associated_lpr_df.groupby(['pat_nr', 'drug_start', 'relative_datetime_cat']).agg({'lpr': 'median'}).reset_index()"
   ]
  },
  {
   "cell_type": "code",
   "execution_count": null,
   "id": "c00fc3e4dfbbe146",
   "metadata": {
    "ExecuteTime": {
     "end_time": "2024-08-16T19:22:04.504950Z",
     "start_time": "2024-08-16T19:22:04.378836Z"
    }
   },
   "outputs": [],
   "source": [
    "# merge\n",
    "concatenated_df = grouped_ptio2.merge(grouped_cpp, on=['pat_nr', 'drug_start', 'relative_datetime_cat'], how='outer')\n",
    "concatenated_df = concatenated_df.merge(grouped_temperature, on=['pat_nr', 'drug_start', 'relative_datetime_cat'], how='outer')\n",
    "concatenated_df = concatenated_df.merge(grouped_hr, on=['pat_nr', 'drug_start', 'relative_datetime_cat'], how='outer')\n",
    "concatenated_df = concatenated_df.merge(grouped_lpr, on=['pat_nr', 'drug_start', 'relative_datetime_cat'], how='outer')"
   ]
  },
  {
   "cell_type": "code",
   "execution_count": null,
   "id": "d26d51b55922f065",
   "metadata": {
    "ExecuteTime": {
     "end_time": "2024-08-16T19:22:04.510466Z",
     "start_time": "2024-08-16T19:22:04.506083Z"
    }
   },
   "outputs": [],
   "source": [
    "concatenated_df['pre_post'] = 'pre'\n",
    "concatenated_df.loc[concatenated_df['relative_datetime_cat'] >= 0, 'pre_post'] = 'post'"
   ]
  },
  {
   "cell_type": "markdown",
   "id": "37a835d493b75971",
   "metadata": {},
   "source": [
    "## Multivariate model\n",
    "create full mixed effects model with all variables and interactions"
   ]
  },
  {
   "cell_type": "code",
   "execution_count": null,
   "id": "798980213de37dfc",
   "metadata": {
    "ExecuteTime": {
     "end_time": "2024-08-16T19:22:04.544274Z",
     "start_time": "2024-08-16T19:22:04.528284Z"
    }
   },
   "outputs": [],
   "source": [
    "temp_df = concatenated_df.drop(columns=['lpr'])\n",
    "# drop rows with nan values\n",
    "temp_df = temp_df.dropna()"
   ]
  },
  {
   "cell_type": "code",
   "execution_count": null,
   "id": "3adb2000810453ee",
   "metadata": {
    "ExecuteTime": {
     "end_time": "2024-08-16T19:22:04.723339Z",
     "start_time": "2024-08-16T19:22:04.545591Z"
    }
   },
   "outputs": [],
   "source": [
    "mixed_model = smf.mixedlm(\"ptio2 ~ pre_post * cpp * temperature * hr\", temp_df, groups=temp_df['pat_nr'])"
   ]
  },
  {
   "cell_type": "code",
   "execution_count": null,
   "id": "da7bbb4825574a2a",
   "metadata": {
    "ExecuteTime": {
     "end_time": "2024-08-16T19:22:05.900359Z",
     "start_time": "2024-08-16T19:22:04.724715Z"
    }
   },
   "outputs": [],
   "source": [
    "mixed_model_fit = mixed_model.fit()"
   ]
  },
  {
   "cell_type": "code",
   "execution_count": null,
   "id": "feca34a8888444e8",
   "metadata": {
    "ExecuteTime": {
     "end_time": "2024-08-16T19:22:05.932030Z",
     "start_time": "2024-08-16T19:22:05.902271Z"
    }
   },
   "outputs": [],
   "source": [
    "mixed_model.score(mixed_model_fit.params_object)"
   ]
  },
  {
   "cell_type": "code",
   "execution_count": null,
   "id": "eaeef174c0d7641a",
   "metadata": {
    "ExecuteTime": {
     "end_time": "2024-08-16T19:22:05.996744Z",
     "start_time": "2024-08-16T19:22:05.933563Z"
    }
   },
   "outputs": [],
   "source": [
    "mixed_model_fit.summary()"
   ]
  },
  {
   "cell_type": "code",
   "execution_count": null,
   "id": "63b58eda90df79c9",
   "metadata": {
    "ExecuteTime": {
     "end_time": "2024-08-16T19:22:06.003944Z",
     "start_time": "2024-08-16T19:22:05.998665Z"
    }
   },
   "outputs": [],
   "source": [
    "print(mixed_model_fit.pvalues)"
   ]
  },
  {
   "cell_type": "markdown",
   "id": "f42254eba22da301",
   "metadata": {},
   "source": [
    "# Single variable models "
   ]
  },
  {
   "cell_type": "code",
   "execution_count": null,
   "id": "50990967fea68f2",
   "metadata": {
    "ExecuteTime": {
     "end_time": "2024-08-16T19:22:06.188788Z",
     "start_time": "2024-08-16T19:22:06.005631Z"
    }
   },
   "outputs": [],
   "source": [
    "# ptio2\n",
    "temp_ptio2_df = concatenated_df.drop(columns=['cpp', 'temperature', 'hr', 'lpr'])\n",
    "# drop rows with nan values\n",
    "temp_ptio2_df = temp_df.dropna()\n",
    "\n",
    "mixed_model_ptio2 = smf.mixedlm(\"ptio2 ~ pre_post\", temp_ptio2_df, groups=temp_ptio2_df['pat_nr'])"
   ]
  },
  {
   "cell_type": "code",
   "execution_count": null,
   "id": "45df8cc4d92dc2b5",
   "metadata": {
    "ExecuteTime": {
     "end_time": "2024-08-16T19:22:06.519542Z",
     "start_time": "2024-08-16T19:22:06.190456Z"
    }
   },
   "outputs": [],
   "source": [
    "mixed_model_ptio2_fit = mixed_model_ptio2.fit()\n",
    "mixed_model_ptio2_fit.summary()"
   ]
  },
  {
   "cell_type": "code",
   "execution_count": null,
   "id": "896fec0f8a16e215",
   "metadata": {
    "ExecuteTime": {
     "end_time": "2024-08-16T19:22:06.525368Z",
     "start_time": "2024-08-16T19:22:06.520719Z"
    }
   },
   "outputs": [],
   "source": [
    "mixed_model_ptio2_fit.pvalues"
   ]
  },
  {
   "cell_type": "code",
   "execution_count": null,
   "id": "50d569f87e274859",
   "metadata": {
    "ExecuteTime": {
     "end_time": "2024-08-16T19:22:20.989484Z",
     "start_time": "2024-08-16T19:22:20.946575Z"
    }
   },
   "outputs": [],
   "source": [
    "# pre / post median and IQR\n",
    "print(f'Pre: {concatenated_df[concatenated_df[\"pre_post\"] == \"pre\"][\"ptio2\"].median()} ({concatenated_df[concatenated_df[\"pre_post\"] == \"pre\"][\"ptio2\"].quantile(0.25)}, {concatenated_df[concatenated_df[\"pre_post\"] == \"pre\"][\"ptio2\"].quantile(0.75)})',\n",
    "f'Post: {concatenated_df[concatenated_df[\"pre_post\"] == \"post\"][\"ptio2\"].median()} ({concatenated_df[concatenated_df[\"pre_post\"] == \"post\"][\"ptio2\"].quantile(0.25)}, {concatenated_df[concatenated_df[\"pre_post\"] == \"post\"][\"ptio2\"].quantile(0.75)})')"
   ]
  },
  {
   "cell_type": "code",
   "execution_count": null,
   "id": "63d55684403eab7a",
   "metadata": {
    "ExecuteTime": {
     "end_time": "2024-08-16T19:22:35.545806Z",
     "start_time": "2024-08-16T19:22:35.527682Z"
    }
   },
   "outputs": [],
   "source": [
    "# cpp\n",
    "temp_cpp_df = concatenated_df.drop(columns=['ptio2', 'temperature', 'hr', 'lpr'])\n",
    "# drop rows with nan values\n",
    "temp_cpp_df = temp_df.dropna()"
   ]
  },
  {
   "cell_type": "code",
   "execution_count": null,
   "id": "906bf3fd952df0ff",
   "metadata": {
    "ExecuteTime": {
     "end_time": "2024-08-16T19:22:36.071634Z",
     "start_time": "2024-08-16T19:22:35.921332Z"
    }
   },
   "outputs": [],
   "source": [
    "mixed_model_cpp = smf.mixedlm(\"cpp ~ pre_post\", temp_cpp_df, groups=temp_cpp_df['pat_nr'])"
   ]
  },
  {
   "cell_type": "code",
   "execution_count": null,
   "id": "87e3e0f9c7ac510f",
   "metadata": {
    "ExecuteTime": {
     "end_time": "2024-08-16T19:22:36.770404Z",
     "start_time": "2024-08-16T19:22:36.606528Z"
    }
   },
   "outputs": [],
   "source": [
    "mixed_model_cpp_fit = mixed_model_cpp.fit()\n",
    "mixed_model_cpp_fit.summary()"
   ]
  },
  {
   "cell_type": "code",
   "execution_count": null,
   "id": "1c12f09b1d3bda74",
   "metadata": {
    "ExecuteTime": {
     "end_time": "2024-08-16T19:22:37.699726Z",
     "start_time": "2024-08-16T19:22:37.694235Z"
    }
   },
   "outputs": [],
   "source": [
    "mixed_model_cpp_fit.pvalues"
   ]
  },
  {
   "cell_type": "code",
   "execution_count": null,
   "id": "d475d79d56b7b2cc",
   "metadata": {
    "ExecuteTime": {
     "end_time": "2024-08-16T19:22:51.858216Z",
     "start_time": "2024-08-16T19:22:51.809268Z"
    }
   },
   "outputs": [],
   "source": [
    "# pre / post median and IQR\n",
    "print(f'Pre: {concatenated_df[concatenated_df[\"pre_post\"] == \"pre\"][\"cpp\"].median()} ({concatenated_df[concatenated_df[\"pre_post\"] == \"pre\"][\"cpp\"].quantile(0.25)}, {concatenated_df[concatenated_df[\"pre_post\"] == \"pre\"][\"cpp\"].quantile(0.75)})',\n",
    "f'Post: {concatenated_df[concatenated_df[\"pre_post\"] == \"post\"][\"cpp\"].median()} ({concatenated_df[concatenated_df[\"pre_post\"] == \"post\"][\"cpp\"].quantile(0.25)}, {concatenated_df[concatenated_df[\"pre_post\"] == \"post\"][\"cpp\"].quantile(0.75)})')"
   ]
  },
  {
   "cell_type": "code",
   "execution_count": null,
   "id": "6f9ea1de5db61d21",
   "metadata": {
    "ExecuteTime": {
     "end_time": "2024-08-16T19:22:54.269187Z",
     "start_time": "2024-08-16T19:22:54.250332Z"
    }
   },
   "outputs": [],
   "source": [
    "# temperature\n",
    "temp_temperature_df = concatenated_df.drop(columns=['cpp', 'ptio2', 'hr', 'lpr'])\n",
    "# drop rows with nan values\n",
    "temp_temperature_df = temp_df.dropna()"
   ]
  },
  {
   "cell_type": "code",
   "execution_count": null,
   "id": "b86bc84477de8813",
   "metadata": {
    "ExecuteTime": {
     "end_time": "2024-08-16T19:22:54.714792Z",
     "start_time": "2024-08-16T19:22:54.564286Z"
    }
   },
   "outputs": [],
   "source": [
    "mixed_model_temperature = smf.mixedlm(\"temperature ~ pre_post\", temp_temperature_df, groups=temp_temperature_df['pat_nr'])"
   ]
  },
  {
   "cell_type": "code",
   "execution_count": null,
   "id": "25eb7477e843912e",
   "metadata": {
    "ExecuteTime": {
     "end_time": "2024-08-16T19:22:55.133011Z",
     "start_time": "2024-08-16T19:22:54.929038Z"
    }
   },
   "outputs": [],
   "source": [
    "mixed_model_temperature_fit = mixed_model_temperature.fit()\n",
    "mixed_model_temperature_fit.summary()"
   ]
  },
  {
   "cell_type": "code",
   "execution_count": null,
   "id": "9838789acec31ef1",
   "metadata": {
    "ExecuteTime": {
     "end_time": "2024-08-16T19:22:55.732123Z",
     "start_time": "2024-08-16T19:22:55.727468Z"
    }
   },
   "outputs": [],
   "source": [
    "mixed_model_temperature_fit.pvalues"
   ]
  },
  {
   "cell_type": "code",
   "execution_count": null,
   "id": "e456781366c40a4f",
   "metadata": {
    "ExecuteTime": {
     "end_time": "2024-08-16T19:23:02.413Z",
     "start_time": "2024-08-16T19:23:02.363272Z"
    }
   },
   "outputs": [],
   "source": [
    "# pre / post median and IQR\n",
    "print(f'Pre: {concatenated_df[concatenated_df[\"pre_post\"] == \"pre\"][\"temperature\"].median()} ({concatenated_df[concatenated_df[\"pre_post\"] == \"pre\"][\"temperature\"].quantile(0.25)}, {concatenated_df[concatenated_df[\"pre_post\"] == \"pre\"][\"temperature\"].quantile(0.75)})',\n",
    "f'Post: {concatenated_df[concatenated_df[\"pre_post\"] == \"post\"][\"temperature\"].median()} ({concatenated_df[concatenated_df[\"pre_post\"] == \"post\"][\"temperature\"].quantile(0.25)}, {concatenated_df[concatenated_df[\"pre_post\"] == \"post\"][\"temperature\"].quantile(0.75)})')"
   ]
  },
  {
   "cell_type": "code",
   "execution_count": null,
   "id": "3080bb3342fe883f",
   "metadata": {
    "ExecuteTime": {
     "end_time": "2024-08-16T19:23:04.557746Z",
     "start_time": "2024-08-16T19:23:04.538748Z"
    }
   },
   "outputs": [],
   "source": [
    "# hr\n",
    "temp_hr_df = concatenated_df.drop(columns=['cpp', 'temperature', 'ptio2', 'lpr'])\n",
    "# drop rows with nan values\n",
    "temp_hr_df = temp_df.dropna()"
   ]
  },
  {
   "cell_type": "code",
   "execution_count": null,
   "id": "9dd1a12b41e3426b",
   "metadata": {
    "ExecuteTime": {
     "end_time": "2024-08-16T19:23:05.039744Z",
     "start_time": "2024-08-16T19:23:04.896251Z"
    }
   },
   "outputs": [],
   "source": [
    "mixed_model_hr = smf.mixedlm(\"hr ~ pre_post\", temp_hr_df, groups=temp_hr_df['pat_nr'])"
   ]
  },
  {
   "cell_type": "code",
   "execution_count": null,
   "id": "a004ded29c1f6d2",
   "metadata": {
    "ExecuteTime": {
     "end_time": "2024-08-16T19:23:05.514526Z",
     "start_time": "2024-08-16T19:23:05.317188Z"
    }
   },
   "outputs": [],
   "source": [
    "mixed_model_hr_fit = mixed_model_hr.fit()\n",
    "mixed_model_hr_fit.summary()"
   ]
  },
  {
   "cell_type": "code",
   "execution_count": null,
   "id": "1b452962d50d8c2d",
   "metadata": {
    "ExecuteTime": {
     "end_time": "2024-08-16T19:23:06.402451Z",
     "start_time": "2024-08-16T19:23:06.397379Z"
    }
   },
   "outputs": [],
   "source": [
    "mixed_model_hr_fit.pvalues"
   ]
  },
  {
   "cell_type": "code",
   "execution_count": null,
   "id": "728d4a00ade18b4d",
   "metadata": {
    "ExecuteTime": {
     "end_time": "2024-08-16T19:23:12.883872Z",
     "start_time": "2024-08-16T19:23:12.837418Z"
    }
   },
   "outputs": [],
   "source": [
    "# pre / post median and IQR\n",
    "print(f'Pre: {concatenated_df[concatenated_df[\"pre_post\"] == \"pre\"][\"hr\"].median()} ({concatenated_df[concatenated_df[\"pre_post\"] == \"pre\"][\"hr\"].quantile(0.25)}, {concatenated_df[concatenated_df[\"pre_post\"] == \"pre\"][\"hr\"].quantile(0.75)})',\n",
    "f'Post: {concatenated_df[concatenated_df[\"pre_post\"] == \"post\"][\"hr\"].median()} ({concatenated_df[concatenated_df[\"pre_post\"] == \"post\"][\"hr\"].quantile(0.25)}, {concatenated_df[concatenated_df[\"pre_post\"] == \"post\"][\"hr\"].quantile(0.75)})')"
   ]
  },
  {
   "cell_type": "code",
   "execution_count": null,
   "id": "150d340ee2cb30bb",
   "metadata": {
    "ExecuteTime": {
     "end_time": "2024-08-15T19:00:59.114915Z",
     "start_time": "2024-08-15T19:00:59.113008Z"
    }
   },
   "outputs": [],
   "source": []
  }
 ],
 "metadata": {
  "kernelspec": {
   "display_name": "Python 3 (ipykernel)",
   "language": "python",
   "name": "python3"
  },
  "language_info": {
   "codemirror_mode": {
    "name": "ipython",
    "version": 3
   },
   "file_extension": ".py",
   "mimetype": "text/x-python",
   "name": "python",
   "nbconvert_exporter": "python",
   "pygments_lexer": "ipython3",
   "version": "3.11.9"
  }
 },
 "nbformat": 4,
 "nbformat_minor": 5
}
