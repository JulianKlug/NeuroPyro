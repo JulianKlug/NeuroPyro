{
 "cells": [
  {
   "cell_type": "code",
   "execution_count": null,
   "id": "initial_id",
   "metadata": {
    "ExecuteTime": {
     "end_time": "2024-07-31T12:19:57.289633Z",
     "start_time": "2024-07-31T12:19:56.766251Z"
    }
   },
   "outputs": [],
   "source": [
    "import pandas as pd"
   ]
  },
  {
   "cell_type": "code",
   "execution_count": null,
   "id": "18c17ab0f45f8d4",
   "metadata": {
    "ExecuteTime": {
     "end_time": "2024-07-31T14:23:52.654883Z",
     "start_time": "2024-07-31T14:23:52.642090Z"
    }
   },
   "outputs": [],
   "source": [
    "ptio2_timings_path = '/Users/jk1/stroke_datasets/ptiO2-Studie/pbto2_for_extraction.csv'\n",
    "drug_administration_path = '/Users/jk1/stroke_datasets/ptiO2-Studie/drug_administrations.xlsx'"
   ]
  },
  {
   "cell_type": "code",
   "execution_count": null,
   "id": "b13841732a0624be",
   "metadata": {
    "ExecuteTime": {
     "end_time": "2024-07-31T14:23:52.820427Z",
     "start_time": "2024-07-31T14:23:52.780296Z"
    }
   },
   "outputs": [],
   "source": [
    "ptio2_timings_df = pd.read_csv(ptio2_timings_path)\n",
    "drug_administration_df = pd.read_excel(drug_administration_path)"
   ]
  },
  {
   "cell_type": "code",
   "execution_count": null,
   "id": "3114591254bef2c0",
   "metadata": {
    "ExecuteTime": {
     "end_time": "2024-07-31T14:23:52.954532Z",
     "start_time": "2024-07-31T14:23:52.939804Z"
    }
   },
   "outputs": [],
   "source": [
    "ptio2_timings_df.head()"
   ]
  },
  {
   "cell_type": "code",
   "execution_count": null,
   "id": "6129cedecd3b41d1",
   "metadata": {
    "ExecuteTime": {
     "end_time": "2024-07-31T14:23:53.173365Z",
     "start_time": "2024-07-31T14:23:53.163465Z"
    }
   },
   "outputs": [],
   "source": [
    "drug_administration_df.head()"
   ]
  },
  {
   "cell_type": "markdown",
   "id": "3fea3a865656173d",
   "metadata": {},
   "source": [
    "Number of patients / adminsitrations with concomitant monitoring"
   ]
  },
  {
   "cell_type": "code",
   "execution_count": null,
   "id": "703b154f565adb0a",
   "metadata": {
    "ExecuteTime": {
     "end_time": "2024-07-31T14:23:53.637278Z",
     "start_time": "2024-07-31T14:23:53.634487Z"
    }
   },
   "outputs": [],
   "source": [
    "format_str = \"%Y %b %d %H:%M\""
   ]
  },
  {
   "cell_type": "code",
   "execution_count": null,
   "id": "ec09bae8c004f38d",
   "metadata": {
    "ExecuteTime": {
     "end_time": "2024-07-31T14:23:53.934316Z",
     "start_time": "2024-07-31T14:23:53.924908Z"
    }
   },
   "outputs": [],
   "source": [
    "from utils import format_date_column\n",
    "\n",
    "ptio2_timings_df['Recording Start Time'] = format_date_column(ptio2_timings_df['Recording Start Time'])\n",
    "ptio2_timings_df['Recording End Time'] = format_date_column(ptio2_timings_df['Recording End Time'])"
   ]
  },
  {
   "cell_type": "code",
   "execution_count": null,
   "id": "80fa2e5ac89f2790",
   "metadata": {
    "ExecuteTime": {
     "end_time": "2024-07-31T14:23:54.201027Z",
     "start_time": "2024-07-31T14:23:54.196586Z"
    }
   },
   "outputs": [],
   "source": [
    "# ptio2_timings_df['first_pbtO2_recording_time'] if len < 6 then add :00\n",
    "ptio2_timings_df['first_pbtO2_recording_time'] = ptio2_timings_df['first_pbtO2_recording_time'].apply(lambda x: x if len(x) > 5 else x + ':00')\n",
    "ptio2_timings_df['last_pbtO2_recording_time'] = ptio2_timings_df['last_pbtO2_recording_time'].apply(lambda x: x if len(x) > 5 else x + ':00')"
   ]
  },
  {
   "cell_type": "code",
   "execution_count": null,
   "id": "1d26c3bcdc271e30",
   "metadata": {
    "ExecuteTime": {
     "end_time": "2024-07-31T14:23:54.566866Z",
     "start_time": "2024-07-31T14:23:54.554965Z"
    }
   },
   "outputs": [],
   "source": [
    "# extract date from Recording Start Time, then add first_pbtO2_recording_day days and use time from first_pbtO2_recording_time\n",
    "ptio2_timings_df['ptio2_start_datetime'] = pd.to_datetime(ptio2_timings_df['Recording Start Time'].str[:17], format=format_str).dt.date + pd.to_timedelta(ptio2_timings_df['first_pbtO2_recording_day'], unit='d') \n",
    "ptio2_timings_df['ptio2_start_datetime'] = ptio2_timings_df['ptio2_start_datetime'].astype(str) + ' ' + ptio2_timings_df['first_pbtO2_recording_time']\n",
    "\n",
    "ptio2_timings_df['ptio2_end_datetime'] = pd.to_datetime(ptio2_timings_df['Recording Start Time'].str[:17], format=format_str).dt.date + pd.to_timedelta(ptio2_timings_df['last_pbtO2_recording_day'], unit='d')\n",
    "ptio2_timings_df['ptio2_end_datetime'] = ptio2_timings_df['ptio2_end_datetime'].astype(str) + ' ' + ptio2_timings_df['last_pbtO2_recording_time']"
   ]
  },
  {
   "cell_type": "code",
   "execution_count": null,
   "id": "68772edbd364f6b1",
   "metadata": {
    "ExecuteTime": {
     "end_time": "2024-07-31T14:26:20.497187Z",
     "start_time": "2024-07-31T14:26:20.493575Z"
    }
   },
   "outputs": [],
   "source": [
    "def is_administration_monitored(pat_nr, drug_start, drug_end):\n",
    "    subj_df = ptio2_timings_df[ptio2_timings_df['pat_nr'] == pat_nr]\n",
    "    subj_monitoring_start = pd.to_datetime(subj_df['ptio2_start_datetime'].values[0], format='%Y-%m-%d %H:%M:%S')\n",
    "    subj_monitoring_end = pd.to_datetime(subj_df['ptio2_end_datetime'].values[0], format='%Y-%m-%d %H:%M:%S')\n",
    "    # if drug start after monitoring start and drug end before monitoring end return True\n",
    "    return subj_monitoring_start <= drug_end and subj_monitoring_end >= drug_start"
   ]
  },
  {
   "cell_type": "code",
   "execution_count": null,
   "id": "7c642c0bd7b0a02c",
   "metadata": {
    "ExecuteTime": {
     "end_time": "2024-07-31T14:26:20.775948Z",
     "start_time": "2024-07-31T14:26:20.711183Z"
    }
   },
   "outputs": [],
   "source": [
    "drug_administration_df['monitored'] = drug_administration_df.apply(lambda x: is_administration_monitored(x['pat_nr'], x['drug_start'], x['drug_end']), axis=1)"
   ]
  },
  {
   "cell_type": "code",
   "execution_count": null,
   "id": "99293755ad676d35",
   "metadata": {
    "ExecuteTime": {
     "end_time": "2024-07-31T14:26:20.961188Z",
     "start_time": "2024-07-31T14:26:20.957746Z"
    }
   },
   "outputs": [],
   "source": [
    "monitored_drug_administration_df = drug_administration_df[drug_administration_df.monitored]"
   ]
  },
  {
   "cell_type": "code",
   "execution_count": null,
   "id": "431d78a331e1b645",
   "metadata": {
    "ExecuteTime": {
     "end_time": "2024-07-31T14:26:21.286539Z",
     "start_time": "2024-07-31T14:26:21.282521Z"
    }
   },
   "outputs": [],
   "source": [
    "n_patients = monitored_drug_administration_df.pat_nr.nunique()\n",
    "n_drug_administrations = monitored_drug_administration_df.shape[0]\n",
    "\n",
    "print(f'Number of patients {n_patients}')\n",
    "print(f'Number of administrations {n_drug_administrations}')"
   ]
  },
  {
   "cell_type": "code",
   "execution_count": null,
   "id": "fc4718a409e16475",
   "metadata": {
    "ExecuteTime": {
     "end_time": "2024-07-31T14:29:08.494706Z",
     "start_time": "2024-07-31T14:29:08.381763Z"
    }
   },
   "outputs": [],
   "source": [
    "# drug_administration_df.to_excel('/Users/jk1/Downloads/drug_administrations_bis.xlsx', index=False)"
   ]
  },
  {
   "cell_type": "code",
   "execution_count": null,
   "id": "a366afb793dea593",
   "metadata": {},
   "outputs": [],
   "source": []
  }
 ],
 "metadata": {
  "kernelspec": {
   "display_name": "Python 3",
   "language": "python",
   "name": "python3"
  },
  "language_info": {
   "codemirror_mode": {
    "name": "ipython",
    "version": 2
   },
   "file_extension": ".py",
   "mimetype": "text/x-python",
   "name": "python",
   "nbconvert_exporter": "python",
   "pygments_lexer": "ipython2",
   "version": "2.7.6"
  }
 },
 "nbformat": 4,
 "nbformat_minor": 5
}
