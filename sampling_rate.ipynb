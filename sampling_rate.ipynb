{
 "cells": [
  {
   "cell_type": "code",
   "execution_count": null,
   "id": "e808841ed5a18f14",
   "metadata": {
    "ExecuteTime": {
     "end_time": "2024-12-31T10:53:04.034133Z",
     "start_time": "2024-12-31T10:53:04.027513Z"
    }
   },
   "outputs": [],
   "source": [
    "import pandas as pd\n",
    "import seaborn as sns\n",
    "import matplotlib.pyplot as plt"
   ]
  },
  {
   "cell_type": "code",
   "execution_count": null,
   "id": "1921038ea07904bf",
   "metadata": {
    "ExecuteTime": {
     "end_time": "2024-12-31T10:53:04.099006Z",
     "start_time": "2024-12-31T10:53:04.093320Z"
    }
   },
   "outputs": [],
   "source": [
    "ptio2_path = '/Users/jk1/stroke_datasets/ptiO2-Studie/moberg_extracted_data/ptio2_df.csv'\n",
    "filtered_ptio2_path = '/Users/jk1/stroke_datasets/ptiO2-Studie/moberg_extracted_data/ptio2_df_filtered.csv'\n",
    "temperature_path = '/Users/jk1/stroke_datasets/ptiO2-Studie/moberg_extracted_data/temperature_df.csv'\n",
    "lpr_path = '/Users/jk1/stroke_datasets/ptiO2-Studie/moberg_extracted_data/lpr_df.csv'\n",
    "cpp_path = '/Users/jk1/stroke_datasets/ptiO2-Studie/moberg_extracted_data/cpp_df.csv'\n",
    "hr_path = '/Users/jk1/stroke_datasets/ptiO2-Studie/moberg_extracted_data/hr_df.csv'\n",
    "etco2_path = '/Users/jk1/stroke_datasets/ptiO2-Studie/moberg_extracted_data/etco2_df.csv'\n",
    "ci_path = '/Users/jk1/stroke_datasets/ptiO2-Studie/moberg_extracted_data/ci_df.csv'\n",
    "prx_path = '/Users/jk1/stroke_datasets/ptiO2-Studie/moberg_extracted_data/prx_df.csv'\n",
    "drug_administration_path = '/Users/jk1/stroke_datasets/ptiO2-Studie/drug_administrations.xlsx'\n",
    "registry_path = '/Users/jk1/stroke_datasets/ptiO2-Studie/moberg_registry_kssg_post_hoc_modified.xlsx'\n",
    "paco2_path = '/Users/jk1/stroke_datasets/ptiO2-Studie/pdms_data/joined_aBGA.csv'\n",
    "mainstream_etco2_path = '/Users/jk1/Library/CloudStorage/OneDrive-unige.ch/icu_research/neurocrit_fever/data/PDMS_data/joined_etCO2.csv'"
   ]
  },
  {
   "cell_type": "code",
   "execution_count": null,
   "id": "84160e01e1a97dfd",
   "metadata": {
    "ExecuteTime": {
     "end_time": "2024-12-31T10:53:04.205642Z",
     "start_time": "2024-12-31T10:53:04.201916Z"
    }
   },
   "outputs": [],
   "source": [
    "exclude_short_infusions = True\n",
    "use_filtered_ptio2 = True"
   ]
  },
  {
   "cell_type": "code",
   "execution_count": null,
   "id": "initial_id",
   "metadata": {
    "ExecuteTime": {
     "end_time": "2024-12-31T10:53:54.385955Z",
     "start_time": "2024-12-31T10:53:04.232118Z"
    }
   },
   "outputs": [],
   "source": [
    "cpp_df = pd.read_csv(cpp_path)\n",
    "if use_filtered_ptio2:\n",
    "    ptio2_df = pd.read_csv(filtered_ptio2_path)\n",
    "else:\n",
    "    ptio2_df = pd.read_csv(ptio2_path)\n",
    "temperature_df = pd.read_csv(temperature_path)\n",
    "lpr_df = pd.read_csv(lpr_path)\n",
    "hr_df = pd.read_csv(hr_path)\n",
    "# No associated CI measurements - so code needs no to be executed\n",
    "# ci_df = pd.read_csv(ci_path)\n",
    "etco2_df = pd.read_csv(etco2_path)\n",
    "prx_df = pd.read_csv(prx_path)\n",
    "drug_administration_df = pd.read_excel(drug_administration_path)"
   ]
  },
  {
   "cell_type": "code",
   "execution_count": null,
   "id": "95fb2f3a61421ec1",
   "metadata": {
    "ExecuteTime": {
     "end_time": "2024-12-31T10:53:54.585207Z",
     "start_time": "2024-12-31T10:53:54.450372Z"
    }
   },
   "outputs": [],
   "source": [
    "registry_df = pd.read_excel(registry_path)\n",
    "paco2_df = pd.read_csv(paco2_path, sep=';')\n",
    "mainstream_etco2_df = pd.read_csv(mainstream_etco2_path, sep=';')"
   ]
  },
  {
   "cell_type": "code",
   "execution_count": null,
   "id": "c8c9aad34bd9f0a1",
   "metadata": {
    "ExecuteTime": {
     "end_time": "2024-12-31T10:53:54.658342Z",
     "start_time": "2024-12-31T10:53:54.633960Z"
    }
   },
   "outputs": [],
   "source": [
    "paco2_df = pd.merge(paco2_df, registry_df[['manual_mrn', 'Pat. Nr.']], left_on='FallNr', right_on='manual_mrn',\n",
    "                    how='left')\n",
    "paco2_df.drop(columns=['manual_mrn'], inplace=True)\n",
    "paco2_df.rename(columns={'Zeitpunkt_aBGA': 'datetime', 'Pat. Nr.': 'pat_nr'}, inplace=True)\n",
    "paco2_df['pCO2_mmHg'] = paco2_df['pCO2'] * 7.50062\n",
    "\n",
    "mainstream_etco2_df = pd.merge(mainstream_etco2_df, registry_df[['manual_mrn', 'Pat. Nr.']], left_on='FallNr',\n",
    "                               right_on='manual_mrn', how='left')\n",
    "mainstream_etco2_df.drop(columns=['manual_mrn'], inplace=True)\n",
    "mainstream_etco2_df.rename(columns={'Pat. Nr.': 'pat_nr'}, inplace=True)\n",
    "mainstream_etco2_df.rename(columns={'Zeitpunkt_etCO2': 'datetime'}, inplace=True)"
   ]
  },
  {
   "cell_type": "code",
   "execution_count": null,
   "id": "9d05babcdae29a6b",
   "metadata": {
    "ExecuteTime": {
     "end_time": "2024-12-31T10:53:54.711336Z",
     "start_time": "2024-12-31T10:53:54.698704Z"
    }
   },
   "outputs": [],
   "source": [
    "drug_administration_df = drug_administration_df[drug_administration_df.monitored]\n",
    "# exclude if further_exclusion_criterium is not Nan\n",
    "drug_administration_df = drug_administration_df[pd.isna(drug_administration_df['further_exclusion_criterium'])]\n",
    "if exclude_short_infusions:\n",
    "    drug_administration_df['infusion_duration'] = (pd.to_datetime(drug_administration_df['drug_end']) - pd.to_datetime(\n",
    "        drug_administration_df['drug_start'])).dt.total_seconds() / 3600\n",
    "    print(\n",
    "        f'Excluding {drug_administration_df[drug_administration_df[\"infusion_duration\"] <= 1].shape[0]} infusions with duration <= 1h')\n",
    "    drug_administration_df = drug_administration_df[drug_administration_df['infusion_duration'] > 1]\n"
   ]
  },
  {
   "cell_type": "code",
   "execution_count": null,
   "id": "2580ef8697f72a4a",
   "metadata": {
    "ExecuteTime": {
     "end_time": "2024-12-31T10:54:04.017250Z",
     "start_time": "2024-12-31T10:53:54.752692Z"
    }
   },
   "outputs": [],
   "source": [
    "for var_df in [ptio2_df, cpp_df, temperature_df, lpr_df, hr_df, etco2_df, paco2_df, mainstream_etco2_df, prx_df]:\n",
    "    var_df['datetime'] = pd.to_datetime(var_df['datetime'])"
   ]
  },
  {
   "cell_type": "code",
   "execution_count": null,
   "id": "1995d974440031e9",
   "metadata": {
    "ExecuteTime": {
     "end_time": "2024-12-31T10:55:45.363110Z",
     "start_time": "2024-12-31T10:54:04.062360Z"
    }
   },
   "outputs": [],
   "source": [
    "# for every drug administration extract data from -xh to +xh around start\n",
    "time_window = 12\n",
    "\n",
    "associated_ptio2_df = pd.DataFrame()\n",
    "associated_cpp_df = pd.DataFrame()\n",
    "associated_temperature_df = pd.DataFrame()\n",
    "associated_hr_df = pd.DataFrame()\n",
    "associated_lpr_df = pd.DataFrame()\n",
    "associated_ci_df = pd.DataFrame()\n",
    "associated_prx_df = pd.DataFrame()\n",
    "associated_etco2_df = pd.DataFrame()\n",
    "associated_paco2_df = pd.DataFrame()\n",
    "associated_mainstream_etco2_df = pd.DataFrame()\n",
    "\n",
    "for index, row in drug_administration_df.iterrows():\n",
    "    lower_bound = row['drug_start'] - pd.to_timedelta(time_window, unit='h')\n",
    "    upper_bound = row['drug_start'] + pd.to_timedelta(time_window, unit='h')\n",
    "    instance_associated_ptio2_df = ptio2_df[(ptio2_df['pat_nr'] == row['pat_nr'])\n",
    "                                            & (ptio2_df['datetime'] >= lower_bound) \n",
    "                                            & (ptio2_df['datetime'] <= upper_bound)]\n",
    "    instance_associated_ptio2_df['drug_start'] = row['drug_start']\n",
    "    instance_associated_ptio2_df['relative_datetime'] = (instance_associated_ptio2_df['datetime'] - row['drug_start']).dt.total_seconds() / 3600\n",
    "    associated_ptio2_df = pd.concat([associated_ptio2_df, instance_associated_ptio2_df])\n",
    "\n",
    "    instance_associated_cpp_df = cpp_df[(cpp_df['pat_nr'] == row['pat_nr'])\n",
    "                                        & (cpp_df['datetime'] >= lower_bound) \n",
    "                                        & (cpp_df['datetime'] <= upper_bound)]  \n",
    "    instance_associated_cpp_df['drug_start'] = row['drug_start']\n",
    "    instance_associated_cpp_df['relative_datetime'] = (instance_associated_cpp_df['datetime'] - row['drug_start']).dt.total_seconds() / 3600\n",
    "    associated_cpp_df = pd.concat([associated_cpp_df, instance_associated_cpp_df])\n",
    "\n",
    "    instance_associated_temperature_df = temperature_df[(temperature_df['pat_nr'] == row['pat_nr'])\n",
    "                                        & (temperature_df['datetime'] >= lower_bound)\n",
    "                                        & (temperature_df['datetime'] <= upper_bound)]\n",
    "    instance_associated_temperature_df['drug_start'] = row['drug_start']\n",
    "    instance_associated_temperature_df['relative_datetime'] = (instance_associated_temperature_df['datetime'] - row['drug_start']).dt.total_seconds() / 3600\n",
    "    associated_temperature_df = pd.concat([associated_temperature_df, instance_associated_temperature_df])\n",
    "\n",
    "    instance_associated_hr_df = hr_df[(hr_df['pat_nr'] == row['pat_nr'])\n",
    "                                        & (hr_df['datetime'] >= lower_bound)   \n",
    "                                        & (hr_df['datetime'] <= upper_bound)]\n",
    "    instance_associated_hr_df['drug_start'] = row['drug_start']\n",
    "    instance_associated_hr_df['relative_datetime'] = (instance_associated_hr_df['datetime'] - row['drug_start']).dt.total_seconds() / 3600\n",
    "    associated_hr_df = pd.concat([associated_hr_df, instance_associated_hr_df])\n",
    "\n",
    "    instance_associated_lpr_df = lpr_df[(lpr_df['pat_nr'] == row['pat_nr'])\n",
    "                                        & (lpr_df['datetime'] >= lower_bound)\n",
    "                                        & (lpr_df['datetime'] <= upper_bound)]\n",
    "    instance_associated_lpr_df['drug_start'] = row['drug_start']\n",
    "    instance_associated_lpr_df['relative_datetime'] = (instance_associated_lpr_df['datetime'] - row['drug_start']).dt.total_seconds() / 3600\n",
    "    associated_lpr_df = pd.concat([associated_lpr_df, instance_associated_lpr_df])\n",
    "    \n",
    "    instance_associated_etco2_df = etco2_df[(etco2_df['pat_nr'] == row['pat_nr'])\n",
    "                                        & (etco2_df['datetime'] >= lower_bound)\n",
    "                                        & (etco2_df['datetime'] <= upper_bound)]\n",
    "    instance_associated_etco2_df['drug_start'] = row['drug_start']\n",
    "    instance_associated_etco2_df['relative_datetime'] = (instance_associated_etco2_df['datetime'] - row['drug_start']).dt.total_seconds() / 3600\n",
    "    associated_etco2_df = pd.concat([associated_etco2_df, instance_associated_etco2_df])\n",
    "    \n",
    "    instance_associated_paco2_df = paco2_df[(paco2_df['pat_nr'] == row['pat_nr'])\n",
    "                                        & (paco2_df['datetime'] >= lower_bound)\n",
    "                                        & (paco2_df['datetime'] <= upper_bound)]\n",
    "    instance_associated_paco2_df['drug_start'] = row['drug_start']\n",
    "    instance_associated_paco2_df['relative_datetime'] = (instance_associated_paco2_df['datetime'] - row['drug_start']).dt.total_seconds() / 3600\n",
    "    associated_paco2_df = pd.concat([associated_paco2_df, instance_associated_paco2_df])\n",
    "    \n",
    "    instance_associated_mainstream_etco2_df = mainstream_etco2_df[(mainstream_etco2_df['pat_nr'] == row['pat_nr'])\n",
    "                                        & (mainstream_etco2_df['datetime'] >= lower_bound)\n",
    "                                        & (mainstream_etco2_df['datetime'] <= upper_bound)]\n",
    "    instance_associated_mainstream_etco2_df['drug_start'] = row['drug_start']\n",
    "    instance_associated_mainstream_etco2_df['relative_datetime'] = (instance_associated_mainstream_etco2_df['datetime'] - row['drug_start']).dt.total_seconds() / 3600\n",
    "    associated_mainstream_etco2_df = pd.concat([associated_mainstream_etco2_df, instance_associated_mainstream_etco2_df])\n",
    "    \n",
    "    instance_associated_prx_df = prx_df[(prx_df['pat_nr'] == row['pat_nr'])\n",
    "                                        & (prx_df['datetime'] >= lower_bound)\n",
    "                                        & (prx_df['datetime'] <= upper_bound)]\n",
    "    instance_associated_prx_df['drug_start'] = row['drug_start']\n",
    "    instance_associated_prx_df['relative_datetime'] = (instance_associated_prx_df['datetime'] - row['drug_start']).dt.total_seconds() / 3600\n",
    "    associated_prx_df = pd.concat([associated_prx_df, instance_associated_prx_df])\n",
    "    \n",
    "    # No associated CI measurements - so code needs no to be executed\n",
    "    # instance_associated_ci_df = ci_df[(ci_df['pat_nr'] == row['pat_nr'])\n",
    "    #                                     & (ci_df['datetime'] >= lower_bound)\n",
    "    #                                     & (ci_df['datetime'] <= upper_bound)]\n",
    "    # instance_associated_ci_df['drug_start'] = row['drug_start']\n",
    "    # instance_associated_ci_df['relative_datetime'] = (instance_associated_ci_df['datetime'] - row['drug_start']).dt.total_seconds() / 3600\n",
    "    # associated_ci_df = pd.concat([associated_ci_df, instance_associated_ci_df])"
   ]
  },
  {
   "cell_type": "code",
   "execution_count": null,
   "id": "923698a251e01f4f",
   "metadata": {
    "ExecuteTime": {
     "end_time": "2024-12-31T10:55:45.912003Z",
     "start_time": "2024-12-31T10:55:45.460820Z"
    }
   },
   "outputs": [],
   "source": [
    "# ptio2_df.groupby('pat_nr').datetime.diff().dt.total_seconds()\n",
    "\n",
    "sampling_rate_table = pd.DataFrame(columns=['variable', 'sampling_rate'])\n",
    "for variable, var_df in zip(['ptio2', 'cpp', 'temperature', 'lpr', 'hr', 'etco2', 'paco2', 'mainstream_etco2', 'prx'],\n",
    "                            [associated_ptio2_df, associated_cpp_df, associated_temperature_df, associated_lpr_df, associated_hr_df, associated_etco2_df, associated_paco2_df, associated_mainstream_etco2_df, associated_prx_df]):\n",
    "    \n",
    "    temp_diff = var_df.groupby('pat_nr').datetime.diff().dt.total_seconds()\n",
    "    temp_df = pd.DataFrame({'variable': variable,  'sampling_rate_s': f'{temp_diff.median()} (IQR: {temp_diff.quantile(0.25)}-{temp_diff.quantile(0.75)})', 'sampling_rate_h': f'{temp_diff.median()/3600} (IQR: {temp_diff.quantile(0.25)/3600}-{temp_diff.quantile(0.75)/3600})'}, index=[0])\n",
    "    sampling_rate_table = pd.concat([sampling_rate_table, temp_df], ignore_index=True)\n"
   ]
  },
  {
   "cell_type": "code",
   "execution_count": null,
   "id": "f4c9dfd8697dbf3b",
   "metadata": {
    "ExecuteTime": {
     "end_time": "2024-12-31T10:55:46.026003Z",
     "start_time": "2024-12-31T10:55:46.006372Z"
    }
   },
   "outputs": [],
   "source": [
    "sampling_rate_table"
   ]
  },
  {
   "cell_type": "code",
   "execution_count": null,
   "id": "c9c8b3607ed2c2fd",
   "metadata": {
    "ExecuteTime": {
     "end_time": "2024-12-31T10:55:46.165442Z",
     "start_time": "2024-12-31T10:55:46.162405Z"
    }
   },
   "outputs": [],
   "source": [
    "# sampling_rate_table.to_excel('/Users/jk1/Downloads/sampling_rate_table.xlsx', index=False)"
   ]
  },
  {
   "cell_type": "code",
   "execution_count": null,
   "id": "87b4cf2bc9967a04",
   "metadata": {
    "ExecuteTime": {
     "end_time": "2024-12-31T10:55:46.218553Z",
     "start_time": "2024-12-31T10:55:46.216007Z"
    }
   },
   "outputs": [],
   "source": []
  }
 ],
 "metadata": {
  "kernelspec": {
   "display_name": "Python 3",
   "language": "python",
   "name": "python3"
  },
  "language_info": {
   "codemirror_mode": {
    "name": "ipython",
    "version": 2
   },
   "file_extension": ".py",
   "mimetype": "text/x-python",
   "name": "python",
   "nbconvert_exporter": "python",
   "pygments_lexer": "ipython2",
   "version": "2.7.6"
  }
 },
 "nbformat": 4,
 "nbformat_minor": 5
}
