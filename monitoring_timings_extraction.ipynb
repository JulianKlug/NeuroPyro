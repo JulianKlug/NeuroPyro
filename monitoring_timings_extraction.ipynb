{
 "cells": [
  {
   "cell_type": "code",
   "execution_count": null,
   "id": "initial_id",
   "metadata": {
    "ExecuteTime": {
     "end_time": "2024-07-31T12:01:17.193153Z",
     "start_time": "2024-07-31T12:01:14.820742Z"
    }
   },
   "outputs": [],
   "source": [
    "import pandas as pd\n",
    "import os"
   ]
  },
  {
   "cell_type": "code",
   "execution_count": null,
   "id": "f2e14229e1eac29",
   "metadata": {
    "ExecuteTime": {
     "end_time": "2024-07-31T12:01:17.197502Z",
     "start_time": "2024-07-31T12:01:17.194936Z"
    }
   },
   "outputs": [],
   "source": [
    "main_data_path = '/Users/jk1/stroke_datasets/ptiO2-Studie'\n",
    "registry_path = '/Users/jk1/stroke_datasets/ptiO2-Studie/moberg_registry_kssg.xlsx'"
   ]
  },
  {
   "cell_type": "code",
   "execution_count": null,
   "id": "9c1f1337b4e34fd",
   "metadata": {
    "ExecuteTime": {
     "end_time": "2024-07-31T12:01:17.201605Z",
     "start_time": "2024-07-31T12:01:17.198859Z"
    }
   },
   "outputs": [],
   "source": [
    "manually_verified_supplementary_data_files = {\n",
    "    '23_03': ['P3', 'P4'],\n",
    "    '23_04': ['P3'],\n",
    "    '23_05': ['P3'],\n",
    "    '23_06': ['P3', 'P4'],\n",
    "    '23_09': ['P3'],\n",
    "}"
   ]
  },
  {
   "cell_type": "code",
   "execution_count": null,
   "id": "47b2048576c4ce2d",
   "metadata": {
    "ExecuteTime": {
     "end_time": "2024-07-31T12:07:21.423125Z",
     "start_time": "2024-07-31T12:07:20.325367Z"
    }
   },
   "outputs": [],
   "source": [
    "# loop through directories and subdirectories \n",
    "n_patients_with_pbto2_data = 0\n",
    "\n",
    "columns = ['pat_nr', 'mrn', 'first_name', 'last_name', 'dob', 'year', 'gender', 'recording_start_time', 'recording_end_time', 'first_pbtO2_recording_day', 'last_pbtO2_recording_day', 'first_pbtO2_recording_time', 'last_pbtO2_recording_time', 'n_pbtO2_recordings']\n",
    "screened_population_df = pd.DataFrame(columns=columns)\n",
    "\n",
    "for year_dir in os.listdir(main_data_path):\n",
    "    year_path = os.path.join(main_data_path, year_dir)\n",
    "    if not os.path.isdir(year_path):\n",
    "        continue\n",
    "    for subj_dir in os.listdir(year_path):\n",
    "        subj_path = os.path.join(year_path, subj_dir)\n",
    "        if not os.path.isdir(subj_path):\n",
    "            continue\n",
    "        subj_df = pd.DataFrame(columns=columns)\n",
    "        subj_df['pat_nr'] = [subj_dir]\n",
    "        subj_df['year'] = year_dir\n",
    "\n",
    "        pbto2_files = []\n",
    "        annotation_files = []\n",
    "        for file in os.listdir(subj_path):\n",
    "            file_path = os.path.join(subj_path, file)\n",
    "            # check if a file starting with PbtO2 and not ending with quality.txt and not containing 'AvgTime' exists\n",
    "            if file.startswith('PbtO2') and not file.endswith('quality.txt') and 'AvgTime' not in file:\n",
    "                pbto2_files.append(file)\n",
    "            if subj_dir in manually_verified_supplementary_data_files.keys():\n",
    "                # if file startswith any of manually_verified_supplementary_data_files[subj_dir]\n",
    "                if any([file.startswith(f) for f in manually_verified_supplementary_data_files[subj_dir]]) and not file.endswith('quality.txt') and 'AvgTime' not in file:\n",
    "                    pbto2_files.append(file)\n",
    "            if file.endswith('Annotations.csv'):\n",
    "                annotation_files.append(file)\n",
    "        \n",
    "        if len(annotation_files) > 0:\n",
    "            annotation_file_path = os.path.join(subj_path, annotation_files[0])\n",
    "            annotation_df = pd.read_csv(annotation_file_path, header=None, on_bad_lines='skip').set_index(0).T\n",
    "            subj_df['first_name'] = annotation_df['Patient First Name'].values[0]\n",
    "            subj_df['last_name'] = annotation_df['Patient Last Name'].values[0]\n",
    "            subj_df['mrn'] = annotation_df['Medical Record Number'].values[0]\n",
    "            subj_df['dob'] = annotation_df['Date of Birth'].values[0]\n",
    "            subj_df['gender'] = annotation_df['Gender'].values[0]\n",
    "            subj_df['recording_start_time'] = annotation_df['Recording Start Time'].values[0]\n",
    "            subj_df['recording_end_time'] = annotation_df['Recording End Time'].values[0]\n",
    "        else:\n",
    "            print(f'No annotation file found for patient {subj_dir}')\n",
    "            \n",
    "        if len(pbto2_files) > 1:\n",
    "            # remove files with 'inc' in the name\n",
    "            pbto2_files = [f for f in pbto2_files if 'inc' not in f]\n",
    "                \n",
    "        if len(pbto2_files) > 0:\n",
    "            n_patients_with_pbto2_data += 1\n",
    "            pbto2_df = pd.DataFrame()\n",
    "            for pbto2_file in pbto2_files:\n",
    "                pbto2_path = os.path.join(subj_path, pbto2_file)\n",
    "                single_pbto2_df = pd.read_csv(pbto2_path, sep='\\t')\n",
    "                # set last column as to ptio2\n",
    "                single_pbto2_df.columns = [*single_pbto2_df.columns[:-1], 'ptio2']\n",
    "                pbto2_df = pd.concat([pbto2_df, single_pbto2_df])\n",
    "                \n",
    "            min_day = pbto2_df['Day#'].min()\n",
    "            max_day = pbto2_df['Day#'].max()\n",
    "            min_time = pbto2_df[pbto2_df['Day#'] == min_day]['ClockTime'].min()\n",
    "            max_time = pbto2_df[pbto2_df['Day#'] == max_day]['ClockTime'].max()\n",
    "            subj_df['first_pbtO2_recording_day'] = min_day\n",
    "            subj_df['last_pbtO2_recording_day'] = max_day\n",
    "            subj_df['first_pbtO2_recording_time'] = min_time\n",
    "            subj_df['last_pbtO2_recording_time'] = max_time\n",
    "            subj_df['n_pbtO2_recordings'] = pbto2_df.shape[0]\n",
    "            \n",
    "        else:\n",
    "            print(f'No pbto2 file found for patient {subj_dir}')\n",
    "            \n",
    "        screened_population_df = pd.concat([screened_population_df, subj_df])\n",
    "\n",
    "print(f'Number of patients with pbto2 data: {n_patients_with_pbto2_data}')"
   ]
  },
  {
   "cell_type": "code",
   "execution_count": null,
   "id": "f5e5ee5d448583c4",
   "metadata": {
    "ExecuteTime": {
     "end_time": "2024-07-31T12:07:56.601890Z",
     "start_time": "2024-07-31T12:07:56.588838Z"
    }
   },
   "outputs": [],
   "source": [
    "screened_population_df"
   ]
  },
  {
   "cell_type": "code",
   "execution_count": null,
   "id": "85691a29725cfcc",
   "metadata": {
    "ExecuteTime": {
     "end_time": "2024-07-31T12:08:02.230996Z",
     "start_time": "2024-07-31T12:08:02.017726Z"
    }
   },
   "outputs": [],
   "source": [
    "registry_df = pd.read_excel(registry_path)"
   ]
  },
  {
   "cell_type": "code",
   "execution_count": null,
   "id": "65de5707f4d46e65",
   "metadata": {
    "ExecuteTime": {
     "end_time": "2024-07-31T12:08:02.751739Z",
     "start_time": "2024-07-31T12:08:02.747576Z"
    }
   },
   "outputs": [],
   "source": [
    "registry_df = registry_df.drop(columns=['Nr.', 'Jahr'])"
   ]
  },
  {
   "cell_type": "code",
   "execution_count": null,
   "id": "72703afaf3bc28fb",
   "metadata": {
    "ExecuteTime": {
     "end_time": "2024-07-31T12:08:03.354973Z",
     "start_time": "2024-07-31T12:08:03.339977Z"
    }
   },
   "outputs": [],
   "source": [
    "registry_df"
   ]
  },
  {
   "cell_type": "code",
   "execution_count": null,
   "id": "f79c1587141a86d5",
   "metadata": {
    "ExecuteTime": {
     "end_time": "2024-07-31T12:08:05.331445Z",
     "start_time": "2024-07-31T12:08:05.321800Z"
    }
   },
   "outputs": [],
   "source": [
    "joined_population_df = screened_population_df.merge(registry_df, left_on='pat_nr', right_on='Pat. Nr.', how='left')"
   ]
  },
  {
   "cell_type": "code",
   "execution_count": null,
   "id": "334edbf2fa2a8d83",
   "metadata": {
    "ExecuteTime": {
     "end_time": "2024-07-31T12:08:05.738585Z",
     "start_time": "2024-07-31T12:08:05.720800Z"
    }
   },
   "outputs": [],
   "source": [
    "joined_population_df"
   ]
  },
  {
   "cell_type": "code",
   "execution_count": null,
   "id": "b866f914174b45bd",
   "metadata": {
    "ExecuteTime": {
     "end_time": "2024-07-31T12:08:07.027707Z",
     "start_time": "2024-07-31T12:08:07.017966Z"
    }
   },
   "outputs": [],
   "source": [
    "# replace nans\n",
    "joined_population_df['mrn'] = joined_population_df['mrn'].fillna(joined_population_df['Medical Record Number'].astype(str).str[:-2])\n",
    "joined_population_df['Patient First Name'] = joined_population_df['Patient First Name'].fillna(joined_population_df['first_name'])\n",
    "joined_population_df['Patient Last Name'] = joined_population_df['Patient Last Name'].fillna(joined_population_df['last_name'])\n",
    "joined_population_df['Date of Birth'] = joined_population_df['Date of Birth'].fillna(joined_population_df['dob'])\n",
    "joined_population_df['Gender'] = joined_population_df['Gender'].fillna(joined_population_df.gender)"
   ]
  },
  {
   "cell_type": "code",
   "execution_count": null,
   "id": "5fdf6a65d50443c",
   "metadata": {
    "ExecuteTime": {
     "end_time": "2024-07-31T12:08:08.341182Z",
     "start_time": "2024-07-31T12:08:08.337515Z"
    }
   },
   "outputs": [],
   "source": [
    "to_drop = ['Pat. Nr.', 'Medical Record Number', 'first_name', 'last_name', 'dob', 'gender']\n",
    "joined_population_df = joined_population_df.drop(columns=to_drop)"
   ]
  },
  {
   "cell_type": "code",
   "execution_count": null,
   "id": "eda4fcb1c2a46940",
   "metadata": {
    "ExecuteTime": {
     "end_time": "2024-07-31T12:08:10.313197Z",
     "start_time": "2024-07-31T12:08:10.309127Z"
    }
   },
   "outputs": [],
   "source": [
    "joined_population_df.columns"
   ]
  },
  {
   "cell_type": "markdown",
   "id": "863103e3d12e4f88",
   "metadata": {},
   "source": [
    "Prepare for extraction"
   ]
  },
  {
   "cell_type": "code",
   "execution_count": null,
   "id": "4ff2d97e249b6093",
   "metadata": {
    "ExecuteTime": {
     "end_time": "2024-07-31T12:08:14.171271Z",
     "start_time": "2024-07-31T12:08:14.158454Z"
    }
   },
   "outputs": [],
   "source": [
    "for_extraction_df = joined_population_df[['pat_nr', 'mrn', 'Patient First Name', 'Patient Last Name', 'Date of Birth', 'recording_start_time', 'recording_end_time',\n",
    "       'first_pbtO2_recording_day', 'last_pbtO2_recording_day',\n",
    "       'first_pbtO2_recording_time', 'last_pbtO2_recording_time', 'Recording Start Time', 'Recording End Time']]\n",
    "for_extraction_df"
   ]
  },
  {
   "cell_type": "code",
   "execution_count": null,
   "id": "738acfb1ec5f83d1",
   "metadata": {
    "ExecuteTime": {
     "end_time": "2024-07-31T12:08:17.593743Z",
     "start_time": "2024-07-31T12:08:17.586286Z"
    }
   },
   "outputs": [],
   "source": [
    "# for_extraction_df.to_csv('/Users/jk1/Downloads/pbto2_for_extraction.csv', index=False)"
   ]
  },
  {
   "cell_type": "code",
   "execution_count": null,
   "id": "73732be682f1de8c",
   "metadata": {},
   "outputs": [],
   "source": []
  }
 ],
 "metadata": {
  "kernelspec": {
   "display_name": "Python 3",
   "language": "python",
   "name": "python3"
  },
  "language_info": {
   "codemirror_mode": {
    "name": "ipython",
    "version": 2
   },
   "file_extension": ".py",
   "mimetype": "text/x-python",
   "name": "python",
   "nbconvert_exporter": "python",
   "pygments_lexer": "ipython2",
   "version": "2.7.6"
  }
 },
 "nbformat": 4,
 "nbformat_minor": 5
}
