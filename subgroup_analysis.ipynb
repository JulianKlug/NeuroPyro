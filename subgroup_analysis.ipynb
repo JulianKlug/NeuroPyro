{
 "cells": [
  {
   "cell_type": "code",
   "execution_count": null,
   "id": "9478d4d843ba71e1",
   "metadata": {
    "ExecuteTime": {
     "end_time": "2025-04-14T08:18:33.603413Z",
     "start_time": "2025-04-14T08:18:33.600764Z"
    }
   },
   "outputs": [],
   "source": [
    "import pandas as pd\n",
    "import statsmodels.api as sm\n",
    "import statsmodels.formula.api as smf\n",
    "import seaborn as sns\n",
    "import matplotlib.pyplot as plt\n",
    "\n",
    "from multivariable_analysis import concatenated_df"
   ]
  },
  {
   "cell_type": "code",
   "execution_count": null,
   "id": "592664b10da4a9c1",
   "metadata": {
    "ExecuteTime": {
     "end_time": "2025-04-14T08:18:33.911663Z",
     "start_time": "2025-04-14T08:18:33.906836Z"
    }
   },
   "outputs": [],
   "source": [
    "cpp_path = '/Users/jk1/stroke_datasets/ptiO2-Studie/moberg_extracted_data/cpp_df.csv'\n",
    "ptio2_path = '/Users/jk1/stroke_datasets/ptiO2-Studie/moberg_extracted_data/ptio2_df.csv'\n",
    "filtered_ptio2_path = '/Users/jk1/stroke_datasets/ptiO2-Studie/moberg_extracted_data/ptio2_df_filtered.csv'\n",
    "temperature_path = '/Users/jk1/stroke_datasets/ptiO2-Studie/moberg_extracted_data/temperature_df.csv'\n",
    "lpr_path = '/Users/jk1/stroke_datasets/ptiO2-Studie/moberg_extracted_data/lpr_df.csv'\n",
    "hr_path = '/Users/jk1/stroke_datasets/ptiO2-Studie/moberg_extracted_data/hr_df.csv'\n",
    "etco2_path = '/Users/jk1/stroke_datasets/ptiO2-Studie/moberg_extracted_data/etco2_df.csv'\n",
    "ci_path = '/Users/jk1/stroke_datasets/ptiO2-Studie/moberg_extracted_data/ci_df.csv'\n",
    "prx_path = '/Users/jk1/stroke_datasets/ptiO2-Studie/moberg_extracted_data/prx_df.csv'\n",
    "drug_administration_path = '/Users/jk1/stroke_datasets/ptiO2-Studie/drug_administrations.xlsx'\n",
    "registry_path = '/Users/jk1/stroke_datasets/ptiO2-Studie/moberg_registry_kssg_post_hoc_modified.xlsx'\n",
    "paco2_path = '/Users/jk1/stroke_datasets/ptiO2-Studie/pdms_data/joined_aBGA.csv'\n",
    "mainstream_etco2_path = '/Users/jk1/Library/CloudStorage/OneDrive-unige.ch/icu_research/neurocrit_fever/data/PDMS_data/joined_etCO2.csv'"
   ]
  },
  {
   "cell_type": "code",
   "execution_count": null,
   "id": "131921ff24b5a0f6",
   "metadata": {
    "ExecuteTime": {
     "end_time": "2025-04-14T08:18:34.308800Z",
     "start_time": "2025-04-14T08:18:34.306444Z"
    }
   },
   "outputs": [],
   "source": [
    "exclude_short_infusions = True\n",
    "use_filtered_ptio2 = True"
   ]
  },
  {
   "cell_type": "code",
   "execution_count": null,
   "id": "initial_id",
   "metadata": {
    "ExecuteTime": {
     "end_time": "2025-04-14T08:19:12.584686Z",
     "start_time": "2025-04-14T08:18:34.664731Z"
    },
    "jupyter": {
     "outputs_hidden": true
    }
   },
   "outputs": [],
   "source": [
    "cpp_df = pd.read_csv(cpp_path)\n",
    "if use_filtered_ptio2:\n",
    "    ptio2_df = pd.read_csv(filtered_ptio2_path)\n",
    "else:\n",
    "    ptio2_df = pd.read_csv(ptio2_path)\n",
    "temperature_df = pd.read_csv(temperature_path)\n",
    "lpr_df = pd.read_csv(lpr_path)\n",
    "hr_df = pd.read_csv(hr_path)\n",
    "prx_df = pd.read_csv(prx_path)\n",
    "drug_administration_df = pd.read_excel(drug_administration_path)"
   ]
  },
  {
   "cell_type": "code",
   "execution_count": null,
   "id": "719ebad8b8254dbd",
   "metadata": {
    "ExecuteTime": {
     "end_time": "2025-04-14T08:19:12.847216Z",
     "start_time": "2025-04-14T08:19:12.719519Z"
    }
   },
   "outputs": [],
   "source": [
    "registry_df = pd.read_excel(registry_path)\n",
    "paco2_df = pd.read_csv(paco2_path, sep=';')\n",
    "mainstream_etco2_df = pd.read_csv(mainstream_etco2_path, sep=';')"
   ]
  },
  {
   "cell_type": "code",
   "execution_count": null,
   "id": "9fab792de8366a0",
   "metadata": {
    "ExecuteTime": {
     "end_time": "2025-04-14T08:19:13.788884Z",
     "start_time": "2025-04-14T08:19:13.761361Z"
    }
   },
   "outputs": [],
   "source": [
    "paco2_df = pd.merge(paco2_df, registry_df[['manual_mrn', 'Pat. Nr.']], left_on='FallNr', right_on='manual_mrn',\n",
    "                    how='left')\n",
    "paco2_df.drop(columns=['manual_mrn'], inplace=True)\n",
    "paco2_df.rename(columns={'Pat. Nr.': 'pat_nr'}, inplace=True)\n",
    "paco2_df.rename(columns={'Zeitpunkt_aBGA': 'datetime'}, inplace=True)\n",
    "paco2_df['pCO2_mmHg'] = paco2_df['pCO2'] * 7.50062\n",
    "\n",
    "mainstream_etco2_df = pd.merge(mainstream_etco2_df, registry_df[['manual_mrn', 'Pat. Nr.']], left_on='FallNr', right_on='manual_mrn', how='left')\n",
    "mainstream_etco2_df.drop(columns=['manual_mrn'], inplace=True)\n",
    "mainstream_etco2_df.rename(columns={'Pat. Nr.':'pat_nr'}, inplace=True)\n",
    "mainstream_etco2_df.rename(columns={'Zeitpunkt_etCO2':'datetime'}, inplace=True)"
   ]
  },
  {
   "cell_type": "code",
   "execution_count": null,
   "id": "8cfb2a45c5b694b2",
   "metadata": {
    "ExecuteTime": {
     "end_time": "2025-04-14T08:19:14.042028Z",
     "start_time": "2025-04-14T08:19:14.027094Z"
    }
   },
   "outputs": [],
   "source": [
    "drug_administration_df = drug_administration_df[drug_administration_df.monitored]\n",
    "\n",
    "n_patients_before = drug_administration_df['pat_nr'].nunique()\n",
    "# print patients with exclusion criterium\n",
    "print(f'Excluding {drug_administration_df[~pd.isna(drug_administration_df[\"further_exclusion_criterium\"])].shape[0]} infusions with {drug_administration_df[~pd.isna(drug_administration_df[\"further_exclusion_criterium\"])][\"further_exclusion_criterium\"].nunique()} different further exclusion criteria')\n",
    "# exclude if further_exclusion_criterium is not Nan\n",
    "drug_administration_df = drug_administration_df[pd.isna(drug_administration_df['further_exclusion_criterium'])]\n",
    "# print number of patients excluded\n",
    "print(f'Excluding {n_patients_before - drug_administration_df[\"pat_nr\"].nunique()} patients with further exclusion criterium')\n",
    "\n",
    "if exclude_short_infusions:\n",
    "    n_patients_before = drug_administration_df['pat_nr'].nunique()\n",
    "    drug_administration_df['infusion_duration'] = (pd.to_datetime(drug_administration_df['drug_end']) - pd.to_datetime(drug_administration_df['drug_start'])).dt.total_seconds() / 3600\n",
    "    print(f'Excluding {drug_administration_df[drug_administration_df[\"infusion_duration\"] <= 1].shape[0]} infusions with duration <= 1h')\n",
    "    drug_administration_df = drug_administration_df[drug_administration_df['infusion_duration'] > 1]\n",
    "    print(f'Excluding {n_patients_before - drug_administration_df[\"pat_nr\"].nunique()} patients with infusions with duration <= 1h')"
   ]
  },
  {
   "cell_type": "code",
   "execution_count": null,
   "id": "eb46834ffc214232",
   "metadata": {
    "ExecuteTime": {
     "end_time": "2025-04-14T08:19:18.661052Z",
     "start_time": "2025-04-14T08:19:14.146614Z"
    }
   },
   "outputs": [],
   "source": [
    "for var_df in [ptio2_df, cpp_df, temperature_df, lpr_df, hr_df, paco2_df, prx_df, mainstream_etco2_df]:\n",
    "    var_df['datetime'] = pd.to_datetime(var_df['datetime'])"
   ]
  },
  {
   "cell_type": "code",
   "execution_count": null,
   "id": "50df856a236e3dac",
   "metadata": {
    "ExecuteTime": {
     "end_time": "2025-04-14T08:20:14.858821Z",
     "start_time": "2025-04-14T08:19:18.816807Z"
    }
   },
   "outputs": [],
   "source": [
    "# for every drug administration extract data from -xh to +xh around start\n",
    "time_window_post = 12\n",
    "time_window_pre = 12\n",
    "\n",
    "associated_ptio2_df = pd.DataFrame()\n",
    "associated_cpp_df = pd.DataFrame()\n",
    "associated_temperature_df = pd.DataFrame()\n",
    "associated_hr_df = pd.DataFrame()\n",
    "associated_lpr_df = pd.DataFrame()\n",
    "associated_ci_df = pd.DataFrame()\n",
    "associated_prx_df = pd.DataFrame()\n",
    "associated_etco2_df = pd.DataFrame()\n",
    "associated_paco2_df = pd.DataFrame()\n",
    "associated_mainstream_etco2_df = pd.DataFrame()\n",
    "\n",
    "for index, row in drug_administration_df.iterrows():\n",
    "    lower_bound = row['drug_start'] - pd.to_timedelta(time_window_pre, unit='h')\n",
    "    upper_bound = row['drug_start'] + pd.to_timedelta(time_window_post, unit='h')\n",
    "    instance_associated_ptio2_df = ptio2_df[(ptio2_df['pat_nr'] == row['pat_nr'])\n",
    "                                            & (ptio2_df['datetime'] >= lower_bound) \n",
    "                                            & (ptio2_df['datetime'] <= upper_bound)]\n",
    "    instance_associated_ptio2_df['drug_start'] = row['drug_start']\n",
    "    instance_associated_ptio2_df['relative_datetime'] = (instance_associated_ptio2_df['datetime'] - row['drug_start']).dt.total_seconds() / 3600\n",
    "    associated_ptio2_df = pd.concat([associated_ptio2_df, instance_associated_ptio2_df])\n",
    "\n",
    "    instance_associated_cpp_df = cpp_df[(cpp_df['pat_nr'] == row['pat_nr'])\n",
    "                                        & (cpp_df['datetime'] >= lower_bound) \n",
    "                                        & (cpp_df['datetime'] <= upper_bound)]  \n",
    "    instance_associated_cpp_df['drug_start'] = row['drug_start']\n",
    "    instance_associated_cpp_df['relative_datetime'] = (instance_associated_cpp_df['datetime'] - row['drug_start']).dt.total_seconds() / 3600\n",
    "    associated_cpp_df = pd.concat([associated_cpp_df, instance_associated_cpp_df])\n",
    "\n",
    "    instance_associated_temperature_df = temperature_df[(temperature_df['pat_nr'] == row['pat_nr'])\n",
    "                                        & (temperature_df['datetime'] >= lower_bound)\n",
    "                                        & (temperature_df['datetime'] <= upper_bound)]\n",
    "    instance_associated_temperature_df['drug_start'] = row['drug_start']\n",
    "    instance_associated_temperature_df['relative_datetime'] = (instance_associated_temperature_df['datetime'] - row['drug_start']).dt.total_seconds() / 3600\n",
    "    associated_temperature_df = pd.concat([associated_temperature_df, instance_associated_temperature_df])\n",
    "\n",
    "    instance_associated_hr_df = hr_df[(hr_df['pat_nr'] == row['pat_nr'])\n",
    "                                        & (hr_df['datetime'] >= lower_bound)   \n",
    "                                        & (hr_df['datetime'] <= upper_bound)]\n",
    "    instance_associated_hr_df['drug_start'] = row['drug_start']\n",
    "    instance_associated_hr_df['relative_datetime'] = (instance_associated_hr_df['datetime'] - row['drug_start']).dt.total_seconds() / 3600\n",
    "    associated_hr_df = pd.concat([associated_hr_df, instance_associated_hr_df])\n",
    "\n",
    "    instance_associated_lpr_df = lpr_df[(lpr_df['pat_nr'] == row['pat_nr'])\n",
    "                                        & (lpr_df['datetime'] >= lower_bound)\n",
    "                                        & (lpr_df['datetime'] <= upper_bound)]\n",
    "    instance_associated_lpr_df['drug_start'] = row['drug_start']\n",
    "    instance_associated_lpr_df['relative_datetime'] = (instance_associated_lpr_df['datetime'] - row['drug_start']).dt.total_seconds() / 3600\n",
    "    associated_lpr_df = pd.concat([associated_lpr_df, instance_associated_lpr_df])\n",
    "    \n",
    "    instance_associated_paco2_df = paco2_df[(paco2_df['pat_nr'] == row['pat_nr'])\n",
    "                                        & (paco2_df['datetime'] >= lower_bound)\n",
    "                                        & (paco2_df['datetime'] <= upper_bound)]\n",
    "    instance_associated_paco2_df['drug_start'] = row['drug_start']\n",
    "    instance_associated_paco2_df['relative_datetime'] = (instance_associated_paco2_df['datetime'] - row['drug_start']).dt.total_seconds() / 3600\n",
    "    associated_paco2_df = pd.concat([associated_paco2_df, instance_associated_paco2_df])\n",
    "    \n",
    "    instance_associated_prx_df = prx_df[(prx_df['pat_nr'] == row['pat_nr'])\n",
    "                                    & (prx_df['datetime'] >= lower_bound)\n",
    "                                    & (prx_df['datetime'] <= upper_bound)]\n",
    "    instance_associated_prx_df['drug_start'] = row['drug_start']\n",
    "    instance_associated_prx_df['relative_datetime'] = (instance_associated_prx_df['datetime'] - row['drug_start']).dt.total_seconds() / 3600\n",
    "    associated_prx_df = pd.concat([associated_prx_df, instance_associated_prx_df])\n",
    "    \n",
    "    instance_associated_mainstream_etco2_df = mainstream_etco2_df[(mainstream_etco2_df['pat_nr'] == row['pat_nr'])\n",
    "                                        & (mainstream_etco2_df['datetime'] >= lower_bound)\n",
    "                                        & (mainstream_etco2_df['datetime'] <= upper_bound)]\n",
    "    instance_associated_mainstream_etco2_df['drug_start'] = row['drug_start']\n",
    "    instance_associated_mainstream_etco2_df['relative_datetime'] = (instance_associated_mainstream_etco2_df['datetime'] - row['drug_start']).dt.total_seconds() / 3600\n",
    "    associated_mainstream_etco2_df = pd.concat([associated_mainstream_etco2_df, instance_associated_mainstream_etco2_df])\n",
    "\n"
   ]
  },
  {
   "cell_type": "code",
   "execution_count": null,
   "id": "5fbfff52e95edbde",
   "metadata": {
    "ExecuteTime": {
     "end_time": "2025-04-14T08:20:15.234423Z",
     "start_time": "2025-04-14T08:20:14.884644Z"
    }
   },
   "outputs": [],
   "source": [
    "allowed_ptio2_range = [0, 200]\n",
    "allowed_cpp_range = [0, 200]\n",
    "allowed_temperature_range = [30, 45]\n",
    "allowed_hr_range = [0, 300]\n",
    "allowed_lpr_range = [0, 100]\n",
    "allowed_etco2_range = [0, 100]\n",
    "allowed_paco2_range = [0.5, 20]  # in kpa\n",
    "\n",
    "# drop values outside of allowed range\n",
    "associated_ptio2_df = associated_ptio2_df[\n",
    "    (associated_ptio2_df['ptio2'] >= allowed_ptio2_range[0]) & (associated_ptio2_df['ptio2'] <= allowed_ptio2_range[1])]\n",
    "associated_cpp_df = associated_cpp_df[\n",
    "    (associated_cpp_df['cpp'] >= allowed_cpp_range[0]) & (associated_cpp_df['cpp'] <= allowed_cpp_range[1])]\n",
    "associated_temperature_df = associated_temperature_df[\n",
    "    (associated_temperature_df['temperature'] >= allowed_temperature_range[0]) & (\n",
    "                associated_temperature_df['temperature'] <= allowed_temperature_range[1])]\n",
    "associated_hr_df = associated_hr_df[\n",
    "    (associated_hr_df['hr'] >= allowed_hr_range[0]) & (associated_hr_df['hr'] <= allowed_hr_range[1])]\n",
    "associated_lpr_df = associated_lpr_df[\n",
    "    (associated_lpr_df['lpr'] >= allowed_lpr_range[0]) & (associated_lpr_df['lpr'] <= allowed_lpr_range[1])]\n",
    "# associated_etco2_df = associated_etco2_df[\n",
    "#     (associated_etco2_df['etco2'] >= allowed_etco2_range[0]) & (associated_etco2_df['etco2'] <= allowed_etco2_range[1])]\n",
    "associated_paco2_df = associated_paco2_df[\n",
    "    (associated_paco2_df['pCO2'] >= allowed_paco2_range[0]) & (associated_paco2_df['pCO2'] <= allowed_paco2_range[1])]\n",
    "associated_mainstream_etco2_df = associated_mainstream_etco2_df[\n",
    "    (associated_mainstream_etco2_df['etCO2'] >= allowed_etco2_range[0]) & (\n",
    "                associated_mainstream_etco2_df['etCO2'] <= allowed_etco2_range[1])]"
   ]
  },
  {
   "cell_type": "markdown",
   "id": "73c2a92a12af1b85",
   "metadata": {},
   "source": [
    "## Univariate subgroup analysis"
   ]
  },
  {
   "cell_type": "code",
   "execution_count": null,
   "id": "6ee56e0f82412986",
   "metadata": {
    "ExecuteTime": {
     "end_time": "2025-04-14T08:20:15.393044Z",
     "start_time": "2025-04-14T08:20:15.332999Z"
    }
   },
   "outputs": [],
   "source": [
    "associated_ptio2_df = associated_ptio2_df.merge(registry_df[['Pat. Nr.', 'Diagnose']], how='left', left_on='pat_nr', right_on='Pat. Nr.')"
   ]
  },
  {
   "cell_type": "code",
   "execution_count": null,
   "id": "f069cec112714e5c",
   "metadata": {
    "ExecuteTime": {
     "end_time": "2025-04-14T08:20:15.490985Z",
     "start_time": "2025-04-14T08:20:15.484309Z"
    }
   },
   "outputs": [],
   "source": [
    "associated_ptio2_df['pre_post'] = 'pre'\n",
    "associated_ptio2_df.loc[associated_ptio2_df['relative_datetime'] > 0, 'pre_post'] = 'post'"
   ]
  },
  {
   "cell_type": "code",
   "execution_count": null,
   "id": "5594ca8d0f34d396",
   "metadata": {
    "ExecuteTime": {
     "end_time": "2025-04-14T07:28:56.212678Z",
     "start_time": "2025-04-14T07:28:55.775337Z"
    }
   },
   "outputs": [],
   "source": [
    "# TBI subgroup\n",
    "tbi_associated_ptio2_df = associated_ptio2_df[associated_ptio2_df['Diagnose'] == 'TBI']\n",
    "# compare pre / post ptio2 with mixed effect model\n",
    "tbi_mixed_model = smf.mixedlm(\"ptio2 ~ C(pre_post, Treatment(reference='pre'))\", tbi_associated_ptio2_df, groups=tbi_associated_ptio2_df['pat_nr'])\n",
    "tbi_mdf = tbi_mixed_model.fit()\n",
    "# print formula\n",
    "print(tbi_mdf.model.formula)\n",
    "print(tbi_mdf.summary())"
   ]
  },
  {
   "cell_type": "code",
   "execution_count": null,
   "id": "8362f4b40a7b3ac0",
   "metadata": {
    "ExecuteTime": {
     "end_time": "2025-04-14T07:29:07.724625Z",
     "start_time": "2025-04-14T07:29:07.247512Z"
    }
   },
   "outputs": [],
   "source": [
    "# Stroke subgroup\n",
    "stroke_associated_ptio2_df = associated_ptio2_df[associated_ptio2_df['Diagnose'] == 'Stroke']\n",
    "# compare pre / post ptio2 with mixed effect model\n",
    "stroke_mixed_model = smf.mixedlm(\"ptio2 ~ C(pre_post, Treatment(reference='pre'))\", stroke_associated_ptio2_df, groups=stroke_associated_ptio2_df['pat_nr'])\n",
    "stroke_mdf = stroke_mixed_model.fit()\n",
    "# print formula\n",
    "print(stroke_mdf.model.formula)\n",
    "print(stroke_mdf.summary())"
   ]
  },
  {
   "cell_type": "code",
   "execution_count": null,
   "id": "90cff40a50b5509a",
   "metadata": {
    "ExecuteTime": {
     "end_time": "2025-04-14T07:29:10.907182Z",
     "start_time": "2025-04-14T07:29:10.901982Z"
    }
   },
   "outputs": [],
   "source": [
    "key = \"C(pre_post, Treatment(reference='pre'))[T.post]\"\n",
    "\n",
    "tbi_coef = tbi_mdf.params[key]\n",
    "tbi_ci = tbi_mdf.conf_int().loc[key]\n",
    "\n",
    "stroke_coef = stroke_mdf.params[key]\n",
    "stroke_ci = stroke_mdf.conf_int().loc[key]\n",
    "\n",
    "# Create a dataframe for plotting\n",
    "forest_df = pd.DataFrame({\n",
    "    'Group': ['TBI', 'Stroke'],\n",
    "    'Estimate': [tbi_coef, stroke_coef],\n",
    "    'CI_lower': [tbi_ci[0], stroke_ci[0]],\n",
    "    'CI_upper': [tbi_ci[1], stroke_ci[1]]\n",
    "})"
   ]
  },
  {
   "cell_type": "code",
   "execution_count": null,
   "id": "7372c530e8370085",
   "metadata": {
    "ExecuteTime": {
     "end_time": "2025-04-14T07:29:11.685728Z",
     "start_time": "2025-04-14T07:29:11.534786Z"
    }
   },
   "outputs": [],
   "source": [
    "import matplotlib.pyplot as plt\n",
    "\n",
    "# Plot\n",
    "fig, ax = plt.subplots(figsize=(6, 4))\n",
    "\n",
    "# Plot the points and confidence intervals\n",
    "ax.errorbar(forest_df['Estimate'], forest_df['Group'],\n",
    "            xerr=[forest_df['Estimate'] - forest_df['CI_lower'], forest_df['CI_upper'] - forest_df['Estimate']],\n",
    "            fmt='o', capsize=5)\n",
    "\n",
    "# Add a vertical line at 0 (no effect)\n",
    "ax.axvline(x=0, linestyle='--', color='gray')\n",
    "\n",
    "# Labels and title\n",
    "ax.set_xlabel('Effect of pre_post (post vs pre)')\n",
    "ax.set_title('Forest Plot of pre_post Effect by Diagnosis Group')\n",
    "\n",
    "plt.tight_layout()\n",
    "plt.show()"
   ]
  },
  {
   "cell_type": "markdown",
   "id": "aa449b2947395b99",
   "metadata": {},
   "source": [
    "## Multivariable analysis"
   ]
  },
  {
   "cell_type": "code",
   "execution_count": null,
   "id": "7be195dc37e88813",
   "metadata": {
    "ExecuteTime": {
     "end_time": "2025-04-14T07:44:38.418383Z",
     "start_time": "2025-04-14T07:44:38.387688Z"
    }
   },
   "outputs": [],
   "source": [
    "for var_df in [associated_ptio2_df, associated_cpp_df, associated_temperature_df, associated_hr_df]:\n",
    "    # round to 2 decimals of an hour\n",
    "    var_df['relative_datetime_cat'] = var_df['relative_datetime'].round(2)"
   ]
  },
  {
   "cell_type": "code",
   "execution_count": null,
   "id": "1bc7ee901669e524",
   "metadata": {
    "ExecuteTime": {
     "end_time": "2025-04-14T07:44:41.700734Z",
     "start_time": "2025-04-14T07:44:41.393672Z"
    }
   },
   "outputs": [],
   "source": [
    "grouped_ptio2 = associated_ptio2_df.groupby(['pat_nr', 'drug_start', 'relative_datetime_cat']).agg({'ptio2': 'median'}).reset_index()\n",
    "grouped_cpp = associated_cpp_df.groupby(['pat_nr', 'drug_start', 'relative_datetime_cat']).agg({'cpp': 'median'}).reset_index()\n",
    "grouped_temperature = associated_temperature_df.groupby(['pat_nr', 'drug_start', 'relative_datetime_cat']).agg({'temperature': 'median'}).reset_index()\n",
    "grouped_hr = associated_hr_df.groupby(['pat_nr', 'drug_start', 'relative_datetime_cat']).agg({'hr': 'median'}).reset_index()\n",
    "# grouped_lpr = associated_lpr_df.groupby(['pat_nr', 'drug_start', 'relative_datetime_cat']).agg({'lpr': 'median'}).reset_index()\n",
    "# grouped_paco2 = associated_paco2_df.groupby(['pat_nr', 'drug_start', 'relative_datetime_cat']).agg({'pCO2_mmHg': 'median'}).reset_index()"
   ]
  },
  {
   "cell_type": "code",
   "execution_count": null,
   "id": "c00fc3e4dfbbe146",
   "metadata": {
    "ExecuteTime": {
     "end_time": "2025-04-14T07:44:44.390566Z",
     "start_time": "2025-04-14T07:44:44.269398Z"
    }
   },
   "outputs": [],
   "source": [
    "# merge\n",
    "concatenated_df = grouped_ptio2.merge(grouped_cpp, on=['pat_nr', 'drug_start', 'relative_datetime_cat'], how='outer')\n",
    "concatenated_df = concatenated_df.merge(grouped_temperature, on=['pat_nr', 'drug_start', 'relative_datetime_cat'], how='outer')\n",
    "concatenated_df = concatenated_df.merge(grouped_hr, on=['pat_nr', 'drug_start', 'relative_datetime_cat'], how='outer')\n",
    "# concatenated_df = concatenated_df.merge(grouped_lpr, on=['pat_nr', 'drug_start', 'relative_datetime_cat'], how='outer')\n",
    "# concatenated_df = concatenated_df.merge(grouped_paco2, on=['pat_nr', 'drug_start', 'relative_datetime_cat'], how='outer')"
   ]
  },
  {
   "cell_type": "code",
   "execution_count": null,
   "id": "d26d51b55922f065",
   "metadata": {
    "ExecuteTime": {
     "end_time": "2025-04-14T07:44:46.520358Z",
     "start_time": "2025-04-14T07:44:46.516106Z"
    }
   },
   "outputs": [],
   "source": [
    "concatenated_df['pre_post'] = 'pre'\n",
    "concatenated_df.loc[concatenated_df['relative_datetime_cat'] >= 0, 'pre_post'] = 'post'"
   ]
  },
  {
   "cell_type": "code",
   "execution_count": null,
   "id": "aa10d721bb2b94fe",
   "metadata": {
    "ExecuteTime": {
     "end_time": "2025-04-14T07:45:24.777789Z",
     "start_time": "2025-04-14T07:45:24.754723Z"
    }
   },
   "outputs": [],
   "source": [
    "concatenated_df = concatenated_df.merge(registry_df[['Pat. Nr.', 'Diagnose']], how='left', left_on='pat_nr', right_on='Pat. Nr.')"
   ]
  },
  {
   "cell_type": "markdown",
   "id": "37a835d493b75971",
   "metadata": {},
   "source": [
    "## Multivariate model\n",
    "create full mixed effects model with all variables and interactions"
   ]
  },
  {
   "cell_type": "code",
   "execution_count": null,
   "id": "798980213de37dfc",
   "metadata": {
    "ExecuteTime": {
     "end_time": "2025-04-14T07:47:28.982401Z",
     "start_time": "2025-04-14T07:47:28.601809Z"
    }
   },
   "outputs": [],
   "source": [
    "tbi_temp_df = concatenated_df[concatenated_df['Diagnose'] == 'TBI']\n",
    "# drop rows with nan values\n",
    "tbi_temp_df = tbi_temp_df.dropna()\n",
    "\n",
    "tbi_mixed_model = smf.mixedlm(\"ptio2 ~ C(pre_post, Treatment(reference='pre')) * cpp * temperature * hr\", tbi_temp_df, groups=tbi_temp_df['pat_nr'])\n",
    "tbi_mixed_model_fit = tbi_mixed_model.fit()\n",
    "print(tbi_mixed_model.score(tbi_mixed_model_fit.params_object))\n",
    "print(tbi_mixed_model_fit.summary())"
   ]
  },
  {
   "cell_type": "code",
   "execution_count": null,
   "id": "4d65c9f224d3b134",
   "metadata": {
    "ExecuteTime": {
     "end_time": "2025-04-14T08:09:46.643263Z",
     "start_time": "2025-04-14T08:09:46.271672Z"
    }
   },
   "outputs": [],
   "source": [
    "# with centered variables and reducing complexity\n",
    "for var in ['cpp', 'temperature', 'hr']:\n",
    "    tbi_temp_df[var + '_c'] = tbi_temp_df[var] - tbi_temp_df[var].mean()\n",
    "\n",
    "tbi_model = smf.mixedlm(\n",
    "    \"ptio2 ~ C(pre_post, Treatment(reference='pre')) * (cpp_c + temperature_c + hr_c)\",\n",
    "    tbi_temp_df,\n",
    "    groups=tbi_temp_df['pat_nr']\n",
    ")\n",
    "\n",
    "tbi_mixed_model_fit = tbi_mixed_model.fit()\n",
    "print(tbi_mixed_model.score(tbi_mixed_model_fit.params_object))\n",
    "\n",
    "print(tbi_mixed_model_fit.summary())\n"
   ]
  },
  {
   "cell_type": "code",
   "execution_count": null,
   "id": "3adb2000810453ee",
   "metadata": {
    "ExecuteTime": {
     "end_time": "2025-04-14T07:48:36.161714Z",
     "start_time": "2025-04-14T07:48:35.629818Z"
    }
   },
   "outputs": [],
   "source": [
    "stroke_temp_df = concatenated_df[concatenated_df['Diagnose'] == 'Stroke']\n",
    "# drop rows with nan values\n",
    "stroke_temp_df = stroke_temp_df.dropna()\n",
    "stroke_mixed_model = smf.mixedlm(\"ptio2 ~ C(pre_post, Treatment(reference='pre')) * cpp * temperature * hr\", stroke_temp_df, groups=stroke_temp_df['pat_nr'])\n",
    "stroke_mixed_model_fit = stroke_mixed_model.fit()\n",
    "print(stroke_mixed_model.score(stroke_mixed_model_fit.params_object))\n",
    "print(stroke_mixed_model_fit.summary())"
   ]
  },
  {
   "cell_type": "code",
   "execution_count": null,
   "id": "a144601282e74968",
   "metadata": {
    "ExecuteTime": {
     "end_time": "2025-04-14T08:11:12.398948Z",
     "start_time": "2025-04-14T08:11:12.092893Z"
    }
   },
   "outputs": [],
   "source": [
    "# with centered variables and reducing complexity\n",
    "for var in ['cpp', 'temperature', 'hr']:\n",
    "    stroke_temp_df[var + '_c'] = stroke_temp_df[var] - stroke_temp_df[var].mean()\n",
    "\n",
    "stroke_model = smf.mixedlm(\n",
    "    \"ptio2 ~ C(pre_post, Treatment(reference='pre')) * (cpp_c + temperature_c + hr_c)\",\n",
    "    stroke_temp_df,\n",
    "    groups=stroke_temp_df['pat_nr']\n",
    ")\n",
    "stroke_mixed_model_fit = stroke_model.fit()\n",
    "print(stroke_model.score(stroke_mixed_model_fit.params_object))\n",
    "print(stroke_mixed_model_fit.summary())"
   ]
  },
  {
   "cell_type": "code",
   "execution_count": null,
   "id": "da7bbb4825574a2a",
   "metadata": {
    "ExecuteTime": {
     "end_time": "2025-04-14T08:13:24.497258Z",
     "start_time": "2025-04-14T08:13:24.354077Z"
    }
   },
   "outputs": [],
   "source": [
    "# plot subgroup forest plot\n",
    "\n",
    "tbi_coef = tbi_mixed_model_fit.params[key]\n",
    "tbi_ci = tbi_mixed_model_fit.conf_int().loc[key]\n",
    "stroke_coef = stroke_mixed_model_fit.params[key]\n",
    "stroke_ci = stroke_mixed_model_fit.conf_int().loc[key]\n",
    "# Create a dataframe for plotting\n",
    "forest_df = pd.DataFrame({\n",
    "    'Group': ['TBI', 'Stroke'],\n",
    "    'Estimate': [tbi_coef, stroke_coef],\n",
    "    'CI_lower': [tbi_ci[0], stroke_ci[0]],\n",
    "    'CI_upper': [tbi_ci[1], stroke_ci[1]]\n",
    "})\n",
    "\n",
    "# Plot\n",
    "fig, ax = plt.subplots(figsize=(6, 3))\n",
    "# Plot the points and confidence intervals\n",
    "ax.errorbar(forest_df['Estimate'], forest_df['Group'],\n",
    "            xerr=[forest_df['Estimate'] - forest_df['CI_lower'], forest_df['CI_upper'] - forest_df['Estimate']],\n",
    "            fmt='o', capsize=5)\n",
    "# Add a vertical line at 0 (no effect)\n",
    "ax.axvline(x=0, linestyle='--', color='gray')\n",
    "# Labels and title\n",
    "ax.set_xlabel('Effect of pre_post (post vs pre)')\n",
    "ax.set_title('Forest Plot of pre_post Effect by Diagnosis Group')\n",
    "\n",
    "ax.set_xlim(-3, 3)\n",
    "\n",
    "# add space above and below the categories and decrease space between the categories\n",
    "ax.set_ylim(-0.5, 1.5)\n",
    "# and decrease space between the categories\n",
    "ax.set_yticks([0, 1])\n",
    "ax.set_yticklabels(['TBI', 'Stroke'])\n",
    "\n",
    "plt.tight_layout()\n",
    "plt.show()"
   ]
  },
  {
   "cell_type": "markdown",
   "id": "7216fc2d27f2d154",
   "metadata": {},
   "source": [
    "# Plot effect"
   ]
  },
  {
   "cell_type": "code",
   "execution_count": null,
   "id": "398b9511f586480e",
   "metadata": {
    "ExecuteTime": {
     "end_time": "2025-04-14T08:36:35.021214Z",
     "start_time": "2025-04-14T08:36:34.891418Z"
    }
   },
   "outputs": [],
   "source": [
    "print('TBI:')\n",
    "print(\n",
    "    f'Pre:  {concatenated_df[(concatenated_df[\"Diagnose\"] == \"TBI\" ) & (concatenated_df[\"pre_post\"] == \"pre\")][\"ptio2\"].median()} ({concatenated_df[(concatenated_df[\"Diagnose\"] == \"TBI\") & (concatenated_df[\"pre_post\"] == \"pre\")][\"ptio2\"].quantile(0.25)}, {concatenated_df[(concatenated_df[\"Diagnose\"] == \"TBI\") & (concatenated_df[\"pre_post\"] == \"pre\")][\"ptio2\"].quantile(0.75)})',\n",
    "    f'Post: {concatenated_df[(concatenated_df[\"Diagnose\"] == \"TBI\") & (concatenated_df[\"pre_post\"] == \"post\")][\"ptio2\"].median()} ({concatenated_df[(concatenated_df[\"Diagnose\"] == \"TBI\") & (concatenated_df[\"pre_post\"] == \"post\")][\"ptio2\"].quantile(0.25)}, {concatenated_df[(concatenated_df[\"Diagnose\"] == \"TBI\") & (concatenated_df[\"pre_post\"] == \"post\")][\"ptio2\"].quantile(0.75)})')\n",
    "print(f'p-value: {tbi_mixed_model_fit.pvalues[key]}')\n",
    "\n",
    "print('Stroke:')\n",
    "print(\n",
    "    f'Pre:  {concatenated_df[(concatenated_df[\"Diagnose\"] == \"Stroke\") & (concatenated_df[\"pre_post\"] == \"pre\")][\"ptio2\"].median()} ({concatenated_df[(concatenated_df[\"Diagnose\"] == \"Stroke\") & (concatenated_df[\"pre_post\"] == \"pre\")][\"ptio2\"].quantile(0.25)}, {concatenated_df[(concatenated_df[\"Diagnose\"] == \"Stroke\") & (concatenated_df[\"pre_post\"] == \"pre\")][\"ptio2\"].quantile(0.75)})',\n",
    "    f'Post: {concatenated_df[(concatenated_df[\"Diagnose\"] == \"Stroke\") & (concatenated_df[\"pre_post\"] == \"post\")][\"ptio2\"].median()} ({concatenated_df[(concatenated_df[\"Diagnose\"] == \"Stroke\") & (concatenated_df[\"pre_post\"] == \"post\")][\"ptio2\"].quantile(0.25)}, {concatenated_df[(concatenated_df[\"Diagnose\"] == \"Stroke\") & (concatenated_df[\"pre_post\"] == \"post\")][\"ptio2\"].quantile(0.75)})')\n",
    "print(f'p-value: {stroke_mixed_model_fit.pvalues[key]}')"
   ]
  },
  {
   "cell_type": "code",
   "execution_count": null,
   "id": "4029cad398dc6f4",
   "metadata": {
    "ExecuteTime": {
     "end_time": "2025-04-14T08:32:03.699204Z",
     "start_time": "2025-04-14T08:32:03.357758Z"
    }
   },
   "outputs": [],
   "source": [
    "# Plot the distribution of ptio2 values for each group in pre and post\n",
    "ax = sns.boxplot(data=concatenated_df, x='Diagnose', y='ptio2', hue='pre_post', showfliers=False)\n",
    "ax.set_xlabel('')\n",
    "ax.set_ylabel('PtO2 (mmHg)')\n",
    "\n",
    "# set legend title\n",
    "ax.legend(title='', loc='upper right')\n",
    "\n",
    "plt.show()"
   ]
  },
  {
   "cell_type": "markdown",
   "id": "f42254eba22da301",
   "metadata": {},
   "source": [
    "# Single variable models"
   ]
  },
  {
   "cell_type": "markdown",
   "id": "f10c87930628ed3",
   "metadata": {},
   "source": [
    "paco2"
   ]
  }
 ],
 "metadata": {
  "kernelspec": {
   "display_name": "Python 3 (ipykernel)",
   "language": "python",
   "name": "python3"
  },
  "language_info": {
   "codemirror_mode": {
    "name": "ipython",
    "version": 3
   },
   "file_extension": ".py",
   "mimetype": "text/x-python",
   "name": "python",
   "nbconvert_exporter": "python",
   "pygments_lexer": "ipython3",
   "version": "3.11.9"
  }
 },
 "nbformat": 4,
 "nbformat_minor": 5
}
