{
 "cells": [
  {
   "cell_type": "code",
   "execution_count": null,
   "id": "8af7644182388a20",
   "metadata": {
    "ExecuteTime": {
     "end_time": "2025-04-14T08:44:31.754995Z",
     "start_time": "2025-04-14T08:44:31.752620Z"
    }
   },
   "outputs": [],
   "source": [
    "import pandas as pd\n",
    "import os"
   ]
  },
  {
   "cell_type": "code",
   "execution_count": null,
   "id": "89dfdfbd4689a59c",
   "metadata": {
    "ExecuteTime": {
     "end_time": "2025-04-14T08:44:31.762038Z",
     "start_time": "2025-04-14T08:44:31.759606Z"
    }
   },
   "outputs": [],
   "source": [
    "main_data_path = '/Users/jk1/stroke_datasets/ptiO2-Studie/moberg_data'\n",
    "pbto2_meta_data_path = '/Users/jk1/stroke_datasets/ptiO2-Studie/pbto2_for_extraction.csv'"
   ]
  },
  {
   "cell_type": "code",
   "execution_count": null,
   "id": "82b259d70f4ed669",
   "metadata": {
    "ExecuteTime": {
     "end_time": "2025-04-14T08:44:31.860615Z",
     "start_time": "2025-04-14T08:44:31.853314Z"
    }
   },
   "outputs": [],
   "source": [
    "pbto2_meta_data_df = pd.read_csv(pbto2_meta_data_path)"
   ]
  },
  {
   "cell_type": "code",
   "execution_count": null,
   "id": "5007dc200afaf12c",
   "metadata": {
    "ExecuteTime": {
     "end_time": "2025-04-14T08:44:31.876529Z",
     "start_time": "2025-04-14T08:44:31.871444Z"
    }
   },
   "outputs": [],
   "source": [
    "from utils import format_date_column\n",
    "\n",
    "pbto2_meta_data_df['Recording Start Time'] = format_date_column(pbto2_meta_data_df['Recording Start Time'])"
   ]
  },
  {
   "cell_type": "code",
   "execution_count": null,
   "id": "f330eefc4c435daf",
   "metadata": {
    "ExecuteTime": {
     "end_time": "2025-04-14T08:44:31.911788Z",
     "start_time": "2025-04-14T08:44:31.898108Z"
    }
   },
   "outputs": [],
   "source": [
    "pbto2_meta_data_df"
   ]
  },
  {
   "cell_type": "code",
   "execution_count": null,
   "id": "initial_id",
   "metadata": {
    "ExecuteTime": {
     "end_time": "2025-04-14T08:44:32.137636Z",
     "start_time": "2025-04-14T08:44:32.133884Z"
    }
   },
   "outputs": [],
   "source": [
    "manually_verified_supplementary_data_files = {\n",
    "    '23_03': ['P3', 'P4'],\n",
    "    '23_04': ['P3'],\n",
    "    '23_05': ['P3'],\n",
    "    '23_06': ['P3', 'P4'],\n",
    "    '23_09': ['P3'],\n",
    "}\n",
    "# list of P3/P4 that do not seem to be PbtO2 or overlap with another PbtO2 file\n",
    "manually_excluded = ['21_08 P3', '20_06 P3', '20_12']"
   ]
  },
  {
   "cell_type": "code",
   "execution_count": null,
   "id": "2459eac17ec527f2",
   "metadata": {
    "ExecuteTime": {
     "end_time": "2025-04-14T08:46:38.385523Z",
     "start_time": "2025-04-14T08:46:38.238866Z"
    }
   },
   "outputs": [],
   "source": [
    "# for a given variable to extract, check if all files are present\n",
    "\n",
    "subj_with_icp_files = []\n",
    "for year_dir in os.listdir(main_data_path):\n",
    "    year_path = os.path.join(main_data_path, year_dir)\n",
    "    if not os.path.isdir(year_path):\n",
    "        continue\n",
    "    for subj_dir in os.listdir(year_path):\n",
    "        subj_path = os.path.join(year_path, subj_dir)\n",
    "        if not os.path.isdir(subj_path):\n",
    "            continue\n",
    "            \n",
    "        icp_files = []\n",
    "        for file in os.listdir(subj_path):\n",
    "            file_path = os.path.join(subj_path, file)\n",
    "            # check if a file starting with PbtO2 and not ending with quality.txt and not containing 'AvgTime' exists\n",
    "            if file.startswith('ICP') and not file.endswith('quality.txt') and 'AvgTime' not in file:\n",
    "                icp_files.append(file)\n",
    "        \n",
    "        if len(icp_files) < 1:\n",
    "            print(subj_dir, 'ICP file not found')\n",
    "        else: \n",
    "            print(subj_dir, icp_files)\n",
    "            subj_with_icp_files.append(subj_dir)"
   ]
  },
  {
   "cell_type": "code",
   "execution_count": null,
   "id": "e94d497c4da41a25",
   "metadata": {
    "ExecuteTime": {
     "end_time": "2025-04-14T09:11:12.027562Z",
     "start_time": "2025-04-14T09:10:23.902081Z"
    }
   },
   "outputs": [],
   "source": [
    "cpp_df = pd.DataFrame()\n",
    "ptio2_df = pd.DataFrame()\n",
    "temperature_df = pd.DataFrame()\n",
    "hr_df = pd.DataFrame()\n",
    "lpr_df = pd.DataFrame()\n",
    "ci_df = pd.DataFrame()\n",
    "etco2_df = pd.DataFrame()\n",
    "prx_df = pd.DataFrame()\n",
    "icp_df = pd.DataFrame()\n",
    "\n",
    "for year_dir in os.listdir(main_data_path):\n",
    "    year_path = os.path.join(main_data_path, year_dir)\n",
    "    if not os.path.isdir(year_path):\n",
    "        continue\n",
    "    for subj_dir in os.listdir(year_path):\n",
    "        subj_path = os.path.join(year_path, subj_dir)\n",
    "        if not os.path.isdir(subj_path):\n",
    "            continue\n",
    "\n",
    "        pbto2_files = []\n",
    "        cpp_files = []\n",
    "        hr_files = []\n",
    "        temperature_files = []\n",
    "        lpr_files = []\n",
    "        ci_files = []\n",
    "        etco2_files = []\n",
    "        prx_files = []\n",
    "        icp_files = []\n",
    "        for file in os.listdir(subj_path):\n",
    "            file_path = os.path.join(subj_path, file)\n",
    "            # check if a file starting with PbtO2 and not ending with quality.txt and not containing 'AvgTime' exists\n",
    "            if file.startswith('PbtO2') and not file.endswith('quality.txt') and 'AvgTime' not in file:\n",
    "                pbto2_files.append(file)\n",
    "            if subj_dir in manually_verified_supplementary_data_files.keys():\n",
    "                # if file startswith any of manually_verified_supplementary_data_files[subj_dir]\n",
    "                if any([file.startswith(f) for f in manually_verified_supplementary_data_files[subj_dir]]) and not file.endswith('quality.txt') and 'AvgTime' not in file:\n",
    "                    pbto2_files.append(file)\n",
    "            if file.startswith('CPP') and not file.endswith('quality.txt') and 'AvgTime' not in file and 'CPP2' not in file:\n",
    "                cpp_files.append(file)\n",
    "            if file.startswith('HR') and not file.endswith('quality.txt') and 'AvgTime' not in file and 'PiCCO' not in file:\n",
    "                hr_files.append(file)\n",
    "            if file.startswith('Tcore') and not file.endswith('quality.txt') and 'AvgTime' not in file:\n",
    "                temperature_files.append(file)\n",
    "            if file.startswith('LPR') and not file.endswith('quality.txt') and 'AvgTime' not in file:\n",
    "                lpr_files.append(file)\n",
    "            if file.startswith('CI') and not file.endswith('quality.txt') and 'AvgTime' not in file:\n",
    "                ci_files.append(file)\n",
    "            if file.startswith('EtCO2') and not file.endswith('quality.txt') and 'AvgTime' not in file:\n",
    "                etco2_files.append(file)\n",
    "            if file.startswith('PRx') and not file.endswith('quality.txt') and 'AvgTime' not in file:\n",
    "                prx_files.append(file)\n",
    "            if file.startswith('ICP') and not file.endswith('quality.txt') and 'AvgTime' not in file:\n",
    "                icp_files.append(file)\n",
    "                \n",
    "        if len(pbto2_files) > 1:\n",
    "            # remove files with 'inc' in the name (if not all files have 'inc' in the name)\n",
    "            if not all(['inc' in f for f in pbto2_files]):\n",
    "                pbto2_files = [f for f in pbto2_files if 'inc' not in f]\n",
    "                    \n",
    "        subj_pbto2_df = pd.DataFrame()\n",
    "        for pbto2_file in pbto2_files:\n",
    "            pbto2_path = os.path.join(subj_path, pbto2_file)\n",
    "            single_pbto2_df = pd.read_csv(pbto2_path, sep='\\t')\n",
    "            if 'inc' in pbto2_file:\n",
    "                single_pbto2_df = single_pbto2_df[['Day#', 'ClockTime', 'PbtO2,na,Numeric,Float,LicoxLCX02 (mmHg):Med']]\n",
    "            # set last column as to ptio2\n",
    "            single_pbto2_df.columns = [*single_pbto2_df.columns[:-1], 'ptio2']\n",
    "            subj_pbto2_df = pd.concat([subj_pbto2_df, single_pbto2_df])\n",
    "            \n",
    "                \n",
    "        subj_cpp_df = pd.DataFrame()\n",
    "        for cpp_file in cpp_files:\n",
    "            cpp_path = os.path.join(subj_path, cpp_file)\n",
    "            single_cpp_df = pd.read_csv(cpp_path, sep='\\t')\n",
    "            if 'inc' in cpp_file:\n",
    "                single_cpp_df = single_cpp_df[['Day#', 'ClockTime', 'CPP,na,Numeric,Float,CARESCAPE (mmHg):Med']]\n",
    "            single_cpp_df.columns = [*single_cpp_df.columns[:-1], 'cpp']\n",
    "            subj_cpp_df = pd.concat([subj_cpp_df, single_cpp_df])\n",
    "            \n",
    "        subj_temperature_df = pd.DataFrame()\n",
    "        for temperature_file in temperature_files:\n",
    "            temperature_path = os.path.join(subj_path, temperature_file)\n",
    "            single_temperature_df = pd.read_csv(temperature_path, sep='\\t', encoding_errors='ignore')\n",
    "            if 'inc' in temperature_file:\n",
    "                single_temperature_df = single_temperature_df[['Day#', 'ClockTime', 'Tcore,na,Numeric,Float,CARESCAPE (C):Med']]\n",
    "            single_temperature_df.columns = [*single_temperature_df.columns[:-1], 'temperature']\n",
    "            subj_temperature_df = pd.concat([subj_temperature_df, single_temperature_df])\n",
    "        \n",
    "        subj_hr_df = pd.DataFrame()\n",
    "        for hr_file in hr_files:\n",
    "            hr_path = os.path.join(subj_path, hr_file)\n",
    "            single_hr_df = pd.read_csv(hr_path, sep='\\t')\n",
    "            single_hr_df.columns = [*single_hr_df.columns[:-1], 'hr']\n",
    "            subj_hr_df = pd.concat([subj_hr_df, single_hr_df])\n",
    "            \n",
    "        subj_lpr_df = pd.DataFrame()\n",
    "        for lpr_file in lpr_files:\n",
    "            lpr_path = os.path.join(subj_path, lpr_file)\n",
    "            single_lpr_df = pd.read_csv(lpr_path, sep='\\t')\n",
    "            if 'inc' in lpr_file:\n",
    "                lpr_name = lpr_file.split(',')[0]\n",
    "                single_lpr_df = single_lpr_df[['Day#', 'ClockTime', f'{lpr_name},na,SparseNumeric,Float,ManualEntry:Med']]\n",
    "            single_lpr_df.columns = [*single_lpr_df.columns[:-1], 'lpr']\n",
    "            subj_lpr_df = pd.concat([subj_lpr_df, single_lpr_df])\n",
    "            \n",
    "        subj_ci_df = pd.DataFrame()\n",
    "        for ci_file in ci_files:\n",
    "            ci_path = os.path.join(subj_path, ci_file)\n",
    "            single_ci_df = pd.read_csv(ci_path, sep='\\t')\n",
    "            # single_ci_df.columns = [*single_ci_df.columns[:-1], 'ci']\n",
    "            subj_ci_df = pd.concat([subj_ci_df, single_ci_df])\n",
    "            \n",
    "        subj_etco2_df = pd.DataFrame()\n",
    "        for etco2_file in etco2_files:\n",
    "            etco2_path = os.path.join(subj_path, etco2_file)\n",
    "            single_etco2_df = pd.read_csv(etco2_path, sep='\\t')\n",
    "            if 'inc' in etco2_file:\n",
    "                etco2_name = etco2_file.split(',')[0]\n",
    "                single_etco2_df = single_etco2_df[['Day#', 'ClockTime', f'{etco2_name},na,Numeric,Float,CARESCAPE (mmHg):Med']]\n",
    "            single_etco2_df.columns = [*single_etco2_df.columns[:-1], 'etco2']\n",
    "\n",
    "            subj_etco2_df = pd.concat([subj_etco2_df, single_etco2_df])\n",
    "            \n",
    "        subj_prx_df = pd.DataFrame()\n",
    "        for prx_file in prx_files:\n",
    "            prx_path = os.path.join(subj_path, prx_file)\n",
    "            single_prx_df = pd.read_csv(prx_path, sep='\\t')\n",
    "            if 'inc' in prx_file:\n",
    "                prx_name = prx_file.split('_')[0]\n",
    "                # PRx,na,Numeric,Float,Reader Plugins,ICP=ICP (CARESCAPE),ABP=ART (CARESCAPE):Med\n",
    "                single_prx_df = single_prx_df[['Day#', 'ClockTime', f'{prx_name}:Med']]\n",
    "            single_prx_df.columns = [*single_prx_df.columns[:-1], 'prx']\n",
    "            subj_prx_df = pd.concat([subj_prx_df, single_prx_df])\n",
    "\n",
    "        subj_icp_df = pd.DataFrame()\n",
    "        for icp_file in icp_files:\n",
    "            icp_path = os.path.join(subj_path, icp_file)\n",
    "            single_icp_df = pd.read_csv(icp_path, sep='\\t')\n",
    "            if 'inc' in icp_file:\n",
    "                icp_name = icp_file.split(',')[0]\n",
    "                single_icp_df = single_icp_df[['Day#', 'ClockTime', f'{icp_name},Mean,Numeric,Float,CARESCAPE (mmHg):Med']]\n",
    "\n",
    "            single_icp_df.columns = [*single_icp_df.columns[:-1], 'icp']\n",
    "            subj_icp_df = pd.concat([subj_icp_df, single_icp_df])\n",
    "            \n",
    "        subj_recording_start_date = pbto2_meta_data_df[pbto2_meta_data_df['pat_nr'] == subj_dir]['Recording Start Time']\n",
    "        subj_recording_start_date = pd.to_datetime(subj_recording_start_date.str[:17], format=\"%Y %b %d %H:%M\").dt.date.values[0]\n",
    "                \n",
    "        for subj_var_df in [subj_pbto2_df, subj_cpp_df, subj_temperature_df, subj_hr_df, subj_lpr_df, subj_ci_df, subj_etco2_df, subj_prx_df,\n",
    "                            subj_icp_df]:\n",
    "            if subj_var_df.shape == (0,0):\n",
    "                continue\n",
    "            subj_var_df['ClockTime'] = subj_var_df['ClockTime'].apply(lambda x: x if len(x) > 5 else x + ':00')\n",
    "            subj_var_df['recording_start_date'] = subj_recording_start_date\n",
    "            subj_var_df['datetime'] = subj_var_df['recording_start_date'] + pd.to_timedelta(subj_var_df['Day#'], unit='d') \n",
    "            subj_var_df['datetime'] = subj_var_df['datetime'].astype(str) + ' ' + subj_var_df['ClockTime']\n",
    "                \n",
    "            subj_var_df['pat_nr'] = subj_dir\n",
    "\n",
    "        \n",
    "        cpp_df = pd.concat([cpp_df, subj_cpp_df])\n",
    "        ptio2_df = pd.concat([ptio2_df, subj_pbto2_df])\n",
    "        temperature_df = pd.concat([temperature_df, subj_temperature_df])\n",
    "        hr_df = pd.concat([hr_df, subj_hr_df])\n",
    "        lpr_df = pd.concat([lpr_df, subj_lpr_df])\n",
    "        ci_df = pd.concat([ci_df, subj_ci_df])\n",
    "        etco2_df = pd.concat([etco2_df, subj_etco2_df])\n",
    "        prx_df = pd.concat([prx_df, subj_prx_df])\n",
    "        icp_df = pd.concat([icp_df, subj_icp_df])\n",
    "        \n",
    "for var_df in [cpp_df, ptio2_df, temperature_df, hr_df, lpr_df, ci_df, etco2_df, prx_df, icp_df]:\n",
    "    var_df.drop(columns=['MRN'], inplace=True)"
   ]
  },
  {
   "cell_type": "code",
   "execution_count": null,
   "id": "1511320eeb90de88",
   "metadata": {
    "ExecuteTime": {
     "end_time": "2025-04-14T09:11:13.054610Z",
     "start_time": "2025-04-14T09:11:12.839711Z"
    }
   },
   "outputs": [],
   "source": [
    "icp_df.icp.describe()"
   ]
  },
  {
   "cell_type": "code",
   "execution_count": null,
   "id": "418cb4a52850e70f",
   "metadata": {
    "ExecuteTime": {
     "end_time": "2024-08-10T16:56:23.498109Z",
     "start_time": "2024-08-10T16:56:23.455510Z"
    }
   },
   "outputs": [],
   "source": [
    "ci_df.head()"
   ]
  },
  {
   "cell_type": "code",
   "execution_count": null,
   "id": "d80004c9fca399b3",
   "metadata": {
    "ExecuteTime": {
     "end_time": "2024-08-02T21:05:52.783432Z",
     "start_time": "2024-08-02T21:05:52.757763Z"
    }
   },
   "outputs": [],
   "source": [
    "temperature_df.head()"
   ]
  },
  {
   "cell_type": "code",
   "execution_count": null,
   "id": "d66ac834a8d6c337",
   "metadata": {
    "ExecuteTime": {
     "end_time": "2024-08-02T21:05:05.424347Z",
     "start_time": "2024-08-02T21:05:05.413397Z"
    }
   },
   "outputs": [],
   "source": [
    "cpp_df.head()"
   ]
  },
  {
   "cell_type": "code",
   "execution_count": null,
   "id": "102971318dcb0941",
   "metadata": {
    "ExecuteTime": {
     "end_time": "2024-07-31T14:48:47.529432Z",
     "start_time": "2024-07-31T14:48:47.517240Z"
    }
   },
   "outputs": [],
   "source": [
    "ptio2_df.head()"
   ]
  },
  {
   "cell_type": "code",
   "execution_count": null,
   "id": "5779889594a7c48a",
   "metadata": {
    "ExecuteTime": {
     "end_time": "2024-08-02T21:08:01.653589Z",
     "start_time": "2024-08-02T21:08:01.642690Z"
    }
   },
   "outputs": [],
   "source": [
    "lpr_df.head()"
   ]
  },
  {
   "cell_type": "code",
   "execution_count": null,
   "id": "b33b199bac4ae67b",
   "metadata": {
    "ExecuteTime": {
     "end_time": "2024-08-02T21:08:15.466883Z",
     "start_time": "2024-08-02T21:08:15.453311Z"
    }
   },
   "outputs": [],
   "source": [
    "hr_df.head()"
   ]
  },
  {
   "cell_type": "code",
   "execution_count": null,
   "id": "9e4888ebe24dc4a",
   "metadata": {
    "ExecuteTime": {
     "end_time": "2025-04-14T09:12:18.157501Z",
     "start_time": "2025-04-14T09:12:18.145686Z"
    }
   },
   "outputs": [],
   "source": [
    "icp_df.head()"
   ]
  },
  {
   "cell_type": "code",
   "execution_count": null,
   "id": "a805dd529c4ef3f0",
   "metadata": {
    "ExecuteTime": {
     "end_time": "2025-04-14T09:12:59.590346Z",
     "start_time": "2025-04-14T09:12:33.878705Z"
    }
   },
   "outputs": [],
   "source": [
    "# cpp_df.to_csv('/Users/jk1/Downloads/cpp_df.csv', index=False)\n",
    "# ptio2_df.to_csv('/Users/jk1/Downloads/ptio2_df.csv', index=False)\n",
    "# hr_df.to_csv('/Users/jk1/Downloads/hr_df.csv', index=False)\n",
    "# lpr_df.to_csv('/Users/jk1/Downloads/lpr_df.csv', index=False)\n",
    "# temperature_df.to_csv('/Users/jk1/Downloads/temperature_df.csv', index=False)\n",
    "# ci_df.to_csv('/Users/jk1/Downloads/ci_df.csv', index=False)\n",
    "# etco2_df.to_csv('/Users/jk1/Downloads/etco2_df.csv', index=False)\n",
    "# prx_df.to_csv('/Users/jk1/Downloads/prx_df.csv', index=False)\n",
    "# icp_df.to_csv('/Users/jk1/Downloads/icp_df.csv', index=False)"
   ]
  },
  {
   "cell_type": "code",
   "execution_count": null,
   "id": "a844aab06b1e4732",
   "metadata": {},
   "outputs": [],
   "source": []
  }
 ],
 "metadata": {
  "kernelspec": {
   "display_name": "Python 3",
   "language": "python",
   "name": "python3"
  },
  "language_info": {
   "codemirror_mode": {
    "name": "ipython",
    "version": 2
   },
   "file_extension": ".py",
   "mimetype": "text/x-python",
   "name": "python",
   "nbconvert_exporter": "python",
   "pygments_lexer": "ipython2",
   "version": "2.7.6"
  }
 },
 "nbformat": 4,
 "nbformat_minor": 5
}
