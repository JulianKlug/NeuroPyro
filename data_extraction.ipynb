{
 "cells": [
  {
   "cell_type": "code",
   "execution_count": null,
   "id": "8af7644182388a20",
   "metadata": {
    "ExecuteTime": {
     "end_time": "2024-07-31T13:22:44.101092Z",
     "start_time": "2024-07-31T13:22:43.614362Z"
    }
   },
   "outputs": [],
   "source": [
    "import pandas as pd\n",
    "import os"
   ]
  },
  {
   "cell_type": "code",
   "execution_count": null,
   "id": "89dfdfbd4689a59c",
   "metadata": {
    "ExecuteTime": {
     "end_time": "2024-07-31T13:58:33.385639Z",
     "start_time": "2024-07-31T13:58:33.382917Z"
    }
   },
   "outputs": [],
   "source": [
    "main_data_path = '/Users/jk1/stroke_datasets/ptiO2-Studie'\n",
    "pbto2_meta_data_path = '/Users/jk1/stroke_datasets/ptiO2-Studie/pbto2_for_extraction.csv'"
   ]
  },
  {
   "cell_type": "code",
   "execution_count": null,
   "id": "82b259d70f4ed669",
   "metadata": {
    "ExecuteTime": {
     "end_time": "2024-07-31T13:59:22.307690Z",
     "start_time": "2024-07-31T13:59:22.302451Z"
    }
   },
   "outputs": [],
   "source": [
    "pbto2_meta_data_df = pd.read_csv(pbto2_meta_data_path)"
   ]
  },
  {
   "cell_type": "code",
   "execution_count": null,
   "id": "5007dc200afaf12c",
   "metadata": {
    "ExecuteTime": {
     "end_time": "2024-07-31T14:17:08.654650Z",
     "start_time": "2024-07-31T14:17:08.644605Z"
    }
   },
   "outputs": [],
   "source": [
    "from utils import format_date_column\n",
    "\n",
    "pbto2_meta_data_df['Recording Start Time'] = format_date_column(pbto2_meta_data_df['Recording Start Time'])"
   ]
  },
  {
   "cell_type": "code",
   "execution_count": null,
   "id": "f330eefc4c435daf",
   "metadata": {
    "ExecuteTime": {
     "end_time": "2024-07-31T14:17:08.797661Z",
     "start_time": "2024-07-31T14:17:08.783073Z"
    }
   },
   "outputs": [],
   "source": [
    "pbto2_meta_data_df"
   ]
  },
  {
   "cell_type": "code",
   "execution_count": null,
   "id": "initial_id",
   "metadata": {
    "ExecuteTime": {
     "end_time": "2024-07-31T13:22:44.110545Z",
     "start_time": "2024-07-31T13:22:44.107570Z"
    }
   },
   "outputs": [],
   "source": [
    "manually_verified_supplementary_data_files = {\n",
    "    '23_03': ['P3', 'P4'],\n",
    "    '23_04': ['P3'],\n",
    "    '23_05': ['P3'],\n",
    "    '23_06': ['P3', 'P4'],\n",
    "    '23_09': ['P3'],\n",
    "}"
   ]
  },
  {
   "cell_type": "code",
   "execution_count": null,
   "id": "e94d497c4da41a25",
   "metadata": {
    "ExecuteTime": {
     "end_time": "2024-07-31T14:39:22.436635Z",
     "start_time": "2024-07-31T14:38:23.740800Z"
    }
   },
   "outputs": [],
   "source": [
    "cpp_df = pd.DataFrame()\n",
    "ptio2_df = pd.DataFrame()\n",
    "for year_dir in os.listdir(main_data_path):\n",
    "    year_path = os.path.join(main_data_path, year_dir)\n",
    "    if not os.path.isdir(year_path):\n",
    "        continue\n",
    "    for subj_dir in os.listdir(year_path):\n",
    "        subj_path = os.path.join(year_path, subj_dir)\n",
    "        if not os.path.isdir(subj_path):\n",
    "            continue\n",
    "\n",
    "        pbto2_files = []\n",
    "        cpp_files = []\n",
    "        for file in os.listdir(subj_path):\n",
    "            file_path = os.path.join(subj_path, file)\n",
    "            # check if a file starting with PbtO2 and not ending with quality.txt and not containing 'AvgTime' exists\n",
    "            if file.startswith('PbtO2') and not file.endswith('quality.txt') and 'AvgTime' not in file:\n",
    "                pbto2_files.append(file)\n",
    "            if subj_dir in manually_verified_supplementary_data_files.keys():\n",
    "                # if file startswith any of manually_verified_supplementary_data_files[subj_dir]\n",
    "                if any([file.startswith(f) for f in manually_verified_supplementary_data_files[subj_dir]]) and not file.endswith('quality.txt') and 'AvgTime' not in file:\n",
    "                    pbto2_files.append(file)\n",
    "            if file.startswith('CPP') and not file.endswith('quality.txt') and 'AvgTime' not in file and 'CPP2' not in file:\n",
    "                cpp_files.append(file)\n",
    "                \n",
    "        if len(pbto2_files) > 1:\n",
    "            # remove files with 'inc' in the name\n",
    "            pbto2_files = [f for f in pbto2_files if 'inc' not in f]\n",
    "        \n",
    "        subj_pbto2_df = pd.DataFrame()\n",
    "        for pbto2_file in pbto2_files:\n",
    "            pbto2_path = os.path.join(subj_path, pbto2_file)\n",
    "            single_pbto2_df = pd.read_csv(pbto2_path, sep='\\t')\n",
    "            if 'inc' in pbto2_file:\n",
    "                single_pbto2_df = single_pbto2_df[['Day#', 'ClockTime', 'PbtO2,na,Numeric,Float,LicoxLCX02 (mmHg):Med']]\n",
    "            # set last column as to ptio2\n",
    "            single_pbto2_df.columns = [*single_pbto2_df.columns[:-1], 'ptio2']\n",
    "            subj_pbto2_df = pd.concat([subj_pbto2_df, single_pbto2_df])\n",
    "            \n",
    "                \n",
    "        subj_cpp_df = pd.DataFrame()\n",
    "        for cpp_file in cpp_files:\n",
    "            cpp_path = os.path.join(subj_path, cpp_file)\n",
    "            single_cpp_df = pd.read_csv(cpp_path, sep='\\t')\n",
    "            if 'inc' in cpp_file:\n",
    "                single_cpp_df = single_cpp_df[['Day#', 'ClockTime', 'CPP,na,Numeric,Float,CARESCAPE (mmHg):Med']]\n",
    "            single_cpp_df.columns = [*single_cpp_df.columns[:-1], 'cpp']\n",
    "            subj_cpp_df = pd.concat([subj_cpp_df, single_cpp_df])\n",
    "            \n",
    "        subj_recording_start_date = pbto2_meta_data_df[pbto2_meta_data_df['pat_nr'] == subj_dir]['Recording Start Time']\n",
    "        subj_recording_start_date = pd.to_datetime(subj_recording_start_date.str[:17], format=\"%Y %b %d %H:%M\").dt.date.values[0]\n",
    "            \n",
    "        subj_pbto2_df['ClockTime'] = subj_pbto2_df['ClockTime'].apply(lambda x: x if len(x) > 5 else x + ':00')\n",
    "        subj_cpp_df['ClockTime'] = subj_cpp_df['ClockTime'].apply(lambda x: x if len(x) > 5 else x + ':00')\n",
    "        \n",
    "        subj_pbto2_df['recording_start_date'] = subj_recording_start_date\n",
    "        subj_pbto2_df['datetime'] = subj_pbto2_df['recording_start_date'] + pd.to_timedelta(subj_pbto2_df['Day#'], unit='d') \n",
    "        subj_pbto2_df['datetime'] = subj_pbto2_df['datetime'].astype(str) + ' ' + subj_pbto2_df['ClockTime']\n",
    "        \n",
    "        subj_cpp_df['recording_start_date'] = subj_recording_start_date\n",
    "        subj_cpp_df['datetime'] = subj_cpp_df['recording_start_date'] + pd.to_timedelta(subj_cpp_df['Day#'], unit='d') \n",
    "        subj_cpp_df['datetime'] = subj_cpp_df['datetime'].astype(str) + ' ' + subj_cpp_df['ClockTime']\n",
    "            \n",
    "        subj_pbto2_df['pat_nr'] = subj_dir\n",
    "        subj_cpp_df['pat_nr'] = subj_dir\n",
    "        \n",
    "        cpp_df = pd.concat([cpp_df, subj_cpp_df])\n",
    "        ptio2_df = pd.concat([ptio2_df, subj_pbto2_df])\n",
    "        \n",
    "cpp_df = cpp_df.drop(columns=['MRN'])\n",
    "ptio2_df = ptio2_df.drop(columns=['MRN'])           "
   ]
  },
  {
   "cell_type": "code",
   "execution_count": null,
   "id": "d66ac834a8d6c337",
   "metadata": {
    "ExecuteTime": {
     "end_time": "2024-07-31T14:48:47.102670Z",
     "start_time": "2024-07-31T14:48:47.092852Z"
    }
   },
   "outputs": [],
   "source": [
    "cpp_df.head()"
   ]
  },
  {
   "cell_type": "code",
   "execution_count": null,
   "id": "102971318dcb0941",
   "metadata": {
    "ExecuteTime": {
     "end_time": "2024-07-31T14:48:47.529432Z",
     "start_time": "2024-07-31T14:48:47.517240Z"
    }
   },
   "outputs": [],
   "source": [
    "ptio2_df.head()"
   ]
  },
  {
   "cell_type": "code",
   "execution_count": null,
   "id": "a805dd529c4ef3f0",
   "metadata": {
    "ExecuteTime": {
     "end_time": "2024-07-31T14:50:16.238113Z",
     "start_time": "2024-07-31T14:49:46.685147Z"
    }
   },
   "outputs": [],
   "source": [
    "cpp_df.to_csv('/Users/jk1/Downloads/cpp_df.csv', index=False)\n",
    "ptio2_df.to_csv('/Users/jk1/Downloads/ptio2_df.csv', index=False)"
   ]
  },
  {
   "cell_type": "code",
   "execution_count": null,
   "id": "7a21a5759de18f92",
   "metadata": {},
   "outputs": [],
   "source": []
  }
 ],
 "metadata": {
  "kernelspec": {
   "display_name": "Python 3",
   "language": "python",
   "name": "python3"
  },
  "language_info": {
   "codemirror_mode": {
    "name": "ipython",
    "version": 2
   },
   "file_extension": ".py",
   "mimetype": "text/x-python",
   "name": "python",
   "nbconvert_exporter": "python",
   "pygments_lexer": "ipython2",
   "version": "2.7.6"
  }
 },
 "nbformat": 4,
 "nbformat_minor": 5
}
