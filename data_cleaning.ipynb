{
 "cells": [
  {
   "cell_type": "code",
   "execution_count": null,
   "id": "initial_id",
   "metadata": {
    "ExecuteTime": {
     "end_time": "2024-11-05T08:40:19.223650Z",
     "start_time": "2024-11-05T08:40:19.220869Z"
    }
   },
   "outputs": [],
   "source": [
    "import os\n",
    "import pandas as pd"
   ]
  },
  {
   "cell_type": "code",
   "execution_count": null,
   "id": "93311c1968c824b0",
   "metadata": {
    "ExecuteTime": {
     "end_time": "2024-11-05T08:41:28.767195Z",
     "start_time": "2024-11-05T08:41:28.764323Z"
    }
   },
   "outputs": [],
   "source": [
    "ptio2_path = '/Users/jk1/stroke_datasets/ptiO2-Studie/moberg_extracted_data/ptio2_df.csv'\n",
    "main_data_path = '/Users/jk1/stroke_datasets/ptiO2-Studie/moberg_data'\n",
    "pbto2_meta_data_path = '/Users/jk1/stroke_datasets/ptiO2-Studie/pbto2_for_extraction.csv'"
   ]
  },
  {
   "cell_type": "code",
   "execution_count": null,
   "id": "43b1fe03d6471f2e",
   "metadata": {
    "ExecuteTime": {
     "end_time": "2024-11-05T08:41:29.023980Z",
     "start_time": "2024-11-05T08:41:29.020829Z"
    }
   },
   "outputs": [],
   "source": [
    "manually_verified_supplementary_data_files = {\n",
    "    '23_03': ['P3', 'P4'],\n",
    "    '23_04': ['P3'],\n",
    "    '23_05': ['P3'],\n",
    "    '23_06': ['P3', 'P4'],\n",
    "    '23_09': ['P3'],\n",
    "}"
   ]
  },
  {
   "cell_type": "code",
   "execution_count": null,
   "id": "726bd3feb87c24b4",
   "metadata": {
    "ExecuteTime": {
     "end_time": "2024-11-05T08:41:30.543387Z",
     "start_time": "2024-11-05T08:41:29.339818Z"
    }
   },
   "outputs": [],
   "source": [
    "ptio2_df = pd.read_csv(ptio2_path)\n",
    "pbto2_meta_data_df = pd.read_csv(pbto2_meta_data_path)"
   ]
  },
  {
   "cell_type": "code",
   "execution_count": null,
   "id": "4f2210be8e9b2d06",
   "metadata": {
    "ExecuteTime": {
     "end_time": "2024-11-05T08:43:21.919022Z",
     "start_time": "2024-11-05T08:43:21.913452Z"
    }
   },
   "outputs": [],
   "source": [
    "from utils import format_date_column\n",
    "\n",
    "pbto2_meta_data_df['Recording Start Time'] = format_date_column(pbto2_meta_data_df['Recording Start Time'])"
   ]
  },
  {
   "cell_type": "code",
   "execution_count": null,
   "id": "428ed14713e36d9b",
   "metadata": {
    "ExecuteTime": {
     "end_time": "2024-11-05T08:43:23.175544Z",
     "start_time": "2024-11-05T08:43:23.166080Z"
    }
   },
   "outputs": [],
   "source": [
    "ptio2_df.head()"
   ]
  },
  {
   "cell_type": "markdown",
   "id": "6e1706bf7d50ad89",
   "metadata": {},
   "source": [
    "# Extract quality data"
   ]
  },
  {
   "cell_type": "code",
   "execution_count": null,
   "id": "b6861585dd2a1d95",
   "metadata": {
    "ExecuteTime": {
     "end_time": "2024-11-05T08:44:51.330972Z",
     "start_time": "2024-11-05T08:44:50.800811Z"
    }
   },
   "outputs": [],
   "source": [
    "ptio2_quality_df = pd.DataFrame()\n",
    "\n",
    "for year_dir in os.listdir(main_data_path):\n",
    "    year_path = os.path.join(main_data_path, year_dir)\n",
    "    if not os.path.isdir(year_path):\n",
    "        continue\n",
    "    for subj_dir in os.listdir(year_path):\n",
    "        subj_path = os.path.join(year_path, subj_dir)\n",
    "        if not os.path.isdir(subj_path):\n",
    "            continue\n",
    "\n",
    "        pbto2_quality_files = []\n",
    "        for file in os.listdir(subj_path):\n",
    "            file_path = os.path.join(subj_path, file)\n",
    "            # check if a file starting with PbtO2 and not ending with quality.txt and not containing 'AvgTime' exists\n",
    "            if file.startswith('PbtO2') and file.endswith('quality.txt') and 'AvgTime' not in file:\n",
    "                pbto2_quality_files.append(file)\n",
    "            if subj_dir in manually_verified_supplementary_data_files.keys():\n",
    "                # if file startswith any of manually_verified_supplementary_data_files[subj_dir]\n",
    "                if any([file.startswith(f) for f in manually_verified_supplementary_data_files[subj_dir]]) and file.endswith('quality.txt') and 'AvgTime' not in file:\n",
    "                    pbto2_quality_files.append(file)\n",
    "         \n",
    "        if len(pbto2_quality_files) > 1:\n",
    "            # remove files with 'inc' in the name\n",
    "            pbto2_quality_files = [f for f in pbto2_quality_files if 'inc' not in f]\n",
    "        \n",
    "        subj_pbto2_quality_df = pd.DataFrame()\n",
    "        for pbto2_quality_file in pbto2_quality_files:\n",
    "            pbto2_path = os.path.join(subj_path, pbto2_quality_file)\n",
    "            single_pbto2_df = pd.read_csv(pbto2_path, sep='\\t')\n",
    "            # if 'inc' in pbto2_file:\n",
    "            #     single_pbto2_df = single_pbto2_df[['Day#', 'ClockTime', 'PbtO2,na,Numeric,Float,LicoxLCX02 (mmHg):Med']]\n",
    "            # set last column as to ptio2_quality\n",
    "            single_pbto2_df.columns = [*single_pbto2_df.columns[:-1], 'ptio2_quality']\n",
    "            subj_pbto2_quality_df = pd.concat([subj_pbto2_quality_df, single_pbto2_df])\n",
    "            \n",
    "        subj_recording_start_date = pbto2_meta_data_df[pbto2_meta_data_df['pat_nr'] == subj_dir]['Recording Start Time']\n",
    "        subj_recording_start_date = pd.to_datetime(subj_recording_start_date.str[:17], format=\"%Y %b %d %H:%M\").dt.date.values[0]\n",
    "                \n",
    "        for subj_var_df in [subj_pbto2_quality_df]:\n",
    "            if subj_var_df.shape == (0,0):\n",
    "                continue\n",
    "            subj_var_df['ClockTime'] = subj_var_df['ClockTime'].apply(lambda x: x if len(x) > 5 else x + ':00')\n",
    "            subj_var_df['recording_start_date'] = subj_recording_start_date\n",
    "            subj_var_df['datetime'] = pd.to_datetime(subj_var_df['recording_start_date']) + pd.to_timedelta(subj_var_df['Day#'], unit='d') \n",
    "            subj_var_df['datetime'] = subj_var_df['datetime'].astype(str) + ' ' + subj_var_df['ClockTime']\n",
    "                \n",
    "            subj_var_df['pat_nr'] = subj_dir\n",
    "\n",
    "        ptio2_quality_df = pd.concat([ptio2_quality_df, subj_pbto2_quality_df])\n",
    "\n",
    "for var_df in [ptio2_quality_df]:\n",
    "    var_df.drop(columns=['MRN'], inplace=True)"
   ]
  },
  {
   "cell_type": "code",
   "execution_count": null,
   "id": "28058ab9f116bb7d",
   "metadata": {
    "ExecuteTime": {
     "end_time": "2024-11-05T08:45:04.750687Z",
     "start_time": "2024-11-05T08:45:04.741210Z"
    }
   },
   "outputs": [],
   "source": [
    "ptio2_quality_df"
   ]
  },
  {
   "cell_type": "code",
   "execution_count": null,
   "id": "d2156f7eb96e2d9",
   "metadata": {
    "ExecuteTime": {
     "end_time": "2024-11-05T08:46:22.211936Z",
     "start_time": "2024-11-05T08:46:22.205657Z"
    }
   },
   "outputs": [],
   "source": [
    "ptio2_quality_df.ptio2_quality.value_counts()"
   ]
  },
  {
   "cell_type": "code",
   "execution_count": null,
   "id": "4ab1ea0e3ff592cd",
   "metadata": {
    "ExecuteTime": {
     "end_time": "2024-11-05T09:27:14.309803Z",
     "start_time": "2024-11-05T09:27:14.306831Z"
    }
   },
   "outputs": [],
   "source": [
    "# flags that all next measures until next normal dataquality flag are bad\n",
    "bad_data_quality_flags = ['Value Out Of Range', 'Suppress Data; Unapproved Source', 'Suppress Data', 'Value Out Of Range; Unapproved Source']\n",
    "good_data_quality_flags = ['Data Quality Normal', 'Unapproved Source']"
   ]
  },
  {
   "cell_type": "code",
   "execution_count": null,
   "id": "7d9799eec824cb04",
   "metadata": {
    "ExecuteTime": {
     "end_time": "2024-11-05T09:27:22.388376Z",
     "start_time": "2024-11-05T09:27:15.454677Z"
    }
   },
   "outputs": [],
   "source": [
    "filtered_ptio2_df = pd.DataFrame()\n",
    "for subj in ptio2_df['pat_nr'].unique():\n",
    "    subj_df = ptio2_df[ptio2_df['pat_nr'] == subj]\n",
    "    subj_quality_df = ptio2_quality_df[ptio2_quality_df['pat_nr'] == subj]\n",
    "    subj_df['bad_quality_data'] = 0\n",
    "    subj_quality_df.sort_values(by='datetime', inplace=True)\n",
    "    \n",
    "    for i, row in subj_quality_df.iterrows():\n",
    "        if row['ptio2_quality'] in bad_data_quality_flags:\n",
    "            subj_df.loc[subj_df['datetime'] >= row['datetime'], 'bad_quality_data'] = 1\n",
    "        elif row['ptio2_quality'] in good_data_quality_flags:\n",
    "            subj_df.loc[subj_df['datetime'] >= row['datetime'], 'bad_quality_data'] = 0\n",
    "            \n",
    "    filtered_ptio2_df = pd.concat([filtered_ptio2_df, subj_df])\n",
    "            "
   ]
  },
  {
   "cell_type": "code",
   "execution_count": null,
   "id": "a206c36be7e4de11",
   "metadata": {
    "ExecuteTime": {
     "end_time": "2024-11-05T09:27:22.423908Z",
     "start_time": "2024-11-05T09:27:22.411852Z"
    }
   },
   "outputs": [],
   "source": [
    "filtered_ptio2_df"
   ]
  },
  {
   "cell_type": "code",
   "execution_count": null,
   "id": "bb780814c1abe5a8",
   "metadata": {
    "ExecuteTime": {
     "end_time": "2024-11-05T09:27:25.380557Z",
     "start_time": "2024-11-05T09:27:25.291780Z"
    }
   },
   "outputs": [],
   "source": [
    "filtered_ptio2_df.groupby('pat_nr')['bad_quality_data'].value_counts(normalize=True)"
   ]
  },
  {
   "cell_type": "code",
   "execution_count": null,
   "id": "e637ae1ea895d8ef",
   "metadata": {
    "ExecuteTime": {
     "end_time": "2024-11-05T09:38:36.374297Z",
     "start_time": "2024-11-05T09:38:36.365231Z"
    }
   },
   "outputs": [],
   "source": [
    "ptio2_quality_df[ptio2_quality_df['pat_nr'] == '20_12']"
   ]
  },
  {
   "cell_type": "code",
   "execution_count": null,
   "id": "7bad95a32322d51d",
   "metadata": {
    "ExecuteTime": {
     "end_time": "2024-11-05T09:39:51.966459Z",
     "start_time": "2024-11-05T09:39:51.912888Z"
    }
   },
   "outputs": [],
   "source": [
    "temp = filtered_ptio2_df[(filtered_ptio2_df['pat_nr'] == '20_12') & (filtered_ptio2_df['bad_quality_data'] == 1)]"
   ]
  },
  {
   "cell_type": "code",
   "execution_count": null,
   "id": "fed4d67d5fa34667",
   "metadata": {
    "ExecuteTime": {
     "end_time": "2024-11-05T09:44:49.173624Z",
     "start_time": "2024-11-05T09:44:32.889839Z"
    }
   },
   "outputs": [],
   "source": [
    "import seaborn as sns\n",
    "import matplotlib.pyplot as plt\n",
    "# subj list 19_15, 20_01, 20_06, 20_09, 20_12, 21_12 21_16\n",
    "subj_list = ['19_15', '20_01', '20_06', '20_09', '20_12', '21_12', '21_16']\n",
    "\n",
    "for subj in filtered_ptio2_df['pat_nr'].unique():\n",
    "    fig = plt.figure()\n",
    "    temp = filtered_ptio2_df[(filtered_ptio2_df['pat_nr'] == subj) & (filtered_ptio2_df['bad_quality_data'] == 1)]\n",
    "    try:\n",
    "        ax = sns.histplot(temp['ptio2'].astype(float))\n",
    "        ax.set_title(subj)\n",
    "    except:\n",
    "        pass\n"
   ]
  },
  {
   "cell_type": "code",
   "execution_count": null,
   "id": "c21a498cbf54b6d0",
   "metadata": {
    "ExecuteTime": {
     "end_time": "2024-11-05T10:14:47.600718Z",
     "start_time": "2024-11-05T10:14:43.628560Z"
    }
   },
   "outputs": [],
   "source": [
    "# filtered_ptio2_df.to_csv('/Users/jk1/stroke_datasets/ptiO2-Studie/moberg_extracted_data/ptio2_df_filtered.csv', index=False)"
   ]
  },
  {
   "cell_type": "code",
   "execution_count": null,
   "id": "9a3df6b569bbdac3",
   "metadata": {},
   "outputs": [],
   "source": []
  }
 ],
 "metadata": {
  "kernelspec": {
   "display_name": "Python 3",
   "language": "python",
   "name": "python3"
  },
  "language_info": {
   "codemirror_mode": {
    "name": "ipython",
    "version": 2
   },
   "file_extension": ".py",
   "mimetype": "text/x-python",
   "name": "python",
   "nbconvert_exporter": "python",
   "pygments_lexer": "ipython2",
   "version": "2.7.6"
  }
 },
 "nbformat": 4,
 "nbformat_minor": 5
}
