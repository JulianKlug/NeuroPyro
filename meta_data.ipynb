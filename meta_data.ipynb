{
 "cells": [
  {
   "cell_type": "code",
   "execution_count": null,
   "id": "initial_id",
   "metadata": {
    "ExecuteTime": {
     "end_time": "2024-07-31T13:19:06.631838Z",
     "start_time": "2024-07-31T13:19:06.628673Z"
    }
   },
   "outputs": [],
   "source": [
    "import pandas as pd"
   ]
  },
  {
   "cell_type": "code",
   "execution_count": null,
   "id": "1f37041cb8628569",
   "metadata": {
    "ExecuteTime": {
     "end_time": "2024-07-31T13:19:07.143068Z",
     "start_time": "2024-07-31T13:19:07.140195Z"
    }
   },
   "outputs": [],
   "source": [
    "drug_administrations_path = '/Users/jk1/stroke_datasets/ptiO2-Studie/drug_administrations.xlsx'"
   ]
  },
  {
   "cell_type": "code",
   "execution_count": null,
   "id": "95b1ccf6a7f107e6",
   "metadata": {
    "ExecuteTime": {
     "end_time": "2024-07-31T13:19:07.983162Z",
     "start_time": "2024-07-31T13:19:07.960702Z"
    }
   },
   "outputs": [],
   "source": [
    "drug_administrations = pd.read_excel(drug_administrations_path)"
   ]
  },
  {
   "cell_type": "code",
   "execution_count": null,
   "id": "fc8a4efac4307e6",
   "metadata": {
    "ExecuteTime": {
     "end_time": "2024-07-31T13:19:26.606853Z",
     "start_time": "2024-07-31T13:19:26.603256Z"
    }
   },
   "outputs": [],
   "source": [
    "drug_administrations = drug_administrations[drug_administrations.monitored]"
   ]
  },
  {
   "cell_type": "code",
   "execution_count": null,
   "id": "aded162e83a6e06f",
   "metadata": {
    "ExecuteTime": {
     "end_time": "2024-07-31T13:19:27.180665Z",
     "start_time": "2024-07-31T13:19:27.171618Z"
    }
   },
   "outputs": [],
   "source": [
    "drug_administrations.head()"
   ]
  },
  {
   "cell_type": "code",
   "execution_count": null,
   "id": "b8a74d234ed4ca86",
   "metadata": {
    "ExecuteTime": {
     "end_time": "2024-07-31T13:19:29.708196Z",
     "start_time": "2024-07-31T13:19:29.704381Z"
    }
   },
   "outputs": [],
   "source": [
    "drug_administrations['duration'] = drug_administrations['drug_end'] - drug_administrations['drug_start']"
   ]
  },
  {
   "cell_type": "code",
   "execution_count": null,
   "id": "d2d9f6216cc846b",
   "metadata": {
    "ExecuteTime": {
     "end_time": "2024-07-31T13:19:29.999851Z",
     "start_time": "2024-07-31T13:19:29.993710Z"
    }
   },
   "outputs": [],
   "source": [
    "drug_administrations['duration'].describe()"
   ]
  },
  {
   "cell_type": "code",
   "execution_count": null,
   "id": "af76b7b4ae278a2f",
   "metadata": {},
   "outputs": [],
   "source": []
  }
 ],
 "metadata": {
  "kernelspec": {
   "display_name": "Python 3",
   "language": "python",
   "name": "python3"
  },
  "language_info": {
   "codemirror_mode": {
    "name": "ipython",
    "version": 2
   },
   "file_extension": ".py",
   "mimetype": "text/x-python",
   "name": "python",
   "nbconvert_exporter": "python",
   "pygments_lexer": "ipython2",
   "version": "2.7.6"
  }
 },
 "nbformat": 4,
 "nbformat_minor": 5
}
