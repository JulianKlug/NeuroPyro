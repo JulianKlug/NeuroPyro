{
 "cells": [
  {
   "cell_type": "code",
   "execution_count": null,
   "id": "initial_id",
   "metadata": {
    "ExecuteTime": {
     "end_time": "2024-10-02T13:23:02.473407Z",
     "start_time": "2024-10-02T13:22:54.050082Z"
    }
   },
   "outputs": [],
   "source": [
    "import pandas as pd"
   ]
  },
  {
   "cell_type": "code",
   "execution_count": null,
   "id": "26d379d53d4b67e6",
   "metadata": {
    "ExecuteTime": {
     "end_time": "2024-10-02T13:23:02.478518Z",
     "start_time": "2024-10-02T13:23:02.475584Z"
    }
   },
   "outputs": [],
   "source": [
    "drug_administration_path = '/Users/jk1/stroke_datasets/ptiO2-Studie/drug_administrations.xlsx'\n",
    "moberg_registry_path = '/Users/jk1/stroke_datasets/ptiO2-Studie/moberg_registry_kssg.xlsx'"
   ]
  },
  {
   "cell_type": "code",
   "execution_count": null,
   "id": "5424aa53dcbacb71",
   "metadata": {
    "ExecuteTime": {
     "end_time": "2024-10-02T13:23:02.482768Z",
     "start_time": "2024-10-02T13:23:02.479693Z"
    }
   },
   "outputs": [],
   "source": [
    "exclude_short_infusions = True"
   ]
  },
  {
   "cell_type": "code",
   "execution_count": null,
   "id": "d9d665e5f9ecfe26",
   "metadata": {
    "ExecuteTime": {
     "end_time": "2024-10-02T13:23:03.062405Z",
     "start_time": "2024-10-02T13:23:02.485095Z"
    }
   },
   "outputs": [],
   "source": [
    "drug_administration_df = pd.read_excel(drug_administration_path)\n",
    "moberg_registry_df = pd.read_excel(moberg_registry_path)"
   ]
  },
  {
   "cell_type": "code",
   "execution_count": null,
   "id": "f77ae65b490df858",
   "metadata": {
    "ExecuteTime": {
     "end_time": "2024-10-02T13:23:03.070016Z",
     "start_time": "2024-10-02T13:23:03.064539Z"
    }
   },
   "outputs": [],
   "source": [
    "screening_start = '2018 Nov 07 11:24:38'\n",
    "screening_end = '2024 Apr 15 23:27'\n",
    "n_patients_screened = moberg_registry_df['Pat. Nr.'].nunique()\n",
    "print(f'Screening start: {screening_start}')\n",
    "print(f'Screening end: {screening_end}')\n",
    "print(f'Number of patients screened: {n_patients_screened}')"
   ]
  },
  {
   "cell_type": "code",
   "execution_count": null,
   "id": "f33c9e1d3a36b499",
   "metadata": {
    "ExecuteTime": {
     "end_time": "2024-10-02T13:23:03.082237Z",
     "start_time": "2024-10-02T13:23:03.071624Z"
    }
   },
   "outputs": [],
   "source": [
    "drug_administration_df = drug_administration_df[drug_administration_df.monitored]\n",
    "\n",
    "n_patients_with_diclofenac_and_monitoring = drug_administration_df['pat_nr'].nunique()\n",
    "print(f'Number of patients with diclofenac and monitoring: {n_patients_with_diclofenac_and_monitoring}')\n",
    "\n",
    "n_patients_before = drug_administration_df['pat_nr'].nunique()\n",
    "# print patients with exclusion criterium\n",
    "print(f'Excluding {drug_administration_df[~pd.isna(drug_administration_df[\"further_exclusion_criterium\"])].shape[0]} infusions with {drug_administration_df[~pd.isna(drug_administration_df[\"further_exclusion_criterium\"])][\"further_exclusion_criterium\"].nunique()} different further exclusion criteria')\n",
    "# exclude if further_exclusion_criterium is not Nan\n",
    "drug_administration_df = drug_administration_df[pd.isna(drug_administration_df['further_exclusion_criterium'])]\n",
    "# print number of patients excluded\n",
    "print(f'Excluding {n_patients_before - drug_administration_df[\"pat_nr\"].nunique()} patients with further exclusion criterium')\n",
    "\n",
    "if exclude_short_infusions:\n",
    "    n_patients_before = drug_administration_df['pat_nr'].nunique()\n",
    "    drug_administration_df['infusion_duration'] = (pd.to_datetime(drug_administration_df['drug_end']) - pd.to_datetime(drug_administration_df['drug_start'])).dt.total_seconds() / 3600\n",
    "    print(f'Excluding {drug_administration_df[drug_administration_df[\"infusion_duration\"] <= 1].shape[0]} infusions with duration <= 1h')\n",
    "    drug_administration_df = drug_administration_df[drug_administration_df['infusion_duration'] > 1]\n",
    "    print(f'Excluding {n_patients_before - drug_administration_df[\"pat_nr\"].nunique()} patients with infusions with duration <= 1h')"
   ]
  },
  {
   "cell_type": "code",
   "execution_count": null,
   "id": "e19dcf3ca05132ec",
   "metadata": {
    "ExecuteTime": {
     "end_time": "2024-10-02T13:23:03.087272Z",
     "start_time": "2024-10-02T13:23:03.083784Z"
    }
   },
   "outputs": [],
   "source": [
    "n_patients = drug_administration_df.pat_nr.nunique()\n",
    "n_administrations = drug_administration_df.shape[0]\n",
    "print(f'Number of patients: {n_patients}')\n",
    "print(f'Number of administrations: {n_administrations}')"
   ]
  },
  {
   "cell_type": "code",
   "execution_count": null,
   "id": "4991b00235149330",
   "metadata": {
    "ExecuteTime": {
     "end_time": "2024-10-02T13:23:03.098218Z",
     "start_time": "2024-10-02T13:23:03.088829Z"
    }
   },
   "outputs": [],
   "source": [
    "drug_administration_df['duration'] = (drug_administration_df['drug_end'] - drug_administration_df['drug_start']).dt.total_seconds() / 3600\n",
    "drug_administration_df['duration'].describe()"
   ]
  },
  {
   "cell_type": "code",
   "execution_count": null,
   "id": "b00a5058ad73173d",
   "metadata": {
    "ExecuteTime": {
     "end_time": "2024-10-02T13:34:23.965342Z",
     "start_time": "2024-10-02T13:34:23.950902Z"
    }
   },
   "outputs": [],
   "source": [
    "drug_administration_df"
   ]
  },
  {
   "cell_type": "code",
   "execution_count": null,
   "id": "7186ba2d10f32c0",
   "metadata": {
    "ExecuteTime": {
     "end_time": "2024-10-02T13:23:03.107294Z",
     "start_time": "2024-10-02T13:23:03.099727Z"
    }
   },
   "outputs": [],
   "source": [
    "# 2988-10-28 00:00:00 in Date of Birth should be 1988-10-28\n",
    "moberg_registry_df['Date of Birth'] = moberg_registry_df['Date of Birth'].astype(str).str.replace('2988', '1988')\n",
    "moberg_registry_df['age'] =  pd.to_datetime(moberg_registry_df['Jahr'], format='%Y').dt.year - pd.to_datetime(moberg_registry_df['Date of Birth']).dt.year"
   ]
  },
  {
   "cell_type": "code",
   "execution_count": null,
   "id": "94763697a54c4454",
   "metadata": {
    "ExecuteTime": {
     "end_time": "2024-10-02T13:23:03.114838Z",
     "start_time": "2024-10-02T13:23:03.111473Z"
    }
   },
   "outputs": [],
   "source": [
    "selected_moberg_registry_df = moberg_registry_df[moberg_registry_df['Pat. Nr.'].isin(drug_administration_df.pat_nr)]"
   ]
  },
  {
   "cell_type": "code",
   "execution_count": null,
   "id": "13f6833a444a35d2",
   "metadata": {
    "ExecuteTime": {
     "end_time": "2024-10-02T13:23:57.680445Z",
     "start_time": "2024-10-02T13:23:57.676763Z"
    }
   },
   "outputs": [],
   "source": [
    "selected_moberg_registry_df.columns"
   ]
  },
  {
   "cell_type": "code",
   "execution_count": null,
   "id": "15f304858118f37c",
   "metadata": {
    "ExecuteTime": {
     "end_time": "2024-10-02T13:27:47.816442Z",
     "start_time": "2024-10-02T13:27:47.785499Z"
    }
   },
   "outputs": [],
   "source": [
    "temp = selected_moberg_registry_df[['Jahr', 'Pat. Nr.', 'Patient First Name', 'Patient Last Name',\n",
    "       'Medical Record Number', 'Date of Birth','Recording Start Time']]"
   ]
  },
  {
   "cell_type": "code",
   "execution_count": null,
   "id": "aad00e841ebb6cac",
   "metadata": {
    "ExecuteTime": {
     "end_time": "2024-10-02T13:37:34.029946Z",
     "start_time": "2024-10-02T13:37:34.019122Z"
    }
   },
   "outputs": [],
   "source": [
    "# for every patient in selected_moberg_registry_df, get first and last drug administration from drug_administration_df\n",
    "first_drug_administration = drug_administration_df.groupby('pat_nr').agg({'drug_start': 'min'}).reset_index()\n",
    "first_drug_administration.columns = ['Pat. Nr.', 'First Drug Administration']\n",
    "last_drug_administration = drug_administration_df.groupby('pat_nr').agg({'drug_start': 'max'}).reset_index()\n",
    "last_drug_administration.columns = ['Pat. Nr.', 'Last Drug Administration']\n",
    "\n",
    "first_last_drug_administration = first_drug_administration.merge(last_drug_administration, on='Pat. Nr.')\n",
    "# merge with selected_moberg_registry_df\n",
    "temp = temp.merge(first_last_drug_administration, on='Pat. Nr.')"
   ]
  },
  {
   "cell_type": "code",
   "execution_count": null,
   "id": "75935ff7ac0d2b95",
   "metadata": {
    "ExecuteTime": {
     "end_time": "2024-10-02T13:37:36.516623Z",
     "start_time": "2024-10-02T13:37:36.505438Z"
    }
   },
   "outputs": [],
   "source": [
    "temp"
   ]
  },
  {
   "cell_type": "code",
   "execution_count": null,
   "id": "d88087cc98b67294",
   "metadata": {
    "ExecuteTime": {
     "end_time": "2024-10-02T13:37:43.006660Z",
     "start_time": "2024-10-02T13:37:42.988272Z"
    }
   },
   "outputs": [],
   "source": [
    "# temp.to_excel('/Users/jk1/Downloads/selected_moberg_registry_for_extraction_df.xlsx', index=False)\n"
   ]
  },
  {
   "cell_type": "code",
   "execution_count": null,
   "id": "481391f9f931da1a",
   "metadata": {
    "ExecuteTime": {
     "end_time": "2024-10-02T13:23:03.120710Z",
     "start_time": "2024-10-02T13:23:03.116399Z"
    }
   },
   "outputs": [],
   "source": [
    "def create_table1(df):\n",
    "    table1 = pd.DataFrame()\n",
    "    table1['Number of patients'] = [n_patients]\n",
    "    table1['Number of drug administrations'] = n_administrations\n",
    "    table1['Age'] = f'{df.age.median():.0f} ({df.age.quantile(0.25):.0f}-{df.age.quantile(0.75):.0f})'\n",
    "    table1['Gender (female)'] = f'{df.Gender.value_counts().get(\"Female\", 0)} ({df.Gender.value_counts().get(\"Female\", 0) / n_patients * 100:.0f}%)'\n",
    "    \n",
    "    table1['Neurovascular'] = f'{df.Diagnose.value_counts().get(\"Stroke\", 0)} ({df.Diagnose.value_counts().get(\"Stroke\", 0) / n_patients * 100:.0f}%)'\n",
    "    table1['TBI'] = f'{df.Diagnose.value_counts().get(\"TBI\", 0)} ({df.Diagnose.value_counts().get(\"TBI\", 0) / n_patients * 100:.0f}%)'\n",
    "    \n",
    "    table1['ISS'] = f'{df.ISS.median():.0f} ({df.ISS.quantile(0.25):.0f}-{df.ISS.quantile(0.75):.0f})'\n",
    "    table1['Hunt & Hess'] = f'{df[\"Hunt & Hess\"].median():.0f} ({df[\"Hunt & Hess\"].quantile(0.25):.0f}-{df[\"Hunt & Hess\"].quantile(0.75):.0f})'\n",
    "    \n",
    "    return table1.T"
   ]
  },
  {
   "cell_type": "code",
   "execution_count": null,
   "id": "a72a4a7529b602ca",
   "metadata": {
    "ExecuteTime": {
     "end_time": "2024-10-02T13:23:03.137124Z",
     "start_time": "2024-10-02T13:23:03.122117Z"
    }
   },
   "outputs": [],
   "source": [
    "create_table1(selected_moberg_registry_df)"
   ]
  },
  {
   "cell_type": "code",
   "execution_count": null,
   "id": "925a6a8cbe189003",
   "metadata": {
    "ExecuteTime": {
     "end_time": "2024-08-16T19:48:24.115736Z",
     "start_time": "2024-08-16T19:48:24.113756Z"
    }
   },
   "outputs": [],
   "source": []
  }
 ],
 "metadata": {
  "kernelspec": {
   "display_name": "Python 3",
   "language": "python",
   "name": "python3"
  },
  "language_info": {
   "codemirror_mode": {
    "name": "ipython",
    "version": 2
   },
   "file_extension": ".py",
   "mimetype": "text/x-python",
   "name": "python",
   "nbconvert_exporter": "python",
   "pygments_lexer": "ipython2",
   "version": "2.7.6"
  }
 },
 "nbformat": 4,
 "nbformat_minor": 5
}
