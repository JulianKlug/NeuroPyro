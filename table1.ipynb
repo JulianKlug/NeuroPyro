{
 "cells": [
  {
   "cell_type": "code",
   "execution_count": null,
   "id": "initial_id",
   "metadata": {
    "ExecuteTime": {
     "end_time": "2024-11-05T16:25:34.147431Z",
     "start_time": "2024-11-05T16:25:34.144620Z"
    }
   },
   "outputs": [],
   "source": [
    "import pandas as pd"
   ]
  },
  {
   "cell_type": "code",
   "execution_count": null,
   "id": "26d379d53d4b67e6",
   "metadata": {
    "ExecuteTime": {
     "end_time": "2024-11-05T16:25:34.453899Z",
     "start_time": "2024-11-05T16:25:34.450942Z"
    }
   },
   "outputs": [],
   "source": [
    "drug_administration_path = '/Users/jk1/stroke_datasets/ptiO2-Studie/drug_administrations.xlsx'\n",
    "moberg_registry_path = '/Users/jk1/stroke_datasets/ptiO2-Studie/moberg_registry_kssg.xlsx'\n",
    "diclofenac_registry_meta_data_path = '/Users/jk1/Library/CloudStorage/OneDrive-unige.ch/icu_research/neurocrit_fever/data/diclofenac_moberg_registry_meta_data.xlsx'"
   ]
  },
  {
   "cell_type": "code",
   "execution_count": null,
   "id": "5424aa53dcbacb71",
   "metadata": {
    "ExecuteTime": {
     "end_time": "2024-11-05T16:25:34.711249Z",
     "start_time": "2024-11-05T16:25:34.708395Z"
    }
   },
   "outputs": [],
   "source": [
    "exclude_short_infusions = True"
   ]
  },
  {
   "cell_type": "code",
   "execution_count": null,
   "id": "d9d665e5f9ecfe26",
   "metadata": {
    "ExecuteTime": {
     "end_time": "2024-11-05T16:25:34.913806Z",
     "start_time": "2024-11-05T16:25:34.855476Z"
    }
   },
   "outputs": [],
   "source": [
    "drug_administration_df = pd.read_excel(drug_administration_path)\n",
    "moberg_registry_df = pd.read_excel(moberg_registry_path)\n",
    "diclofenac_registry_meta_data_df = pd.read_excel(diclofenac_registry_meta_data_path)"
   ]
  },
  {
   "cell_type": "code",
   "execution_count": null,
   "id": "f77ae65b490df858",
   "metadata": {
    "ExecuteTime": {
     "end_time": "2024-11-05T16:25:35.018112Z",
     "start_time": "2024-11-05T16:25:35.014231Z"
    }
   },
   "outputs": [],
   "source": [
    "screening_start = '2018 Nov 07 11:24:38'\n",
    "screening_end = '2024 Apr 15 23:27'\n",
    "n_patients_screened = moberg_registry_df['Pat. Nr.'].nunique()\n",
    "print(f'Screening start: {screening_start}')\n",
    "print(f'Screening end: {screening_end}')\n",
    "print(f'Number of patients screened: {n_patients_screened}')"
   ]
  },
  {
   "cell_type": "code",
   "execution_count": null,
   "id": "f33c9e1d3a36b499",
   "metadata": {
    "ExecuteTime": {
     "end_time": "2024-11-05T16:25:35.206337Z",
     "start_time": "2024-11-05T16:25:35.196304Z"
    }
   },
   "outputs": [],
   "source": [
    "drug_administration_df = drug_administration_df[drug_administration_df.monitored]\n",
    "\n",
    "n_patients_with_diclofenac_and_monitoring = drug_administration_df['pat_nr'].nunique()\n",
    "print(f'Number of patients with diclofenac and monitoring: {n_patients_with_diclofenac_and_monitoring}')\n",
    "\n",
    "n_patients_before = drug_administration_df['pat_nr'].nunique()\n",
    "# print patients with exclusion criterium\n",
    "print(f'Excluding {drug_administration_df[~pd.isna(drug_administration_df[\"further_exclusion_criterium\"])].shape[0]} infusions with {drug_administration_df[~pd.isna(drug_administration_df[\"further_exclusion_criterium\"])][\"further_exclusion_criterium\"].nunique()} different further exclusion criteria')\n",
    "# exclude if further_exclusion_criterium is not Nan\n",
    "drug_administration_df = drug_administration_df[pd.isna(drug_administration_df['further_exclusion_criterium'])]\n",
    "# print number of patients excluded\n",
    "print(f'Excluding {n_patients_before - drug_administration_df[\"pat_nr\"].nunique()} patients with further exclusion criterium')\n",
    "\n",
    "if exclude_short_infusions:\n",
    "    n_patients_before = drug_administration_df['pat_nr'].nunique()\n",
    "    drug_administration_df['infusion_duration'] = (pd.to_datetime(drug_administration_df['drug_end']) - pd.to_datetime(drug_administration_df['drug_start'])).dt.total_seconds() / 3600\n",
    "    print(f'Excluding {drug_administration_df[drug_administration_df[\"infusion_duration\"] <= 1].shape[0]} infusions with duration <= 1h')\n",
    "    drug_administration_df = drug_administration_df[drug_administration_df['infusion_duration'] > 1]\n",
    "    print(f'Excluding {n_patients_before - drug_administration_df[\"pat_nr\"].nunique()} patients with infusions with duration <= 1h')"
   ]
  },
  {
   "cell_type": "code",
   "execution_count": null,
   "id": "e19dcf3ca05132ec",
   "metadata": {
    "ExecuteTime": {
     "end_time": "2024-11-05T16:25:35.357191Z",
     "start_time": "2024-11-05T16:25:35.353795Z"
    }
   },
   "outputs": [],
   "source": [
    "n_patients = drug_administration_df.pat_nr.nunique()\n",
    "n_administrations = drug_administration_df.shape[0]\n",
    "print(f'Number of patients: {n_patients}')\n",
    "print(f'Number of administrations: {n_administrations}')"
   ]
  },
  {
   "cell_type": "code",
   "execution_count": null,
   "id": "4991b00235149330",
   "metadata": {
    "ExecuteTime": {
     "end_time": "2024-11-05T16:25:35.568020Z",
     "start_time": "2024-11-05T16:25:35.560198Z"
    }
   },
   "outputs": [],
   "source": [
    "drug_administration_df['duration'] = (drug_administration_df['drug_end'] - drug_administration_df['drug_start']).dt.total_seconds() / 3600\n",
    "drug_administration_df['duration'].describe()"
   ]
  },
  {
   "cell_type": "code",
   "execution_count": null,
   "id": "7186ba2d10f32c0",
   "metadata": {
    "ExecuteTime": {
     "end_time": "2024-11-05T16:25:35.810260Z",
     "start_time": "2024-11-05T16:25:35.804304Z"
    }
   },
   "outputs": [],
   "source": [
    "# 2988-10-28 00:00:00 in Date of Birth should be 1988-10-28\n",
    "moberg_registry_df['Date of Birth'] = moberg_registry_df['Date of Birth'].astype(str).str.replace('2988', '1988')\n",
    "moberg_registry_df['age'] =  pd.to_datetime(moberg_registry_df['Jahr'], format='%Y').dt.year - pd.to_datetime(moberg_registry_df['Date of Birth']).dt.year"
   ]
  },
  {
   "cell_type": "code",
   "execution_count": null,
   "id": "94763697a54c4454",
   "metadata": {
    "ExecuteTime": {
     "end_time": "2024-11-05T16:25:36.107403Z",
     "start_time": "2024-11-05T16:25:36.103888Z"
    }
   },
   "outputs": [],
   "source": [
    "selected_moberg_registry_df = moberg_registry_df[moberg_registry_df['Pat. Nr.'].isin(drug_administration_df.pat_nr)]"
   ]
  },
  {
   "cell_type": "code",
   "execution_count": null,
   "id": "d88087cc98b67294",
   "metadata": {
    "ExecuteTime": {
     "end_time": "2024-11-05T16:25:37.768630Z",
     "start_time": "2024-11-05T16:25:37.761964Z"
    }
   },
   "outputs": [],
   "source": [
    "selected_moberg_registry_df = selected_moberg_registry_df.merge(diclofenac_registry_meta_data_df[['Pat. Nr.', 'admission_date', 'First Drug Administration', 'first_GCS',\n",
    "       'name_intervention', 'surgical_intervention',\n",
    "       'radiological_intervention', 'event_type', 'hospital_LOS', 'ICU_LOS',\n",
    "       'bleeding', 'AKI', 'MACE', 'death_in_hospital']], on='Pat. Nr.', how='left')"
   ]
  },
  {
   "cell_type": "code",
   "execution_count": null,
   "id": "e9d7e7fa876600fd",
   "metadata": {
    "ExecuteTime": {
     "end_time": "2024-11-05T16:27:06.159200Z",
     "start_time": "2024-11-05T16:27:06.154649Z"
    }
   },
   "outputs": [],
   "source": [
    "selected_moberg_registry_df['time_to_first_administration'] = (pd.to_datetime(selected_moberg_registry_df['First Drug Administration']) - pd.to_datetime(selected_moberg_registry_df['admission_date'])).dt.total_seconds() / 3600 / 24"
   ]
  },
  {
   "cell_type": "code",
   "execution_count": null,
   "id": "8c8b4aaba673bb60",
   "metadata": {
    "ExecuteTime": {
     "end_time": "2024-11-05T13:42:51.148152Z",
     "start_time": "2024-11-05T13:42:51.142147Z"
    }
   },
   "outputs": [],
   "source": [
    "selected_moberg_registry_df.event_type.value_counts()"
   ]
  },
  {
   "cell_type": "code",
   "execution_count": null,
   "id": "481391f9f931da1a",
   "metadata": {
    "ExecuteTime": {
     "end_time": "2024-11-05T16:29:08.377548Z",
     "start_time": "2024-11-05T16:29:08.371086Z"
    }
   },
   "outputs": [],
   "source": [
    "def create_table1(df):\n",
    "    table1 = pd.DataFrame()\n",
    "    table1['Number of patients'] = [n_patients]\n",
    "    table1['Number of drug administrations'] = n_administrations\n",
    "    table1['Age'] = f'{df.age.median():.0f} ({df.age.quantile(0.25):.0f}-{df.age.quantile(0.75):.0f})'\n",
    "    table1['Gender (female)'] = f'{df.Gender.value_counts().get(\"Female\", 0)} ({df.Gender.value_counts().get(\"Female\", 0) / n_patients * 100:.0f}%)'\n",
    "    \n",
    "    table1['Neurovascular'] = f'{df.Diagnose.value_counts().get(\"Stroke\", 0)} ({df.Diagnose.value_counts().get(\"Stroke\", 0) / n_patients * 100:.0f}%)'\n",
    "    table1['TBI'] = f'{df.Diagnose.value_counts().get(\"TBI\", 0)} ({df.Diagnose.value_counts().get(\"TBI\", 0) / n_patients * 100:.0f}%)'\n",
    "    table1['SAH'] = f'{df.event_type.value_counts().get(\"SAH\", 0)} ({df.event_type.value_counts().get(\"SAH\", 0) / n_patients * 100:.0f}%)'\n",
    "    table1['ICH'] = f'{df.event_type.value_counts().get(\"ICB/MAV\", 0)} ({df.event_type.value_counts().get(\"ICB/MAV\", 0) / n_patients * 100:.0f}%)'\n",
    "    \n",
    "    table1['Initial GCS'] = f'{df.first_GCS.median():.0f} ({df.first_GCS.quantile(0.25):.0f}-{df.first_GCS.quantile(0.75):.0f})'\n",
    "    table1['ISS'] = f'{df.ISS.median():.0f} ({df.ISS.quantile(0.25):.0f}-{df.ISS.quantile(0.75):.0f})'\n",
    "    table1['Hunt & Hess'] = f'{df[\"Hunt & Hess\"].median():.0f} ({df[\"Hunt & Hess\"].quantile(0.25):.0f}-{df[\"Hunt & Hess\"].quantile(0.75):.0f})'\n",
    "    \n",
    "    table1['Surgical intervention'] = f'{df.surgical_intervention.sum()} ({df.surgical_intervention.sum() / n_patients * 100:.0f}%)'\n",
    "    table1['Radiological intervention'] = f'{df.radiological_intervention.sum()} ({df.radiological_intervention.sum() / n_patients * 100:.0f}%)'\n",
    "    table1['no_intervention'] = f'{df.name_intervention.isin([0]).sum()} ({df.name_intervention.isin([0]).sum() / n_patients * 100:.0f}%)'\n",
    "    \n",
    "    table1['Time to first administration (days)'] = f'{df.time_to_first_administration.median():.1f} ({df.time_to_first_administration.quantile(0.25):.1f}-{df.time_to_first_administration.quantile(0.75):.1f})'\n",
    "    \n",
    "    table1['Bleeding'] = f'{df.bleeding.sum()} ({df.bleeding.sum() / n_patients * 100:.0f}%)'\n",
    "    table1['AKI'] = f'{df.AKI.sum()} ({df.AKI.sum() / n_patients * 100:.0f}%)'\n",
    "    table1['MACE'] = f'{df.MACE.sum()} ({df.MACE.sum() / n_patients * 100:.0f}%)'\n",
    "    \n",
    "    table1['ICU LOS'] = f'{df.ICU_LOS.median():.0f} ({df.ICU_LOS.quantile(0.25):.0f}-{df.ICU_LOS.quantile(0.75):.0f})'\n",
    "    table1['Hospital LOS'] = f'{df.hospital_LOS.median():.0f} ({df.hospital_LOS.quantile(0.25):.0f}-{df.hospital_LOS.quantile(0.75):.0f})'\n",
    "    table1['In-hospital mortality'] = f'{df.death_in_hospital.sum()} ({df.death_in_hospital.sum() / n_patients * 100:.0f}%)'\n",
    "        \n",
    "    return table1.T"
   ]
  },
  {
   "cell_type": "code",
   "execution_count": null,
   "id": "a72a4a7529b602ca",
   "metadata": {
    "ExecuteTime": {
     "end_time": "2024-11-05T16:29:10.186232Z",
     "start_time": "2024-11-05T16:29:10.162110Z"
    }
   },
   "outputs": [],
   "source": [
    "t1 = create_table1(selected_moberg_registry_df)\n",
    "t1"
   ]
  },
  {
   "cell_type": "code",
   "execution_count": null,
   "id": "93cc9c62600c6421",
   "metadata": {
    "ExecuteTime": {
     "end_time": "2024-11-05T16:29:12.733219Z",
     "start_time": "2024-11-05T16:29:12.721623Z"
    }
   },
   "outputs": [],
   "source": [
    "# t1.to_excel('/Users/jk1/Downloads/table1.xlsx')"
   ]
  },
  {
   "cell_type": "code",
   "execution_count": null,
   "id": "925a6a8cbe189003",
   "metadata": {
    "ExecuteTime": {
     "end_time": "2024-08-16T19:48:24.115736Z",
     "start_time": "2024-08-16T19:48:24.113756Z"
    }
   },
   "outputs": [],
   "source": [
    "temp = selected_moberg_registry_df[['Jahr', 'Pat. Nr.', 'Patient First Name', 'Patient Last Name',\n",
    "       'Medical Record Number', 'Date of Birth','Recording Start Time']]\n",
    "# for every patient in selected_moberg_registry_df, get first and last drug administration from drug_administration_df\n",
    "first_drug_administration = drug_administration_df.groupby('pat_nr').agg({'drug_start': 'min'}).reset_index()\n",
    "first_drug_administration.columns = ['Pat. Nr.', 'First Drug Administration']\n",
    "last_drug_administration = drug_administration_df.groupby('pat_nr').agg({'drug_start': 'max'}).reset_index()\n",
    "last_drug_administration.columns = ['Pat. Nr.', 'Last Drug Administration']\n",
    "\n",
    "first_last_drug_administration = first_drug_administration.merge(last_drug_administration, on='Pat. Nr.')\n",
    "# merge with selected_moberg_registry_df\n",
    "temp = temp.merge(first_last_drug_administration, on='Pat. Nr.')"
   ]
  },
  {
   "cell_type": "code",
   "execution_count": null,
   "id": "acafda1542fcdef9",
   "metadata": {},
   "outputs": [],
   "source": [
    "# temp.to_excel('/Users/jk1/Downloads/selected_moberg_registry_for_extraction_df.xlsx', index=False)\n"
   ]
  }
 ],
 "metadata": {
  "kernelspec": {
   "display_name": "Python 3",
   "language": "python",
   "name": "python3"
  },
  "language_info": {
   "codemirror_mode": {
    "name": "ipython",
    "version": 2
   },
   "file_extension": ".py",
   "mimetype": "text/x-python",
   "name": "python",
   "nbconvert_exporter": "python",
   "pygments_lexer": "ipython2",
   "version": "2.7.6"
  }
 },
 "nbformat": 4,
 "nbformat_minor": 5
}
