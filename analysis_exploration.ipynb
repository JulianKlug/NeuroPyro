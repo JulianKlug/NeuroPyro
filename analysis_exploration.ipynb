{
 "cells": [
  {
   "cell_type": "code",
   "execution_count": null,
   "id": "initial_id",
   "metadata": {
    "ExecuteTime": {
     "end_time": "2024-07-31T15:11:10.256092Z",
     "start_time": "2024-07-31T15:11:05.945193Z"
    }
   },
   "outputs": [],
   "source": [
    "import pandas as pd\n",
    "import seaborn as sns\n",
    "import matplotlib.pyplot as plt"
   ]
  },
  {
   "cell_type": "code",
   "execution_count": null,
   "id": "b415afefb64983df",
   "metadata": {
    "ExecuteTime": {
     "end_time": "2024-07-31T14:55:20.573508Z",
     "start_time": "2024-07-31T14:55:20.568851Z"
    }
   },
   "outputs": [],
   "source": [
    "cpp_path = '/Users/jk1/stroke_datasets/ptiO2-Studie/extracted_data/cpp_df.csv'\n",
    "ptio2_path = '/Users/jk1/stroke_datasets/ptiO2-Studie/extracted_data/ptio2_df.csv'\n",
    "drug_administration_path = '/Users/jk1/stroke_datasets/ptiO2-Studie/drug_administrations.xlsx'"
   ]
  },
  {
   "cell_type": "code",
   "execution_count": null,
   "id": "a9532077cb4c3d74",
   "metadata": {
    "ExecuteTime": {
     "end_time": "2024-07-31T14:55:35.329749Z",
     "start_time": "2024-07-31T14:55:24.957161Z"
    }
   },
   "outputs": [],
   "source": [
    "cpp_df = pd.read_csv(cpp_path)\n",
    "ptio2_df = pd.read_csv(ptio2_path)\n",
    "drug_administration_df = pd.read_excel(drug_administration_path)"
   ]
  },
  {
   "cell_type": "markdown",
   "id": "488081df0bbbbecb",
   "metadata": {},
   "source": [
    "# Data Exploration"
   ]
  },
  {
   "cell_type": "code",
   "execution_count": null,
   "id": "e2d8eee3f26870d8",
   "metadata": {
    "ExecuteTime": {
     "end_time": "2024-07-31T14:58:13.046920Z",
     "start_time": "2024-07-31T14:58:13.043391Z"
    }
   },
   "outputs": [],
   "source": [
    "drug_administration_df = drug_administration_df[drug_administration_df.monitored]"
   ]
  },
  {
   "cell_type": "code",
   "execution_count": null,
   "id": "af40c8f01bc44bcf",
   "metadata": {
    "ExecuteTime": {
     "end_time": "2024-07-31T14:55:35.346562Z",
     "start_time": "2024-07-31T14:55:35.331718Z"
    }
   },
   "outputs": [],
   "source": [
    "cpp_df.head()"
   ]
  },
  {
   "cell_type": "code",
   "execution_count": null,
   "id": "5c9522dffbf63324",
   "metadata": {
    "ExecuteTime": {
     "end_time": "2024-07-31T14:55:37.055708Z",
     "start_time": "2024-07-31T14:55:37.046605Z"
    }
   },
   "outputs": [],
   "source": [
    "ptio2_df.head()"
   ]
  },
  {
   "cell_type": "code",
   "execution_count": null,
   "id": "848a7f111c936bfb",
   "metadata": {
    "ExecuteTime": {
     "end_time": "2024-07-31T14:58:16.508173Z",
     "start_time": "2024-07-31T14:58:16.499948Z"
    }
   },
   "outputs": [],
   "source": [
    "drug_administration_df.head()"
   ]
  },
  {
   "cell_type": "code",
   "execution_count": null,
   "id": "b9617c11d75fcf7f",
   "metadata": {
    "ExecuteTime": {
     "end_time": "2024-07-31T15:07:11.272758Z",
     "start_time": "2024-07-31T15:07:11.267441Z"
    }
   },
   "outputs": [],
   "source": [
    "lower_bound"
   ]
  },
  {
   "cell_type": "code",
   "execution_count": null,
   "id": "4011984a005d1e5d",
   "metadata": {
    "ExecuteTime": {
     "end_time": "2024-07-31T15:07:55.870525Z",
     "start_time": "2024-07-31T15:07:32.999390Z"
    }
   },
   "outputs": [],
   "source": [
    "# for every drug administration extract data from -12h to +12h around start\n",
    "associated_ptio2_df = pd.DataFrame()\n",
    "associated_cpp_df = pd.DataFrame()\n",
    "ptio2_df['datetime'] = pd.to_datetime(ptio2_df['datetime'])\n",
    "cpp_df['datetime'] = pd.to_datetime(cpp_df['datetime'])\n",
    "\n",
    "for index, row in drug_administration_df.iterrows():\n",
    "    lower_bound = row['drug_start'] - pd.to_timedelta(12, unit='h')\n",
    "    upper_bound = row['drug_start'] + pd.to_timedelta(12, unit='h')\n",
    "    instance_associated_ptio2_df = ptio2_df[(ptio2_df['pat_nr'] == row['pat_nr'])\n",
    "                                            & (ptio2_df['datetime'] >= lower_bound) \n",
    "                                            & (ptio2_df['datetime'] <= upper_bound)]\n",
    "    instance_associated_ptio2_df['drug_start'] = row['drug_start']\n",
    "    instance_associated_ptio2_df['relative_datetime'] = (instance_associated_ptio2_df['datetime'] - row['drug_start']).dt.total_seconds() / 3600\n",
    "    associated_ptio2_df = pd.concat([associated_ptio2_df, instance_associated_ptio2_df])\n",
    "    \n",
    "    instance_associated_cpp_df = cpp_df[(cpp_df['pat_nr'] == row['pat_nr'])\n",
    "                                        & (cpp_df['datetime'] >= lower_bound) \n",
    "                                        & (cpp_df['datetime'] <= upper_bound)]  \n",
    "    instance_associated_cpp_df['drug_start'] = row['drug_start']\n",
    "    instance_associated_cpp_df['relative_datetime'] = (instance_associated_cpp_df['datetime'] - row['drug_start']).dt.total_seconds() / 3600\n",
    "    associated_cpp_df = pd.concat([associated_cpp_df, instance_associated_cpp_df])\n",
    "    "
   ]
  },
  {
   "cell_type": "code",
   "execution_count": null,
   "id": "51c763b0d4164ab7",
   "metadata": {
    "ExecuteTime": {
     "end_time": "2024-07-31T15:19:00.251558Z",
     "start_time": "2024-07-31T15:19:00.240773Z"
    }
   },
   "outputs": [],
   "source": [
    "associated_ptio2_df.head()"
   ]
  },
  {
   "cell_type": "code",
   "execution_count": null,
   "id": "8c32a7a88221905d",
   "metadata": {
    "ExecuteTime": {
     "end_time": "2024-07-31T15:19:00.481389Z",
     "start_time": "2024-07-31T15:19:00.470378Z"
    }
   },
   "outputs": [],
   "source": [
    "associated_cpp_df.head()"
   ]
  },
  {
   "cell_type": "markdown",
   "id": "4003d1e7610b3ac4",
   "metadata": {},
   "source": [
    "# Data Cleaning"
   ]
  },
  {
   "cell_type": "code",
   "execution_count": null,
   "id": "b32a32c47aaadb03",
   "metadata": {
    "ExecuteTime": {
     "end_time": "2024-07-31T15:29:02.998207Z",
     "start_time": "2024-07-31T15:29:02.995714Z"
    }
   },
   "outputs": [],
   "source": [
    "allowed_ptio2_range = [0, 200]\n",
    "allowed_cpp_range = [0, 200]"
   ]
  },
  {
   "cell_type": "code",
   "execution_count": null,
   "id": "5aee967aa7ee74fe",
   "metadata": {
    "ExecuteTime": {
     "end_time": "2024-07-31T15:29:24.718011Z",
     "start_time": "2024-07-31T15:29:24.500767Z"
    }
   },
   "outputs": [],
   "source": [
    "# drop values outside of allowed range\n",
    "associated_ptio2_df = associated_ptio2_df[(associated_ptio2_df['ptio2'] >= allowed_ptio2_range[0]) & (associated_ptio2_df['ptio2'] <= allowed_ptio2_range[1])]\n",
    "associated_cpp_df = associated_cpp_df[(associated_cpp_df['cpp'] >= allowed_cpp_range[0]) & (associated_cpp_df['cpp'] <= allowed_cpp_range[1])]"
   ]
  },
  {
   "cell_type": "markdown",
   "id": "b9f47477ccfa1d20",
   "metadata": {},
   "source": [
    "meta summary"
   ]
  },
  {
   "cell_type": "code",
   "execution_count": null,
   "id": "b93dd0d51df989ab",
   "metadata": {
    "ExecuteTime": {
     "end_time": "2024-07-31T15:49:01.801533Z",
     "start_time": "2024-07-31T15:49:01.796872Z"
    }
   },
   "outputs": [],
   "source": [
    "drug_administration_df.pat_nr.nunique(), drug_administration_df.shape"
   ]
  },
  {
   "cell_type": "markdown",
   "id": "aab30179ea32658a",
   "metadata": {},
   "source": [
    "# Data Plotting"
   ]
  },
  {
   "cell_type": "code",
   "execution_count": null,
   "id": "566f7d2dd8aece1a",
   "metadata": {
    "ExecuteTime": {
     "end_time": "2024-07-31T15:31:27.025923Z",
     "start_time": "2024-07-31T15:31:27.017685Z"
    }
   },
   "outputs": [],
   "source": [
    "associated_ptio2_df['rounded_relative_datetime'] = associated_ptio2_df['relative_datetime'].round(1)\n",
    "associated_cpp_df['rounded_relative_datetime'] = associated_cpp_df['relative_datetime'].round(1)"
   ]
  },
  {
   "cell_type": "code",
   "execution_count": null,
   "id": "838ef2992070edbb",
   "metadata": {
    "ExecuteTime": {
     "end_time": "2024-07-31T15:45:38.089158Z",
     "start_time": "2024-07-31T15:45:24.190340Z"
    }
   },
   "outputs": [],
   "source": [
    "# plot a line plot of ptio2 and cpp values over relative time\n",
    "\n",
    "fig, ax = plt.subplots(1, 1, figsize=(20, 10))\n",
    "sns.lineplot(x='rounded_relative_datetime', y='ptio2', data=associated_ptio2_df, ax=ax, label='PtiO2', legend=False)\n",
    "# create second y axis for cpp values\n",
    "ax2 = ax.twinx()\n",
    "sns.lineplot(x='rounded_relative_datetime', y='cpp', data=associated_cpp_df, ax=ax2, color='magenta', label='CPP', legend=False)\n",
    "\n",
    "ax.set_xlabel('Relative time from administration (h)')\n",
    "ax.set_ylabel('PtiO2 (mmHg)')\n",
    "ax2.set_ylabel('CPP (mmHg)')\n",
    "\n",
    "ax2.set_ylim(60,100)\n",
    "\n",
    "# show legend\n",
    "lines, labels = ax.get_legend_handles_labels()\n",
    "lines2, labels2 = ax2.get_legend_handles_labels()\n",
    "ax.legend(lines + lines2, labels + labels2, loc='upper right')\n",
    "\n",
    "# add vertical line at x=0 with text label with \"Diclofenac administration\"\n",
    "ax.axvline(x=0, ymin=0.015, ymax=0.1, color='black', linestyle='--', linewidth=0.7)\n",
    "ax.text(0.5, 0.12, 'Diclofenac 75mg', horizontalalignment='center', verticalalignment='center', transform=ax.transAxes)\n"
   ]
  },
  {
   "cell_type": "code",
   "execution_count": null,
   "id": "7028a540ea9d29e6",
   "metadata": {
    "ExecuteTime": {
     "end_time": "2024-07-31T15:46:29.854625Z",
     "start_time": "2024-07-31T15:46:29.580861Z"
    }
   },
   "outputs": [],
   "source": [
    "# fig.savefig('/Users/jk1/Downloads/ptio2_cpp_plot.png')"
   ]
  },
  {
   "cell_type": "code",
   "execution_count": null,
   "id": "8cc7ba797e38460f",
   "metadata": {},
   "outputs": [],
   "source": [
    "# TODO: add temperature curve"
   ]
  }
 ],
 "metadata": {
  "kernelspec": {
   "display_name": "Python 3",
   "language": "python",
   "name": "python3"
  },
  "language_info": {
   "codemirror_mode": {
    "name": "ipython",
    "version": 2
   },
   "file_extension": ".py",
   "mimetype": "text/x-python",
   "name": "python",
   "nbconvert_exporter": "python",
   "pygments_lexer": "ipython2",
   "version": "2.7.6"
  }
 },
 "nbformat": 4,
 "nbformat_minor": 5
}
