{
 "cells": [
  {
   "cell_type": "code",
   "execution_count": null,
   "id": "initial_id",
   "metadata": {
    "ExecuteTime": {
     "end_time": "2025-04-14T09:13:45.282022Z",
     "start_time": "2025-04-14T09:13:45.248157Z"
    }
   },
   "outputs": [],
   "source": [
    "import numpy as np\n",
    "import pandas as pd\n",
    "import seaborn as sns\n",
    "import matplotlib.pyplot as plt\n",
    "import statsmodels.formula.api as smf"
   ]
  },
  {
   "cell_type": "code",
   "execution_count": null,
   "id": "b415afefb64983df",
   "metadata": {
    "ExecuteTime": {
     "end_time": "2025-04-14T09:13:46.242685Z",
     "start_time": "2025-04-14T09:13:46.234854Z"
    }
   },
   "outputs": [],
   "source": [
    "cpp_path = '/Users/jk1/stroke_datasets/ptiO2-Studie/moberg_extracted_data/cpp_df.csv'\n",
    "ptio2_path = '/Users/jk1/stroke_datasets/ptiO2-Studie/moberg_extracted_data/ptio2_df.csv'\n",
    "filtered_ptio2_path = '/Users/jk1/stroke_datasets/ptiO2-Studie/moberg_extracted_data/ptio2_df_filtered.csv'\n",
    "temperature_path = '/Users/jk1/stroke_datasets/ptiO2-Studie/moberg_extracted_data/temperature_df.csv'\n",
    "lpr_path = '/Users/jk1/stroke_datasets/ptiO2-Studie/moberg_extracted_data/lpr_df.csv'\n",
    "hr_path = '/Users/jk1/stroke_datasets/ptiO2-Studie/moberg_extracted_data/hr_df.csv'\n",
    "etco2_path = '/Users/jk1/stroke_datasets/ptiO2-Studie/moberg_extracted_data/etco2_df.csv'\n",
    "ci_path = '/Users/jk1/stroke_datasets/ptiO2-Studie/moberg_extracted_data/ci_df.csv'\n",
    "prx_path = '/Users/jk1/stroke_datasets/ptiO2-Studie/moberg_extracted_data/prx_df.csv'\n",
    "drug_administration_path = '/Users/jk1/stroke_datasets/ptiO2-Studie/drug_administrations.xlsx'\n",
    "registry_path = '/Users/jk1/stroke_datasets/ptiO2-Studie/moberg_registry_kssg_post_hoc_modified.xlsx'\n",
    "paco2_path = '/Users/jk1/stroke_datasets/ptiO2-Studie/pdms_data/joined_aBGA.csv'\n",
    "mainstream_etco2_path = '/Users/jk1/Library/CloudStorage/OneDrive-unige.ch/icu_research/neurocrit_fever/data/PDMS_data/joined_etCO2.csv'\n",
    "icp_path = '/Users/jk1/Library/CloudStorage/OneDrive-unige.ch/icu_research/neurocrit_fever/data/moberg_extracted_data/icp_df.csv'"
   ]
  },
  {
   "cell_type": "code",
   "execution_count": null,
   "id": "128b05c27aa8080f",
   "metadata": {
    "ExecuteTime": {
     "end_time": "2025-04-14T09:13:47.282756Z",
     "start_time": "2025-04-14T09:13:47.278037Z"
    }
   },
   "outputs": [],
   "source": [
    "exclude_short_infusions = True\n",
    "use_filtered_ptio2 = True"
   ]
  },
  {
   "cell_type": "code",
   "execution_count": null,
   "id": "a9532077cb4c3d74",
   "metadata": {
    "ExecuteTime": {
     "end_time": "2025-04-14T09:15:02.587430Z",
     "start_time": "2025-04-14T09:13:56.642489Z"
    }
   },
   "outputs": [],
   "source": [
    "cpp_df = pd.read_csv(cpp_path)\n",
    "if use_filtered_ptio2:\n",
    "    ptio2_df = pd.read_csv(filtered_ptio2_path)\n",
    "else:\n",
    "    ptio2_df = pd.read_csv(ptio2_path)\n",
    "temperature_df = pd.read_csv(temperature_path)\n",
    "lpr_df = pd.read_csv(lpr_path)\n",
    "hr_df = pd.read_csv(hr_path)\n",
    "# No associated CI measurements - so code needs no to be executed\n",
    "# ci_df = pd.read_csv(ci_path)\n",
    "etco2_df = pd.read_csv(etco2_path)\n",
    "prx_df = pd.read_csv(prx_path)\n",
    "icp_df = pd.read_csv(icp_path)\n",
    "drug_administration_df = pd.read_excel(drug_administration_path)"
   ]
  },
  {
   "cell_type": "markdown",
   "id": "a9e1f31ab9971309",
   "metadata": {},
   "source": [
    "load pdms data"
   ]
  },
  {
   "cell_type": "code",
   "execution_count": null,
   "id": "8192ff5db2905b3d",
   "metadata": {
    "ExecuteTime": {
     "end_time": "2025-04-14T09:15:02.935854Z",
     "start_time": "2025-04-14T09:15:02.774854Z"
    }
   },
   "outputs": [],
   "source": [
    "registry_df = pd.read_excel(registry_path)\n",
    "paco2_df = pd.read_csv(paco2_path, sep=';')\n",
    "mainstream_etco2_df = pd.read_csv(mainstream_etco2_path, sep=';')"
   ]
  },
  {
   "cell_type": "code",
   "execution_count": null,
   "id": "7b918b1d444ec5f9",
   "metadata": {
    "ExecuteTime": {
     "end_time": "2025-04-14T09:15:02.971320Z",
     "start_time": "2025-04-14T09:15:02.944391Z"
    }
   },
   "outputs": [],
   "source": [
    "paco2_df = pd.merge(paco2_df, registry_df[['manual_mrn', 'Pat. Nr.']], left_on='FallNr', right_on='manual_mrn', how='left')\n",
    "paco2_df.drop(columns=['manual_mrn'], inplace=True)\n",
    "paco2_df.rename(columns={'Pat. Nr.':'pat_nr'}, inplace=True)\n",
    "paco2_df.rename(columns={'Zeitpunkt_aBGA':'datetime'}, inplace=True)\n",
    "paco2_df['pCO2_mmHg'] = paco2_df['pCO2'] * 7.50062"
   ]
  },
  {
   "cell_type": "code",
   "execution_count": null,
   "id": "ad4060242c422643",
   "metadata": {
    "ExecuteTime": {
     "end_time": "2025-04-14T09:15:03.033302Z",
     "start_time": "2025-04-14T09:15:03.014896Z"
    }
   },
   "outputs": [],
   "source": [
    "mainstream_etco2_df = pd.merge(mainstream_etco2_df, registry_df[['manual_mrn', 'Pat. Nr.']], left_on='FallNr', right_on='manual_mrn', how='left')\n",
    "mainstream_etco2_df.drop(columns=['manual_mrn'], inplace=True)\n",
    "mainstream_etco2_df.rename(columns={'Pat. Nr.':'pat_nr'}, inplace=True)\n",
    "mainstream_etco2_df.rename(columns={'Zeitpunkt_etCO2':'datetime'}, inplace=True)"
   ]
  },
  {
   "cell_type": "markdown",
   "id": "488081df0bbbbecb",
   "metadata": {},
   "source": [
    "# Data Exploration"
   ]
  },
  {
   "cell_type": "code",
   "execution_count": null,
   "id": "e2d8eee3f26870d8",
   "metadata": {
    "ExecuteTime": {
     "end_time": "2025-04-14T09:15:03.087568Z",
     "start_time": "2025-04-14T09:15:03.077745Z"
    }
   },
   "outputs": [],
   "source": [
    "drug_administration_df = drug_administration_df[drug_administration_df.monitored]\n",
    "# exclude if further_exclusion_criterium is not Nan\n",
    "drug_administration_df = drug_administration_df[pd.isna(drug_administration_df['further_exclusion_criterium'])]"
   ]
  },
  {
   "cell_type": "code",
   "execution_count": null,
   "id": "89be09c928f6c812",
   "metadata": {
    "ExecuteTime": {
     "end_time": "2025-04-14T09:15:03.148674Z",
     "start_time": "2025-04-14T09:15:03.132334Z"
    }
   },
   "outputs": [],
   "source": [
    "if exclude_short_infusions:\n",
    "    drug_administration_df['infusion_duration'] = (pd.to_datetime(drug_administration_df['drug_end']) - pd.to_datetime(drug_administration_df['drug_start'])).dt.total_seconds() / 3600\n",
    "    print(f'Excluding {drug_administration_df[drug_administration_df[\"infusion_duration\"] <= 1].shape[0]} infusions with duration <= 1h')\n",
    "    drug_administration_df = drug_administration_df[drug_administration_df['infusion_duration'] > 1]"
   ]
  },
  {
   "cell_type": "code",
   "execution_count": null,
   "id": "24ac9be06d51a37d",
   "metadata": {
    "ExecuteTime": {
     "end_time": "2025-04-14T09:15:03.199691Z",
     "start_time": "2025-04-14T09:15:03.186647Z"
    }
   },
   "outputs": [],
   "source": [
    "drug_administration_df.pat_nr.nunique(), drug_administration_df.shape"
   ]
  },
  {
   "cell_type": "code",
   "execution_count": null,
   "id": "f805b11df09cef64",
   "metadata": {
    "ExecuteTime": {
     "end_time": "2025-04-14T09:15:17.803146Z",
     "start_time": "2025-04-14T09:15:03.241785Z"
    }
   },
   "outputs": [],
   "source": [
    "for var_df in [ptio2_df, cpp_df, temperature_df, lpr_df, hr_df, etco2_df, paco2_df, mainstream_etco2_df, prx_df, icp_df]:\n",
    "    var_df['datetime'] = pd.to_datetime(var_df['datetime'])\n"
   ]
  },
  {
   "cell_type": "code",
   "execution_count": null,
   "id": "4011984a005d1e5d",
   "metadata": {
    "ExecuteTime": {
     "end_time": "2025-04-14T09:18:11.541523Z",
     "start_time": "2025-04-14T09:16:30.287194Z"
    }
   },
   "outputs": [],
   "source": [
    "# for every drug administration extract data from -xh to +xh around start\n",
    "time_window = 12\n",
    "\n",
    "associated_ptio2_df = pd.DataFrame()\n",
    "associated_cpp_df = pd.DataFrame()\n",
    "associated_temperature_df = pd.DataFrame()\n",
    "associated_hr_df = pd.DataFrame()\n",
    "associated_lpr_df = pd.DataFrame()\n",
    "associated_ci_df = pd.DataFrame()\n",
    "associated_prx_df = pd.DataFrame()\n",
    "associated_etco2_df = pd.DataFrame()\n",
    "associated_paco2_df = pd.DataFrame()\n",
    "associated_mainstream_etco2_df = pd.DataFrame()\n",
    "associated_icp_df = pd.DataFrame()\n",
    "\n",
    "for index, row in drug_administration_df.iterrows():\n",
    "    lower_bound = row['drug_start'] - pd.to_timedelta(time_window, unit='h')\n",
    "    upper_bound = row['drug_start'] + pd.to_timedelta(time_window, unit='h')\n",
    "    instance_associated_ptio2_df = ptio2_df[(ptio2_df['pat_nr'] == row['pat_nr'])\n",
    "                                            & (ptio2_df['datetime'] >= lower_bound) \n",
    "                                            & (ptio2_df['datetime'] <= upper_bound)]\n",
    "    instance_associated_ptio2_df['drug_start'] = row['drug_start']\n",
    "    instance_associated_ptio2_df['relative_datetime'] = (instance_associated_ptio2_df['datetime'] - row['drug_start']).dt.total_seconds() / 3600\n",
    "    associated_ptio2_df = pd.concat([associated_ptio2_df, instance_associated_ptio2_df])\n",
    "\n",
    "    instance_associated_cpp_df = cpp_df[(cpp_df['pat_nr'] == row['pat_nr'])\n",
    "                                        & (cpp_df['datetime'] >= lower_bound) \n",
    "                                        & (cpp_df['datetime'] <= upper_bound)]  \n",
    "    instance_associated_cpp_df['drug_start'] = row['drug_start']\n",
    "    instance_associated_cpp_df['relative_datetime'] = (instance_associated_cpp_df['datetime'] - row['drug_start']).dt.total_seconds() / 3600\n",
    "    associated_cpp_df = pd.concat([associated_cpp_df, instance_associated_cpp_df])\n",
    "\n",
    "    instance_associated_temperature_df = temperature_df[(temperature_df['pat_nr'] == row['pat_nr'])\n",
    "                                        & (temperature_df['datetime'] >= lower_bound)\n",
    "                                        & (temperature_df['datetime'] <= upper_bound)]\n",
    "    instance_associated_temperature_df['drug_start'] = row['drug_start']\n",
    "    instance_associated_temperature_df['relative_datetime'] = (instance_associated_temperature_df['datetime'] - row['drug_start']).dt.total_seconds() / 3600\n",
    "    associated_temperature_df = pd.concat([associated_temperature_df, instance_associated_temperature_df])\n",
    "\n",
    "    instance_associated_hr_df = hr_df[(hr_df['pat_nr'] == row['pat_nr'])\n",
    "                                        & (hr_df['datetime'] >= lower_bound)   \n",
    "                                        & (hr_df['datetime'] <= upper_bound)]\n",
    "    instance_associated_hr_df['drug_start'] = row['drug_start']\n",
    "    instance_associated_hr_df['relative_datetime'] = (instance_associated_hr_df['datetime'] - row['drug_start']).dt.total_seconds() / 3600\n",
    "    associated_hr_df = pd.concat([associated_hr_df, instance_associated_hr_df])\n",
    "\n",
    "    instance_associated_lpr_df = lpr_df[(lpr_df['pat_nr'] == row['pat_nr'])\n",
    "                                        & (lpr_df['datetime'] >= lower_bound)\n",
    "                                        & (lpr_df['datetime'] <= upper_bound)]\n",
    "    instance_associated_lpr_df['drug_start'] = row['drug_start']\n",
    "    instance_associated_lpr_df['relative_datetime'] = (instance_associated_lpr_df['datetime'] - row['drug_start']).dt.total_seconds() / 3600\n",
    "    associated_lpr_df = pd.concat([associated_lpr_df, instance_associated_lpr_df])\n",
    "    \n",
    "    instance_associated_etco2_df = etco2_df[(etco2_df['pat_nr'] == row['pat_nr'])\n",
    "                                        & (etco2_df['datetime'] >= lower_bound)\n",
    "                                        & (etco2_df['datetime'] <= upper_bound)]\n",
    "    instance_associated_etco2_df['drug_start'] = row['drug_start']\n",
    "    instance_associated_etco2_df['relative_datetime'] = (instance_associated_etco2_df['datetime'] - row['drug_start']).dt.total_seconds() / 3600\n",
    "    associated_etco2_df = pd.concat([associated_etco2_df, instance_associated_etco2_df])\n",
    "    \n",
    "    instance_associated_paco2_df = paco2_df[(paco2_df['pat_nr'] == row['pat_nr'])\n",
    "                                        & (paco2_df['datetime'] >= lower_bound)\n",
    "                                        & (paco2_df['datetime'] <= upper_bound)]\n",
    "    instance_associated_paco2_df['drug_start'] = row['drug_start']\n",
    "    instance_associated_paco2_df['relative_datetime'] = (instance_associated_paco2_df['datetime'] - row['drug_start']).dt.total_seconds() / 3600\n",
    "    associated_paco2_df = pd.concat([associated_paco2_df, instance_associated_paco2_df])\n",
    "    \n",
    "    instance_associated_mainstream_etco2_df = mainstream_etco2_df[(mainstream_etco2_df['pat_nr'] == row['pat_nr'])\n",
    "                                        & (mainstream_etco2_df['datetime'] >= lower_bound)\n",
    "                                        & (mainstream_etco2_df['datetime'] <= upper_bound)]\n",
    "    instance_associated_mainstream_etco2_df['drug_start'] = row['drug_start']\n",
    "    instance_associated_mainstream_etco2_df['relative_datetime'] = (instance_associated_mainstream_etco2_df['datetime'] - row['drug_start']).dt.total_seconds() / 3600\n",
    "    associated_mainstream_etco2_df = pd.concat([associated_mainstream_etco2_df, instance_associated_mainstream_etco2_df])\n",
    "    \n",
    "    instance_associated_prx_df = prx_df[(prx_df['pat_nr'] == row['pat_nr'])\n",
    "                                        & (prx_df['datetime'] >= lower_bound)\n",
    "                                        & (prx_df['datetime'] <= upper_bound)]\n",
    "    instance_associated_prx_df['drug_start'] = row['drug_start']\n",
    "    instance_associated_prx_df['relative_datetime'] = (instance_associated_prx_df['datetime'] - row['drug_start']).dt.total_seconds() / 3600\n",
    "    associated_prx_df = pd.concat([associated_prx_df, instance_associated_prx_df])\n",
    "\n",
    "    instance_associated_icp_df = icp_df[(icp_df['pat_nr'] == row['pat_nr'])\n",
    "                                        & (icp_df['datetime'] >= lower_bound)\n",
    "                                        & (icp_df['datetime'] <= upper_bound)]\n",
    "    instance_associated_icp_df['drug_start'] = row['drug_start']\n",
    "    instance_associated_icp_df['relative_datetime'] = (instance_associated_icp_df['datetime'] - row['drug_start']).dt.total_seconds() / 3600\n",
    "    associated_icp_df = pd.concat([associated_icp_df, instance_associated_icp_df])\n",
    "    \n",
    "    # No associated CI measurements - so code needs no to be executed\n",
    "    # instance_associated_ci_df = ci_df[(ci_df['pat_nr'] == row['pat_nr'])\n",
    "    #                                     & (ci_df['datetime'] >= lower_bound)\n",
    "    #                                     & (ci_df['datetime'] <= upper_bound)]\n",
    "    # instance_associated_ci_df['drug_start'] = row['drug_start']\n",
    "    # instance_associated_ci_df['relative_datetime'] = (instance_associated_ci_df['datetime'] - row['drug_start']).dt.total_seconds() / 3600\n",
    "    # associated_ci_df = pd.concat([associated_ci_df, instance_associated_ci_df])\n",
    "\n",
    "    "
   ]
  },
  {
   "cell_type": "markdown",
   "id": "4003d1e7610b3ac4",
   "metadata": {},
   "source": [
    "# Data Cleaning"
   ]
  },
  {
   "cell_type": "code",
   "execution_count": null,
   "id": "b32a32c47aaadb03",
   "metadata": {
    "ExecuteTime": {
     "end_time": "2025-04-14T09:18:13.858130Z",
     "start_time": "2025-04-14T09:18:13.854624Z"
    }
   },
   "outputs": [],
   "source": [
    "allowed_ptio2_range = [0, 200]\n",
    "allowed_cpp_range = [0, 200]\n",
    "allowed_temperature_range = [30, 45]\n",
    "allowed_hr_range = [0, 300]\n",
    "allowed_lpr_range = [0, 100]\n",
    "allowed_etco2_range = [0, 100]\n",
    "allowed_paco2_range = [0.5, 20] # in kpa\n",
    "allowed_icp_range = [-5, 100]"
   ]
  },
  {
   "cell_type": "code",
   "execution_count": null,
   "id": "5aee967aa7ee74fe",
   "metadata": {
    "ExecuteTime": {
     "end_time": "2025-04-14T09:23:06.155254Z",
     "start_time": "2025-04-14T09:23:04.226480Z"
    }
   },
   "outputs": [],
   "source": [
    "# drop values outside of allowed range\n",
    "associated_ptio2_df = associated_ptio2_df[(associated_ptio2_df['ptio2'] >= allowed_ptio2_range[0]) & (associated_ptio2_df['ptio2'] <= allowed_ptio2_range[1])]\n",
    "associated_cpp_df = associated_cpp_df[(associated_cpp_df['cpp'] >= allowed_cpp_range[0]) & (associated_cpp_df['cpp'] <= allowed_cpp_range[1])]\n",
    "associated_temperature_df = associated_temperature_df[(associated_temperature_df['temperature'] >= allowed_temperature_range[0]) & (associated_temperature_df['temperature'] <= allowed_temperature_range[1])]\n",
    "associated_hr_df = associated_hr_df[(associated_hr_df['hr'] >= allowed_hr_range[0]) & (associated_hr_df['hr'] <= allowed_hr_range[1])]\n",
    "associated_lpr_df = associated_lpr_df[(associated_lpr_df['lpr'] >= allowed_lpr_range[0]) & (associated_lpr_df['lpr'] <= allowed_lpr_range[1])]\n",
    "associated_etco2_df = associated_etco2_df[(associated_etco2_df['etco2'] >= allowed_etco2_range[0]) & (associated_etco2_df['etco2'] <= allowed_etco2_range[1])]\n",
    "associated_paco2_df = associated_paco2_df[(associated_paco2_df['pCO2'] >= allowed_paco2_range[0]) & (associated_paco2_df['pCO2'] <= allowed_paco2_range[1])]\n",
    "associated_mainstream_etco2_df = associated_mainstream_etco2_df[(associated_mainstream_etco2_df['etCO2'] >= allowed_etco2_range[0]) & (associated_mainstream_etco2_df['etCO2'] <= allowed_etco2_range[1])]\n",
    "associated_icp_df = associated_icp_df[(associated_icp_df['icp'] >= allowed_icp_range[0])\n",
    "                                        & (associated_icp_df['icp'] <= allowed_icp_range[1])]"
   ]
  },
  {
   "cell_type": "markdown",
   "id": "aab30179ea32658a",
   "metadata": {},
   "source": [
    "# Data Plotting"
   ]
  },
  {
   "cell_type": "code",
   "execution_count": null,
   "id": "566f7d2dd8aece1a",
   "metadata": {
    "ExecuteTime": {
     "end_time": "2025-04-14T09:24:00.355214Z",
     "start_time": "2025-04-14T09:24:00.330324Z"
    }
   },
   "outputs": [],
   "source": [
    "associated_ptio2_df['rounded_relative_datetime'] = associated_ptio2_df['relative_datetime'].round(1)\n",
    "associated_cpp_df['rounded_relative_datetime'] = associated_cpp_df['relative_datetime'].round(1)\n",
    "associated_temperature_df['rounded_relative_datetime'] = associated_temperature_df['relative_datetime'].round(1)\n",
    "associated_hr_df['rounded_relative_datetime'] = associated_hr_df['relative_datetime'].round(1)\n",
    "associated_lpr_df['rounded_relative_datetime'] = associated_lpr_df['relative_datetime'].round(1)\n",
    "associated_etco2_df['rounded_relative_datetime'] = associated_etco2_df['relative_datetime'].round(1)\n",
    "associated_paco2_df['rounded_relative_datetime'] = associated_paco2_df['relative_datetime'].round(1)\n",
    "associated_mainstream_etco2_df['rounded_relative_datetime'] = associated_mainstream_etco2_df['relative_datetime'].round(1)\n",
    "associated_prx_df['rounded_relative_datetime'] = associated_prx_df['relative_datetime'].round(1)\n",
    "associated_icp_df['rounded_relative_datetime'] = associated_icp_df['relative_datetime'].round(1)"
   ]
  },
  {
   "cell_type": "markdown",
   "id": "6161da398368f7ad",
   "metadata": {},
   "source": [
    "# Full figure"
   ]
  },
  {
   "cell_type": "code",
   "execution_count": null,
   "id": "65ae47d33b99332",
   "metadata": {
    "ExecuteTime": {
     "end_time": "2025-01-01T18:39:41.587315Z",
     "start_time": "2025-01-01T18:37:24.336034Z"
    }
   },
   "outputs": [],
   "source": [
    "# plot a line plot of ptio2 and cpp values over relative time\n",
    "plot_temperature = True\n",
    "plot_temperature_left = True\n",
    "plot_hr = True\n",
    "plot_lpr = False\n",
    "plot_etco2 = False\n",
    "plot_paco2 = False\n",
    "plot_prx = True\n",
    "\n",
    "plot_diclofenac_infusion = True\n",
    "\n",
    "n_in_label = False\n",
    "broken_y_axis = True\n",
    "label_fontsize = 18\n",
    "legend_fontsize = 16\n",
    "\n",
    "secondary_axis_alpha = 0.8\n",
    "\n",
    "if broken_y_axis:\n",
    "    fig, (ax, ax0) = plt.subplots(2, 1, sharex=True, figsize=(20, 10), height_ratios=[0.95, 0.05])\n",
    "    fig.subplots_adjust(hspace=0.05)  # adjust space between Axes\n",
    "    \n",
    "    ax0.set_ylim(0, 1.)  # outliers only\n",
    "    ax.set_ylim(20, 36)  # most of the data\n",
    "    \n",
    "    # hide the spines between ax and ax2\n",
    "    ax.spines.bottom.set_visible(False)\n",
    "    ax0.spines.top.set_visible(False)\n",
    "    ax.xaxis.tick_top()\n",
    "    ax.tick_params(labeltop=False)  # don't put tick labels at the top\n",
    "    ax0.xaxis.tick_bottom()\n",
    "    \n",
    "    d = .5  # proportion of vertical to horizontal extent of the slanted line\n",
    "    kwargs = dict(marker=[(-1, -d), (1, d)], markersize=12,\n",
    "                  linestyle=\"none\", color='k', mec='k', mew=1, clip_on=False)\n",
    "    ax.plot([0, 1], [0, 0], transform=ax.transAxes, **kwargs)\n",
    "    ax0.plot([0, 1], [1, 1], transform=ax0.transAxes, **kwargs)\n",
    "    \n",
    "    # remove y tick from ax0\n",
    "    ax0.set_yticks([0])\n",
    "else:\n",
    "    fig, ax = plt.subplots(1, 1, figsize=(20, 10))\n",
    "\n",
    "pto2_label = 'PtO2'\n",
    "if n_in_label:\n",
    "    pto2_label = f'PtO2 (n={associated_ptio2_df.pat_nr.nunique()})'\n",
    "sns.lineplot(x='rounded_relative_datetime', y='ptio2', data=associated_ptio2_df, ax=ax, \n",
    "             label=pto2_label, legend=False, linewidth=2)\n",
    "# create second y axis for cpp values\n",
    "ax2 = ax.twinx()\n",
    "cpp_label = 'CPP'\n",
    "if n_in_label:\n",
    "    cpp_label = f'CPP (n={associated_cpp_df.pat_nr.nunique()})'\n",
    "sns.lineplot(x='rounded_relative_datetime', y='cpp', data=associated_cpp_df, ax=ax2, color='magenta', \n",
    "             label=cpp_label, legend=False, alpha=secondary_axis_alpha)\n",
    "\n",
    "if plot_temperature:\n",
    "    ax3 = ax.twinx()\n",
    "    temp_label = 'Temperature'\n",
    "    if n_in_label:\n",
    "        temp_label = f'Temperature (n={associated_temperature_df.pat_nr.nunique()})'\n",
    "    sns.lineplot(x='rounded_relative_datetime', y='temperature', data=associated_temperature_df, ax=ax3, color='green', \n",
    "                 label=temp_label, legend=False, alpha=secondary_axis_alpha)\n",
    "    ax3.set_ylabel('Temperature (°C)', fontsize=label_fontsize)\n",
    "    ax3.grid(None)\n",
    "    ax3.spines['right'].set_position(('outward', 60))\n",
    "    \n",
    "if plot_hr:\n",
    "    ax4 = ax.twinx()\n",
    "    hr_label = 'Heart rate'\n",
    "    if n_in_label:\n",
    "        hr_label = f'Heart rate (n={associated_hr_df.pat_nr.nunique()})'\n",
    "    sns.lineplot(x='rounded_relative_datetime', y='hr', data=associated_hr_df, ax=ax4, color='#7b002c', \n",
    "                 label=hr_label, legend=False, alpha=secondary_axis_alpha)\n",
    "    ax4.set_ylabel('Heart rate (bpm)', fontsize=label_fontsize)\n",
    "    ax4.grid(None)\n",
    "    ax4.spines['right'].set_position(('outward', 120)) \n",
    "\n",
    "if plot_lpr:\n",
    "    ax5 = ax.twinx()\n",
    "    lpr_label = 'LPR'\n",
    "    if n_in_label:\n",
    "        lpr_label = f'LPR (n={associated_lpr_df.pat_nr.nunique()})'\n",
    "    sns.lineplot(x='rounded_relative_datetime', y='lpr', data=associated_lpr_df.reset_index(), ax=ax5, color='orange', \n",
    "                 label=lpr_label, legend=False, alpha=secondary_axis_alpha)\n",
    "    ax5.set_ylabel('LPR', fontsize=label_fontsize)\n",
    "    ax5.grid(None)\n",
    "    ax5.spines['right'].set_position(('outward', 180))\n",
    "\n",
    "if plot_etco2:\n",
    "    ax6 = ax.twinx()\n",
    "    etco2_label = 'EtCO2'\n",
    "    if n_in_label:\n",
    "        etco2_label = f'EtCO2 (n={associated_etco2_df.pat_nr.nunique()})'\n",
    "    sns.lineplot(x='rounded_relative_datetime', y='etco2', data=associated_etco2_df.reset_index(), ax=ax6, color='orange', \n",
    "                 label=etco2_label, legend=False, alpha=secondary_axis_alpha)\n",
    "    ax6.set_ylabel('EtCO2 (mmHg)', fontsize=label_fontsize)\n",
    "    ax6.grid(None)\n",
    "    ax6.spines['right'].set_position(('outward', 180))\n",
    "    \n",
    "if plot_paco2:\n",
    "    ax7 = ax.twinx()\n",
    "    pac02_label = 'PaCO2'\n",
    "    if n_in_label:\n",
    "        pac02_label = f'PaCO2 (n={associated_paco2_df.pat_nr.nunique()})'\n",
    "    sns.lineplot(x='rounded_relative_datetime', y='pCO2_mmHg', data=associated_paco2_df.reset_index(), ax=ax7, color='orange',\n",
    "                    label=pac02_label, legend=False, alpha=secondary_axis_alpha)\n",
    "    ax7.set_ylabel('PaCO2 (mmHg)', fontsize=label_fontsize)\n",
    "    ax7.grid(None)\n",
    "    ax7.spines['right'].set_position(('outward', 180))\n",
    "    \n",
    "if broken_y_axis:\n",
    "    ax0.set_xlabel('Relative time from start of infusion (h)', fontsize=label_fontsize)\n",
    "else:\n",
    "    ax.set_xlabel('Relative time from start of infusion (h)', fontsize=label_fontsize)\n",
    "ax.set_ylabel('PtO2 (mmHg)', fontsize=label_fontsize)\n",
    "ax2.set_ylabel('CPP (mmHg)', fontsize=label_fontsize)\n",
    "\n",
    "ax2.set_ylim(60,100)\n",
    "ax2.grid(None)\n",
    "\n",
    "# show legend\n",
    "lines, labels = ax.get_legend_handles_labels()\n",
    "lines2, labels2 = ax2.get_legend_handles_labels()\n",
    "legend_lines = lines + lines2\n",
    "legend_labels = labels + labels2\n",
    "\n",
    "if plot_temperature:\n",
    "    lines3, labels3 = ax3.get_legend_handles_labels()\n",
    "    legend_lines += lines3\n",
    "    legend_labels += labels3\n",
    "    \n",
    "if plot_hr:\n",
    "    lines4, labels4 = ax4.get_legend_handles_labels()\n",
    "    legend_lines += lines4\n",
    "    legend_labels += labels4\n",
    "    \n",
    "if plot_lpr:\n",
    "    lines5, labels5 = ax5.get_legend_handles_labels()\n",
    "    legend_lines += lines5\n",
    "    legend_labels += labels5\n",
    "\n",
    "if plot_etco2:\n",
    "    lines6, labels6 = ax6.get_legend_handles_labels()\n",
    "    legend_lines += lines6\n",
    "    legend_labels += labels6\n",
    "    \n",
    "if plot_paco2:\n",
    "    lines7, labels7 = ax7.get_legend_handles_labels()\n",
    "    legend_lines += lines7\n",
    "    legend_labels += labels7\n",
    "\n",
    "ax.legend(legend_lines, legend_labels, loc='upper right', fontsize=legend_fontsize)\n",
    "\n",
    "# # add vertical line at x=0 with text label with \"Diclofenac administration\"\n",
    "# ax.axvline(x=0, ymin=0.015, ymax=0.1, color='black', linestyle='--', linewidth=0.7)\n",
    "# ax.text(0.5, 0.12, 'Start of infusion', horizontalalignment='center', verticalalignment='center', transform=ax.transAxes)\n",
    "\n",
    "if plot_diclofenac_infusion:\n",
    "    if broken_y_axis:\n",
    "        ax0.plot([0, 12], [0.3, 0.3], color='grey', linewidth=10, alpha=0.5)\n",
    "        ax0.text(6, 0.85, 'Diclofenac infusion', horizontalalignment='center', verticalalignment='center', fontsize=legend_fontsize)\n",
    "    else:\n",
    "        ax.plot([0, 12], [20.5, 20.5], color='grey', linewidth=10, alpha=0.5)\n",
    "        ax.text(6, 21, 'Diclofenac infusion', horizontalalignment='center', verticalalignment='center', fontsize=legend_fontsize)\n",
    "        \n",
    "# switch y axes of temperature (ax3) and PtO2 (ax)\n",
    "ax3.yaxis.set_label_position(\"left\")\n",
    "ax3.yaxis.tick_left()\n",
    "\n",
    "ax.yaxis.set_label_position(\"right\")\n",
    "ax.yaxis.tick_right()\n",
    "# plot a line plot of ptio2 and cpp values over relative time\n",
    "plot_temperature = True\n",
    "plot_hr = True\n",
    "plot_lpr = False\n",
    "plot_etco2 = False\n",
    "plot_paco2 = False\n",
    "plot_prx = True\n",
    "\n",
    "plot_diclofenac_infusion = True\n",
    "\n",
    "n_in_label = False\n",
    "broken_y_axis = True\n",
    "label_fontsize = 18\n",
    "legend_fontsize = 16\n",
    "\n",
    "secondary_axis_alpha = 0.8\n",
    "\n",
    "if broken_y_axis:\n",
    "    fig, (ax, ax0) = plt.subplots(2, 1, sharex=True, figsize=(20, 10), height_ratios=[0.95, 0.05])\n",
    "    fig.subplots_adjust(hspace=0.05)  # adjust space between Axes\n",
    "\n",
    "    ax0.set_ylim(0, 1.)  # outliers only\n",
    "    ax.set_ylim(20, 36)  # most of the data\n",
    "\n",
    "    # hide the spines between ax and ax2\n",
    "    ax.spines.bottom.set_visible(False)\n",
    "    ax0.spines.top.set_visible(False)\n",
    "    ax.xaxis.tick_top()\n",
    "    ax.tick_params(labeltop=False)  # don't put tick labels at the top\n",
    "    ax0.xaxis.tick_bottom()\n",
    "\n",
    "    d = .5  # proportion of vertical to horizontal extent of the slanted line\n",
    "    kwargs = dict(marker=[(-1, -d), (1, d)], markersize=12,\n",
    "                  linestyle=\"none\", color='k', mec='k', mew=1, clip_on=False)\n",
    "    ax.plot([0, 1], [0, 0], transform=ax.transAxes, **kwargs)\n",
    "    ax0.plot([0, 1], [1, 1], transform=ax0.transAxes, **kwargs)\n",
    "\n",
    "    # remove y tick from ax0\n",
    "    ax0.set_yticks([0])\n",
    "else:\n",
    "    fig, ax = plt.subplots(1, 1, figsize=(20, 10))\n",
    "\n",
    "pto2_label = 'PtO2'\n",
    "if n_in_label:\n",
    "    pto2_label = f'PtO2 (n={associated_ptio2_df.pat_nr.nunique()})'\n",
    "sns.lineplot(x='rounded_relative_datetime', y='ptio2', data=associated_ptio2_df, ax=ax,\n",
    "             label=pto2_label, legend=False, linewidth=2)\n",
    "# create second y axis for cpp values\n",
    "ax2 = ax.twinx()\n",
    "cpp_label = 'CPP'\n",
    "if n_in_label:\n",
    "    cpp_label = f'CPP (n={associated_cpp_df.pat_nr.nunique()})'\n",
    "sns.lineplot(x='rounded_relative_datetime', y='cpp', data=associated_cpp_df, ax=ax2, color='magenta',\n",
    "             label=cpp_label, legend=False, alpha=secondary_axis_alpha)\n",
    "\n",
    "if plot_temperature:\n",
    "    ax3 = ax.twinx()\n",
    "    temp_label = 'Temperature'\n",
    "    if n_in_label:\n",
    "        temp_label = f'Temperature (n={associated_temperature_df.pat_nr.nunique()})'\n",
    "    sns.lineplot(x='rounded_relative_datetime', y='temperature', data=associated_temperature_df, ax=ax3, color='green',\n",
    "                 label=temp_label, legend=False, alpha=secondary_axis_alpha)\n",
    "    ax3.set_ylabel('Temperature (°C)', fontsize=label_fontsize)\n",
    "    ax3.grid(None)\n",
    "    ax3.spines['right'].set_position(('outward', 60))\n",
    "\n",
    "if plot_hr:\n",
    "    ax4 = ax.twinx()\n",
    "    hr_label = 'Heart rate'\n",
    "    if n_in_label:\n",
    "        hr_label = f'Heart rate (n={associated_hr_df.pat_nr.nunique()})'\n",
    "    sns.lineplot(x='rounded_relative_datetime', y='hr', data=associated_hr_df, ax=ax4, color='#7b002c',\n",
    "                 label=hr_label, legend=False, alpha=secondary_axis_alpha)\n",
    "    ax4.set_ylabel('Heart rate (bpm)', fontsize=label_fontsize)\n",
    "    ax4.grid(None)\n",
    "    ax4.spines['right'].set_position(('outward', 120))\n",
    "\n",
    "if plot_lpr:\n",
    "    ax5 = ax.twinx()\n",
    "    lpr_label = 'LPR'\n",
    "    if n_in_label:\n",
    "        lpr_label = f'LPR (n={associated_lpr_df.pat_nr.nunique()})'\n",
    "    sns.lineplot(x='rounded_relative_datetime', y='lpr', data=associated_lpr_df.reset_index(), ax=ax5, color='orange',\n",
    "                 label=lpr_label, legend=False, alpha=secondary_axis_alpha)\n",
    "    ax5.set_ylabel('LPR', fontsize=label_fontsize)\n",
    "    ax5.grid(None)\n",
    "    ax5.spines['right'].set_position(('outward', 180))\n",
    "\n",
    "if plot_etco2:\n",
    "    ax6 = ax.twinx()\n",
    "    etco2_label = 'EtCO2'\n",
    "    if n_in_label:\n",
    "        etco2_label = f'EtCO2 (n={associated_etco2_df.pat_nr.nunique()})'\n",
    "    sns.lineplot(x='rounded_relative_datetime', y='etco2', data=associated_etco2_df.reset_index(), ax=ax6,\n",
    "                 color='orange',\n",
    "                 label=etco2_label, legend=False, alpha=secondary_axis_alpha)\n",
    "    ax6.set_ylabel('EtCO2 (mmHg)', fontsize=label_fontsize)\n",
    "    ax6.grid(None)\n",
    "    ax6.spines['right'].set_position(('outward', 180))\n",
    "\n",
    "if plot_paco2:\n",
    "    ax7 = ax.twinx()\n",
    "    pac02_label = 'PaCO2'\n",
    "    if n_in_label:\n",
    "        pac02_label = f'PaCO2 (n={associated_paco2_df.pat_nr.nunique()})'\n",
    "    sns.lineplot(x='rounded_relative_datetime', y='pCO2_mmHg', data=associated_paco2_df.reset_index(), ax=ax7,\n",
    "                 color='orange',\n",
    "                 label=pac02_label, legend=False, alpha=secondary_axis_alpha)\n",
    "    ax7.set_ylabel('PaCO2 (mmHg)', fontsize=label_fontsize)\n",
    "    ax7.grid(None)\n",
    "    ax7.spines['right'].set_position(('outward', 180))\n",
    "\n",
    "if broken_y_axis:\n",
    "    ax0.set_xlabel('Relative time from start of infusion (h)', fontsize=label_fontsize)\n",
    "else:\n",
    "    ax.set_xlabel('Relative time from start of infusion (h)', fontsize=label_fontsize)\n",
    "ax.set_ylabel('PtO2 (mmHg)', fontsize=label_fontsize)\n",
    "ax2.set_ylabel('CPP (mmHg)', fontsize=label_fontsize)\n",
    "\n",
    "ax2.set_ylim(60, 100)\n",
    "ax2.grid(None)\n",
    "\n",
    "# show legend\n",
    "lines, labels = ax.get_legend_handles_labels()\n",
    "lines2, labels2 = ax2.get_legend_handles_labels()\n",
    "legend_lines = lines + lines2\n",
    "legend_labels = labels + labels2\n",
    "\n",
    "if plot_temperature:\n",
    "    lines3, labels3 = ax3.get_legend_handles_labels()\n",
    "    legend_lines += lines3\n",
    "    legend_labels += labels3\n",
    "\n",
    "if plot_hr:\n",
    "    lines4, labels4 = ax4.get_legend_handles_labels()\n",
    "    legend_lines += lines4\n",
    "    legend_labels += labels4\n",
    "\n",
    "if plot_lpr:\n",
    "    lines5, labels5 = ax5.get_legend_handles_labels()\n",
    "    legend_lines += lines5\n",
    "    legend_labels += labels5\n",
    "\n",
    "if plot_etco2:\n",
    "    lines6, labels6 = ax6.get_legend_handles_labels()\n",
    "    legend_lines += lines6\n",
    "    legend_labels += labels6\n",
    "\n",
    "if plot_paco2:\n",
    "    lines7, labels7 = ax7.get_legend_handles_labels()\n",
    "    legend_lines += lines7\n",
    "    legend_labels += labels7\n",
    "\n",
    "ax.legend(legend_lines, legend_labels, loc='upper right', fontsize=legend_fontsize)\n",
    "\n",
    "# # add vertical line at x=0 with text label with \"Diclofenac administration\"\n",
    "# ax.axvline(x=0, ymin=0.015, ymax=0.1, color='black', linestyle='--', linewidth=0.7)\n",
    "# ax.text(0.5, 0.12, 'Start of infusion', horizontalalignment='center', verticalalignment='center', transform=ax.transAxes)\n",
    "\n",
    "if plot_diclofenac_infusion:\n",
    "    if broken_y_axis:\n",
    "        ax0.plot([0, 12], [0.3, 0.3], color='grey', linewidth=10, alpha=0.5)\n",
    "        ax0.text(6, 0.85, 'Diclofenac infusion', horizontalalignment='center', verticalalignment='center',\n",
    "                 fontsize=legend_fontsize)\n",
    "    else:\n",
    "        ax.plot([0, 12], [20.5, 20.5], color='grey', linewidth=10, alpha=0.5)\n",
    "        ax.text(6, 21, 'Diclofenac infusion', horizontalalignment='center', verticalalignment='center',\n",
    "                fontsize=legend_fontsize)\n",
    "\n",
    "# switch y axes of temperature (ax3) and PtO2 (ax)\n",
    "ax3.yaxis.set_label_position(\"left\")\n",
    "ax3.yaxis.tick_left()\n",
    "\n",
    "ax.yaxis.set_label_position(\"right\")\n",
    "ax.yaxis.tick_right()\n",
    "\n",
    "# plot a line plot of ptio2 and cpp values over relative time\n",
    "plot_temperature = True\n",
    "plot_hr = True\n",
    "plot_lpr = False\n",
    "plot_etco2 = False\n",
    "plot_paco2 = False\n",
    "plot_prx = True\n",
    "\n",
    "plot_diclofenac_infusion = True\n",
    "\n",
    "n_in_label = False\n",
    "broken_y_axis = True\n",
    "label_fontsize = 18\n",
    "legend_fontsize = 16\n",
    "\n",
    "secondary_axis_alpha = 0.8\n",
    "\n",
    "if broken_y_axis:\n",
    "    fig, (ax, ax0) = plt.subplots(2, 1, sharex=True, figsize=(20, 10), height_ratios=[0.95, 0.05])\n",
    "    fig.subplots_adjust(hspace=0.05)  # adjust space between Axes\n",
    "\n",
    "    ax0.set_ylim(0, 1.)  # outliers only\n",
    "    ax.set_ylim(20, 36)  # most of the data\n",
    "\n",
    "    # hide the spines between ax and ax2\n",
    "    ax.spines.bottom.set_visible(False)\n",
    "    ax0.spines.top.set_visible(False)\n",
    "    ax.xaxis.tick_top()\n",
    "    ax.tick_params(labeltop=False)  # don't put tick labels at the top\n",
    "    ax0.xaxis.tick_bottom()\n",
    "\n",
    "    d = .5  # proportion of vertical to horizontal extent of the slanted line\n",
    "    kwargs = dict(marker=[(-1, -d), (1, d)], markersize=12,\n",
    "                  linestyle=\"none\", color='k', mec='k', mew=1, clip_on=False)\n",
    "    ax.plot([0, 1], [0, 0], transform=ax.transAxes, **kwargs)\n",
    "    ax0.plot([0, 1], [1, 1], transform=ax0.transAxes, **kwargs)\n",
    "\n",
    "    # remove y tick from ax0\n",
    "    ax0.set_yticks([0])\n",
    "else:\n",
    "    fig, ax = plt.subplots(1, 1, figsize=(20, 10))\n",
    "\n",
    "pto2_label = 'PtO2'\n",
    "if n_in_label:\n",
    "    pto2_label = f'PtO2 (n={associated_ptio2_df.pat_nr.nunique()})'\n",
    "sns.lineplot(x='rounded_relative_datetime', y='ptio2', data=associated_ptio2_df, ax=ax,\n",
    "             label=pto2_label, legend=False, linewidth=2)\n",
    "# create second y axis for cpp values\n",
    "ax2 = ax.twinx()\n",
    "cpp_label = 'CPP'\n",
    "if n_in_label:\n",
    "    cpp_label = f'CPP (n={associated_cpp_df.pat_nr.nunique()})'\n",
    "sns.lineplot(x='rounded_relative_datetime', y='cpp', data=associated_cpp_df, ax=ax2, color='magenta',\n",
    "             label=cpp_label, legend=False, alpha=secondary_axis_alpha)\n",
    "\n",
    "if plot_temperature:\n",
    "    ax3 = ax.twinx()\n",
    "    temp_label = 'Temperature'\n",
    "    if n_in_label:\n",
    "        temp_label = f'Temperature (n={associated_temperature_df.pat_nr.nunique()})'\n",
    "    sns.lineplot(x='rounded_relative_datetime', y='temperature', data=associated_temperature_df, ax=ax3, color='green',\n",
    "                 label=temp_label, legend=False, alpha=secondary_axis_alpha)\n",
    "    ax3.set_ylabel('Temperature (°C)', fontsize=label_fontsize)\n",
    "    ax3.grid(None)\n",
    "    ax3.spines['right'].set_position(('outward', 60))\n",
    "\n",
    "if plot_hr:\n",
    "    ax4 = ax.twinx()\n",
    "    hr_label = 'Heart rate'\n",
    "    if n_in_label:\n",
    "        hr_label = f'Heart rate (n={associated_hr_df.pat_nr.nunique()})'\n",
    "    sns.lineplot(x='rounded_relative_datetime', y='hr', data=associated_hr_df, ax=ax4, color='#7b002c',\n",
    "                 label=hr_label, legend=False, alpha=secondary_axis_alpha)\n",
    "    ax4.set_ylabel('Heart rate (bpm)', fontsize=label_fontsize)\n",
    "    ax4.grid(None)\n",
    "    ax4.spines['right'].set_position(('outward', 120))\n",
    "\n",
    "if plot_lpr:\n",
    "    ax5 = ax.twinx()\n",
    "    lpr_label = 'LPR'\n",
    "    if n_in_label:\n",
    "        lpr_label = f'LPR (n={associated_lpr_df.pat_nr.nunique()})'\n",
    "    sns.lineplot(x='rounded_relative_datetime', y='lpr', data=associated_lpr_df.reset_index(), ax=ax5, color='orange',\n",
    "                 label=lpr_label, legend=False, alpha=secondary_axis_alpha)\n",
    "    ax5.set_ylabel('LPR', fontsize=label_fontsize)\n",
    "    ax5.grid(None)\n",
    "    ax5.spines['right'].set_position(('outward', 180))\n",
    "\n",
    "if plot_etco2:\n",
    "    ax6 = ax.twinx()\n",
    "    etco2_label = 'EtCO2'\n",
    "    if n_in_label:\n",
    "        etco2_label = f'EtCO2 (n={associated_etco2_df.pat_nr.nunique()})'\n",
    "    sns.lineplot(x='rounded_relative_datetime', y='etco2', data=associated_etco2_df.reset_index(), ax=ax6, color='orange',\n",
    "                 label=etco2_label, legend=False, alpha=secondary_axis_alpha)\n",
    "    ax6.set_ylabel('EtCO2 (mmHg)', fontsize=label_fontsize)\n",
    "    ax6.grid(None)\n",
    "    ax6.spines['right'].set_position(('outward', 180))\n",
    "\n",
    "if plot_paco2:\n",
    "    ax7 = ax.twinx()\n",
    "    pac02_label = 'PaCO2'\n",
    "    if n_in_label:\n",
    "        pac02_label = f'PaCO2 (n={associated_paco2_df.pat_nr.nunique()})'\n",
    "    sns.lineplot(x='rounded_relative_datetime', y='pCO2_mmHg', data=associated_paco2_df.reset_index(), ax=ax7, color='orange',\n",
    "                 label=pac02_label, legend=False, alpha=secondary_axis_alpha)\n",
    "    ax7.set_ylabel('PaCO2 (mmHg)', fontsize=label_fontsize)\n",
    "    ax7.grid(None)\n",
    "    ax7.spines['right'].set_position(('outward', 180))\n",
    "\n",
    "if broken_y_axis:\n",
    "    ax0.set_xlabel('Relative time from start of infusion (h)', fontsize=label_fontsize)\n",
    "else:\n",
    "    ax.set_xlabel('Relative time from start of infusion (h)', fontsize=label_fontsize)\n",
    "ax.set_ylabel('PtO2 (mmHg)', fontsize=label_fontsize)\n",
    "ax2.set_ylabel('CPP (mmHg)', fontsize=label_fontsize)\n",
    "\n",
    "ax2.set_ylim(60,100)\n",
    "ax2.grid(None)\n",
    "\n",
    "# show legend\n",
    "lines, labels = ax.get_legend_handles_labels()\n",
    "lines2, labels2 = ax2.get_legend_handles_labels()\n",
    "legend_lines = lines + lines2\n",
    "legend_labels = labels + labels2\n",
    "\n",
    "if plot_temperature:\n",
    "    lines3, labels3 = ax3.get_legend_handles_labels()\n",
    "    legend_lines += lines3\n",
    "    legend_labels += labels3\n",
    "\n",
    "if plot_hr:\n",
    "    lines4, labels4 = ax4.get_legend_handles_labels()\n",
    "    legend_lines += lines4\n",
    "    legend_labels += labels4\n",
    "\n",
    "if plot_lpr:\n",
    "    lines5, labels5 = ax5.get_legend_handles_labels()\n",
    "    legend_lines += lines5\n",
    "    legend_labels += labels5\n",
    "\n",
    "if plot_etco2:\n",
    "    lines6, labels6 = ax6.get_legend_handles_labels()\n",
    "    legend_lines += lines6\n",
    "    legend_labels += labels6\n",
    "\n",
    "if plot_paco2:\n",
    "    lines7, labels7 = ax7.get_legend_handles_labels()\n",
    "    legend_lines += lines7\n",
    "    legend_labels += labels7\n",
    "\n",
    "ax.legend(legend_lines, legend_labels, loc='upper right', fontsize=legend_fontsize)\n",
    "\n",
    "# # add vertical line at x=0 with text label with \"Diclofenac administration\"\n",
    "# ax.axvline(x=0, ymin=0.015, ymax=0.1, color='black', linestyle='--', linewidth=0.7)\n",
    "# ax.text(0.5, 0.12, 'Start of infusion', horizontalalignment='center', verticalalignment='center', transform=ax.transAxes)\n",
    "\n",
    "if plot_diclofenac_infusion:\n",
    "    if broken_y_axis:\n",
    "        ax0.plot([0, 12], [0.3, 0.3], color='grey', linewidth=10, alpha=0.5)\n",
    "        ax0.text(6, 0.85, 'Diclofenac infusion', horizontalalignment='center', verticalalignment='center', fontsize=legend_fontsize)\n",
    "    else:\n",
    "        ax.plot([0, 12], [20.5, 20.5], color='grey', linewidth=10, alpha=0.5)\n",
    "        ax.text(6, 21, 'Diclofenac infusion', horizontalalignment='center', verticalalignment='center', fontsize=legend_fontsize)\n",
    "\n",
    "if plot_temperature_left:\n",
    "    # switch y axes of temperature (ax3) and PtO2 (ax)\n",
    "    ax3.yaxis.set_label_position(\"left\")\n",
    "    ax3.yaxis.tick_left()\n",
    "    \n",
    "    ax.yaxis.set_label_position(\"right\")\n",
    "    ax.yaxis.tick_right()\n",
    "    ax2.spines['right'].set_position(('outward', 60))\n"
   ]
  },
  {
   "cell_type": "code",
   "execution_count": null,
   "id": "7028a540ea9d29e6",
   "metadata": {
    "ExecuteTime": {
     "end_time": "2025-01-01T18:40:17.502315Z",
     "start_time": "2025-01-01T18:40:05.531418Z"
    }
   },
   "outputs": [],
   "source": [
    "# fig.savefig('/Users/jk1/Downloads/temp_and_ptio2.png', dpi=600, bbox_inches='tight')"
   ]
  },
  {
   "cell_type": "markdown",
   "id": "bf722a8e3dc89211",
   "metadata": {},
   "source": [
    "## Plot PRx with CPP and PtiO2"
   ]
  },
  {
   "cell_type": "code",
   "execution_count": null,
   "id": "c536b076a40b2a86",
   "metadata": {
    "ExecuteTime": {
     "end_time": "2024-11-07T13:10:06.889007Z",
     "start_time": "2024-11-07T13:09:59.884835Z"
    }
   },
   "outputs": [],
   "source": [
    "sns.lineplot(x='rounded_relative_datetime', y='prx', data=associated_prx_df, color='lightslategrey', \n",
    "                 label='prx_label', legend=False, alpha=secondary_axis_alpha)"
   ]
  },
  {
   "cell_type": "code",
   "execution_count": null,
   "id": "fe2040f0f38d658b",
   "metadata": {
    "ExecuteTime": {
     "end_time": "2024-11-07T13:10:23.678930Z",
     "start_time": "2024-11-07T13:10:07.778453Z"
    }
   },
   "outputs": [],
   "source": [
    "# plot a line plot of ptio2 and cpp values over relative time\n",
    "plot_cpp = False\n",
    "plot_temperature = False\n",
    "plot_prx = True\n",
    "\n",
    "plot_diclofenac_infusion = False\n",
    "\n",
    "n_in_label = False\n",
    "broken_y_axis = True\n",
    "label_fontsize = 18\n",
    "legend_fontsize = 16\n",
    "\n",
    "secondary_axis_alpha = 1\n",
    "\n",
    "prx_patients = associated_prx_df.pat_nr.unique()\n",
    "prx_associated_ptio2_df = associated_ptio2_df[associated_ptio2_df.pat_nr.isin(prx_patients)]\n",
    "prx_associated_cpp_df = associated_cpp_df[associated_cpp_df.pat_nr.isin(prx_patients)]\n",
    "prx_associated_temperature_df = associated_temperature_df[associated_temperature_df.pat_nr.isin(prx_patients)]\n",
    "\n",
    "if broken_y_axis:\n",
    "    fig, (ax, ax0) = plt.subplots(2, 1, sharex=True, figsize=(20, 10), height_ratios=[0.95, 0.05])\n",
    "    fig.subplots_adjust(hspace=0.05)  # adjust space between Axes\n",
    "    \n",
    "    ax0.set_ylim(0, 1.)  # outliers only\n",
    "    ax.set_ylim(12, 23)  # most of the data\n",
    "    \n",
    "    # hide the spines between ax and ax2\n",
    "    ax.spines.bottom.set_visible(False)\n",
    "    ax0.spines.top.set_visible(False)\n",
    "    ax.xaxis.tick_top()\n",
    "    ax.tick_params(labeltop=False)  # don't put tick labels at the top\n",
    "    ax0.xaxis.tick_bottom()\n",
    "    \n",
    "    d = .5  # proportion of vertical to horizontal extent of the slanted line\n",
    "    kwargs = dict(marker=[(-1, -d), (1, d)], markersize=12,\n",
    "                  linestyle=\"none\", color='k', mec='k', mew=1, clip_on=False)\n",
    "    ax.plot([0, 1], [0, 0], transform=ax.transAxes, **kwargs)\n",
    "    ax0.plot([0, 1], [1, 1], transform=ax0.transAxes, **kwargs)\n",
    "    \n",
    "    # remove y tick from ax0\n",
    "    ax0.set_yticks([0])\n",
    "else:\n",
    "    fig, ax = plt.subplots(1, 1, figsize=(20, 10))\n",
    "\n",
    "pto2_label = 'PtO2'\n",
    "if n_in_label:\n",
    "    pto2_label = f'PtO2 (n={prx_associated_ptio2_df.pat_nr.nunique()})'\n",
    "sns.lineplot(x='rounded_relative_datetime', y='ptio2', data=prx_associated_ptio2_df, ax=ax, \n",
    "             label=pto2_label, legend=False, linewidth=2)\n",
    "\n",
    "if plot_cpp:\n",
    "    # create second y axis for cpp values\n",
    "    ax2 = ax.twinx()\n",
    "    cpp_label = 'CPP'\n",
    "    if n_in_label:\n",
    "        cpp_label = f'CPP (n={prx_associated_cpp_df.pat_nr.nunique()})'\n",
    "    sns.lineplot(x='rounded_relative_datetime', y='cpp', data=prx_associated_cpp_df, ax=ax2, color='magenta', \n",
    "                 label=cpp_label, legend=False, alpha=secondary_axis_alpha)\n",
    "    ax2.set_ylim(60,100)\n",
    "    ax2.grid(None)\n",
    "\n",
    "if plot_temperature:\n",
    "    ax3 = ax.twinx()\n",
    "    temp_label = 'Temperature'\n",
    "    if n_in_label:\n",
    "        temp_label = f'Temperature (n={prx_associated_temperature_df.pat_nr.nunique()})'\n",
    "    sns.lineplot(x='rounded_relative_datetime', y='temperature', data=prx_associated_temperature_df, ax=ax3, color='green', \n",
    "                 label=temp_label, legend=False, alpha=secondary_axis_alpha)\n",
    "    ax3.set_ylabel('Temperature (°C)', fontsize=label_fontsize)\n",
    "    ax3.grid(None)\n",
    "    ax3.spines['right'].set_position(('outward', 60))\n",
    "    \n",
    "if plot_prx:\n",
    "    ax4 = ax.twinx()\n",
    "    prx_label = 'PRx'\n",
    "    if n_in_label:\n",
    "        prx_label = f'PRx (n={associated_prx_df.pat_nr.nunique()})'\n",
    "    sns.lineplot(x='rounded_relative_datetime', y='prx', data=associated_prx_df, ax=ax4, color='salmon', \n",
    "                 label=prx_label, legend=False, alpha=secondary_axis_alpha)\n",
    "    ax4.set_ylabel('PRx', fontsize=label_fontsize)\n",
    "    ax4.grid(None)\n",
    "    # ax4.spines['right'].set_position(('outward', 120))\n",
    "    \n",
    "if broken_y_axis:\n",
    "    ax0.set_xlabel('Relative time from start of infusion (h)', fontsize=label_fontsize)\n",
    "else:\n",
    "    ax.set_xlabel('Relative time from start of infusion (h)', fontsize=label_fontsize)\n",
    "ax.set_ylabel('PtO2 (mmHg)', fontsize=label_fontsize)\n",
    "\n",
    "\n",
    "# show legend\n",
    "legend_lines, legend_labels = ax.get_legend_handles_labels()\n",
    "\n",
    "if plot_cpp:\n",
    "    lines2, labels2 = ax2.get_legend_handles_labels()\n",
    "    legend_lines += lines2\n",
    "    legend_labels += labels2\n",
    "    ax2.set_ylabel('CPP (mmHg)', fontsize=label_fontsize)\n",
    "\n",
    "if plot_temperature:\n",
    "    lines3, labels3 = ax3.get_legend_handles_labels()\n",
    "    legend_lines += lines3\n",
    "    legend_labels += labels3\n",
    "\n",
    "if plot_prx:\n",
    "    lines4, labels4 = ax4.get_legend_handles_labels()\n",
    "    legend_lines += lines4\n",
    "    legend_labels += labels4\n",
    "\n",
    "ax.legend(legend_lines, legend_labels, loc='upper right', fontsize=legend_fontsize)\n",
    "\n",
    "if plot_diclofenac_infusion:\n",
    "    if broken_y_axis:\n",
    "        ax0.plot([0, 12], [0.3, 0.3], color='grey', linewidth=10, alpha=0.5)\n",
    "        ax0.text(6, 0.85, 'Diclofenac infusion', horizontalalignment='center', verticalalignment='center', fontsize=legend_fontsize)\n",
    "    else:\n",
    "        ax.plot([0, 12], [20.5, 20.5], color='grey', linewidth=10, alpha=0.5)\n",
    "        ax.text(6, 21, 'Diclofenac infusion', horizontalalignment='center', verticalalignment='center', fontsize=legend_fontsize)"
   ]
  },
  {
   "cell_type": "code",
   "execution_count": null,
   "id": "b2da568a26fbf564",
   "metadata": {
    "ExecuteTime": {
     "end_time": "2024-11-07T13:10:23.831687Z",
     "start_time": "2024-11-07T13:10:23.829370Z"
    }
   },
   "outputs": [],
   "source": [
    "# fig.savefig('/Users/jk1/Downloads/prx_subset.png', dpi=600, bbox_inches='tight')"
   ]
  },
  {
   "cell_type": "markdown",
   "id": "3b1861768143375d",
   "metadata": {},
   "source": [
    "## LPR and PtO2"
   ]
  },
  {
   "cell_type": "code",
   "execution_count": null,
   "id": "2c55c9bebb104a9e",
   "metadata": {
    "ExecuteTime": {
     "end_time": "2024-11-07T13:10:30.091421Z",
     "start_time": "2024-11-07T13:10:25.979367Z"
    }
   },
   "outputs": [],
   "source": [
    "# plot a line plot of ptio2 and cpp values over relative time\n",
    "plot_cpp = False\n",
    "plot_lpr = True\n",
    "\n",
    "plot_diclofenac_infusion = False\n",
    "\n",
    "n_in_label = False\n",
    "broken_y_axis = True\n",
    "label_fontsize = 18\n",
    "legend_fontsize = 16\n",
    "secondary_axis_alpha = 1\n",
    "\n",
    "lpr_patients = associated_lpr_df.pat_nr.unique()\n",
    "associated_lpr_df['rounded_relative_datetime'] = associated_lpr_df['relative_datetime'].round()\n",
    "lpr_associated_ptio2_df = associated_ptio2_df[associated_ptio2_df.pat_nr.isin(lpr_patients)]\n",
    "lpr_associated_ptio2_df['rounded_relative_datetime'] = (lpr_associated_ptio2_df['relative_datetime'] * 4).round() / 4\n",
    "lpr_associated_cpp_df = associated_cpp_df[associated_cpp_df.pat_nr.isin(lpr_patients)]\n",
    "\n",
    "if broken_y_axis:\n",
    "    fig, (ax, ax0) = plt.subplots(2, 1, sharex=True, figsize=(20, 10), height_ratios=[0.95, 0.05])\n",
    "    fig.subplots_adjust(hspace=0.05)  # adjust space between Axes\n",
    "    \n",
    "    ax0.set_ylim(0, 1.)  # outliers only\n",
    "    ax.set_ylim(18, 36)  # most of the data\n",
    "    \n",
    "    # hide the spines between ax and ax2\n",
    "    ax.spines.bottom.set_visible(False)\n",
    "    ax0.spines.top.set_visible(False)\n",
    "    ax.xaxis.tick_top()\n",
    "    ax.tick_params(labeltop=False)  # don't put tick labels at the top\n",
    "    ax0.xaxis.tick_bottom()\n",
    "    \n",
    "    d = .5  # proportion of vertical to horizontal extent of the slanted line\n",
    "    kwargs = dict(marker=[(-1, -d), (1, d)], markersize=12,\n",
    "                  linestyle=\"none\", color='k', mec='k', mew=1, clip_on=False)\n",
    "    ax.plot([0, 1], [0, 0], transform=ax.transAxes, **kwargs)\n",
    "    ax0.plot([0, 1], [1, 1], transform=ax0.transAxes, **kwargs)\n",
    "    \n",
    "    # remove y tick from ax0\n",
    "    ax0.set_yticks([0])\n",
    "else:\n",
    "    fig, ax = plt.subplots(1, 1, figsize=(20, 10))\n",
    "\n",
    "pto2_label = 'PtO2'\n",
    "if n_in_label:\n",
    "    pto2_label = f'PtO2 (n={lpr_associated_ptio2_df.pat_nr.nunique()})'\n",
    "sns.lineplot(x='rounded_relative_datetime', y='ptio2', data=lpr_associated_ptio2_df, ax=ax, \n",
    "             label=pto2_label, legend=False, linewidth=2)\n",
    "\n",
    "if plot_cpp:\n",
    "    # create second y axis for cpp values\n",
    "    ax2 = ax.twinx()\n",
    "    cpp_label = 'CPP'\n",
    "    if n_in_label:\n",
    "        cpp_label = f'CPP (n={lpr_associated_cpp_df.pat_nr.nunique()})'\n",
    "    sns.lineplot(x='rounded_relative_datetime', y='cpp', data=lpr_associated_cpp_df, ax=ax2, color='magenta', \n",
    "                 label=cpp_label, legend=False, alpha=secondary_axis_alpha)\n",
    "    ax2.set_ylim(60,100)\n",
    "    ax2.grid(None)\n",
    "\n",
    "if plot_lpr:\n",
    "    ax5 = ax.twinx()\n",
    "    lpr_label = 'LPR'\n",
    "    if n_in_label:\n",
    "        lpr_label = f'LPR (n={associated_lpr_df.pat_nr.nunique()})'\n",
    "    sns.lineplot(x='rounded_relative_datetime', y='lpr', data=associated_lpr_df.reset_index(), ax=ax5, color='rosybrown', \n",
    "                 label=lpr_label, legend=False, alpha=secondary_axis_alpha)\n",
    "    ax5.set_ylabel('LPR', fontsize=label_fontsize)\n",
    "    ax5.grid(None)\n",
    "    # ax5.spines['right'].set_position(('outward', 180))\n",
    "\n",
    "if broken_y_axis:\n",
    "    ax0.set_xlabel('Relative time from start of infusion (h)', fontsize=label_fontsize)\n",
    "else:\n",
    "    ax.set_xlabel('Relative time from start of infusion (h)', fontsize=label_fontsize)\n",
    "ax.set_ylabel('PtO2 (mmHg)', fontsize=label_fontsize)\n",
    "\n",
    "\n",
    "# show legend\n",
    "legend_lines, legend_labels = ax.get_legend_handles_labels()\n",
    "\n",
    "if plot_cpp:\n",
    "    lines2, labels2 = ax2.get_legend_handles_labels()\n",
    "    legend_lines += lines2\n",
    "    legend_labels += labels2\n",
    "    ax2.set_ylabel('CPP (mmHg)', fontsize=label_fontsize)\n",
    "\n",
    "if plot_lpr:\n",
    "    lines5, labels5 = ax5.get_legend_handles_labels()\n",
    "    legend_lines += lines5\n",
    "    legend_labels += labels5\n",
    "\n",
    "ax.legend(legend_lines, legend_labels, loc='upper right', fontsize=legend_fontsize)\n",
    "\n",
    "# # add vertical line at x=0 with text label with \"Diclofenac administration\"\n",
    "# ax.axvline(x=0, ymin=0.015, ymax=0.1, color='black', linestyle='--', linewidth=0.7)\n",
    "# ax.text(0.5, 0.12, 'Start of infusion', horizontalalignment='center', verticalalignment='center', transform=ax.transAxes)\n",
    "\n",
    "if plot_diclofenac_infusion:\n",
    "    if broken_y_axis:\n",
    "        ax0.plot([0, 12], [0.3, 0.3], color='grey', linewidth=10, alpha=0.5)\n",
    "        ax0.text(6, 0.85, 'Diclofenac infusion', horizontalalignment='center', verticalalignment='center', fontsize=legend_fontsize)\n",
    "    else:\n",
    "        ax.plot([0, 12], [20.5, 20.5], color='grey', linewidth=10, alpha=0.5)\n",
    "        ax.text(6, 21, 'Diclofenac infusion', horizontalalignment='center', verticalalignment='center', fontsize=legend_fontsize)\n",
    "        \n",
    "ax5.set_ylim(10, 47)"
   ]
  },
  {
   "cell_type": "code",
   "execution_count": null,
   "id": "ac680f2092396409",
   "metadata": {
    "ExecuteTime": {
     "end_time": "2024-11-07T13:10:30.188015Z",
     "start_time": "2024-11-07T13:10:30.185150Z"
    }
   },
   "outputs": [],
   "source": [
    "# fig.savefig('/Users/jk1/Downloads/lpr_subset.png', dpi=600, bbox_inches='tight')"
   ]
  },
  {
   "cell_type": "markdown",
   "id": "4afafc4d4d79c72d",
   "metadata": {},
   "source": [
    "## Relation with PaCO2 and EtCO2"
   ]
  },
  {
   "cell_type": "code",
   "execution_count": null,
   "id": "240be9c6aab0aeee",
   "metadata": {
    "ExecuteTime": {
     "end_time": "2025-01-02T11:55:02.162451Z",
     "start_time": "2025-01-02T11:54:50.947505Z"
    }
   },
   "outputs": [],
   "source": [
    "associated_ptio2_df['rounded_relative_datetime'] = associated_ptio2_df['relative_datetime'].round(1)\n",
    "associated_cpp_df['rounded_relative_datetime'] = associated_cpp_df['relative_datetime'].round(1)\n",
    "associated_temperature_df['rounded_relative_datetime'] = associated_temperature_df['relative_datetime'].round(1)\n",
    "\n",
    "associated_paco2_df['rounded_relative_datetime'] = (associated_paco2_df['relative_datetime'] * 2).round() / 2\n",
    "associated_mainstream_etco2_df['rounded_relative_datetime'] = (associated_mainstream_etco2_df['relative_datetime'] * 2).round() / 2\n",
    "\n",
    "# plot a line plot of ptio2 and cpp values over relative time\n",
    "plot_temperature = False\n",
    "plot_cpp = False\n",
    "plot_etco2 = True\n",
    "plot_paco2 = True\n",
    "\n",
    "plot_diclofenac_infusion = False\n",
    "\n",
    "n_in_label = False\n",
    "broken_y_axis = True\n",
    "label_fontsize = 18\n",
    "legend_fontsize = 16\n",
    "\n",
    "secondary_axis_alpha = 0.8\n",
    "\n",
    "if broken_y_axis:\n",
    "    fig, (ax, ax0) = plt.subplots(2, 1, sharex=True, figsize=(20, 10), height_ratios=[0.95, 0.05])\n",
    "    fig.subplots_adjust(hspace=0.05)  # adjust space between Axes\n",
    "\n",
    "    ax0.set_ylim(0, 1.)  # outliers only\n",
    "    ax.set_ylim(20, 36)  # most of the data\n",
    "\n",
    "    # hide the spines between ax and ax2\n",
    "    ax.spines.bottom.set_visible(False)\n",
    "    ax0.spines.top.set_visible(False)\n",
    "    ax.xaxis.tick_top()\n",
    "    ax.tick_params(labeltop=False)  # don't put tick labels at the top\n",
    "    ax0.xaxis.tick_bottom()\n",
    "\n",
    "    d = .5  # proportion of vertical to horizontal extent of the slanted line\n",
    "    kwargs = dict(marker=[(-1, -d), (1, d)], markersize=12,\n",
    "                  linestyle=\"none\", color='k', mec='k', mew=1, clip_on=False)\n",
    "    ax.plot([0, 1], [0, 0], transform=ax.transAxes, **kwargs)\n",
    "    ax0.plot([0, 1], [1, 1], transform=ax0.transAxes, **kwargs)\n",
    "\n",
    "    # remove y tick from ax0\n",
    "    ax0.set_yticks([0])\n",
    "else:\n",
    "    fig, ax = plt.subplots(1, 1, figsize=(20, 10))\n",
    "\n",
    "pto2_label = 'PtO2'\n",
    "if n_in_label:\n",
    "    pto2_label = f'PtO2 (n={associated_ptio2_df.pat_nr.nunique()})'\n",
    "sns.lineplot(x='rounded_relative_datetime', y='ptio2', data=associated_ptio2_df, ax=ax,\n",
    "             label=pto2_label, legend=False, linewidth=2)\n",
    "\n",
    "if plot_cpp:\n",
    "    # create second y axis for cpp values\n",
    "    ax2 = ax.twinx()\n",
    "    cpp_label = 'CPP'\n",
    "    if n_in_label:\n",
    "        cpp_label = f'CPP (n={associated_cpp_df.pat_nr.nunique()})'\n",
    "    sns.lineplot(x='rounded_relative_datetime', y='cpp', data=associated_cpp_df, ax=ax2, color='magenta',\n",
    "                 label=cpp_label, legend=False, alpha=secondary_axis_alpha)\n",
    "    ax2.set_ylim(60, 100)\n",
    "    ax2.grid(None)\n",
    "\n",
    "if plot_diclofenac_infusion:\n",
    "    if broken_y_axis:\n",
    "        ax0.plot([0, 12], [0.3, 0.3], color='grey', linewidth=10, alpha=0.5)\n",
    "        ax0.text(6, 0.85, 'Diclofenac infusion', horizontalalignment='center', verticalalignment='center',\n",
    "                 fontsize=legend_fontsize)\n",
    "    else:\n",
    "        ax.plot([0, 12], [20.5, 20.5], color='grey', linewidth=10, alpha=0.5)\n",
    "        ax.text(6, 21, 'Diclofenac infusion', horizontalalignment='center', verticalalignment='center',\n",
    "                fontsize=legend_fontsize)\n",
    "\n",
    "if plot_etco2:\n",
    "    ax6 = ax.twinx()\n",
    "    etco2_label = 'EtCO2'\n",
    "    if n_in_label:\n",
    "        etco2_label = f'EtCO2 (n={associated_mainstream_etco2_df.pat_nr.nunique()})'\n",
    "    sns.lineplot(x='rounded_relative_datetime', y='etCO2', data=associated_mainstream_etco2_df.reset_index(), ax=ax6,\n",
    "                 color='orange',\n",
    "                 label=etco2_label, legend=False, alpha=secondary_axis_alpha)\n",
    "    ax6.set_ylabel('EtCO2 (mmHg)', fontsize=label_fontsize)\n",
    "    ax6.grid(None)\n",
    "    ax6.spines['right'].set_position(('outward', 60))\n",
    "    ax6.set_ylim(25, 50)\n",
    "\n",
    "if plot_paco2:\n",
    "    ax7 = ax.twinx()\n",
    "    pac02_label = 'PaCO2'\n",
    "    if n_in_label:\n",
    "        pac02_label = f'PaCO2 (n={associated_paco2_df.pat_nr.nunique()})'\n",
    "    sns.lineplot(x='rounded_relative_datetime', y='pCO2_mmHg', data=associated_paco2_df.reset_index(), ax=ax7,\n",
    "                 color='lightcoral',\n",
    "                 label=pac02_label, legend=False, alpha=secondary_axis_alpha)\n",
    "    ax7.set_ylabel('PaCO2 (mmHg)', fontsize=label_fontsize)\n",
    "    ax7.grid(None)\n",
    "    ax7.set_ylim(25, 50)\n",
    "    # ax7.spines['right'].set_position(('outward', 180))\n",
    "\n",
    "if broken_y_axis:\n",
    "    ax0.set_xlabel('Relative time from start of infusion (h)', fontsize=label_fontsize)\n",
    "else:\n",
    "    ax.set_xlabel('Relative time from start of infusion (h)', fontsize=label_fontsize)\n",
    "ax.set_ylabel('PtO2 (mmHg)', fontsize=label_fontsize)\n",
    "\n",
    "# show legend\n",
    "legend_lines, legend_labels = ax.get_legend_handles_labels()\n",
    "\n",
    "if plot_cpp:\n",
    "    lines2, labels2 = ax2.get_legend_handles_labels()\n",
    "    legend_lines += lines2\n",
    "    legend_labels += labels2\n",
    "    ax2.set_ylabel('CPP (mmHg)', fontsize=label_fontsize)\n",
    "\n",
    "if plot_etco2:\n",
    "    lines6, labels6 = ax6.get_legend_handles_labels()\n",
    "    legend_lines += lines6\n",
    "    legend_labels += labels6\n",
    "\n",
    "if plot_paco2:\n",
    "    lines7, labels7 = ax7.get_legend_handles_labels()\n",
    "    legend_lines += lines7\n",
    "    legend_labels += labels7\n",
    "\n",
    "ax.legend(legend_lines, legend_labels, loc='upper right', fontsize=legend_fontsize)\n",
    "\n",
    "# # add vertical line at x=0 with text label with \"Diclofenac administration\"\n",
    "# ax.axvline(x=0, ymin=0.015, ymax=0.1, color='black', linestyle='--', linewidth=0.7)\n",
    "# ax.text(0.5, 0.12, 'Start of infusion', horizontalalignment='center', verticalalignment='center', transform=ax.transAxes)\n",
    "\n",
    "if plot_diclofenac_infusion:\n",
    "    if broken_y_axis:\n",
    "        ax0.plot([0, 12], [0.3, 0.3], color='grey', linewidth=10, alpha=0.5)\n",
    "        ax0.text(6, 0.85, 'Diclofenac infusion', horizontalalignment='center', verticalalignment='center',\n",
    "                 fontsize=legend_fontsize)\n",
    "    else:\n",
    "        ax.plot([0, 12], [20.5, 20.5], color='grey', linewidth=10, alpha=0.5)\n",
    "        ax.text(6, 21, 'Diclofenac infusion', horizontalalignment='center', verticalalignment='center',\n",
    "                fontsize=legend_fontsize)"
   ]
  },
  {
   "cell_type": "code",
   "execution_count": null,
   "id": "1b207f4cdaeee06c",
   "metadata": {
    "ExecuteTime": {
     "end_time": "2024-11-05T18:47:48.479070Z",
     "start_time": "2024-11-05T18:47:41.821047Z"
    }
   },
   "outputs": [],
   "source": [
    "# fig.savefig('/Users/jk1/Downloads/ptio2_etco2_paco2.png', dpi=600, bbox_inches='tight')"
   ]
  },
  {
   "cell_type": "code",
   "execution_count": null,
   "id": "8b213320e40b03a9",
   "metadata": {
    "ExecuteTime": {
     "end_time": "2025-04-14T09:46:59.049091Z",
     "start_time": "2025-04-14T09:46:44.676784Z"
    }
   },
   "outputs": [],
   "source": [
    "# plot a line plot of ptio2 and icp values over relative time\n",
    "plot_icp = True\n",
    "\n",
    "n_in_label = False\n",
    "broken_y_axis = True\n",
    "label_fontsize = 18\n",
    "legend_fontsize = 16\n",
    "secondary_axis_alpha = 1\n",
    "\n",
    "if broken_y_axis:\n",
    "    fig, (ax, ax0) = plt.subplots(2, 1, sharex=True, figsize=(20, 10), height_ratios=[0.95, 0.05])\n",
    "    fig.subplots_adjust(hspace=0.05)  # adjust space between Axes\n",
    "\n",
    "    ax0.set_ylim(0, 1.)  # outliers only\n",
    "    ax.set_ylim(20, 36)  # most of the data\n",
    "\n",
    "    # hide the spines between ax and ax2\n",
    "    ax.spines.bottom.set_visible(False)\n",
    "    ax0.spines.top.set_visible(False)\n",
    "    ax.xaxis.tick_top()\n",
    "    ax.tick_params(labeltop=False)  # don't put tick labels at the top\n",
    "    ax0.xaxis.tick_bottom()\n",
    "\n",
    "    d = .5  # proportion of vertical to horizontal extent of the slanted line\n",
    "    kwargs = dict(marker=[(-1, -d), (1, d)], markersize=12,\n",
    "                  linestyle=\"none\", color='k', mec='k', mew=1, clip_on=False)\n",
    "    ax.plot([0, 1], [0, 0], transform=ax.transAxes, **kwargs)\n",
    "    ax0.plot([0, 1], [1, 1], transform=ax0.transAxes, **kwargs)\n",
    "\n",
    "    # remove y tick from ax0\n",
    "    ax0.set_yticks([0])\n",
    "\n",
    "else:\n",
    "    fig, ax = plt.subplots(1, 1, figsize=(20, 10))\n",
    "\n",
    "pto2_label = 'PtO2'\n",
    "if n_in_label:\n",
    "    pto2_label = f'PtO2 (n={associated_ptio2_df.pat_nr.nunique()})'\n",
    "sns.lineplot(x='rounded_relative_datetime', y='ptio2', data=associated_ptio2_df, ax=ax,\n",
    "             label=pto2_label, legend=False, linewidth=2)\n",
    "\n",
    "\n",
    "if plot_icp:\n",
    "    # create second y axis for icp values\n",
    "    ax2 = ax.twinx()\n",
    "    icp_label = 'ICP'\n",
    "    if n_in_label:\n",
    "        cpp_label = f'ICP (n={associated_icp_df.pat_nr.nunique()})'\n",
    "    sns.lineplot(x='rounded_relative_datetime', y='icp', data=associated_icp_df, ax=ax2, color='magenta',\n",
    "                 label=icp_label, legend=False, alpha=secondary_axis_alpha)\n",
    "    ax2.set_ylim(0, 30)\n",
    "    ax2.grid(None)\n",
    "\n",
    "if broken_y_axis:\n",
    "    ax0.set_xlabel('Relative time from start of infusion (h)', fontsize=label_fontsize)\n",
    "else:\n",
    "    ax.set_xlabel('Relative time from start of infusion (h)', fontsize=label_fontsize)\n",
    "ax.set_ylabel('PtO2 (mmHg)', fontsize=label_fontsize)\n",
    "\n",
    "# show legend\n",
    "legend_lines, legend_labels = ax.get_legend_handles_labels()\n",
    "\n",
    "if plot_icp:\n",
    "    lines2, labels2 = ax2.get_legend_handles_labels()\n",
    "    legend_lines += lines2\n",
    "    legend_labels += labels2\n",
    "    ax2.set_ylabel('ICP (mmHg)', fontsize=label_fontsize)\n",
    "\n",
    "ax.legend(legend_lines, legend_labels, loc='upper right', fontsize=legend_fontsize)\n",
    "\n",
    "plt.show()"
   ]
  },
  {
   "cell_type": "code",
   "execution_count": null,
   "id": "cc28cda65c804240",
   "metadata": {
    "ExecuteTime": {
     "end_time": "2025-04-14T09:48:30.226741Z",
     "start_time": "2025-04-14T09:48:22.720955Z"
    }
   },
   "outputs": [],
   "source": [
    "# fig.savefig('/Users/jk1/Downloads/ptio2_icp.png', dpi=600, bbox_inches='tight')"
   ]
  },
  {
   "cell_type": "markdown",
   "id": "27a20ab779fb8928",
   "metadata": {},
   "source": [
    "# Pre / Post comparison"
   ]
  },
  {
   "cell_type": "code",
   "execution_count": null,
   "id": "aba498f81d7e563",
   "metadata": {
    "ExecuteTime": {
     "end_time": "2024-12-30T20:43:12.675569Z",
     "start_time": "2024-12-30T20:43:12.210649Z"
    }
   },
   "outputs": [],
   "source": [
    "# boxplot pre / post ptio2\n",
    "associated_ptio2_df['pre_post'] = 'pre'\n",
    "associated_ptio2_df.loc[associated_ptio2_df['relative_datetime'] > 0, 'pre_post'] = 'post'\n",
    "sns.boxplot(x='pre_post', y='ptio2', hue='pre_post', data=associated_ptio2_df)\n"
   ]
  },
  {
   "cell_type": "code",
   "execution_count": null,
   "id": "da370b23908c8433",
   "metadata": {
    "ExecuteTime": {
     "end_time": "2024-12-30T20:43:13.840308Z",
     "start_time": "2024-12-30T20:43:13.472747Z"
    }
   },
   "outputs": [],
   "source": [
    "# compare pre / post ptio2 with mixed effect model\n",
    "mixed_model = smf.mixedlm(\"ptio2 ~ pre_post\", associated_ptio2_df, groups=associated_ptio2_df['pat_nr'])"
   ]
  },
  {
   "cell_type": "code",
   "execution_count": null,
   "id": "7b69b55ad448ef90",
   "metadata": {
    "ExecuteTime": {
     "end_time": "2024-12-30T20:43:16.011090Z",
     "start_time": "2024-12-30T20:43:14.820671Z"
    }
   },
   "outputs": [],
   "source": [
    "mdf = mixed_model.fit()\n",
    "# print formula\n",
    "print(mdf.model.formula)\n",
    "print(mdf.summary())"
   ]
  },
  {
   "cell_type": "code",
   "execution_count": null,
   "id": "3723fad718c4c1d0",
   "metadata": {
    "ExecuteTime": {
     "end_time": "2024-12-30T20:43:16.997253Z",
     "start_time": "2024-12-30T20:43:16.936826Z"
    }
   },
   "outputs": [],
   "source": [
    "# compare 1h pre vs 12h post\n",
    "xh_post = 12\n",
    "fever_peak_associated_ptio2_df = associated_ptio2_df.copy()\n",
    "fever_peak_associated_ptio2_df['pre_post'] = np.nan\n",
    "fever_peak_associated_ptio2_df.loc[(fever_peak_associated_ptio2_df['relative_datetime'] > 0, 'pre_post')] = 'post'\n",
    "\n",
    "fever_peak_associated_ptio2_df.loc[(fever_peak_associated_ptio2_df['relative_datetime'] > 0)\n",
    "                                & (fever_peak_associated_ptio2_df['relative_datetime'] < xh_post), 'pre_post'] = 'post'\n",
    "\n",
    "fever_peak_associated_ptio2_df.loc[(fever_peak_associated_ptio2_df['relative_datetime'] < 0) \n",
    "                              & (fever_peak_associated_ptio2_df['relative_datetime'] > -1), 'pre_post'] = 'pre'"
   ]
  },
  {
   "cell_type": "code",
   "execution_count": null,
   "id": "f8ac6de8856fa288",
   "metadata": {
    "ExecuteTime": {
     "end_time": "2024-12-30T20:43:19.662952Z",
     "start_time": "2024-12-30T20:43:19.219667Z"
    }
   },
   "outputs": [],
   "source": [
    "# boxplot\n",
    "sns.boxplot(x='pre_post', y='ptio2', hue='pre_post', data=fever_peak_associated_ptio2_df.reset_index())"
   ]
  },
  {
   "cell_type": "code",
   "execution_count": null,
   "id": "bc87c9f060c3e7e5",
   "metadata": {
    "ExecuteTime": {
     "end_time": "2024-12-30T20:43:40.554864Z",
     "start_time": "2024-12-30T20:43:40.502470Z"
    }
   },
   "outputs": [],
   "source": [
    "print(fever_peak_associated_ptio2_df[fever_peak_associated_ptio2_df['pre_post'] == 'pre']['ptio2'].median(), f'(IQR: {fever_peak_associated_ptio2_df[fever_peak_associated_ptio2_df[\"pre_post\"] == \"pre\"][\"ptio2\"].quantile(0.25)} - {fever_peak_associated_ptio2_df[fever_peak_associated_ptio2_df[\"pre_post\"] == \"pre\"][\"ptio2\"].quantile(0.75)})')\n",
    "print(fever_peak_associated_ptio2_df[fever_peak_associated_ptio2_df['pre_post'] == 'post']['ptio2'].median(), f'(IQR: {fever_peak_associated_ptio2_df[fever_peak_associated_ptio2_df[\"pre_post\"] == \"post\"][\"ptio2\"].quantile(0.25)} - {fever_peak_associated_ptio2_df[fever_peak_associated_ptio2_df[\"pre_post\"] == \"post\"][\"ptio2\"].quantile(0.75)})')"
   ]
  },
  {
   "cell_type": "code",
   "execution_count": null,
   "id": "3c8ac3cffb1f5907",
   "metadata": {
    "ExecuteTime": {
     "end_time": "2024-12-30T20:44:00.871934Z",
     "start_time": "2024-12-30T20:44:00.270711Z"
    }
   },
   "outputs": [],
   "source": [
    "# mixed model\n",
    "fever_peak_associated_ptio2_df.dropna(subset=['pre_post'], inplace=True)\n",
    "peak_fever_ptio2_mixed_model = smf.mixedlm(\"ptio2 ~ pre_post\", fever_peak_associated_ptio2_df, groups=fever_peak_associated_ptio2_df['pat_nr'])\n",
    "mdf = peak_fever_ptio2_mixed_model.fit()\n",
    "# print formula\n",
    "print(mdf.model.formula)\n",
    "print(mdf.summary())"
   ]
  },
  {
   "cell_type": "markdown",
   "id": "1edbfba16c1cf196",
   "metadata": {},
   "source": [
    "# compare pre / post temperature"
   ]
  },
  {
   "cell_type": "code",
   "execution_count": null,
   "id": "28aeea5f8fd9a990",
   "metadata": {
    "ExecuteTime": {
     "end_time": "2024-12-30T20:27:41.033010Z",
     "start_time": "2024-12-30T20:27:39.144179Z"
    }
   },
   "outputs": [],
   "source": [
    "# compare pre / post temperature\n",
    "associated_temperature_df['pre_post'] = 'pre'\n",
    "associated_temperature_df.loc[associated_temperature_df['relative_datetime'] > 0, 'pre_post'] = 'post'\n",
    "sns.boxplot(x='pre_post', y='temperature', hue='pre_post', data=associated_temperature_df)"
   ]
  },
  {
   "cell_type": "code",
   "execution_count": null,
   "id": "8e40f0da9c54eeb3",
   "metadata": {
    "ExecuteTime": {
     "end_time": "2024-12-30T20:27:41.231251Z",
     "start_time": "2024-12-30T20:27:41.105532Z"
    }
   },
   "outputs": [],
   "source": [
    "associated_temperature_df[associated_temperature_df['pre_post'] == 'pre']['temperature'].median(), associated_temperature_df[associated_temperature_df['pre_post'] == 'post']['temperature'].median()"
   ]
  },
  {
   "cell_type": "code",
   "execution_count": null,
   "id": "70bce69453a1d6",
   "metadata": {
    "ExecuteTime": {
     "end_time": "2024-12-30T20:27:41.513316Z",
     "start_time": "2024-12-30T20:27:41.373945Z"
    }
   },
   "outputs": [],
   "source": [
    "# compare 1h pre and Xh post, do not use data before -1h\n",
    "xh_post = 12\n",
    "fever_peak_associated_temperature_df = associated_temperature_df.copy()\n",
    "fever_peak_associated_temperature_df['pre_post'] = np.nan\n",
    "fever_peak_associated_temperature_df.loc[(fever_peak_associated_temperature_df['relative_datetime'] > 0, 'pre_post')] = 'post'\n",
    "\n",
    "fever_peak_associated_temperature_df.loc[(fever_peak_associated_temperature_df['relative_datetime'] > 0)\n",
    "                                & (fever_peak_associated_temperature_df['relative_datetime'] < xh_post), 'pre_post'] = 'post'\n",
    "\n",
    "fever_peak_associated_temperature_df.loc[(fever_peak_associated_temperature_df['relative_datetime'] < 0) \n",
    "                              & (fever_peak_associated_temperature_df['relative_datetime'] > -1), 'pre_post'] = 'pre'"
   ]
  },
  {
   "cell_type": "code",
   "execution_count": null,
   "id": "5bc37847f6aa94a5",
   "metadata": {
    "ExecuteTime": {
     "end_time": "2024-12-30T20:27:42.843888Z",
     "start_time": "2024-12-30T20:27:41.588285Z"
    }
   },
   "outputs": [],
   "source": [
    "# boxplot\n",
    "sns.boxplot(x='pre_post', y='temperature', hue='pre_post', data=fever_peak_associated_temperature_df.reset_index(), showfliers=False)"
   ]
  },
  {
   "cell_type": "code",
   "execution_count": null,
   "id": "63cc2a2af7f46a54",
   "metadata": {
    "ExecuteTime": {
     "end_time": "2024-12-30T20:27:43.112667Z",
     "start_time": "2024-12-30T20:27:42.915307Z"
    }
   },
   "outputs": [],
   "source": [
    "print(fever_peak_associated_temperature_df[fever_peak_associated_temperature_df['pre_post'] == 'pre']['temperature'].median(), f'(IQR: {fever_peak_associated_temperature_df[fever_peak_associated_temperature_df[\"pre_post\"] == \"pre\"][\"temperature\"].quantile(0.25)} - {fever_peak_associated_temperature_df[fever_peak_associated_temperature_df[\"pre_post\"] == \"pre\"][\"temperature\"].quantile(0.75)})')\n",
    "\n",
    "print(fever_peak_associated_temperature_df[fever_peak_associated_temperature_df['pre_post'] == 'post']['temperature'].median(), f'(IQR: {fever_peak_associated_temperature_df[fever_peak_associated_temperature_df[\"pre_post\"] == \"post\"][\"temperature\"].quantile(0.25)} - {fever_peak_associated_temperature_df[fever_peak_associated_temperature_df[\"pre_post\"] == \"post\"][\"temperature\"].quantile(0.75)})')"
   ]
  },
  {
   "cell_type": "code",
   "execution_count": null,
   "id": "148d481afbf805e9",
   "metadata": {
    "ExecuteTime": {
     "end_time": "2024-12-30T20:31:49.261737Z",
     "start_time": "2024-12-30T20:31:48.189903Z"
    }
   },
   "outputs": [],
   "source": [
    "# mixed model\n",
    "fever_peak_associated_temperature_df.dropna(subset=['pre_post'], inplace=True)\n",
    "peak_fever_temperature_mixed_model = smf.mixedlm(\"temperature ~ pre_post\", fever_peak_associated_temperature_df, groups=fever_peak_associated_temperature_df['pat_nr'])\n",
    "mdf = peak_fever_temperature_mixed_model.fit()\n",
    "# print formula\n",
    "print(mdf.model.formula)\n",
    "print(mdf.summary())"
   ]
  },
  {
   "cell_type": "markdown",
   "id": "983ec514b44df9d3",
   "metadata": {},
   "source": [
    "# compare pre / post cpp"
   ]
  },
  {
   "cell_type": "code",
   "execution_count": null,
   "id": "c24c21c63715691e",
   "metadata": {
    "ExecuteTime": {
     "end_time": "2024-12-30T20:34:16.284862Z",
     "start_time": "2024-12-30T20:34:14.741730Z"
    }
   },
   "outputs": [],
   "source": [
    "# compare pre / post cpp\n",
    "associated_cpp_df['pre_post'] = 'pre'\n",
    "associated_cpp_df.loc[associated_cpp_df['relative_datetime'] > 0, 'pre_post'] = 'post'\n",
    "sns.boxplot(x='pre_post', y='cpp', hue='pre_post', data=associated_cpp_df, showfliers=False)"
   ]
  },
  {
   "cell_type": "code",
   "execution_count": null,
   "id": "2a90c84f6ed87385",
   "metadata": {
    "ExecuteTime": {
     "end_time": "2024-12-30T20:34:16.554719Z",
     "start_time": "2024-12-30T20:34:16.359719Z"
    }
   },
   "outputs": [],
   "source": [
    "associated_cpp_df[associated_cpp_df['pre_post'] == 'pre']['cpp'].median(), associated_cpp_df[associated_cpp_df['pre_post'] == 'post']['cpp'].median()"
   ]
  },
  {
   "cell_type": "code",
   "execution_count": null,
   "id": "a05fec77210ba35",
   "metadata": {
    "ExecuteTime": {
     "end_time": "2024-12-30T20:34:24.902979Z",
     "start_time": "2024-12-30T20:34:18.806092Z"
    }
   },
   "outputs": [],
   "source": [
    "# mixed model\n",
    "associated_cpp_df.dropna(subset=['pre_post'], inplace=True)\n",
    "peak_fever_cpp_mixed_model = smf.mixedlm(\"cpp ~ pre_post\", associated_cpp_df, groups=associated_cpp_df['pat_nr'])\n",
    "mdf = peak_fever_cpp_mixed_model.fit()\n",
    "# print formula\n",
    "print(mdf.model.formula)\n",
    "print(mdf.summary())"
   ]
  },
  {
   "cell_type": "code",
   "execution_count": null,
   "id": "aa7c9933b301b125",
   "metadata": {
    "ExecuteTime": {
     "end_time": "2024-12-30T20:34:25.273Z",
     "start_time": "2024-12-30T20:34:25.201059Z"
    }
   },
   "outputs": [],
   "source": [
    "# compare 1h pre and Xh post, do not use data before -1h\n",
    "xh_post = 12\n",
    "fever_peak_associated_cpp_df = associated_cpp_df.copy()\n",
    "fever_peak_associated_cpp_df['pre_post'] = np.nan\n",
    "fever_peak_associated_cpp_df.loc[(fever_peak_associated_cpp_df['relative_datetime'] > 0, 'pre_post')] = 'post'\n",
    "fever_peak_associated_cpp_df.loc[(fever_peak_associated_cpp_df['relative_datetime'] > 0)\n",
    "                                & (fever_peak_associated_cpp_df['relative_datetime'] < xh_post), 'pre_post'] = 'post'\n",
    "fever_peak_associated_cpp_df.loc[(fever_peak_associated_cpp_df['relative_datetime'] < 0)\n",
    "                                & (fever_peak_associated_cpp_df['relative_datetime'] > -1), 'pre_post'] = 'pre'"
   ]
  },
  {
   "cell_type": "code",
   "execution_count": null,
   "id": "578996c67278777f",
   "metadata": {
    "ExecuteTime": {
     "end_time": "2024-12-30T20:34:28.579601Z",
     "start_time": "2024-12-30T20:34:25.900160Z"
    }
   },
   "outputs": [],
   "source": [
    "# boxplot\n",
    "sns.boxplot(x='pre_post', y='cpp', hue='pre_post', data=fever_peak_associated_cpp_df.reset_index(), showfliers=False)"
   ]
  },
  {
   "cell_type": "code",
   "execution_count": null,
   "id": "57b782b54f37038a",
   "metadata": {
    "ExecuteTime": {
     "end_time": "2024-12-30T20:34:30.439029Z",
     "start_time": "2024-12-30T20:34:30.234364Z"
    }
   },
   "outputs": [],
   "source": [
    "print(fever_peak_associated_cpp_df[fever_peak_associated_cpp_df['pre_post'] == 'pre']['cpp'].median(), f'(IQR: {fever_peak_associated_cpp_df[fever_peak_associated_cpp_df[\"pre_post\"] == \"pre\"][\"cpp\"].quantile(0.25)} - {fever_peak_associated_cpp_df[fever_peak_associated_cpp_df[\"pre_post\"] == \"pre\"][\"cpp\"].quantile(0.75)})')\n",
    "\n",
    "print(fever_peak_associated_cpp_df[fever_peak_associated_cpp_df['pre_post'] == 'post']['cpp'].median(), f'(IQR: {fever_peak_associated_cpp_df[fever_peak_associated_cpp_df[\"pre_post\"] == \"post\"][\"cpp\"].quantile(0.25)} - {fever_peak_associated_cpp_df[fever_peak_associated_cpp_df[\"pre_post\"] == \"post\"][\"cpp\"].quantile(0.75)})')"
   ]
  },
  {
   "cell_type": "code",
   "execution_count": null,
   "id": "7ea98da04e56bcc1",
   "metadata": {
    "ExecuteTime": {
     "end_time": "2024-12-30T20:34:36.612Z",
     "start_time": "2024-12-30T20:34:33.770676Z"
    }
   },
   "outputs": [],
   "source": [
    "# mixed model\n",
    "fever_peak_associated_cpp_df.dropna(subset=['pre_post'], inplace=True)\n",
    "peak_fever_cpp_mixed_model = smf.mixedlm(\"cpp ~ pre_post\", fever_peak_associated_cpp_df, groups=fever_peak_associated_cpp_df['pat_nr'])\n",
    "mdf = peak_fever_cpp_mixed_model.fit()\n",
    "# print formula\n",
    "print(mdf.model.formula)\n",
    "print(mdf.summary())"
   ]
  },
  {
   "cell_type": "markdown",
   "id": "ab29d18a1859ea53",
   "metadata": {},
   "source": [
    "# compare pre / post Heart rate"
   ]
  },
  {
   "cell_type": "code",
   "execution_count": null,
   "id": "9da7165438b80960",
   "metadata": {
    "ExecuteTime": {
     "end_time": "2024-12-30T20:38:27.811816Z",
     "start_time": "2024-12-30T20:38:25.895792Z"
    }
   },
   "outputs": [],
   "source": [
    "# compare pre / post heart rate\n",
    "associated_hr_df['pre_post'] = 'pre'\n",
    "associated_hr_df.loc[associated_hr_df['relative_datetime'] > 0, 'pre_post'] = 'post'\n",
    "sns.boxplot(x='pre_post', y='hr', hue='pre_post', data=associated_hr_df, showfliers=False)\n"
   ]
  },
  {
   "cell_type": "code",
   "execution_count": null,
   "id": "33d47f539e5957c1",
   "metadata": {
    "ExecuteTime": {
     "end_time": "2024-12-30T20:39:22.561045Z",
     "start_time": "2024-12-30T20:39:22.279834Z"
    }
   },
   "outputs": [],
   "source": [
    "# compare 1h pre and Xh post, do not use data before -1h\n",
    "xh_post = 12\n",
    "fever_peak_associated_hr_df = associated_hr_df.copy()\n",
    "fever_peak_associated_hr_df['pre_post'] = np.nan\n",
    "fever_peak_associated_hr_df.loc[(fever_peak_associated_hr_df['relative_datetime'] > 0, 'pre_post')] = 'post'\n",
    "fever_peak_associated_hr_df.loc[(fever_peak_associated_hr_df['relative_datetime'] > 0)\n",
    "                                & (fever_peak_associated_hr_df['relative_datetime'] < xh_post), 'pre_post'] = 'post'\n",
    "fever_peak_associated_hr_df.loc[(fever_peak_associated_hr_df['relative_datetime'] < 0)\n",
    "                                & (fever_peak_associated_hr_df['relative_datetime'] > -1), 'pre_post'] = 'pre'\n"
   ]
  },
  {
   "cell_type": "code",
   "execution_count": null,
   "id": "efb1ad55e345c564",
   "metadata": {
    "ExecuteTime": {
     "end_time": "2024-12-30T20:39:38.179665Z",
     "start_time": "2024-12-30T20:39:36.130719Z"
    }
   },
   "outputs": [],
   "source": [
    "# boxplot\n",
    "sns.boxplot(x='pre_post', y='hr', hue='pre_post', data=fever_peak_associated_hr_df.reset_index(), showfliers=False)"
   ]
  },
  {
   "cell_type": "code",
   "execution_count": null,
   "id": "2017bb5e013fb0ee",
   "metadata": {
    "ExecuteTime": {
     "end_time": "2024-12-30T20:39:53.851873Z",
     "start_time": "2024-12-30T20:39:53.616051Z"
    }
   },
   "outputs": [],
   "source": [
    "print(fever_peak_associated_hr_df[fever_peak_associated_hr_df['pre_post'] == 'pre']['hr'].median(), f'(IQR: {fever_peak_associated_hr_df[fever_peak_associated_hr_df[\"pre_post\"] == \"pre\"][\"hr\"].quantile(0.25)} - {fever_peak_associated_hr_df[fever_peak_associated_hr_df[\"pre_post\"] == \"pre\"][\"hr\"].quantile(0.75)})')\n",
    "print(fever_peak_associated_hr_df[fever_peak_associated_hr_df['pre_post'] == 'post']['hr'].median(), f'(IQR: {fever_peak_associated_hr_df[fever_peak_associated_hr_df[\"pre_post\"] == \"post\"][\"hr\"].quantile(0.25)} - {fever_peak_associated_hr_df[fever_peak_associated_hr_df[\"pre_post\"] == \"post\"][\"hr\"].quantile(0.75)})')"
   ]
  },
  {
   "cell_type": "code",
   "execution_count": null,
   "id": "c1f41f6c92c1a069",
   "metadata": {
    "ExecuteTime": {
     "end_time": "2024-12-30T20:40:18.072918Z",
     "start_time": "2024-12-30T20:40:14.655281Z"
    }
   },
   "outputs": [],
   "source": [
    "# mixed model\n",
    "fever_peak_associated_hr_df.dropna(subset=['pre_post'], inplace=True)\n",
    "peak_fever_hr_mixed_model = smf.mixedlm(\"hr ~ pre_post\", fever_peak_associated_hr_df, groups=fever_peak_associated_hr_df['pat_nr'])\n",
    "mdf = peak_fever_hr_mixed_model.fit()\n",
    "# print formula\n",
    "print(mdf.model.formula)\n",
    "print(mdf.summary())"
   ]
  },
  {
   "cell_type": "markdown",
   "id": "b5806d03b1e60fb8",
   "metadata": {},
   "source": [
    "# compare pre / post ICP"
   ]
  },
  {
   "cell_type": "code",
   "execution_count": null,
   "id": "139cb2a3443e6b48",
   "metadata": {
    "ExecuteTime": {
     "end_time": "2025-04-14T09:51:48.257266Z",
     "start_time": "2025-04-14T09:51:45.580894Z"
    }
   },
   "outputs": [],
   "source": [
    "# compare pre / post icp\n",
    "associated_icp_df['pre_post'] = 'pre'\n",
    "associated_icp_df.loc[associated_icp_df['relative_datetime'] > 0, 'pre_post'] = 'post'\n",
    "sns.boxplot(x='pre_post', y='icp', hue='pre_post', data=associated_icp_df, showfliers=False)\n",
    "plt.show()"
   ]
  },
  {
   "cell_type": "code",
   "execution_count": null,
   "id": "ce3c94b45bb5c778",
   "metadata": {},
   "outputs": [],
   "source": [
    "# print pre / post ICP median (IQR)\n"
   ]
  },
  {
   "cell_type": "markdown",
   "id": "cc808fbd120bc67",
   "metadata": {},
   "source": [
    "## Time spent PtiO2 < 20 pre vs post"
   ]
  },
  {
   "cell_type": "code",
   "execution_count": null,
   "id": "8f5d0c293bcabf75",
   "metadata": {
    "ExecuteTime": {
     "end_time": "2024-11-06T09:17:23.449573Z",
     "start_time": "2024-11-06T09:17:23.205715Z"
    }
   },
   "outputs": [],
   "source": [
    "ptio2_threshold = 20\n",
    "adjust_for_monitoring_time = True\n",
    "\n",
    "time_under_ptio2_threshold_df = pd.DataFrame()\n",
    "\n",
    "for drug_admin in associated_ptio2_df.drug_start.unique():\n",
    "    instance_associated_ptio2_df = associated_ptio2_df[associated_ptio2_df.drug_start == drug_admin]\n",
    "    # Step 1: Identify the times when the values are below the threshold\n",
    "    instance_associated_ptio2_df['below_threshold'] = instance_associated_ptio2_df['ptio2'] < ptio2_threshold\n",
    "    \n",
    "    # Step 2: Calculate the time difference between each row\n",
    "    instance_associated_ptio2_df['time_difference'] = instance_associated_ptio2_df['datetime'].diff().dt.total_seconds()\n",
    "    \n",
    "    # Step 3: Mask the rows where the values are above the threshold, setting those time differences to 0\n",
    "    instance_associated_ptio2_df['time_below_threshold'] = instance_associated_ptio2_df['time_difference'].where(instance_associated_ptio2_df['below_threshold'], 0)\n",
    "\n",
    "    # Step 4: Sum up the time spent below the threshold\n",
    "    time_below_threshold_pre_admin = instance_associated_ptio2_df[instance_associated_ptio2_df['relative_datetime'] < 0]['time_below_threshold'].sum()\n",
    "    time_below_threshold_post_admin = instance_associated_ptio2_df[instance_associated_ptio2_df['relative_datetime'] > 0]['time_below_threshold'].sum()\n",
    "\n",
    "    if adjust_for_monitoring_time:\n",
    "        time_below_threshold_pre_admin = time_below_threshold_pre_admin / instance_associated_ptio2_df[instance_associated_ptio2_df['relative_datetime'] < 0]['time_difference'].sum()\n",
    "        time_below_threshold_post_admin = time_below_threshold_post_admin / instance_associated_ptio2_df[instance_associated_ptio2_df['relative_datetime'] > 0]['time_difference'].sum()\n",
    "    \n",
    "    instance_time_under_ptio2_threshold_df = pd.DataFrame([instance_associated_ptio2_df.pat_nr.unique()[0], drug_admin, time_below_threshold_pre_admin, time_below_threshold_post_admin]).T\n",
    "    instance_time_under_ptio2_threshold_df.columns=['pat_nr', 'drug_start', 'time_under_threshold_pre_s', 'time_under_threshold_post_s']\n",
    "    time_under_ptio2_threshold_df = pd.concat([time_under_ptio2_threshold_df, instance_time_under_ptio2_threshold_df])\n"
   ]
  },
  {
   "cell_type": "code",
   "execution_count": null,
   "id": "f4e2a612c28e9d91",
   "metadata": {
    "ExecuteTime": {
     "end_time": "2024-11-06T09:17:24.938861Z",
     "start_time": "2024-11-06T09:17:24.930198Z"
    }
   },
   "outputs": [],
   "source": [
    "time_under_ptio2_threshold_df = time_under_ptio2_threshold_df.melt(id_vars=['pat_nr', 'drug_start'], value_name='time_under_threshold')\n",
    "time_under_ptio2_threshold_df = time_under_ptio2_threshold_df.rename(columns={'variable':'pre_post'})\n",
    "\n",
    "if adjust_for_monitoring_time:\n",
    "    time_under_ptio2_threshold_df.rename(columns={'time_under_threshold':'fraction_time_under_threshold'}, inplace=True)\n",
    "    time_under_ptio2_threshold_df['time_under_threshold_h'] = time_under_ptio2_threshold_df['fraction_time_under_threshold'] * 12\n",
    "    time_under_ptio2_threshold_df['time_under_threshold_s'] = time_under_ptio2_threshold_df['fraction_time_under_threshold'] * 12 * 3600\n",
    "else:\n",
    "    time_under_ptio2_threshold_df.rename(columns={'time_under_threshold':'time_under_threshold_s'}, inplace=True)\n",
    "    time_under_ptio2_threshold_df['time_under_threshold_h'] = time_under_ptio2_threshold_df['time_under_threshold_s'] / 3600\n",
    "\n",
    "time_under_ptio2_threshold_df.time_under_threshold_s = pd.to_numeric(time_under_ptio2_threshold_df.time_under_threshold_s) \n",
    "time_under_ptio2_threshold_df.loc[time_under_ptio2_threshold_df['pre_post'] == 'time_under_threshold_pre_s', 'pre_post'] = 'pre'\n",
    "time_under_ptio2_threshold_df.loc[time_under_ptio2_threshold_df['pre_post'] == 'time_under_threshold_post_s', 'pre_post'] = 'post'\n"
   ]
  },
  {
   "cell_type": "code",
   "execution_count": null,
   "id": "313bab5eb2d301e1",
   "metadata": {
    "ExecuteTime": {
     "end_time": "2024-11-06T09:17:26.410340Z",
     "start_time": "2024-11-06T09:17:26.400522Z"
    }
   },
   "outputs": [],
   "source": [
    "time_under_ptio2_threshold_df"
   ]
  },
  {
   "cell_type": "code",
   "execution_count": null,
   "id": "d50373dc6087ee2",
   "metadata": {
    "ExecuteTime": {
     "end_time": "2024-11-06T09:17:27.965442Z",
     "start_time": "2024-11-06T09:17:27.921288Z"
    }
   },
   "outputs": [],
   "source": [
    "time_under_threshold_mixed_model = smf.mixedlm(\"time_under_threshold_s ~ pre_post\", time_under_ptio2_threshold_df, groups=time_under_ptio2_threshold_df['pat_nr'])\n",
    "time_under_threshold_mdf = time_under_threshold_mixed_model.fit()"
   ]
  },
  {
   "cell_type": "code",
   "execution_count": null,
   "id": "1a8ef71f0f81474b",
   "metadata": {
    "ExecuteTime": {
     "end_time": "2024-11-06T09:17:29.667826Z",
     "start_time": "2024-11-06T09:17:29.653635Z"
    }
   },
   "outputs": [],
   "source": [
    "# print formula\n",
    "print(time_under_threshold_mdf.model.formula)\n",
    "print(time_under_threshold_mdf.summary())"
   ]
  },
  {
   "cell_type": "code",
   "execution_count": null,
   "id": "a148383558aa6e39",
   "metadata": {
    "ExecuteTime": {
     "end_time": "2024-11-06T09:23:42.605780Z",
     "start_time": "2024-11-06T09:23:42.600821Z"
    }
   },
   "outputs": [],
   "source": [
    "time_under_threshold_mdf.pvalues[1]"
   ]
  },
  {
   "cell_type": "code",
   "execution_count": null,
   "id": "e12dca9709af16d7",
   "metadata": {
    "ExecuteTime": {
     "end_time": "2024-11-06T09:19:18.984580Z",
     "start_time": "2024-11-06T09:19:18.973049Z"
    }
   },
   "outputs": [],
   "source": [
    "print(f'Pre: {time_under_ptio2_threshold_df[time_under_ptio2_threshold_df[\"pre_post\"] == \"pre\"][\"time_under_threshold_h\"].median():.2f} h (IQR: {time_under_ptio2_threshold_df[time_under_ptio2_threshold_df[\"pre_post\"] == \"pre\"][\"time_under_threshold_h\"].quantile(0.25):.2f}-{time_under_ptio2_threshold_df[time_under_ptio2_threshold_df[\"pre_post\"] == \"pre\"][\"time_under_threshold_h\"].quantile(0.75):.2f})')\n",
    "print(f'Post: {time_under_ptio2_threshold_df[time_under_ptio2_threshold_df[\"pre_post\"] == \"post\"][\"time_under_threshold_h\"].median():.2f} h (IQR: {time_under_ptio2_threshold_df[time_under_ptio2_threshold_df[\"pre_post\"] == \"post\"][\"time_under_threshold_h\"].quantile(0.25):.2f}-{time_under_ptio2_threshold_df[time_under_ptio2_threshold_df[\"pre_post\"] == \"post\"][\"time_under_threshold_h\"].quantile(0.75):.2f})')\n"
   ]
  },
  {
   "cell_type": "code",
   "execution_count": null,
   "id": "50bbefb0f5816f82",
   "metadata": {
    "ExecuteTime": {
     "end_time": "2024-11-06T09:21:04.044268Z",
     "start_time": "2024-11-06T09:21:03.905738Z"
    }
   },
   "outputs": [],
   "source": [
    "fig = plt.figure(figsize=(5, 5))\n",
    "\n",
    "ax = sns.boxplot(x='pre_post', y='time_under_threshold_h', data=time_under_ptio2_threshold_df, hue='pre_post', palette='Blues')\n",
    "\n",
    "ax.set_ylabel(f'Time with PtO2 < {ptio2_threshold} mmHg (h)')\n",
    "ax.set_xlabel('')\n",
    "\n",
    "# add annotation of p-value (line between boxes)\n",
    "# get the x and y coordinates\n",
    "x1, x2 = 0, 1\n",
    "y, h, col = time_under_ptio2_threshold_df['time_under_threshold_h'].max() + 0.4, 0.3, 'k'\n",
    "plt.plot([x1, x1, x2, x2], [y, y+h, y+h, y], lw=1.5, c=col)\n",
    "plt.text((x1+x2)*.5, y+h+0.1, f'p={time_under_threshold_mdf.pvalues[1]:.3f}', ha='center', va='bottom', color=col)\n",
    "\n",
    "\n",
    "ax.set_ylim(top=14)"
   ]
  },
  {
   "cell_type": "code",
   "execution_count": null,
   "id": "2784a4524e436030",
   "metadata": {
    "ExecuteTime": {
     "end_time": "2024-11-06T09:21:22.983746Z",
     "start_time": "2024-11-06T09:21:22.247624Z"
    }
   },
   "outputs": [],
   "source": [
    "# fig.savefig('/Users/jk1/Downloads/time_under_ptio2_threshold_pre_post.png', dpi=600, bbox_inches='tight')"
   ]
  },
  {
   "cell_type": "markdown",
   "id": "1dad51489faaac95",
   "metadata": {},
   "source": [
    "## alternative comparator \n",
    "use time period with Temp < 37.5 as pre"
   ]
  },
  {
   "cell_type": "code",
   "execution_count": null,
   "id": "37030225e92adfae",
   "metadata": {
    "ExecuteTime": {
     "end_time": "2024-10-31T08:33:00.455872Z",
     "start_time": "2024-08-12T12:28:39.651165Z"
    }
   },
   "outputs": [],
   "source": [
    "temperature_df.head()"
   ]
  },
  {
   "cell_type": "code",
   "execution_count": null,
   "id": "bfa9fb30cc0ff35b",
   "metadata": {
    "ExecuteTime": {
     "end_time": "2024-10-31T08:33:00.456286Z",
     "start_time": "2024-08-12T13:08:23.935574Z"
    }
   },
   "outputs": [],
   "source": [
    "temperature_limit = 37.5\n",
    "possibilities = [[-24, -12], [-36, -24], [-48, -36], [-60, -48], [-72, -60]]\n",
    "missing_periods = []\n",
    "\n",
    "pre_associated_ptio2_df = pd.DataFrame()\n",
    "pre_associated_cpp_df = pd.DataFrame()\n",
    "pre_associated_temperature_df = pd.DataFrame()\n",
    "pre_associated_hr_df = pd.DataFrame()\n",
    "pre_associated_lpr_df = pd.DataFrame()\n",
    "\n",
    "\n",
    "for index, row in drug_administration_df.iterrows():\n",
    "    # find a continuous time period with temperature < 37.5 before drug administration\n",
    "    period_found = False\n",
    "    for pos in possibilities:\n",
    "        lower_bound = row['drug_start'] + pd.to_timedelta(pos[0], unit='h')\n",
    "        upper_bound = row['drug_start'] + pd.to_timedelta(pos[1], unit='h')\n",
    "        instance_associated_temperature_df = temperature_df[(temperature_df['pat_nr'] == row['pat_nr'])\n",
    "                                            & (temperature_df['datetime'] >= lower_bound)\n",
    "                                            & (temperature_df['datetime'] <= upper_bound)]\n",
    "        if instance_associated_temperature_df['temperature'].max() < temperature_limit:\n",
    "            period_found = True\n",
    "            break\n",
    "            \n",
    "    if not period_found:\n",
    "        missing_periods.append([row['pat_nr'], row['drug_start']])\n",
    "        continue\n",
    "    \n",
    "    pre_instance_associated_ptio2_df = ptio2_df[(ptio2_df['pat_nr'] == row['pat_nr'])\n",
    "                                            & (ptio2_df['datetime'] >= lower_bound) \n",
    "                                            & (ptio2_df['datetime'] <= upper_bound)]\n",
    "    pre_instance_associated_ptio2_df['drug_start'] = row['drug_start']\n",
    "    pre_instance_associated_ptio2_df['relative_datetime'] = (pre_instance_associated_ptio2_df['datetime'] - row['drug_start'] - pd.to_timedelta(pos[0], unit='h')).dt.total_seconds() / 3600\n",
    "    pre_associated_ptio2_df = pd.concat([pre_associated_ptio2_df, pre_instance_associated_ptio2_df])\n",
    "\n",
    "    pre_instance_associated_cpp_df = cpp_df[(cpp_df['pat_nr'] == row['pat_nr'])\n",
    "                                        & (cpp_df['datetime'] >= lower_bound) \n",
    "                                        & (cpp_df['datetime'] <= upper_bound)]\n",
    "    pre_instance_associated_cpp_df['drug_start'] = row['drug_start']\n",
    "    pre_instance_associated_cpp_df['relative_datetime'] = (pre_instance_associated_cpp_df['datetime'] - row['drug_start'] - pd.to_timedelta(pos[0], unit='h')).dt.total_seconds() / 3600\n",
    "    pre_associated_cpp_df = pd.concat([pre_associated_cpp_df, pre_instance_associated_cpp_df])\n",
    "    \n",
    "    pre_instance_associated_temperature_df = temperature_df[(temperature_df['pat_nr'] == row['pat_nr'])\n",
    "                                        & (temperature_df['datetime'] >= lower_bound)\n",
    "                                        & (temperature_df['datetime'] <= upper_bound)]\n",
    "    pre_instance_associated_temperature_df['drug_start'] = row['drug_start']\n",
    "    pre_instance_associated_temperature_df['relative_datetime'] = (pre_instance_associated_temperature_df['datetime'] - row['drug_start']\n",
    "                                                                    - pd.to_timedelta(pos[0], unit='h')).dt.total_seconds() / 3600\n",
    "    pre_associated_temperature_df = pd.concat([pre_associated_temperature_df, pre_instance_associated_temperature_df])\n",
    "    \n",
    "    pre_instance_associated_hr_df = hr_df[(hr_df['pat_nr'] == row['pat_nr'])\n",
    "                                        & (hr_df['datetime'] >= lower_bound)   \n",
    "                                        & (hr_df['datetime'] <= upper_bound)]\n",
    "    pre_instance_associated_hr_df['drug_start'] = row['drug_start']\n",
    "    pre_instance_associated_hr_df['relative_datetime'] = (pre_instance_associated_hr_df['datetime'] - row['drug_start']\n",
    "                                                            - pd.to_timedelta(pos[0], unit='h')).dt.total_seconds() / 3600\n",
    "    pre_associated_hr_df = pd.concat([pre_associated_hr_df, pre_instance_associated_hr_df])\n",
    "    \n",
    "    pre_instance_associated_lpr_df = lpr_df[(lpr_df['pat_nr'] == row['pat_nr'])\n",
    "                                        & (lpr_df['datetime'] >= lower_bound)\n",
    "                                        & (lpr_df['datetime'] <= upper_bound)]\n",
    "    pre_instance_associated_lpr_df['drug_start'] = row['drug_start']\n",
    "    pre_instance_associated_lpr_df['relative_datetime'] = (pre_instance_associated_lpr_df['datetime'] - row['drug_start']\n",
    "                                                            - pd.to_timedelta(pos[0], unit='h')).dt.total_seconds() / 3600\n",
    "    pre_associated_lpr_df = pd.concat([pre_associated_lpr_df, pre_instance_associated_lpr_df])\n",
    "    \n",
    "    \n",
    "    \n",
    "        "
   ]
  },
  {
   "cell_type": "code",
   "execution_count": null,
   "id": "aa581c0628d55931",
   "metadata": {
    "ExecuteTime": {
     "end_time": "2024-10-31T08:33:00.456479Z",
     "start_time": "2024-08-12T13:09:58.713209Z"
    }
   },
   "outputs": [],
   "source": [
    "allowed_ptio2_range = [0, 200]\n",
    "allowed_cpp_range = [0, 200]\n",
    "allowed_temperature_range = [30, 45]\n",
    "allowed_hr_range = [0, 300]\n",
    "allowed_lpr_range = [0, 100]"
   ]
  },
  {
   "cell_type": "code",
   "execution_count": null,
   "id": "e561c0cce986a5bf",
   "metadata": {
    "ExecuteTime": {
     "end_time": "2024-10-31T08:33:00.456624Z",
     "start_time": "2024-08-12T13:09:58.717874Z"
    }
   },
   "outputs": [],
   "source": [
    "# drop values outside of allowed range\n",
    "pre_associated_ptio2_df = pre_associated_ptio2_df[(pre_associated_ptio2_df['ptio2'] >= allowed_ptio2_range[0]) & (pre_associated_ptio2_df['ptio2'] <= allowed_ptio2_range[1])]\n",
    "pre_associated_cpp_df = pre_associated_cpp_df[(pre_associated_cpp_df['cpp'] >= allowed_cpp_range[0]) & (pre_associated_cpp_df['cpp'] <= allowed_cpp_range[1])]\n",
    "pre_associated_temperature_df = pre_associated_temperature_df[(pre_associated_temperature_df['temperature'] >= allowed_temperature_range[0]) & (pre_associated_temperature_df['temperature'] <= allowed_temperature_range[1])]\n",
    "pre_associated_hr_df = pre_associated_hr_df[(pre_associated_hr_df['hr'] >= allowed_hr_range[0]) & (pre_associated_hr_df['hr'] <= allowed_hr_range[1])]\n",
    "pre_associated_lpr_df = pre_associated_lpr_df[(pre_associated_lpr_df['lpr'] >= allowed_lpr_range[0]) & (pre_associated_lpr_df['lpr'] <= allowed_lpr_range[1])]"
   ]
  },
  {
   "cell_type": "code",
   "execution_count": null,
   "id": "c5c064af1311b290",
   "metadata": {
    "ExecuteTime": {
     "end_time": "2024-10-31T08:33:00.456758Z",
     "start_time": "2024-08-12T13:09:58.848770Z"
    }
   },
   "outputs": [],
   "source": [
    "pre_associated_ptio2_df['rounded_relative_datetime'] = pre_associated_ptio2_df['relative_datetime'].round(1)\n",
    "pre_associated_cpp_df['rounded_relative_datetime'] = pre_associated_cpp_df['relative_datetime'].round(1)\n",
    "pre_associated_temperature_df['rounded_relative_datetime'] = pre_associated_temperature_df['relative_datetime'].round(1)\n",
    "pre_associated_hr_df['rounded_relative_datetime'] = pre_associated_hr_df['relative_datetime'].round(1)\n",
    "pre_associated_lpr_df['rounded_relative_datetime'] = pre_associated_lpr_df['relative_datetime'].round(1)"
   ]
  },
  {
   "cell_type": "code",
   "execution_count": null,
   "id": "ce4de42bf723764e",
   "metadata": {
    "ExecuteTime": {
     "end_time": "2024-10-31T08:33:00.456889Z",
     "start_time": "2024-08-12T13:09:58.859455Z"
    }
   },
   "outputs": [],
   "source": [
    "len(missing_periods)"
   ]
  },
  {
   "cell_type": "code",
   "execution_count": null,
   "id": "5d47c52ed74a43c7",
   "metadata": {
    "ExecuteTime": {
     "end_time": "2024-10-31T08:33:00.457087Z",
     "start_time": "2024-08-12T13:18:37.663703Z"
    }
   },
   "outputs": [],
   "source": [
    "post_associated_ptio2_df = associated_ptio2_df[associated_ptio2_df['relative_datetime'] > 0]\n",
    "post_associated_cpp_df = associated_cpp_df[associated_cpp_df['relative_datetime'] > 0]\n",
    "post_associated_temperature_df = associated_temperature_df[associated_temperature_df['relative_datetime'] > 0]\n",
    "post_associated_hr_df = associated_hr_df[associated_hr_df['relative_datetime'] > 0]\n",
    "post_associated_lpr_df = associated_lpr_df[associated_lpr_df['relative_datetime'] > 0]"
   ]
  },
  {
   "cell_type": "code",
   "execution_count": null,
   "id": "21703ccbf6062d2e",
   "metadata": {
    "ExecuteTime": {
     "end_time": "2024-10-31T08:33:00.457232Z",
     "start_time": "2024-08-12T13:20:27.571109Z"
    }
   },
   "outputs": [],
   "source": [
    "# plot pre and post in two subplots\n",
    "plot_temperature = True\n",
    "plot_hr = True\n",
    "plot_lpr = False\n",
    "\n",
    "fig, ax = plt.subplots(2, 1, figsize=(20, 20))\n",
    "sns.lineplot(x='rounded_relative_datetime', y='ptio2', data=pre_associated_ptio2_df, ax=ax[0],\n",
    "             label=f'PtiO2 (n={pre_associated_ptio2_df.pat_nr.nunique()})', legend=False)\n",
    "# create second y axis for cpp values\n",
    "ax2 = ax[0].twinx()\n",
    "sns.lineplot(x='rounded_relative_datetime', y='cpp', data=pre_associated_cpp_df, ax=ax2, color='magenta',\n",
    "             label=f'CPP (n={pre_associated_cpp_df.pat_nr.nunique()})', legend=False)\n",
    "\n",
    "if plot_temperature:\n",
    "    ax3 = ax[0].twinx()\n",
    "    sns.lineplot(x='rounded_relative_datetime', y='temperature', data=pre_associated_temperature_df, ax=ax3, color='green',\n",
    "                 label=f'Temperature (n={pre_associated_temperature_df.pat_nr.nunique()})', legend=False)\n",
    "    ax3.set_ylabel('Temperature (°C)')\n",
    "    ax3.grid(None)\n",
    "    ax3.spines['right'].set_position(('outward', 60))\n",
    "    \n",
    "if plot_hr:\n",
    "    ax4 = ax[0].twinx()\n",
    "    sns.lineplot(x='rounded_relative_datetime', y='hr', data=pre_associated_hr_df, ax=ax4, color='#7b002c',\n",
    "                 label=f'HR (n={pre_associated_hr_df.pat_nr.nunique()})', legend=False)\n",
    "    ax4.set_ylabel('HR (bpm)')\n",
    "    ax4.grid(None)\n",
    "    ax4.spines['right'].set_position(('outward', 120))\n",
    "    \n",
    "if plot_lpr:\n",
    "    ax5 = ax[0].twinx()\n",
    "    sns.lineplot(x='rounded_relative_datetime', y='lpr', data=pre_associated_lpr_df.reset_index(), ax=ax5, color='orange',\n",
    "                 label=f'LPR (n={pre_associated_lpr_df.pat_nr.nunique()})', legend=False)\n",
    "    ax5.set_ylabel('LPR')\n",
    "    ax5.grid(None)\n",
    "    ax5.spines['right'].set_position(('outward', 180))\n",
    "    \n",
    "ax[0].set_xlabel('Relative time from administration (h)')\n",
    "ax[0].set_ylabel('PtiO2 (mmHg)')\n",
    "ax2.set_ylabel('CPP (mmHg)')\n",
    "ax2.set_ylim(60, 100)\n",
    "ax2.grid(None)\n",
    "\n",
    "# show legend\n",
    "lines, labels = ax[0].get_legend_handles_labels()\n",
    "lines2, labels2 = ax2.get_legend_handles_labels()\n",
    "legend_lines = lines + lines2\n",
    "legend_labels = labels + labels2\n",
    "\n",
    "if plot_temperature:\n",
    "    lines3, labels3 = ax3.get_legend_handles_labels()\n",
    "    legend_lines += lines3\n",
    "    legend_labels += labels3\n",
    "    \n",
    "if plot_hr:\n",
    "    lines4, labels4 = ax4.get_legend_handles_labels()\n",
    "    legend_lines += lines4\n",
    "    legend_labels += labels4\n",
    "    \n",
    "if plot_lpr:\n",
    "    lines5, labels5 = ax5.get_legend_handles_labels()\n",
    "    legend_lines += lines5\n",
    "    legend_labels += labels5\n",
    "    \n",
    "ax[0].legend(legend_lines, legend_labels, loc='upper right')\n",
    "\n",
    "# post\n",
    "sns.lineplot(x='rounded_relative_datetime', y='ptio2', data=post_associated_ptio2_df, ax=ax[1],\n",
    "             label=f'PtiO2 (n={post_associated_ptio2_df.pat_nr.nunique()})', legend=False)\n",
    "# create second y axis for cpp values\n",
    "ax2 = ax[1].twinx()\n",
    "sns.lineplot(x='rounded_relative_datetime', y='cpp', data=post_associated_cpp_df, ax=ax2, color='magenta',\n",
    "             label=f'CPP (n={post_associated_cpp_df.pat_nr.nunique()})', legend=False)\n",
    "\n",
    "\n",
    "if plot_temperature:\n",
    "    ax3 = ax[1].twinx()\n",
    "    sns.lineplot(x='rounded_relative_datetime', y='temperature', data=post_associated_temperature_df, ax=ax3, color='green',\n",
    "                 label=f'Temperature (n={post_associated_temperature_df.pat_nr.nunique()})', legend=False)\n",
    "    ax3.set_ylabel('Temperature (°C)')\n",
    "    ax3.grid(None)\n",
    "    ax3.spines['right'].set_position(('outward', 60))\n",
    "    \n",
    "if plot_hr:\n",
    "    ax4 = ax[1].twinx()\n",
    "    sns.lineplot(x='rounded_relative_datetime', y='hr', data=post_associated_hr_df, ax=ax4, color='#7b002c',\n",
    "                 label=f'HR (n={post_associated_hr_df.pat_nr.nunique()})', legend=False)\n",
    "    ax4.set_ylabel('HR (bpm)')\n",
    "    ax4.grid(None)\n",
    "    ax4.spines['right'].set_position(('outward', 120))\n",
    "    \n",
    "if plot_lpr:\n",
    "    ax5 = ax[1].twinx()\n",
    "    sns.lineplot(x='rounded_relative_datetime', y='lpr', data=post_associated_lpr_df.reset_index(), ax=ax5, color='orange',\n",
    "                 label=f'LPR (n={post_associated_lpr_df.pat_nr.nunique()})', legend=False)\n",
    "    ax5.set_ylabel('LPR')\n",
    "    ax5.grid(None)\n",
    "    ax5.spines['right'].set_position(('outward', 180))\n",
    "    \n",
    "ax[1].set_xlabel('Relative time from administration (h)')\n",
    "ax[1].set_ylabel('PtiO2 (mmHg)')\n",
    "ax2.set_ylabel('CPP (mmHg)')\n",
    "ax2.set_ylim(60, 100)\n",
    "ax2.grid(None)\n",
    "\n",
    "# show legend\n",
    "lines, labels = ax[1].get_legend_handles_labels()\n",
    "lines2, labels2 = ax2.get_legend_handles_labels()\n",
    "legend_lines = lines + lines2\n",
    "legend_labels = labels + labels2\n",
    "\n",
    "if plot_temperature:\n",
    "    lines3, labels3 = ax3.get_legend_handles_labels()\n",
    "    legend_lines += lines3\n",
    "    legend_labels += labels3\n",
    "    \n",
    "if plot_hr:\n",
    "    lines4, labels4 = ax4.get_legend_handles_labels()\n",
    "    legend_lines += lines4\n",
    "    legend_labels += labels4\n",
    "    \n",
    "if plot_lpr:\n",
    "    lines5, labels5 = ax5.get_legend_handles_labels()\n",
    "    legend_lines += lines5\n",
    "    legend_labels += labels5\n",
    "    \n",
    "ax[1].legend(legend_lines, legend_labels, loc='upper right')\n",
    "\n",
    "ax[0].set_title('Pre administration (afebrile)')\n",
    "\n",
    "ax[1].set_title('Post administration')"
   ]
  },
  {
   "cell_type": "code",
   "execution_count": null,
   "id": "10b2bd733c7994a8",
   "metadata": {
    "ExecuteTime": {
     "end_time": "2024-10-31T08:33:00.457416Z",
     "start_time": "2024-08-12T13:21:33.775869Z"
    }
   },
   "outputs": [],
   "source": [
    "# fig.savefig('/Users/jk1/Downloads/pre_post_ptio2_cpp_temp_hr_lpr_plot.png', dpi=300, bbox_inches='tight')"
   ]
  },
  {
   "cell_type": "code",
   "execution_count": null,
   "id": "be17f09dcd69e9bf",
   "metadata": {
    "ExecuteTime": {
     "end_time": "2024-10-31T08:33:00.457546Z",
     "start_time": "2024-08-12T18:32:12.543141Z"
    }
   },
   "outputs": [],
   "source": [
    "pre_associated_ptio2_df['pre_post'] = 'pre'\n",
    "post_associated_ptio2_df['pre_post'] = 'post'\n",
    "combined_pre_post_ptio2_df = pd.concat([pre_associated_ptio2_df, post_associated_ptio2_df])"
   ]
  },
  {
   "cell_type": "code",
   "execution_count": null,
   "id": "c527cb007725838",
   "metadata": {
    "ExecuteTime": {
     "end_time": "2024-10-31T08:33:00.457703Z",
     "start_time": "2024-08-12T18:32:24.526835Z"
    }
   },
   "outputs": [],
   "source": [
    "# boxplot pre / post ptio2\n",
    "sns.boxplot(x='pre_post', y='ptio2', hue='pre_post', data=combined_pre_post_ptio2_df)"
   ]
  },
  {
   "cell_type": "code",
   "execution_count": null,
   "id": "abe3f4d7b1e692f4",
   "metadata": {
    "ExecuteTime": {
     "end_time": "2024-10-31T08:33:00.457861Z",
     "start_time": "2024-08-12T18:35:21.600747Z"
    }
   },
   "outputs": [],
   "source": [
    "pre_mixed_model = smf.mixedlm(\"ptio2 ~ pre_post\", combined_pre_post_ptio2_df, groups=combined_pre_post_ptio2_df['pat_nr'])\n",
    "pre_mdf = pre_mixed_model.fit()\n",
    "print(pre_mdf.summary())"
   ]
  },
  {
   "cell_type": "markdown",
   "id": "5a419a747349f8ea",
   "metadata": {},
   "source": [
    "plot every single patient"
   ]
  },
  {
   "cell_type": "code",
   "execution_count": null,
   "id": "faa9a4895dc2a21b",
   "metadata": {
    "ExecuteTime": {
     "end_time": "2024-10-31T08:33:00.457994Z",
     "start_time": "2024-08-01T21:14:57.039030Z"
    }
   },
   "outputs": [],
   "source": [
    "for administration_row in drug_administration_df.iterrows():\n",
    "    \n",
    "    patient_ptio2_df = associated_ptio2_df[(associated_ptio2_df['pat_nr'] == administration_row[1]['pat_nr'])\n",
    "                                        & (associated_ptio2_df['drug_start'] == administration_row[1]['drug_start'])]\n",
    "    patient_cpp_df = associated_cpp_df[(associated_cpp_df['pat_nr'] == administration_row[1]['pat_nr'])\n",
    "                                        & (associated_cpp_df['drug_start'] == administration_row[1]['drug_start'])]\n",
    "    if patient_ptio2_df.shape[0] == 0 or patient_cpp_df.shape[0] == 0:\n",
    "        print(f'No data for patient {administration_row[1][\"pat_nr\"]}, at {administration_row[1][\"drug_start\"]}')\n",
    "        continue\n",
    "        \n",
    "    fig, ax = plt.subplots(1, 1, figsize=(20, 10))\n",
    "    sns.lineplot(x='rounded_relative_datetime', y='ptio2', data=patient_ptio2_df, ax=ax, label='PtiO2', legend=False)\n",
    "    # create second y axis for cpp values\n",
    "    ax2 = ax.twinx()\n",
    "    sns.lineplot(x='rounded_relative_datetime', y='cpp', data=patient_cpp_df, ax=ax2, color='magenta', label='CPP', legend=False)\n",
    "    \n",
    "    ax.set_xlabel('Relative time from administration (h)')\n",
    "    ax.set_ylabel('PtiO2 (mmHg)')\n",
    "    ax2.set_ylabel('CPP (mmHg)')\n",
    "    \n",
    "    # ax2.set_ylim(60,100)\n",
    "    ax2.grid(None)\n",
    "    \n",
    "    # show legend\n",
    "    lines, labels = ax.get_legend_handles_labels()\n",
    "    lines2, labels2 = ax2.get_legend_handles_labels()\n",
    "    ax.legend(lines + lines2, labels + labels2, loc='upper right')\n",
    "    \n",
    "    # # add vertical line at x=0 with text label with \"Diclofenac administration\"\n",
    "    # ax.axvline(x=0, ymin=0.015, ymax=0.1, color='black', linestyle='--', linewidth=0.7)\n",
    "    # ax.text(0.5, 0.12, 'Diclofenac 75mg', horizontalalignment='center', verticalalignment='center', transform=ax.transAxes)\n",
    "    # \n",
    "    plt.title(f'Patient {administration_row[1][\"pat_nr\"]} at {administration_row[1][\"drug_start\"]}')\n",
    "    plt.show()\n",
    "    "
   ]
  }
 ],
 "metadata": {
  "kernelspec": {
   "display_name": "Python 3",
   "language": "python",
   "name": "python3"
  },
  "language_info": {
   "codemirror_mode": {
    "name": "ipython",
    "version": 2
   },
   "file_extension": ".py",
   "mimetype": "text/x-python",
   "name": "python",
   "nbconvert_exporter": "python",
   "pygments_lexer": "ipython2",
   "version": "2.7.6"
  }
 },
 "nbformat": 4,
 "nbformat_minor": 5
}
