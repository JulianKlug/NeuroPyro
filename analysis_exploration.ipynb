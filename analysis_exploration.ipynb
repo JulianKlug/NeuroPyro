{
 "cells": [
  {
   "cell_type": "code",
   "execution_count": null,
   "id": "initial_id",
   "metadata": {
    "ExecuteTime": {
     "end_time": "2024-10-29T20:02:17.250712Z",
     "start_time": "2024-10-29T20:02:17.247333Z"
    }
   },
   "outputs": [],
   "source": [
    "from idlelib.window import registry\n",
    "\n",
    "import pandas as pd\n",
    "import seaborn as sns\n",
    "import matplotlib.pyplot as plt"
   ]
  },
  {
   "cell_type": "code",
   "execution_count": null,
   "id": "b415afefb64983df",
   "metadata": {
    "ExecuteTime": {
     "end_time": "2024-10-29T20:13:02.606726Z",
     "start_time": "2024-10-29T20:13:02.591668Z"
    }
   },
   "outputs": [],
   "source": [
    "cpp_path = '/Users/jk1/stroke_datasets/ptiO2-Studie/moberg_extracted_data/cpp_df.csv'\n",
    "ptio2_path = '/Users/jk1/stroke_datasets/ptiO2-Studie/moberg_extracted_data/ptio2_df.csv'\n",
    "temperature_path = '/Users/jk1/stroke_datasets/ptiO2-Studie/moberg_extracted_data/temperature_df.csv'\n",
    "lpr_path = '/Users/jk1/stroke_datasets/ptiO2-Studie/moberg_extracted_data/lpr_df.csv'\n",
    "hr_path = '/Users/jk1/stroke_datasets/ptiO2-Studie/moberg_extracted_data/hr_df.csv'\n",
    "etco2_path = '/Users/jk1/stroke_datasets/ptiO2-Studie/moberg_extracted_data/etco2_df.csv'\n",
    "drug_administration_path = '/Users/jk1/stroke_datasets/ptiO2-Studie/drug_administrations.xlsx'\n",
    "registry_path = '/Users/jk1/stroke_datasets/ptiO2-Studie/moberg_registry_kssg.xlsx'\n",
    "paco2_path = '/Users/jk1/stroke_datasets/ptiO2-Studie/pdms_data/20241029_aBGA.csv'"
   ]
  },
  {
   "cell_type": "code",
   "execution_count": null,
   "id": "128b05c27aa8080f",
   "metadata": {
    "ExecuteTime": {
     "end_time": "2024-10-29T20:02:20.591197Z",
     "start_time": "2024-10-29T20:02:20.587991Z"
    }
   },
   "outputs": [],
   "source": [
    "exclude_short_infusions = True"
   ]
  },
  {
   "cell_type": "code",
   "execution_count": null,
   "id": "a9532077cb4c3d74",
   "metadata": {
    "ExecuteTime": {
     "end_time": "2024-10-29T20:03:14.507708Z",
     "start_time": "2024-10-29T20:02:22.081278Z"
    }
   },
   "outputs": [],
   "source": [
    "cpp_df = pd.read_csv(cpp_path)\n",
    "ptio2_df = pd.read_csv(ptio2_path)\n",
    "temperature_df = pd.read_csv(temperature_path)\n",
    "lpr_df = pd.read_csv(lpr_path)\n",
    "hr_df = pd.read_csv(hr_path)\n",
    "etco2_df = pd.read_csv(etco2_path)\n",
    "drug_administration_df = pd.read_excel(drug_administration_path)"
   ]
  },
  {
   "cell_type": "markdown",
   "id": "a9e1f31ab9971309",
   "metadata": {},
   "source": [
    "load pdms data"
   ]
  },
  {
   "cell_type": "code",
   "execution_count": null,
   "id": "8192ff5db2905b3d",
   "metadata": {
    "ExecuteTime": {
     "end_time": "2024-10-29T20:24:16.037793Z",
     "start_time": "2024-10-29T20:24:15.905339Z"
    }
   },
   "outputs": [],
   "source": [
    "registry_df = pd.read_excel(registry_path)\n",
    "paco2_df = pd.read_csv(paco2_path, sep=';')"
   ]
  },
  {
   "cell_type": "code",
   "execution_count": null,
   "id": "6c981c037ec9f488",
   "metadata": {
    "ExecuteTime": {
     "end_time": "2024-10-29T20:24:31.010760Z",
     "start_time": "2024-10-29T20:24:31.001602Z"
    }
   },
   "outputs": [],
   "source": [
    "paco2_df.head()"
   ]
  },
  {
   "cell_type": "code",
   "execution_count": null,
   "id": "7b918b1d444ec5f9",
   "metadata": {
    "ExecuteTime": {
     "end_time": "2024-10-29T20:24:27.320187Z",
     "start_time": "2024-10-29T20:24:27.310072Z"
    }
   },
   "outputs": [],
   "source": [
    "paco2_df = pd.merge(paco2_df, registry_df[['Medical Record Number', 'Pat. Nr.']], left_on='FallNr', right_on='Medical Record Number', how='left')\n",
    "paco2_df.drop(columns=['Medical Record Number'], inplace=True)\n",
    "paco2_df.rename(columns={'Pat. Nr.':'pat_nr'}, inplace=True)\n",
    "paco2_df.rename(columns={'Zeitpunkt_aBGA':'datetime'}, inplace=True)\n",
    "paco2_df['pCO2_mmHg'] = paco2_df['pCO2'] * 7.50062"
   ]
  },
  {
   "cell_type": "markdown",
   "id": "488081df0bbbbecb",
   "metadata": {},
   "source": [
    "# Data Exploration"
   ]
  },
  {
   "cell_type": "code",
   "execution_count": null,
   "id": "e2d8eee3f26870d8",
   "metadata": {
    "ExecuteTime": {
     "end_time": "2024-10-29T20:24:50.208881Z",
     "start_time": "2024-10-29T20:24:50.199982Z"
    }
   },
   "outputs": [],
   "source": [
    "drug_administration_df = drug_administration_df[drug_administration_df.monitored]\n",
    "# exclude if further_exclusion_criterium is not Nan\n",
    "drug_administration_df = drug_administration_df[pd.isna(drug_administration_df['further_exclusion_criterium'])]"
   ]
  },
  {
   "cell_type": "code",
   "execution_count": null,
   "id": "89be09c928f6c812",
   "metadata": {
    "ExecuteTime": {
     "end_time": "2024-10-29T20:24:51.417585Z",
     "start_time": "2024-10-29T20:24:51.400830Z"
    }
   },
   "outputs": [],
   "source": [
    "if exclude_short_infusions:\n",
    "    drug_administration_df['infusion_duration'] = (pd.to_datetime(drug_administration_df['drug_end']) - pd.to_datetime(drug_administration_df['drug_start'])).dt.total_seconds() / 3600\n",
    "    print(f'Excluding {drug_administration_df[drug_administration_df[\"infusion_duration\"] <= 1].shape[0]} infusions with duration <= 1h')\n",
    "    drug_administration_df = drug_administration_df[drug_administration_df['infusion_duration'] > 1]"
   ]
  },
  {
   "cell_type": "code",
   "execution_count": null,
   "id": "24ac9be06d51a37d",
   "metadata": {
    "ExecuteTime": {
     "end_time": "2024-10-29T20:24:52.430323Z",
     "start_time": "2024-10-29T20:24:52.421908Z"
    }
   },
   "outputs": [],
   "source": [
    "drug_administration_df.pat_nr.nunique(), drug_administration_df.shape"
   ]
  },
  {
   "cell_type": "code",
   "execution_count": null,
   "id": "f805b11df09cef64",
   "metadata": {
    "ExecuteTime": {
     "end_time": "2024-10-29T20:24:55.539098Z",
     "start_time": "2024-10-29T20:24:54.318963Z"
    }
   },
   "outputs": [],
   "source": [
    "for var_df in [ptio2_df, cpp_df, temperature_df, lpr_df, hr_df, etco2_df, paco2_df]:\n",
    "    var_df['datetime'] = pd.to_datetime(var_df['datetime'])\n"
   ]
  },
  {
   "cell_type": "code",
   "execution_count": null,
   "id": "4011984a005d1e5d",
   "metadata": {
    "ExecuteTime": {
     "end_time": "2024-10-29T20:27:38.525759Z",
     "start_time": "2024-10-29T20:25:52.211622Z"
    }
   },
   "outputs": [],
   "source": [
    "# for every drug administration extract data from -xh to +xh around start\n",
    "time_window = 12\n",
    "\n",
    "associated_ptio2_df = pd.DataFrame()\n",
    "associated_cpp_df = pd.DataFrame()\n",
    "associated_temperature_df = pd.DataFrame()\n",
    "associated_hr_df = pd.DataFrame()\n",
    "associated_lpr_df = pd.DataFrame()\n",
    "associated_ci_df = pd.DataFrame()\n",
    "associated_etco2_df = pd.DataFrame()\n",
    "associated_paco2_df = pd.DataFrame()\n",
    "\n",
    "for index, row in drug_administration_df.iterrows():\n",
    "    lower_bound = row['drug_start'] - pd.to_timedelta(time_window, unit='h')\n",
    "    upper_bound = row['drug_start'] + pd.to_timedelta(time_window, unit='h')\n",
    "    instance_associated_ptio2_df = ptio2_df[(ptio2_df['pat_nr'] == row['pat_nr'])\n",
    "                                            & (ptio2_df['datetime'] >= lower_bound) \n",
    "                                            & (ptio2_df['datetime'] <= upper_bound)]\n",
    "    instance_associated_ptio2_df['drug_start'] = row['drug_start']\n",
    "    instance_associated_ptio2_df['relative_datetime'] = (instance_associated_ptio2_df['datetime'] - row['drug_start']).dt.total_seconds() / 3600\n",
    "    associated_ptio2_df = pd.concat([associated_ptio2_df, instance_associated_ptio2_df])\n",
    "\n",
    "    instance_associated_cpp_df = cpp_df[(cpp_df['pat_nr'] == row['pat_nr'])\n",
    "                                        & (cpp_df['datetime'] >= lower_bound) \n",
    "                                        & (cpp_df['datetime'] <= upper_bound)]  \n",
    "    instance_associated_cpp_df['drug_start'] = row['drug_start']\n",
    "    instance_associated_cpp_df['relative_datetime'] = (instance_associated_cpp_df['datetime'] - row['drug_start']).dt.total_seconds() / 3600\n",
    "    associated_cpp_df = pd.concat([associated_cpp_df, instance_associated_cpp_df])\n",
    "\n",
    "    instance_associated_temperature_df = temperature_df[(temperature_df['pat_nr'] == row['pat_nr'])\n",
    "                                        & (temperature_df['datetime'] >= lower_bound)\n",
    "                                        & (temperature_df['datetime'] <= upper_bound)]\n",
    "    instance_associated_temperature_df['drug_start'] = row['drug_start']\n",
    "    instance_associated_temperature_df['relative_datetime'] = (instance_associated_temperature_df['datetime'] - row['drug_start']).dt.total_seconds() / 3600\n",
    "    associated_temperature_df = pd.concat([associated_temperature_df, instance_associated_temperature_df])\n",
    "\n",
    "    instance_associated_hr_df = hr_df[(hr_df['pat_nr'] == row['pat_nr'])\n",
    "                                        & (hr_df['datetime'] >= lower_bound)   \n",
    "                                        & (hr_df['datetime'] <= upper_bound)]\n",
    "    instance_associated_hr_df['drug_start'] = row['drug_start']\n",
    "    instance_associated_hr_df['relative_datetime'] = (instance_associated_hr_df['datetime'] - row['drug_start']).dt.total_seconds() / 3600\n",
    "    associated_hr_df = pd.concat([associated_hr_df, instance_associated_hr_df])\n",
    "\n",
    "    instance_associated_lpr_df = lpr_df[(lpr_df['pat_nr'] == row['pat_nr'])\n",
    "                                        & (lpr_df['datetime'] >= lower_bound)\n",
    "                                        & (lpr_df['datetime'] <= upper_bound)]\n",
    "    instance_associated_lpr_df['drug_start'] = row['drug_start']\n",
    "    instance_associated_lpr_df['relative_datetime'] = (instance_associated_lpr_df['datetime'] - row['drug_start']).dt.total_seconds() / 3600\n",
    "    associated_lpr_df = pd.concat([associated_lpr_df, instance_associated_lpr_df])\n",
    "    \n",
    "    instance_associated_etco2_df = etco2_df[(etco2_df['pat_nr'] == row['pat_nr'])\n",
    "                                        & (etco2_df['datetime'] >= lower_bound)\n",
    "                                        & (etco2_df['datetime'] <= upper_bound)]\n",
    "    instance_associated_etco2_df['drug_start'] = row['drug_start']\n",
    "    instance_associated_etco2_df['relative_datetime'] = (instance_associated_etco2_df['datetime'] - row['drug_start']).dt.total_seconds() / 3600\n",
    "    associated_etco2_df = pd.concat([associated_etco2_df, instance_associated_etco2_df])\n",
    "    \n",
    "    instance_associated_paco2_df = paco2_df[(paco2_df['pat_nr'] == row['pat_nr'])\n",
    "                                        & (paco2_df['datetime'] >= lower_bound)\n",
    "                                        & (paco2_df['datetime'] <= upper_bound)]\n",
    "    instance_associated_paco2_df['drug_start'] = row['drug_start']\n",
    "    instance_associated_paco2_df['relative_datetime'] = (instance_associated_paco2_df['datetime'] - row['drug_start']).dt.total_seconds() / 3600\n",
    "    associated_paco2_df = pd.concat([associated_paco2_df, instance_associated_paco2_df])\n",
    "\n",
    "    "
   ]
  },
  {
   "cell_type": "markdown",
   "id": "4003d1e7610b3ac4",
   "metadata": {},
   "source": [
    "# Data Cleaning"
   ]
  },
  {
   "cell_type": "code",
   "execution_count": null,
   "id": "b32a32c47aaadb03",
   "metadata": {
    "ExecuteTime": {
     "end_time": "2024-10-29T20:27:39.145774Z",
     "start_time": "2024-10-29T20:27:39.136759Z"
    }
   },
   "outputs": [],
   "source": [
    "allowed_ptio2_range = [0, 200]\n",
    "allowed_cpp_range = [0, 200]\n",
    "allowed_temperature_range = [30, 45]\n",
    "allowed_hr_range = [0, 300]\n",
    "allowed_lpr_range = [0, 100]\n",
    "allowed_etco2_range = [0, 100]\n",
    "allowed_paco2_range = [0.5, 20] # in kpa"
   ]
  },
  {
   "cell_type": "code",
   "execution_count": null,
   "id": "5aee967aa7ee74fe",
   "metadata": {
    "ExecuteTime": {
     "end_time": "2024-10-29T20:28:38.493524Z",
     "start_time": "2024-10-29T20:28:37.765519Z"
    }
   },
   "outputs": [],
   "source": [
    "# drop values outside of allowed range\n",
    "associated_ptio2_df = associated_ptio2_df[(associated_ptio2_df['ptio2'] >= allowed_ptio2_range[0]) & (associated_ptio2_df['ptio2'] <= allowed_ptio2_range[1])]\n",
    "associated_cpp_df = associated_cpp_df[(associated_cpp_df['cpp'] >= allowed_cpp_range[0]) & (associated_cpp_df['cpp'] <= allowed_cpp_range[1])]\n",
    "associated_temperature_df = associated_temperature_df[(associated_temperature_df['temperature'] >= allowed_temperature_range[0]) & (associated_temperature_df['temperature'] <= allowed_temperature_range[1])]\n",
    "associated_hr_df = associated_hr_df[(associated_hr_df['hr'] >= allowed_hr_range[0]) & (associated_hr_df['hr'] <= allowed_hr_range[1])]\n",
    "associated_lpr_df = associated_lpr_df[(associated_lpr_df['lpr'] >= allowed_lpr_range[0]) & (associated_lpr_df['lpr'] <= allowed_lpr_range[1])]\n",
    "associated_etco2_df = associated_etco2_df[(associated_etco2_df['etco2'] >= allowed_etco2_range[0]) & (associated_etco2_df['etco2'] <= allowed_etco2_range[1])]\n",
    "associated_paco2_df = associated_paco2_df[(associated_paco2_df['pCO2'] >= allowed_paco2_range[0]) & (associated_paco2_df['pCO2'] <= allowed_paco2_range[1])]\n"
   ]
  },
  {
   "cell_type": "markdown",
   "id": "aab30179ea32658a",
   "metadata": {},
   "source": [
    "# Data Plotting"
   ]
  },
  {
   "cell_type": "code",
   "execution_count": null,
   "id": "566f7d2dd8aece1a",
   "metadata": {
    "ExecuteTime": {
     "end_time": "2024-10-29T20:28:59.020315Z",
     "start_time": "2024-10-29T20:28:58.994403Z"
    }
   },
   "outputs": [],
   "source": [
    "associated_ptio2_df['rounded_relative_datetime'] = associated_ptio2_df['relative_datetime'].round(1)\n",
    "associated_cpp_df['rounded_relative_datetime'] = associated_cpp_df['relative_datetime'].round(1)\n",
    "associated_temperature_df['rounded_relative_datetime'] = associated_temperature_df['relative_datetime'].round(1)\n",
    "associated_hr_df['rounded_relative_datetime'] = associated_hr_df['relative_datetime'].round(1)\n",
    "associated_lpr_df['rounded_relative_datetime'] = associated_lpr_df['relative_datetime'].round(1)\n",
    "associated_etco2_df['rounded_relative_datetime'] = associated_etco2_df['relative_datetime'].round(1)\n",
    "associated_paco2_df['rounded_relative_datetime'] = associated_paco2_df['relative_datetime'].round(1)"
   ]
  },
  {
   "cell_type": "code",
   "execution_count": null,
   "id": "e83451fa1a6bd4ef",
   "metadata": {
    "ExecuteTime": {
     "end_time": "2024-10-29T20:32:06.984226Z",
     "start_time": "2024-10-29T20:32:04.467687Z"
    }
   },
   "outputs": [],
   "source": [
    "sns.lineplot(x='rounded_relative_datetime', y='pCO2_mmHg', data=associated_paco2_df.reset_index())"
   ]
  },
  {
   "cell_type": "code",
   "execution_count": null,
   "id": "190c23d9dd407ed1",
   "metadata": {
    "ExecuteTime": {
     "end_time": "2024-08-16T19:48:26.915866Z",
     "start_time": "2024-08-16T19:48:25.471476Z"
    }
   },
   "outputs": [],
   "source": [
    "sns.lineplot(x='rounded_relative_datetime', y='lpr', data=associated_lpr_df.reset_index())"
   ]
  },
  {
   "cell_type": "code",
   "execution_count": null,
   "id": "838ef2992070edbb",
   "metadata": {
    "ExecuteTime": {
     "end_time": "2024-10-29T20:34:52.791165Z",
     "start_time": "2024-10-29T20:34:03.969018Z"
    }
   },
   "outputs": [],
   "source": [
    "# plot a line plot of ptio2 and cpp values over relative time\n",
    "plot_temperature = True\n",
    "plot_hr = True\n",
    "plot_lpr = False\n",
    "plot_etco2 = False\n",
    "plot_paco2 = True\n",
    "\n",
    "label_fontsize = 18\n",
    "legend_fontsize = 16\n",
    "\n",
    "fig, ax = plt.subplots(1, 1, figsize=(20, 10))\n",
    "sns.lineplot(x='rounded_relative_datetime', y='ptio2', data=associated_ptio2_df, ax=ax, \n",
    "             label=f'PtiO2 (n={associated_ptio2_df.pat_nr.nunique()})', legend=False)\n",
    "# create second y axis for cpp values\n",
    "ax2 = ax.twinx()\n",
    "sns.lineplot(x='rounded_relative_datetime', y='cpp', data=associated_cpp_df, ax=ax2, color='magenta', \n",
    "             label=f'CPP (n={associated_cpp_df.pat_nr.nunique()})', legend=False)\n",
    "\n",
    "if plot_temperature:\n",
    "    ax3 = ax.twinx()\n",
    "    sns.lineplot(x='rounded_relative_datetime', y='temperature', data=associated_temperature_df, ax=ax3, color='green', \n",
    "                 label=f'Temperature (n={associated_temperature_df.pat_nr.nunique()})', legend=False)\n",
    "    ax3.set_ylabel('Temperature (°C)', fontsize=label_fontsize)\n",
    "    ax3.grid(None)\n",
    "    ax3.spines['right'].set_position(('outward', 60))\n",
    "    \n",
    "if plot_hr:\n",
    "    ax4 = ax.twinx()\n",
    "    sns.lineplot(x='rounded_relative_datetime', y='hr', data=associated_hr_df, ax=ax4, color='#7b002c', \n",
    "                 label=f'HR (n={associated_hr_df.pat_nr.nunique()})', legend=False)\n",
    "    ax4.set_ylabel('HR (bpm)', fontsize=label_fontsize)\n",
    "    ax4.grid(None)\n",
    "    ax4.spines['right'].set_position(('outward', 120)) \n",
    "\n",
    "if plot_lpr:\n",
    "    ax5 = ax.twinx()\n",
    "    sns.lineplot(x='rounded_relative_datetime', y='lpr', data=associated_lpr_df.reset_index(), ax=ax5, color='orange', \n",
    "                 label=f'LPR (n={associated_lpr_df.pat_nr.nunique()})', legend=False)\n",
    "    ax5.set_ylabel('LPR', fontsize=label_fontsize)\n",
    "    ax5.grid(None)\n",
    "    ax5.spines['right'].set_position(('outward', 180))\n",
    "\n",
    "if plot_etco2:\n",
    "    ax6 = ax.twinx()\n",
    "    sns.lineplot(x='rounded_relative_datetime', y='etco2', data=associated_etco2_df.reset_index(), ax=ax6, color='orange', \n",
    "                 label=f'EtCO2 (n={associated_etco2_df.pat_nr.nunique()})', legend=False)\n",
    "    ax6.set_ylabel('EtCO2 (mmHg)', fontsize=label_fontsize)\n",
    "    ax6.grid(None)\n",
    "    ax6.spines['right'].set_position(('outward', 180))\n",
    "    \n",
    "if plot_paco2:\n",
    "    ax7 = ax.twinx()\n",
    "    sns.lineplot(x='rounded_relative_datetime', y='pCO2_mmHg', data=associated_paco2_df.reset_index(), ax=ax7, color='orange',\n",
    "                    label=f'PaCO2 (n={associated_paco2_df.pat_nr.nunique()})', legend=False)\n",
    "    ax7.set_ylabel('PaCO2 (mmHg)', fontsize=label_fontsize)\n",
    "    ax7.grid(None)\n",
    "    ax7.spines['right'].set_position(('outward', 180))\n",
    "    \n",
    "\n",
    "ax.set_xlabel('Relative time from start of infusion (h)', fontsize=label_fontsize)\n",
    "ax.set_ylabel('PtiO2 (mmHg)', fontsize=label_fontsize)\n",
    "ax2.set_ylabel('CPP (mmHg)', fontsize=label_fontsize)\n",
    "\n",
    "ax2.set_ylim(60,100)\n",
    "ax2.grid(None)\n",
    "\n",
    "# show legend\n",
    "lines, labels = ax.get_legend_handles_labels()\n",
    "lines2, labels2 = ax2.get_legend_handles_labels()\n",
    "legend_lines = lines + lines2\n",
    "legend_labels = labels + labels2\n",
    "\n",
    "if plot_temperature:\n",
    "    lines3, labels3 = ax3.get_legend_handles_labels()\n",
    "    legend_lines += lines3\n",
    "    legend_labels += labels3\n",
    "    \n",
    "if plot_hr:\n",
    "    lines4, labels4 = ax4.get_legend_handles_labels()\n",
    "    legend_lines += lines4\n",
    "    legend_labels += labels4\n",
    "    \n",
    "if plot_lpr:\n",
    "    lines5, labels5 = ax5.get_legend_handles_labels()\n",
    "    legend_lines += lines5\n",
    "    legend_labels += labels5\n",
    "\n",
    "if plot_etco2:\n",
    "    lines6, labels6 = ax6.get_legend_handles_labels()\n",
    "    legend_lines += lines6\n",
    "    legend_labels += labels6\n",
    "    \n",
    "if plot_paco2:\n",
    "    lines7, labels7 = ax7.get_legend_handles_labels()\n",
    "    legend_lines += lines7\n",
    "    legend_labels += labels7\n",
    "\n",
    "ax.legend(legend_lines, legend_labels, loc='upper right', fontsize=legend_fontsize)\n",
    "\n",
    "# # add vertical line at x=0 with text label with \"Diclofenac administration\"\n",
    "# ax.axvline(x=0, ymin=0.015, ymax=0.1, color='black', linestyle='--', linewidth=0.7)\n",
    "# ax.text(0.5, 0.12, 'Start of infusion', horizontalalignment='center', verticalalignment='center', transform=ax.transAxes)\n",
    "\n"
   ]
  },
  {
   "cell_type": "code",
   "execution_count": null,
   "id": "7028a540ea9d29e6",
   "metadata": {
    "ExecuteTime": {
     "end_time": "2024-10-29T20:47:00.742570Z",
     "start_time": "2024-10-29T20:46:47.940983Z"
    }
   },
   "outputs": [],
   "source": [
    "# fig.savefig('/Users/jk1/Downloads/pco2_ptio2_cpp_temp_hr_plot.png', dpi=600, bbox_inches='tight')"
   ]
  },
  {
   "cell_type": "code",
   "execution_count": null,
   "id": "aba498f81d7e563",
   "metadata": {
    "ExecuteTime": {
     "end_time": "2024-10-28T20:37:52.438273Z",
     "start_time": "2024-10-28T20:37:51.839856Z"
    }
   },
   "outputs": [],
   "source": [
    "# boxplot pre / post ptio2\n",
    "associated_ptio2_df['pre_post'] = 'pre'\n",
    "associated_ptio2_df.loc[associated_ptio2_df['relative_datetime'] > 0, 'pre_post'] = 'post'\n",
    "sns.boxplot(x='pre_post', y='ptio2', hue='pre_post', data=associated_ptio2_df)\n"
   ]
  },
  {
   "cell_type": "code",
   "execution_count": null,
   "id": "da370b23908c8433",
   "metadata": {
    "ExecuteTime": {
     "end_time": "2024-10-28T20:38:00.751785Z",
     "start_time": "2024-10-28T20:37:59.104398Z"
    }
   },
   "outputs": [],
   "source": [
    "# compare pre / post ptio2 with mixed effect model\n",
    "import statsmodels.api as sm\n",
    "import statsmodels.formula.api as smf\n",
    "\n",
    "mixed_model = smf.mixedlm(\"ptio2 ~ pre_post\", associated_ptio2_df, groups=associated_ptio2_df['pat_nr'])"
   ]
  },
  {
   "cell_type": "code",
   "execution_count": null,
   "id": "7b69b55ad448ef90",
   "metadata": {
    "ExecuteTime": {
     "end_time": "2024-10-28T20:38:10.004106Z",
     "start_time": "2024-10-28T20:38:08.944009Z"
    }
   },
   "outputs": [],
   "source": [
    "mdf = mixed_model.fit()\n",
    "# print formula\n",
    "print(mdf.model.formula)\n",
    "print(mdf.summary())"
   ]
  },
  {
   "cell_type": "markdown",
   "id": "1edbfba16c1cf196",
   "metadata": {},
   "source": [
    "# compare pre / post temperature"
   ]
  },
  {
   "cell_type": "code",
   "execution_count": null,
   "id": "28aeea5f8fd9a990",
   "metadata": {
    "ExecuteTime": {
     "end_time": "2024-10-28T17:54:27.575056Z",
     "start_time": "2024-10-28T17:54:25.377262Z"
    }
   },
   "outputs": [],
   "source": [
    "# compare pre / post temperature\n",
    "associated_temperature_df['pre_post'] = 'pre'\n",
    "associated_temperature_df.loc[associated_temperature_df['relative_datetime'] > 0, 'pre_post'] = 'post'\n",
    "sns.boxplot(x='pre_post', y='temperature', hue='pre_post', data=associated_temperature_df)"
   ]
  },
  {
   "cell_type": "code",
   "execution_count": null,
   "id": "8e40f0da9c54eeb3",
   "metadata": {
    "ExecuteTime": {
     "end_time": "2024-10-28T17:54:27.933956Z",
     "start_time": "2024-10-28T17:54:27.590671Z"
    }
   },
   "outputs": [],
   "source": [
    "associated_temperature_df[associated_temperature_df['pre_post'] == 'pre']['temperature'].median(), associated_temperature_df[associated_temperature_df['pre_post'] == 'post']['temperature'].median()"
   ]
  },
  {
   "cell_type": "markdown",
   "id": "cc808fbd120bc67",
   "metadata": {},
   "source": [
    "## Time spent PtiO2 < 20 pre vs post"
   ]
  },
  {
   "cell_type": "code",
   "execution_count": null,
   "id": "8f5d0c293bcabf75",
   "metadata": {
    "ExecuteTime": {
     "end_time": "2024-10-28T18:50:29.367362Z",
     "start_time": "2024-10-28T18:50:29.097112Z"
    }
   },
   "outputs": [],
   "source": [
    "ptio2_threshold = 20\n",
    "\n",
    "time_under_ptio2_threshold_df = pd.DataFrame()\n",
    "\n",
    "for drug_admin in associated_ptio2_df.drug_start.unique():\n",
    "    instance_associated_ptio2_df = associated_ptio2_df[associated_ptio2_df.drug_start == drug_admin]\n",
    "    # Step 1: Identify the times when the values are below the threshold\n",
    "    instance_associated_ptio2_df['below_threshold'] = instance_associated_ptio2_df['ptio2'] < ptio2_threshold\n",
    "    \n",
    "    # Step 2: Calculate the time difference between each row\n",
    "    instance_associated_ptio2_df['time_difference'] = instance_associated_ptio2_df['datetime'].diff().dt.total_seconds()\n",
    "    \n",
    "    # Step 3: Mask the rows where the values are above the threshold, setting those time differences to 0\n",
    "    instance_associated_ptio2_df['time_below_threshold'] = instance_associated_ptio2_df['time_difference'].where(instance_associated_ptio2_df['below_threshold'], 0)\n",
    "    \n",
    "    # Step 4: Sum up the time spent below the threshold\n",
    "    total_time_below_threshold = instance_associated_ptio2_df['time_below_threshold'].sum()\n",
    "    time_below_threshold_pre_admin = instance_associated_ptio2_df[instance_associated_ptio2_df['relative_datetime'] < 0]['time_below_threshold'].sum()\n",
    "    time_below_threshold_post_admin = instance_associated_ptio2_df[instance_associated_ptio2_df['relative_datetime'] > 0]['time_below_threshold'].sum()\n",
    "    \n",
    "    instance_time_under_ptio2_threshold_df = pd.DataFrame([instance_associated_ptio2_df.pat_nr.unique()[0], drug_admin, time_below_threshold_pre_admin, time_below_threshold_post_admin]).T\n",
    "    instance_time_under_ptio2_threshold_df.columns=['pat_nr', 'drug_start', 'time_under_threshold_pre_s', 'time_under_threshold_post_s']\n",
    "    time_under_ptio2_threshold_df = pd.concat([time_under_ptio2_threshold_df, instance_time_under_ptio2_threshold_df])\n"
   ]
  },
  {
   "cell_type": "code",
   "execution_count": null,
   "id": "f4e2a612c28e9d91",
   "metadata": {
    "ExecuteTime": {
     "end_time": "2024-10-28T18:57:35.877641Z",
     "start_time": "2024-10-28T18:57:35.867333Z"
    }
   },
   "outputs": [],
   "source": [
    "time_under_ptio2_threshold_df = time_under_ptio2_threshold_df.melt(id_vars=['pat_nr', 'drug_start'], value_name='time_under_threshold_s')\n",
    "time_under_ptio2_threshold_df = time_under_ptio2_threshold_df.rename(columns={'variable':'pre_post'})\n",
    "time_under_ptio2_threshold_df['time_under_threshold_h'] = time_under_ptio2_threshold_df['time_under_threshold_s'] / 3600\n",
    "time_under_ptio2_threshold_df.time_under_threshold_s = pd.to_numeric(time_under_ptio2_threshold_df.time_under_threshold_s) \n",
    "time_under_ptio2_threshold_df.loc[time_under_ptio2_threshold_df['pre_post'] == 'time_under_threshold_pre_s', 'pre_post'] = 'pre'\n",
    "time_under_ptio2_threshold_df.loc[time_under_ptio2_threshold_df['pre_post'] == 'time_under_threshold_post_s', 'pre_post'] = 'post'\n"
   ]
  },
  {
   "cell_type": "code",
   "execution_count": null,
   "id": "d50373dc6087ee2",
   "metadata": {
    "ExecuteTime": {
     "end_time": "2024-10-28T20:48:52.223137Z",
     "start_time": "2024-10-28T20:48:52.156301Z"
    }
   },
   "outputs": [],
   "source": [
    "time_under_threshold_mixed_model = smf.mixedlm(\"time_under_threshold_s ~ pre_post\", time_under_ptio2_threshold_df, groups=time_under_ptio2_threshold_df['pat_nr'])\n",
    "time_under_threshold_mdf = time_under_threshold_mixed_model.fit()"
   ]
  },
  {
   "cell_type": "code",
   "execution_count": null,
   "id": "1a8ef71f0f81474b",
   "metadata": {
    "ExecuteTime": {
     "end_time": "2024-10-28T20:48:53.137865Z",
     "start_time": "2024-10-28T20:48:53.122131Z"
    }
   },
   "outputs": [],
   "source": [
    "# print formula\n",
    "print(time_under_threshold_mdf.model.formula)\n",
    "print(time_under_threshold_mdf.summary())"
   ]
  },
  {
   "cell_type": "code",
   "execution_count": null,
   "id": "50bbefb0f5816f82",
   "metadata": {
    "ExecuteTime": {
     "end_time": "2024-10-28T20:57:40.435472Z",
     "start_time": "2024-10-28T20:57:40.200102Z"
    }
   },
   "outputs": [],
   "source": [
    "fig = plt.figure(figsize=(10, 6))\n",
    "\n",
    "ax = sns.boxplot(x='pre_post', y='time_under_threshold_h', data=time_under_ptio2_threshold_df, hue='pre_post')\n",
    "\n",
    "ax.set_ylabel(f'Time with PtO2 < {ptio2_threshold} mmHg')\n",
    "ax.set_xlabel('')\n",
    "\n",
    "# add annotation of p-value (line between boxes)\n",
    "# get the x and y coordinates\n",
    "x1, x2 = 0, 1\n",
    "y, h, col = time_under_ptio2_threshold_df['time_under_threshold_h'].max() + 0.4, 0.3, 'k'\n",
    "plt.plot([x1, x1, x2, x2], [y, y+h, y+h, y], lw=1.5, c=col)\n",
    "plt.text((x1+x2)*.5, y+h+0.1, f'p={time_under_threshold_mdf.pvalues[1]:.3f}', ha='center', va='bottom', color=col)\n",
    "\n",
    "\n",
    "ax.set_ylim(top=14)"
   ]
  },
  {
   "cell_type": "code",
   "execution_count": null,
   "id": "2784a4524e436030",
   "metadata": {
    "ExecuteTime": {
     "end_time": "2024-10-28T20:57:45.565153Z",
     "start_time": "2024-10-28T20:57:45.147140Z"
    }
   },
   "outputs": [],
   "source": [
    "# fig.savefig('/Users/jk1/Downloads/time_under_ptio2_threshold_pre_post.png', dpi=300, bbox_inches='tight')"
   ]
  },
  {
   "cell_type": "markdown",
   "id": "1dad51489faaac95",
   "metadata": {},
   "source": [
    "## alternative comparator \n",
    "use time period with Temp < 37.5 as pre"
   ]
  },
  {
   "cell_type": "code",
   "execution_count": null,
   "id": "37030225e92adfae",
   "metadata": {
    "ExecuteTime": {
     "end_time": "2024-08-12T12:28:39.677427Z",
     "start_time": "2024-08-12T12:28:39.651165Z"
    }
   },
   "outputs": [],
   "source": [
    "temperature_df.head()"
   ]
  },
  {
   "cell_type": "code",
   "execution_count": null,
   "id": "bfa9fb30cc0ff35b",
   "metadata": {
    "ExecuteTime": {
     "end_time": "2024-08-12T13:09:58.710824Z",
     "start_time": "2024-08-12T13:08:23.935574Z"
    }
   },
   "outputs": [],
   "source": [
    "temperature_limit = 37.5\n",
    "possibilities = [[-24, -12], [-36, -24], [-48, -36], [-60, -48], [-72, -60]]\n",
    "missing_periods = []\n",
    "\n",
    "pre_associated_ptio2_df = pd.DataFrame()\n",
    "pre_associated_cpp_df = pd.DataFrame()\n",
    "pre_associated_temperature_df = pd.DataFrame()\n",
    "pre_associated_hr_df = pd.DataFrame()\n",
    "pre_associated_lpr_df = pd.DataFrame()\n",
    "\n",
    "\n",
    "for index, row in drug_administration_df.iterrows():\n",
    "    # find a continuous time period with temperature < 37.5 before drug administration\n",
    "    period_found = False\n",
    "    for pos in possibilities:\n",
    "        lower_bound = row['drug_start'] + pd.to_timedelta(pos[0], unit='h')\n",
    "        upper_bound = row['drug_start'] + pd.to_timedelta(pos[1], unit='h')\n",
    "        instance_associated_temperature_df = temperature_df[(temperature_df['pat_nr'] == row['pat_nr'])\n",
    "                                            & (temperature_df['datetime'] >= lower_bound)\n",
    "                                            & (temperature_df['datetime'] <= upper_bound)]\n",
    "        if instance_associated_temperature_df['temperature'].max() < temperature_limit:\n",
    "            period_found = True\n",
    "            break\n",
    "            \n",
    "    if not period_found:\n",
    "        missing_periods.append([row['pat_nr'], row['drug_start']])\n",
    "        continue\n",
    "    \n",
    "    pre_instance_associated_ptio2_df = ptio2_df[(ptio2_df['pat_nr'] == row['pat_nr'])\n",
    "                                            & (ptio2_df['datetime'] >= lower_bound) \n",
    "                                            & (ptio2_df['datetime'] <= upper_bound)]\n",
    "    pre_instance_associated_ptio2_df['drug_start'] = row['drug_start']\n",
    "    pre_instance_associated_ptio2_df['relative_datetime'] = (pre_instance_associated_ptio2_df['datetime'] - row['drug_start'] - pd.to_timedelta(pos[0], unit='h')).dt.total_seconds() / 3600\n",
    "    pre_associated_ptio2_df = pd.concat([pre_associated_ptio2_df, pre_instance_associated_ptio2_df])\n",
    "\n",
    "    pre_instance_associated_cpp_df = cpp_df[(cpp_df['pat_nr'] == row['pat_nr'])\n",
    "                                        & (cpp_df['datetime'] >= lower_bound) \n",
    "                                        & (cpp_df['datetime'] <= upper_bound)]\n",
    "    pre_instance_associated_cpp_df['drug_start'] = row['drug_start']\n",
    "    pre_instance_associated_cpp_df['relative_datetime'] = (pre_instance_associated_cpp_df['datetime'] - row['drug_start'] - pd.to_timedelta(pos[0], unit='h')).dt.total_seconds() / 3600\n",
    "    pre_associated_cpp_df = pd.concat([pre_associated_cpp_df, pre_instance_associated_cpp_df])\n",
    "    \n",
    "    pre_instance_associated_temperature_df = temperature_df[(temperature_df['pat_nr'] == row['pat_nr'])\n",
    "                                        & (temperature_df['datetime'] >= lower_bound)\n",
    "                                        & (temperature_df['datetime'] <= upper_bound)]\n",
    "    pre_instance_associated_temperature_df['drug_start'] = row['drug_start']\n",
    "    pre_instance_associated_temperature_df['relative_datetime'] = (pre_instance_associated_temperature_df['datetime'] - row['drug_start']\n",
    "                                                                    - pd.to_timedelta(pos[0], unit='h')).dt.total_seconds() / 3600\n",
    "    pre_associated_temperature_df = pd.concat([pre_associated_temperature_df, pre_instance_associated_temperature_df])\n",
    "    \n",
    "    pre_instance_associated_hr_df = hr_df[(hr_df['pat_nr'] == row['pat_nr'])\n",
    "                                        & (hr_df['datetime'] >= lower_bound)   \n",
    "                                        & (hr_df['datetime'] <= upper_bound)]\n",
    "    pre_instance_associated_hr_df['drug_start'] = row['drug_start']\n",
    "    pre_instance_associated_hr_df['relative_datetime'] = (pre_instance_associated_hr_df['datetime'] - row['drug_start']\n",
    "                                                            - pd.to_timedelta(pos[0], unit='h')).dt.total_seconds() / 3600\n",
    "    pre_associated_hr_df = pd.concat([pre_associated_hr_df, pre_instance_associated_hr_df])\n",
    "    \n",
    "    pre_instance_associated_lpr_df = lpr_df[(lpr_df['pat_nr'] == row['pat_nr'])\n",
    "                                        & (lpr_df['datetime'] >= lower_bound)\n",
    "                                        & (lpr_df['datetime'] <= upper_bound)]\n",
    "    pre_instance_associated_lpr_df['drug_start'] = row['drug_start']\n",
    "    pre_instance_associated_lpr_df['relative_datetime'] = (pre_instance_associated_lpr_df['datetime'] - row['drug_start']\n",
    "                                                            - pd.to_timedelta(pos[0], unit='h')).dt.total_seconds() / 3600\n",
    "    pre_associated_lpr_df = pd.concat([pre_associated_lpr_df, pre_instance_associated_lpr_df])\n",
    "    \n",
    "    \n",
    "    \n",
    "        "
   ]
  },
  {
   "cell_type": "code",
   "execution_count": null,
   "id": "aa581c0628d55931",
   "metadata": {
    "ExecuteTime": {
     "end_time": "2024-08-12T13:09:58.716419Z",
     "start_time": "2024-08-12T13:09:58.713209Z"
    }
   },
   "outputs": [],
   "source": [
    "allowed_ptio2_range = [0, 200]\n",
    "allowed_cpp_range = [0, 200]\n",
    "allowed_temperature_range = [30, 45]\n",
    "allowed_hr_range = [0, 300]\n",
    "allowed_lpr_range = [0, 100]"
   ]
  },
  {
   "cell_type": "code",
   "execution_count": null,
   "id": "e561c0cce986a5bf",
   "metadata": {
    "ExecuteTime": {
     "end_time": "2024-08-12T13:09:58.846017Z",
     "start_time": "2024-08-12T13:09:58.717874Z"
    }
   },
   "outputs": [],
   "source": [
    "# drop values outside of allowed range\n",
    "pre_associated_ptio2_df = pre_associated_ptio2_df[(pre_associated_ptio2_df['ptio2'] >= allowed_ptio2_range[0]) & (pre_associated_ptio2_df['ptio2'] <= allowed_ptio2_range[1])]\n",
    "pre_associated_cpp_df = pre_associated_cpp_df[(pre_associated_cpp_df['cpp'] >= allowed_cpp_range[0]) & (pre_associated_cpp_df['cpp'] <= allowed_cpp_range[1])]\n",
    "pre_associated_temperature_df = pre_associated_temperature_df[(pre_associated_temperature_df['temperature'] >= allowed_temperature_range[0]) & (pre_associated_temperature_df['temperature'] <= allowed_temperature_range[1])]\n",
    "pre_associated_hr_df = pre_associated_hr_df[(pre_associated_hr_df['hr'] >= allowed_hr_range[0]) & (pre_associated_hr_df['hr'] <= allowed_hr_range[1])]\n",
    "pre_associated_lpr_df = pre_associated_lpr_df[(pre_associated_lpr_df['lpr'] >= allowed_lpr_range[0]) & (pre_associated_lpr_df['lpr'] <= allowed_lpr_range[1])]"
   ]
  },
  {
   "cell_type": "code",
   "execution_count": null,
   "id": "c5c064af1311b290",
   "metadata": {
    "ExecuteTime": {
     "end_time": "2024-08-12T13:09:58.857978Z",
     "start_time": "2024-08-12T13:09:58.848770Z"
    }
   },
   "outputs": [],
   "source": [
    "pre_associated_ptio2_df['rounded_relative_datetime'] = pre_associated_ptio2_df['relative_datetime'].round(1)\n",
    "pre_associated_cpp_df['rounded_relative_datetime'] = pre_associated_cpp_df['relative_datetime'].round(1)\n",
    "pre_associated_temperature_df['rounded_relative_datetime'] = pre_associated_temperature_df['relative_datetime'].round(1)\n",
    "pre_associated_hr_df['rounded_relative_datetime'] = pre_associated_hr_df['relative_datetime'].round(1)\n",
    "pre_associated_lpr_df['rounded_relative_datetime'] = pre_associated_lpr_df['relative_datetime'].round(1)"
   ]
  },
  {
   "cell_type": "code",
   "execution_count": null,
   "id": "ce4de42bf723764e",
   "metadata": {
    "ExecuteTime": {
     "end_time": "2024-08-12T13:09:58.863973Z",
     "start_time": "2024-08-12T13:09:58.859455Z"
    }
   },
   "outputs": [],
   "source": [
    "len(missing_periods)"
   ]
  },
  {
   "cell_type": "code",
   "execution_count": null,
   "id": "5d47c52ed74a43c7",
   "metadata": {
    "ExecuteTime": {
     "end_time": "2024-08-12T13:18:37.829217Z",
     "start_time": "2024-08-12T13:18:37.663703Z"
    }
   },
   "outputs": [],
   "source": [
    "post_associated_ptio2_df = associated_ptio2_df[associated_ptio2_df['relative_datetime'] > 0]\n",
    "post_associated_cpp_df = associated_cpp_df[associated_cpp_df['relative_datetime'] > 0]\n",
    "post_associated_temperature_df = associated_temperature_df[associated_temperature_df['relative_datetime'] > 0]\n",
    "post_associated_hr_df = associated_hr_df[associated_hr_df['relative_datetime'] > 0]\n",
    "post_associated_lpr_df = associated_lpr_df[associated_lpr_df['relative_datetime'] > 0]"
   ]
  },
  {
   "cell_type": "code",
   "execution_count": null,
   "id": "21703ccbf6062d2e",
   "metadata": {
    "ExecuteTime": {
     "end_time": "2024-08-12T13:20:58.832470Z",
     "start_time": "2024-08-12T13:20:27.571109Z"
    }
   },
   "outputs": [],
   "source": [
    "# plot pre and post in two subplots\n",
    "plot_temperature = True\n",
    "plot_hr = True\n",
    "plot_lpr = False\n",
    "\n",
    "fig, ax = plt.subplots(2, 1, figsize=(20, 20))\n",
    "sns.lineplot(x='rounded_relative_datetime', y='ptio2', data=pre_associated_ptio2_df, ax=ax[0],\n",
    "             label=f'PtiO2 (n={pre_associated_ptio2_df.pat_nr.nunique()})', legend=False)\n",
    "# create second y axis for cpp values\n",
    "ax2 = ax[0].twinx()\n",
    "sns.lineplot(x='rounded_relative_datetime', y='cpp', data=pre_associated_cpp_df, ax=ax2, color='magenta',\n",
    "             label=f'CPP (n={pre_associated_cpp_df.pat_nr.nunique()})', legend=False)\n",
    "\n",
    "if plot_temperature:\n",
    "    ax3 = ax[0].twinx()\n",
    "    sns.lineplot(x='rounded_relative_datetime', y='temperature', data=pre_associated_temperature_df, ax=ax3, color='green',\n",
    "                 label=f'Temperature (n={pre_associated_temperature_df.pat_nr.nunique()})', legend=False)\n",
    "    ax3.set_ylabel('Temperature (°C)')\n",
    "    ax3.grid(None)\n",
    "    ax3.spines['right'].set_position(('outward', 60))\n",
    "    \n",
    "if plot_hr:\n",
    "    ax4 = ax[0].twinx()\n",
    "    sns.lineplot(x='rounded_relative_datetime', y='hr', data=pre_associated_hr_df, ax=ax4, color='#7b002c',\n",
    "                 label=f'HR (n={pre_associated_hr_df.pat_nr.nunique()})', legend=False)\n",
    "    ax4.set_ylabel('HR (bpm)')\n",
    "    ax4.grid(None)\n",
    "    ax4.spines['right'].set_position(('outward', 120))\n",
    "    \n",
    "if plot_lpr:\n",
    "    ax5 = ax[0].twinx()\n",
    "    sns.lineplot(x='rounded_relative_datetime', y='lpr', data=pre_associated_lpr_df.reset_index(), ax=ax5, color='orange',\n",
    "                 label=f'LPR (n={pre_associated_lpr_df.pat_nr.nunique()})', legend=False)\n",
    "    ax5.set_ylabel('LPR')\n",
    "    ax5.grid(None)\n",
    "    ax5.spines['right'].set_position(('outward', 180))\n",
    "    \n",
    "ax[0].set_xlabel('Relative time from administration (h)')\n",
    "ax[0].set_ylabel('PtiO2 (mmHg)')\n",
    "ax2.set_ylabel('CPP (mmHg)')\n",
    "ax2.set_ylim(60, 100)\n",
    "ax2.grid(None)\n",
    "\n",
    "# show legend\n",
    "lines, labels = ax[0].get_legend_handles_labels()\n",
    "lines2, labels2 = ax2.get_legend_handles_labels()\n",
    "legend_lines = lines + lines2\n",
    "legend_labels = labels + labels2\n",
    "\n",
    "if plot_temperature:\n",
    "    lines3, labels3 = ax3.get_legend_handles_labels()\n",
    "    legend_lines += lines3\n",
    "    legend_labels += labels3\n",
    "    \n",
    "if plot_hr:\n",
    "    lines4, labels4 = ax4.get_legend_handles_labels()\n",
    "    legend_lines += lines4\n",
    "    legend_labels += labels4\n",
    "    \n",
    "if plot_lpr:\n",
    "    lines5, labels5 = ax5.get_legend_handles_labels()\n",
    "    legend_lines += lines5\n",
    "    legend_labels += labels5\n",
    "    \n",
    "ax[0].legend(legend_lines, legend_labels, loc='upper right')\n",
    "\n",
    "# post\n",
    "sns.lineplot(x='rounded_relative_datetime', y='ptio2', data=post_associated_ptio2_df, ax=ax[1],\n",
    "             label=f'PtiO2 (n={post_associated_ptio2_df.pat_nr.nunique()})', legend=False)\n",
    "# create second y axis for cpp values\n",
    "ax2 = ax[1].twinx()\n",
    "sns.lineplot(x='rounded_relative_datetime', y='cpp', data=post_associated_cpp_df, ax=ax2, color='magenta',\n",
    "             label=f'CPP (n={post_associated_cpp_df.pat_nr.nunique()})', legend=False)\n",
    "\n",
    "\n",
    "if plot_temperature:\n",
    "    ax3 = ax[1].twinx()\n",
    "    sns.lineplot(x='rounded_relative_datetime', y='temperature', data=post_associated_temperature_df, ax=ax3, color='green',\n",
    "                 label=f'Temperature (n={post_associated_temperature_df.pat_nr.nunique()})', legend=False)\n",
    "    ax3.set_ylabel('Temperature (°C)')\n",
    "    ax3.grid(None)\n",
    "    ax3.spines['right'].set_position(('outward', 60))\n",
    "    \n",
    "if plot_hr:\n",
    "    ax4 = ax[1].twinx()\n",
    "    sns.lineplot(x='rounded_relative_datetime', y='hr', data=post_associated_hr_df, ax=ax4, color='#7b002c',\n",
    "                 label=f'HR (n={post_associated_hr_df.pat_nr.nunique()})', legend=False)\n",
    "    ax4.set_ylabel('HR (bpm)')\n",
    "    ax4.grid(None)\n",
    "    ax4.spines['right'].set_position(('outward', 120))\n",
    "    \n",
    "if plot_lpr:\n",
    "    ax5 = ax[1].twinx()\n",
    "    sns.lineplot(x='rounded_relative_datetime', y='lpr', data=post_associated_lpr_df.reset_index(), ax=ax5, color='orange',\n",
    "                 label=f'LPR (n={post_associated_lpr_df.pat_nr.nunique()})', legend=False)\n",
    "    ax5.set_ylabel('LPR')\n",
    "    ax5.grid(None)\n",
    "    ax5.spines['right'].set_position(('outward', 180))\n",
    "    \n",
    "ax[1].set_xlabel('Relative time from administration (h)')\n",
    "ax[1].set_ylabel('PtiO2 (mmHg)')\n",
    "ax2.set_ylabel('CPP (mmHg)')\n",
    "ax2.set_ylim(60, 100)\n",
    "ax2.grid(None)\n",
    "\n",
    "# show legend\n",
    "lines, labels = ax[1].get_legend_handles_labels()\n",
    "lines2, labels2 = ax2.get_legend_handles_labels()\n",
    "legend_lines = lines + lines2\n",
    "legend_labels = labels + labels2\n",
    "\n",
    "if plot_temperature:\n",
    "    lines3, labels3 = ax3.get_legend_handles_labels()\n",
    "    legend_lines += lines3\n",
    "    legend_labels += labels3\n",
    "    \n",
    "if plot_hr:\n",
    "    lines4, labels4 = ax4.get_legend_handles_labels()\n",
    "    legend_lines += lines4\n",
    "    legend_labels += labels4\n",
    "    \n",
    "if plot_lpr:\n",
    "    lines5, labels5 = ax5.get_legend_handles_labels()\n",
    "    legend_lines += lines5\n",
    "    legend_labels += labels5\n",
    "    \n",
    "ax[1].legend(legend_lines, legend_labels, loc='upper right')\n",
    "\n",
    "ax[0].set_title('Pre administration (afebrile)')\n",
    "\n",
    "ax[1].set_title('Post administration')"
   ]
  },
  {
   "cell_type": "code",
   "execution_count": null,
   "id": "10b2bd733c7994a8",
   "metadata": {
    "ExecuteTime": {
     "end_time": "2024-08-12T13:21:37.840975Z",
     "start_time": "2024-08-12T13:21:33.775869Z"
    }
   },
   "outputs": [],
   "source": [
    "# fig.savefig('/Users/jk1/Downloads/pre_post_ptio2_cpp_temp_hr_lpr_plot.png', dpi=300, bbox_inches='tight')"
   ]
  },
  {
   "cell_type": "code",
   "execution_count": null,
   "id": "be17f09dcd69e9bf",
   "metadata": {
    "ExecuteTime": {
     "end_time": "2024-08-12T18:32:12.623944Z",
     "start_time": "2024-08-12T18:32:12.543141Z"
    }
   },
   "outputs": [],
   "source": [
    "pre_associated_ptio2_df['pre_post'] = 'pre'\n",
    "post_associated_ptio2_df['pre_post'] = 'post'\n",
    "combined_pre_post_ptio2_df = pd.concat([pre_associated_ptio2_df, post_associated_ptio2_df])"
   ]
  },
  {
   "cell_type": "code",
   "execution_count": null,
   "id": "c527cb007725838",
   "metadata": {
    "ExecuteTime": {
     "end_time": "2024-08-12T18:32:24.921063Z",
     "start_time": "2024-08-12T18:32:24.526835Z"
    }
   },
   "outputs": [],
   "source": [
    "# boxplot pre / post ptio2\n",
    "sns.boxplot(x='pre_post', y='ptio2', hue='pre_post', data=combined_pre_post_ptio2_df)"
   ]
  },
  {
   "cell_type": "code",
   "execution_count": null,
   "id": "abe3f4d7b1e692f4",
   "metadata": {
    "ExecuteTime": {
     "end_time": "2024-08-12T18:35:22.373880Z",
     "start_time": "2024-08-12T18:35:21.600747Z"
    }
   },
   "outputs": [],
   "source": [
    "pre_mixed_model = smf.mixedlm(\"ptio2 ~ pre_post\", combined_pre_post_ptio2_df, groups=combined_pre_post_ptio2_df['pat_nr'])\n",
    "pre_mdf = pre_mixed_model.fit()\n",
    "print(pre_mdf.summary())"
   ]
  },
  {
   "cell_type": "markdown",
   "id": "5a419a747349f8ea",
   "metadata": {},
   "source": [
    "plot every single patient"
   ]
  },
  {
   "cell_type": "code",
   "execution_count": null,
   "id": "faa9a4895dc2a21b",
   "metadata": {
    "ExecuteTime": {
     "end_time": "2024-08-01T21:20:21.786682Z",
     "start_time": "2024-08-01T21:14:57.039030Z"
    }
   },
   "outputs": [],
   "source": [
    "for administration_row in drug_administration_df.iterrows():\n",
    "    \n",
    "    patient_ptio2_df = associated_ptio2_df[(associated_ptio2_df['pat_nr'] == administration_row[1]['pat_nr'])\n",
    "                                        & (associated_ptio2_df['drug_start'] == administration_row[1]['drug_start'])]\n",
    "    patient_cpp_df = associated_cpp_df[(associated_cpp_df['pat_nr'] == administration_row[1]['pat_nr'])\n",
    "                                        & (associated_cpp_df['drug_start'] == administration_row[1]['drug_start'])]\n",
    "    if patient_ptio2_df.shape[0] == 0 or patient_cpp_df.shape[0] == 0:\n",
    "        print(f'No data for patient {administration_row[1][\"pat_nr\"]}, at {administration_row[1][\"drug_start\"]}')\n",
    "        continue\n",
    "        \n",
    "    fig, ax = plt.subplots(1, 1, figsize=(20, 10))\n",
    "    sns.lineplot(x='rounded_relative_datetime', y='ptio2', data=patient_ptio2_df, ax=ax, label='PtiO2', legend=False)\n",
    "    # create second y axis for cpp values\n",
    "    ax2 = ax.twinx()\n",
    "    sns.lineplot(x='rounded_relative_datetime', y='cpp', data=patient_cpp_df, ax=ax2, color='magenta', label='CPP', legend=False)\n",
    "    \n",
    "    ax.set_xlabel('Relative time from administration (h)')\n",
    "    ax.set_ylabel('PtiO2 (mmHg)')\n",
    "    ax2.set_ylabel('CPP (mmHg)')\n",
    "    \n",
    "    # ax2.set_ylim(60,100)\n",
    "    ax2.grid(None)\n",
    "    \n",
    "    # show legend\n",
    "    lines, labels = ax.get_legend_handles_labels()\n",
    "    lines2, labels2 = ax2.get_legend_handles_labels()\n",
    "    ax.legend(lines + lines2, labels + labels2, loc='upper right')\n",
    "    \n",
    "    # # add vertical line at x=0 with text label with \"Diclofenac administration\"\n",
    "    # ax.axvline(x=0, ymin=0.015, ymax=0.1, color='black', linestyle='--', linewidth=0.7)\n",
    "    # ax.text(0.5, 0.12, 'Diclofenac 75mg', horizontalalignment='center', verticalalignment='center', transform=ax.transAxes)\n",
    "    # \n",
    "    plt.title(f'Patient {administration_row[1][\"pat_nr\"]} at {administration_row[1][\"drug_start\"]}')\n",
    "    plt.show()\n",
    "    "
   ]
  },
  {
   "cell_type": "code",
   "execution_count": null,
   "id": "8cc7ba797e38460f",
   "metadata": {},
   "outputs": [],
   "source": [
    "# TODO: add temperature / heart rate / fio2 / curve"
   ]
  }
 ],
 "metadata": {
  "kernelspec": {
   "display_name": "Python 3",
   "language": "python",
   "name": "python3"
  },
  "language_info": {
   "codemirror_mode": {
    "name": "ipython",
    "version": 2
   },
   "file_extension": ".py",
   "mimetype": "text/x-python",
   "name": "python",
   "nbconvert_exporter": "python",
   "pygments_lexer": "ipython2",
   "version": "2.7.6"
  }
 },
 "nbformat": 4,
 "nbformat_minor": 5
}
